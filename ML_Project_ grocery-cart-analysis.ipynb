{
  "nbformat": 4,
  "nbformat_minor": 0,
  "metadata": {
    "colab": {
      "provenance": [],
      "collapsed_sections": [
        "LLQGe8qIcf3s"
      ]
    },
    "kernelspec": {
      "display_name": "Python 3",
      "language": "python",
      "name": "python3"
    },
    "language_info": {
      "codemirror_mode": {
        "name": "ipython",
        "version": 3
      },
      "file_extension": ".py",
      "mimetype": "text/x-python",
      "name": "python",
      "nbconvert_exporter": "python",
      "pygments_lexer": "ipython3",
      "version": "3.8.5"
    }
  },
  "cells": [
    {
      "cell_type": "code",
      "metadata": {
        "id": "moEakKJBKmJg"
      },
      "source": [
        "import numpy as np # linear algebra\n",
        "import pandas as pd # data processing\n",
        "import matplotlib.pyplot as plt\n",
        "from itertools import combinations\n",
        "from efficient_apriori import apriori\n",
        "import pyfpgrowth as fpg\n",
        "from datetime import datetime"
      ],
      "execution_count": null,
      "outputs": []
    },
    {
      "cell_type": "markdown",
      "metadata": {
        "id": "wwAUjMuu42MJ"
      },
      "source": [
        "## Import Dataset"
      ]
    },
    {
      "cell_type": "code",
      "metadata": {
        "id": "-zHvUbETMK0K"
      },
      "source": [
        "aisles = pd.read_csv('aisles.csv')\n",
        "departments = pd.read_csv('departments.csv')\n",
        "orders = pd.read_csv('orders.csv')\n",
        "products = pd.read_csv('products.csv')\n",
        "order_products__prior = pd.read_csv('order_products__prior.csv')\n",
        "order_products__train = pd.read_csv('order_products__train.csv')"
      ],
      "execution_count": null,
      "outputs": []
    },
    {
      "cell_type": "markdown",
      "metadata": {
        "id": "-Krhy2g4_XCo"
      },
      "source": [
        "## Exploring Dataset"
      ]
    },
    {
      "cell_type": "code",
      "metadata": {
        "colab": {
          "base_uri": "https://localhost:8080/"
        },
        "id": "rahShd_bOtvb",
        "outputId": "951cd5f7-bf6c-401a-ca55-9a4da3718385"
      },
      "source": [
        "aisles.head(5)"
      ],
      "execution_count": null,
      "outputs": [
        {
          "output_type": "execute_result",
          "data": {
            "text/html": [
              "<div>\n",
              "<style scoped>\n",
              "    .dataframe tbody tr th:only-of-type {\n",
              "        vertical-align: middle;\n",
              "    }\n",
              "\n",
              "    .dataframe tbody tr th {\n",
              "        vertical-align: top;\n",
              "    }\n",
              "\n",
              "    .dataframe thead th {\n",
              "        text-align: right;\n",
              "    }\n",
              "</style>\n",
              "<table border=\"1\" class=\"dataframe\">\n",
              "  <thead>\n",
              "    <tr style=\"text-align: right;\">\n",
              "      <th></th>\n",
              "      <th>aisle_id</th>\n",
              "      <th>aisle</th>\n",
              "    </tr>\n",
              "  </thead>\n",
              "  <tbody>\n",
              "    <tr>\n",
              "      <th>0</th>\n",
              "      <td>1</td>\n",
              "      <td>prepared soups salads</td>\n",
              "    </tr>\n",
              "    <tr>\n",
              "      <th>1</th>\n",
              "      <td>2</td>\n",
              "      <td>specialty cheeses</td>\n",
              "    </tr>\n",
              "    <tr>\n",
              "      <th>2</th>\n",
              "      <td>3</td>\n",
              "      <td>energy granola bars</td>\n",
              "    </tr>\n",
              "    <tr>\n",
              "      <th>3</th>\n",
              "      <td>4</td>\n",
              "      <td>instant foods</td>\n",
              "    </tr>\n",
              "    <tr>\n",
              "      <th>4</th>\n",
              "      <td>5</td>\n",
              "      <td>marinades meat preparation</td>\n",
              "    </tr>\n",
              "  </tbody>\n",
              "</table>\n",
              "</div>"
            ],
            "text/plain": [
              "   aisle_id                       aisle\n",
              "0         1       prepared soups salads\n",
              "1         2           specialty cheeses\n",
              "2         3         energy granola bars\n",
              "3         4               instant foods\n",
              "4         5  marinades meat preparation"
            ]
          },
          "metadata": {
            "tags": []
          },
          "execution_count": 3
        }
      ]
    },
    {
      "cell_type": "code",
      "metadata": {
        "colab": {
          "base_uri": "https://localhost:8080/"
        },
        "id": "o5VAuY4iPaLS",
        "outputId": "4e6cb22f-e3a6-4ef1-d917-d5707ca64380"
      },
      "source": [
        "departments.head()"
      ],
      "execution_count": null,
      "outputs": [
        {
          "output_type": "execute_result",
          "data": {
            "text/html": [
              "<div>\n",
              "<style scoped>\n",
              "    .dataframe tbody tr th:only-of-type {\n",
              "        vertical-align: middle;\n",
              "    }\n",
              "\n",
              "    .dataframe tbody tr th {\n",
              "        vertical-align: top;\n",
              "    }\n",
              "\n",
              "    .dataframe thead th {\n",
              "        text-align: right;\n",
              "    }\n",
              "</style>\n",
              "<table border=\"1\" class=\"dataframe\">\n",
              "  <thead>\n",
              "    <tr style=\"text-align: right;\">\n",
              "      <th></th>\n",
              "      <th>department_id</th>\n",
              "      <th>department</th>\n",
              "    </tr>\n",
              "  </thead>\n",
              "  <tbody>\n",
              "    <tr>\n",
              "      <th>0</th>\n",
              "      <td>1</td>\n",
              "      <td>frozen</td>\n",
              "    </tr>\n",
              "    <tr>\n",
              "      <th>1</th>\n",
              "      <td>2</td>\n",
              "      <td>other</td>\n",
              "    </tr>\n",
              "    <tr>\n",
              "      <th>2</th>\n",
              "      <td>3</td>\n",
              "      <td>bakery</td>\n",
              "    </tr>\n",
              "    <tr>\n",
              "      <th>3</th>\n",
              "      <td>4</td>\n",
              "      <td>produce</td>\n",
              "    </tr>\n",
              "    <tr>\n",
              "      <th>4</th>\n",
              "      <td>5</td>\n",
              "      <td>alcohol</td>\n",
              "    </tr>\n",
              "  </tbody>\n",
              "</table>\n",
              "</div>"
            ],
            "text/plain": [
              "   department_id department\n",
              "0              1     frozen\n",
              "1              2      other\n",
              "2              3     bakery\n",
              "3              4    produce\n",
              "4              5    alcohol"
            ]
          },
          "metadata": {
            "tags": []
          },
          "execution_count": 4
        }
      ]
    },
    {
      "cell_type": "code",
      "metadata": {
        "colab": {
          "base_uri": "https://localhost:8080/"
        },
        "id": "EvdDMt3xOlEs",
        "outputId": "aeec6308-694b-473c-ab2c-fdf791680246"
      },
      "source": [
        "products.head(5)"
      ],
      "execution_count": null,
      "outputs": [
        {
          "output_type": "execute_result",
          "data": {
            "text/html": [
              "<div>\n",
              "<style scoped>\n",
              "    .dataframe tbody tr th:only-of-type {\n",
              "        vertical-align: middle;\n",
              "    }\n",
              "\n",
              "    .dataframe tbody tr th {\n",
              "        vertical-align: top;\n",
              "    }\n",
              "\n",
              "    .dataframe thead th {\n",
              "        text-align: right;\n",
              "    }\n",
              "</style>\n",
              "<table border=\"1\" class=\"dataframe\">\n",
              "  <thead>\n",
              "    <tr style=\"text-align: right;\">\n",
              "      <th></th>\n",
              "      <th>product_id</th>\n",
              "      <th>product_name</th>\n",
              "      <th>aisle_id</th>\n",
              "      <th>department_id</th>\n",
              "    </tr>\n",
              "  </thead>\n",
              "  <tbody>\n",
              "    <tr>\n",
              "      <th>0</th>\n",
              "      <td>1</td>\n",
              "      <td>Chocolate Sandwich Cookies</td>\n",
              "      <td>61</td>\n",
              "      <td>19</td>\n",
              "    </tr>\n",
              "    <tr>\n",
              "      <th>1</th>\n",
              "      <td>2</td>\n",
              "      <td>All-Seasons Salt</td>\n",
              "      <td>104</td>\n",
              "      <td>13</td>\n",
              "    </tr>\n",
              "    <tr>\n",
              "      <th>2</th>\n",
              "      <td>3</td>\n",
              "      <td>Robust Golden Unsweetened Oolong Tea</td>\n",
              "      <td>94</td>\n",
              "      <td>7</td>\n",
              "    </tr>\n",
              "    <tr>\n",
              "      <th>3</th>\n",
              "      <td>4</td>\n",
              "      <td>Smart Ones Classic Favorites Mini Rigatoni Wit...</td>\n",
              "      <td>38</td>\n",
              "      <td>1</td>\n",
              "    </tr>\n",
              "    <tr>\n",
              "      <th>4</th>\n",
              "      <td>5</td>\n",
              "      <td>Green Chile Anytime Sauce</td>\n",
              "      <td>5</td>\n",
              "      <td>13</td>\n",
              "    </tr>\n",
              "  </tbody>\n",
              "</table>\n",
              "</div>"
            ],
            "text/plain": [
              "   product_id                                       product_name  aisle_id  \\\n",
              "0           1                         Chocolate Sandwich Cookies        61   \n",
              "1           2                                   All-Seasons Salt       104   \n",
              "2           3               Robust Golden Unsweetened Oolong Tea        94   \n",
              "3           4  Smart Ones Classic Favorites Mini Rigatoni Wit...        38   \n",
              "4           5                          Green Chile Anytime Sauce         5   \n",
              "\n",
              "   department_id  \n",
              "0             19  \n",
              "1             13  \n",
              "2              7  \n",
              "3              1  \n",
              "4             13  "
            ]
          },
          "metadata": {
            "tags": []
          },
          "execution_count": 5
        }
      ]
    },
    {
      "cell_type": "code",
      "metadata": {
        "colab": {
          "base_uri": "https://localhost:8080/"
        },
        "id": "GWunGD687Wy-",
        "outputId": "8c759905-39d4-4a87-b4fb-ef1d1e8f46de"
      },
      "source": [
        "orders.head(5)"
      ],
      "execution_count": null,
      "outputs": [
        {
          "output_type": "execute_result",
          "data": {
            "text/html": [
              "<div>\n",
              "<style scoped>\n",
              "    .dataframe tbody tr th:only-of-type {\n",
              "        vertical-align: middle;\n",
              "    }\n",
              "\n",
              "    .dataframe tbody tr th {\n",
              "        vertical-align: top;\n",
              "    }\n",
              "\n",
              "    .dataframe thead th {\n",
              "        text-align: right;\n",
              "    }\n",
              "</style>\n",
              "<table border=\"1\" class=\"dataframe\">\n",
              "  <thead>\n",
              "    <tr style=\"text-align: right;\">\n",
              "      <th></th>\n",
              "      <th>order_id</th>\n",
              "      <th>user_id</th>\n",
              "      <th>eval_set</th>\n",
              "      <th>order_number</th>\n",
              "      <th>order_dow</th>\n",
              "      <th>order_hour_of_day</th>\n",
              "      <th>days_since_prior_order</th>\n",
              "    </tr>\n",
              "  </thead>\n",
              "  <tbody>\n",
              "    <tr>\n",
              "      <th>0</th>\n",
              "      <td>2539329</td>\n",
              "      <td>1</td>\n",
              "      <td>prior</td>\n",
              "      <td>1</td>\n",
              "      <td>2</td>\n",
              "      <td>8</td>\n",
              "      <td>NaN</td>\n",
              "    </tr>\n",
              "    <tr>\n",
              "      <th>1</th>\n",
              "      <td>2398795</td>\n",
              "      <td>1</td>\n",
              "      <td>prior</td>\n",
              "      <td>2</td>\n",
              "      <td>3</td>\n",
              "      <td>7</td>\n",
              "      <td>15.0</td>\n",
              "    </tr>\n",
              "    <tr>\n",
              "      <th>2</th>\n",
              "      <td>473747</td>\n",
              "      <td>1</td>\n",
              "      <td>prior</td>\n",
              "      <td>3</td>\n",
              "      <td>3</td>\n",
              "      <td>12</td>\n",
              "      <td>21.0</td>\n",
              "    </tr>\n",
              "    <tr>\n",
              "      <th>3</th>\n",
              "      <td>2254736</td>\n",
              "      <td>1</td>\n",
              "      <td>prior</td>\n",
              "      <td>4</td>\n",
              "      <td>4</td>\n",
              "      <td>7</td>\n",
              "      <td>29.0</td>\n",
              "    </tr>\n",
              "    <tr>\n",
              "      <th>4</th>\n",
              "      <td>431534</td>\n",
              "      <td>1</td>\n",
              "      <td>prior</td>\n",
              "      <td>5</td>\n",
              "      <td>4</td>\n",
              "      <td>15</td>\n",
              "      <td>28.0</td>\n",
              "    </tr>\n",
              "  </tbody>\n",
              "</table>\n",
              "</div>"
            ],
            "text/plain": [
              "   order_id  user_id eval_set  order_number  order_dow  order_hour_of_day  \\\n",
              "0   2539329        1    prior             1          2                  8   \n",
              "1   2398795        1    prior             2          3                  7   \n",
              "2    473747        1    prior             3          3                 12   \n",
              "3   2254736        1    prior             4          4                  7   \n",
              "4    431534        1    prior             5          4                 15   \n",
              "\n",
              "   days_since_prior_order  \n",
              "0                     NaN  \n",
              "1                    15.0  \n",
              "2                    21.0  \n",
              "3                    29.0  \n",
              "4                    28.0  "
            ]
          },
          "metadata": {
            "tags": []
          },
          "execution_count": 6
        }
      ]
    },
    {
      "cell_type": "code",
      "metadata": {
        "colab": {
          "base_uri": "https://localhost:8080/"
        },
        "id": "YqeQ3b667ZfS",
        "outputId": "cb151659-03eb-48df-d895-c3179ca7932a"
      },
      "source": [
        "order_products__prior.head(5)"
      ],
      "execution_count": null,
      "outputs": [
        {
          "output_type": "execute_result",
          "data": {
            "text/html": [
              "<div>\n",
              "<style scoped>\n",
              "    .dataframe tbody tr th:only-of-type {\n",
              "        vertical-align: middle;\n",
              "    }\n",
              "\n",
              "    .dataframe tbody tr th {\n",
              "        vertical-align: top;\n",
              "    }\n",
              "\n",
              "    .dataframe thead th {\n",
              "        text-align: right;\n",
              "    }\n",
              "</style>\n",
              "<table border=\"1\" class=\"dataframe\">\n",
              "  <thead>\n",
              "    <tr style=\"text-align: right;\">\n",
              "      <th></th>\n",
              "      <th>order_id</th>\n",
              "      <th>product_id</th>\n",
              "      <th>add_to_cart_order</th>\n",
              "      <th>reordered</th>\n",
              "    </tr>\n",
              "  </thead>\n",
              "  <tbody>\n",
              "    <tr>\n",
              "      <th>0</th>\n",
              "      <td>2</td>\n",
              "      <td>33120</td>\n",
              "      <td>1</td>\n",
              "      <td>1</td>\n",
              "    </tr>\n",
              "    <tr>\n",
              "      <th>1</th>\n",
              "      <td>2</td>\n",
              "      <td>28985</td>\n",
              "      <td>2</td>\n",
              "      <td>1</td>\n",
              "    </tr>\n",
              "    <tr>\n",
              "      <th>2</th>\n",
              "      <td>2</td>\n",
              "      <td>9327</td>\n",
              "      <td>3</td>\n",
              "      <td>0</td>\n",
              "    </tr>\n",
              "    <tr>\n",
              "      <th>3</th>\n",
              "      <td>2</td>\n",
              "      <td>45918</td>\n",
              "      <td>4</td>\n",
              "      <td>1</td>\n",
              "    </tr>\n",
              "    <tr>\n",
              "      <th>4</th>\n",
              "      <td>2</td>\n",
              "      <td>30035</td>\n",
              "      <td>5</td>\n",
              "      <td>0</td>\n",
              "    </tr>\n",
              "  </tbody>\n",
              "</table>\n",
              "</div>"
            ],
            "text/plain": [
              "   order_id  product_id  add_to_cart_order  reordered\n",
              "0         2       33120                  1          1\n",
              "1         2       28985                  2          1\n",
              "2         2        9327                  3          0\n",
              "3         2       45918                  4          1\n",
              "4         2       30035                  5          0"
            ]
          },
          "metadata": {
            "tags": []
          },
          "execution_count": 7
        }
      ]
    },
    {
      "cell_type": "code",
      "metadata": {
        "colab": {
          "base_uri": "https://localhost:8080/"
        },
        "id": "rGzJzBwD7eir",
        "outputId": "c7fb4385-f0fb-4d72-a1c5-1a6e9bd1b94b"
      },
      "source": [
        "order_products__train.head(5)"
      ],
      "execution_count": null,
      "outputs": [
        {
          "output_type": "execute_result",
          "data": {
            "text/html": [
              "<div>\n",
              "<style scoped>\n",
              "    .dataframe tbody tr th:only-of-type {\n",
              "        vertical-align: middle;\n",
              "    }\n",
              "\n",
              "    .dataframe tbody tr th {\n",
              "        vertical-align: top;\n",
              "    }\n",
              "\n",
              "    .dataframe thead th {\n",
              "        text-align: right;\n",
              "    }\n",
              "</style>\n",
              "<table border=\"1\" class=\"dataframe\">\n",
              "  <thead>\n",
              "    <tr style=\"text-align: right;\">\n",
              "      <th></th>\n",
              "      <th>order_id</th>\n",
              "      <th>product_id</th>\n",
              "      <th>add_to_cart_order</th>\n",
              "      <th>reordered</th>\n",
              "    </tr>\n",
              "  </thead>\n",
              "  <tbody>\n",
              "    <tr>\n",
              "      <th>0</th>\n",
              "      <td>1</td>\n",
              "      <td>49302</td>\n",
              "      <td>1</td>\n",
              "      <td>1</td>\n",
              "    </tr>\n",
              "    <tr>\n",
              "      <th>1</th>\n",
              "      <td>1</td>\n",
              "      <td>11109</td>\n",
              "      <td>2</td>\n",
              "      <td>1</td>\n",
              "    </tr>\n",
              "    <tr>\n",
              "      <th>2</th>\n",
              "      <td>1</td>\n",
              "      <td>10246</td>\n",
              "      <td>3</td>\n",
              "      <td>0</td>\n",
              "    </tr>\n",
              "    <tr>\n",
              "      <th>3</th>\n",
              "      <td>1</td>\n",
              "      <td>49683</td>\n",
              "      <td>4</td>\n",
              "      <td>0</td>\n",
              "    </tr>\n",
              "    <tr>\n",
              "      <th>4</th>\n",
              "      <td>1</td>\n",
              "      <td>43633</td>\n",
              "      <td>5</td>\n",
              "      <td>1</td>\n",
              "    </tr>\n",
              "  </tbody>\n",
              "</table>\n",
              "</div>"
            ],
            "text/plain": [
              "   order_id  product_id  add_to_cart_order  reordered\n",
              "0         1       49302                  1          1\n",
              "1         1       11109                  2          1\n",
              "2         1       10246                  3          0\n",
              "3         1       49683                  4          0\n",
              "4         1       43633                  5          1"
            ]
          },
          "metadata": {
            "tags": []
          },
          "execution_count": 8
        }
      ]
    },
    {
      "cell_type": "markdown",
      "metadata": {
        "id": "nqaCbjm0nRYb"
      },
      "source": [
        "### Total Records in each table"
      ]
    },
    {
      "cell_type": "code",
      "metadata": {
        "colab": {
          "base_uri": "https://localhost:8080/"
        },
        "id": "lc3DJxGs_bZI",
        "outputId": "7f32e7d5-a2dd-4592-8101-127bfbab1256"
      },
      "source": [
        "count = np.array([['Aisles',len(aisles)],\n",
        "                        ['Departments', len(departments)],\n",
        "                        ['Products',len(products)],\n",
        "                        ['Orders',len(orders)],\n",
        "                        ['Order_Products__Prior',len(order_products__prior)],\n",
        "                        ['Order_Products__Train',len(order_products__train)]])\n",
        "countRecord = pd.DataFrame(count)\n",
        "countRecord"
      ],
      "execution_count": null,
      "outputs": [
        {
          "output_type": "execute_result",
          "data": {
            "text/html": [
              "<div>\n",
              "<style scoped>\n",
              "    .dataframe tbody tr th:only-of-type {\n",
              "        vertical-align: middle;\n",
              "    }\n",
              "\n",
              "    .dataframe tbody tr th {\n",
              "        vertical-align: top;\n",
              "    }\n",
              "\n",
              "    .dataframe thead th {\n",
              "        text-align: right;\n",
              "    }\n",
              "</style>\n",
              "<table border=\"1\" class=\"dataframe\">\n",
              "  <thead>\n",
              "    <tr style=\"text-align: right;\">\n",
              "      <th></th>\n",
              "      <th>Table</th>\n",
              "      <th>Total Records</th>\n",
              "    </tr>\n",
              "  </thead>\n",
              "  <tbody>\n",
              "    <tr>\n",
              "      <th>0</th>\n",
              "      <td>Aisles</td>\n",
              "      <td>134</td>\n",
              "    </tr>\n",
              "    <tr>\n",
              "      <th>1</th>\n",
              "      <td>Department</td>\n",
              "      <td>21</td>\n",
              "    </tr>\n",
              "    <tr>\n",
              "      <th>2</th>\n",
              "      <td>Product</td>\n",
              "      <td>49688</td>\n",
              "    </tr>\n",
              "    <tr>\n",
              "      <th>3</th>\n",
              "      <td>Order</td>\n",
              "      <td>3421083</td>\n",
              "    </tr>\n",
              "    <tr>\n",
              "      <th>4</th>\n",
              "      <td>Order_Product_Prior</td>\n",
              "      <td>32434489</td>\n",
              "    </tr>\n",
              "    <tr>\n",
              "      <th>5</th>\n",
              "      <td>Order_Product_Train</td>\n",
              "      <td>1384617</td>\n",
              "    </tr>\n",
              "  </tbody>\n",
              "</table>\n",
              "</div>"
            ],
            "text/plain": [
              "                 Table Total Records\n",
              "0               Aisles           134\n",
              "1           Department            21\n",
              "2              Product         49688\n",
              "3                Order       3421083\n",
              "4  Order_Product_Prior      32434489\n",
              "5  Order_Product_Train       1384617"
            ]
          },
          "metadata": {
            "tags": []
          },
          "execution_count": 9
        }
      ]
    },
    {
      "cell_type": "markdown",
      "metadata": {
        "id": "_HY6qk9WnWTU"
      },
      "source": [
        "### Total Records or orders by Eval Type in Orders"
      ]
    },
    {
      "cell_type": "code",
      "metadata": {
        "colab": {
          "base_uri": "https://localhost:8080/"
        },
        "id": "syO-ryWqncOG",
        "outputId": "72330ccc-98d2-4d03-e1eb-eb7c47a4ad1c"
      },
      "source": [
        "orders['eval_set'].value_counts()"
      ],
      "execution_count": null,
      "outputs": [
        {
          "output_type": "execute_result",
          "data": {
            "text/plain": [
              "prior    3214874\n",
              "train     131209\n",
              "test       75000\n",
              "Name: eval_set, dtype: int64"
            ]
          },
          "metadata": {
            "tags": []
          },
          "execution_count": 10
        }
      ]
    },
    {
      "cell_type": "markdown",
      "metadata": {
        "id": "1fF1ortu8ASN"
      },
      "source": [
        "## Data Cleaning"
      ]
    },
    {
      "cell_type": "markdown",
      "metadata": {
        "id": "FfnMMJ8Q8D0v"
      },
      "source": [
        "### Check for Missing Values"
      ]
    },
    {
      "cell_type": "code",
      "metadata": {
        "colab": {
          "base_uri": "https://localhost:8080/"
        },
        "id": "S1G16z0-7_RR",
        "outputId": "c0c8ec1f-a290-41a1-c046-fa81697a1ae2"
      },
      "source": [
        "aisles.isna().sum()"
      ],
      "execution_count": null,
      "outputs": [
        {
          "output_type": "execute_result",
          "data": {
            "text/plain": [
              "aisle_id    0\n",
              "aisle       0\n",
              "dtype: int64"
            ]
          },
          "metadata": {
            "tags": []
          },
          "execution_count": 11
        }
      ]
    },
    {
      "cell_type": "code",
      "metadata": {
        "colab": {
          "base_uri": "https://localhost:8080/"
        },
        "id": "wVvcS1a_8Rio",
        "outputId": "a04b932a-610f-4272-abc2-105514897be5"
      },
      "source": [
        "departments.isna().sum()"
      ],
      "execution_count": null,
      "outputs": [
        {
          "output_type": "execute_result",
          "data": {
            "text/plain": [
              "department_id    0\n",
              "department       0\n",
              "dtype: int64"
            ]
          },
          "metadata": {
            "tags": []
          },
          "execution_count": 12
        }
      ]
    },
    {
      "cell_type": "code",
      "metadata": {
        "colab": {
          "base_uri": "https://localhost:8080/"
        },
        "id": "UpOvdrXO8VOg",
        "outputId": "eb6bd2e0-8948-4734-94b8-edbf3c9f5a2f"
      },
      "source": [
        "orders.isna().sum()"
      ],
      "execution_count": null,
      "outputs": [
        {
          "output_type": "execute_result",
          "data": {
            "text/plain": [
              "order_id                       0\n",
              "user_id                        0\n",
              "eval_set                       0\n",
              "order_number                   0\n",
              "order_dow                      0\n",
              "order_hour_of_day              0\n",
              "days_since_prior_order    206209\n",
              "dtype: int64"
            ]
          },
          "metadata": {
            "tags": []
          },
          "execution_count": 13
        }
      ]
    },
    {
      "cell_type": "code",
      "metadata": {
        "colab": {
          "base_uri": "https://localhost:8080/"
        },
        "id": "lYsuq1tl9HYQ",
        "outputId": "0e3f4f92-8c39-44e3-ee46-de64f3806508"
      },
      "source": [
        "products.isna().sum()"
      ],
      "execution_count": null,
      "outputs": [
        {
          "output_type": "execute_result",
          "data": {
            "text/plain": [
              "product_id       0\n",
              "product_name     0\n",
              "aisle_id         0\n",
              "department_id    0\n",
              "dtype: int64"
            ]
          },
          "metadata": {
            "tags": []
          },
          "execution_count": 14
        }
      ]
    },
    {
      "cell_type": "code",
      "metadata": {
        "colab": {
          "base_uri": "https://localhost:8080/"
        },
        "id": "HPYw3qOp9JER",
        "outputId": "7b661c57-7a2f-40fa-f73c-c3bfb0ec2ce1"
      },
      "source": [
        "order_products__prior.isna().sum()"
      ],
      "execution_count": null,
      "outputs": [
        {
          "output_type": "execute_result",
          "data": {
            "text/plain": [
              "order_id             0\n",
              "product_id           0\n",
              "add_to_cart_order    0\n",
              "reordered            0\n",
              "dtype: int64"
            ]
          },
          "metadata": {
            "tags": []
          },
          "execution_count": 15
        }
      ]
    },
    {
      "cell_type": "code",
      "metadata": {
        "colab": {
          "base_uri": "https://localhost:8080/"
        },
        "id": "OOA0ENpf9QQr",
        "outputId": "a8b47e0f-8275-4704-fec7-5d6e6fc551ee"
      },
      "source": [
        "order_products__train.isna().sum()"
      ],
      "execution_count": null,
      "outputs": [
        {
          "output_type": "execute_result",
          "data": {
            "text/plain": [
              "order_id             0\n",
              "product_id           0\n",
              "add_to_cart_order    0\n",
              "reordered            0\n",
              "dtype: int64"
            ]
          },
          "metadata": {
            "tags": []
          },
          "execution_count": 16
        }
      ]
    },
    {
      "cell_type": "markdown",
      "metadata": {
        "id": "LLQGe8qIcf3s"
      },
      "source": [
        "### Feature Extraction and Creation"
      ]
    },
    {
      "cell_type": "markdown",
      "metadata": {
        "id": "vSG5qtyzkOL0"
      },
      "source": [
        "### Merge Order_Product_Prior with Order, Product, Department and Aisles"
      ]
    },
    {
      "cell_type": "code",
      "metadata": {
        "id": "UxFUMfW7mGpi"
      },
      "source": [
        "order_products__prior = order_products__prior.merge(orders, on = 'order_id', how = 'left')\n",
        "order_products__prior = order_products__prior.merge(products, on = 'product_id', how = 'left')\n",
        "order_products__prior = order_products__prior.merge(aisles, on = 'aisle_id', how = 'left')\n",
        "order_products__prior = order_products__prior.merge(departments, on = 'department_id', how = 'left')"
      ],
      "execution_count": null,
      "outputs": []
    },
    {
      "cell_type": "code",
      "metadata": {
        "colab": {
          "base_uri": "https://localhost:8080/"
        },
        "id": "68GKrrHZtcob",
        "scrolled": true,
        "outputId": "01f8ec08-25d5-4622-93a7-040d6cc8b204"
      },
      "source": [
        "order_products__prior.head(10)"
      ],
      "execution_count": null,
      "outputs": [
        {
          "output_type": "execute_result",
          "data": {
            "text/html": [
              "<div>\n",
              "<style scoped>\n",
              "    .dataframe tbody tr th:only-of-type {\n",
              "        vertical-align: middle;\n",
              "    }\n",
              "\n",
              "    .dataframe tbody tr th {\n",
              "        vertical-align: top;\n",
              "    }\n",
              "\n",
              "    .dataframe thead th {\n",
              "        text-align: right;\n",
              "    }\n",
              "</style>\n",
              "<table border=\"1\" class=\"dataframe\">\n",
              "  <thead>\n",
              "    <tr style=\"text-align: right;\">\n",
              "      <th></th>\n",
              "      <th>order_id</th>\n",
              "      <th>product_id</th>\n",
              "      <th>add_to_cart_order</th>\n",
              "      <th>reordered</th>\n",
              "      <th>user_id</th>\n",
              "      <th>eval_set</th>\n",
              "      <th>order_number</th>\n",
              "      <th>order_dow</th>\n",
              "      <th>order_hour_of_day</th>\n",
              "      <th>days_since_prior_order</th>\n",
              "      <th>product_name</th>\n",
              "      <th>aisle_id</th>\n",
              "      <th>department_id</th>\n",
              "      <th>aisle</th>\n",
              "      <th>department</th>\n",
              "    </tr>\n",
              "  </thead>\n",
              "  <tbody>\n",
              "    <tr>\n",
              "      <th>0</th>\n",
              "      <td>2</td>\n",
              "      <td>33120</td>\n",
              "      <td>1</td>\n",
              "      <td>1</td>\n",
              "      <td>202279</td>\n",
              "      <td>prior</td>\n",
              "      <td>3</td>\n",
              "      <td>5</td>\n",
              "      <td>9</td>\n",
              "      <td>8.0</td>\n",
              "      <td>Organic Egg Whites</td>\n",
              "      <td>86</td>\n",
              "      <td>16</td>\n",
              "      <td>eggs</td>\n",
              "      <td>dairy eggs</td>\n",
              "    </tr>\n",
              "    <tr>\n",
              "      <th>1</th>\n",
              "      <td>2</td>\n",
              "      <td>28985</td>\n",
              "      <td>2</td>\n",
              "      <td>1</td>\n",
              "      <td>202279</td>\n",
              "      <td>prior</td>\n",
              "      <td>3</td>\n",
              "      <td>5</td>\n",
              "      <td>9</td>\n",
              "      <td>8.0</td>\n",
              "      <td>Michigan Organic Kale</td>\n",
              "      <td>83</td>\n",
              "      <td>4</td>\n",
              "      <td>fresh vegetables</td>\n",
              "      <td>produce</td>\n",
              "    </tr>\n",
              "    <tr>\n",
              "      <th>2</th>\n",
              "      <td>2</td>\n",
              "      <td>9327</td>\n",
              "      <td>3</td>\n",
              "      <td>0</td>\n",
              "      <td>202279</td>\n",
              "      <td>prior</td>\n",
              "      <td>3</td>\n",
              "      <td>5</td>\n",
              "      <td>9</td>\n",
              "      <td>8.0</td>\n",
              "      <td>Garlic Powder</td>\n",
              "      <td>104</td>\n",
              "      <td>13</td>\n",
              "      <td>spices seasonings</td>\n",
              "      <td>pantry</td>\n",
              "    </tr>\n",
              "    <tr>\n",
              "      <th>3</th>\n",
              "      <td>2</td>\n",
              "      <td>45918</td>\n",
              "      <td>4</td>\n",
              "      <td>1</td>\n",
              "      <td>202279</td>\n",
              "      <td>prior</td>\n",
              "      <td>3</td>\n",
              "      <td>5</td>\n",
              "      <td>9</td>\n",
              "      <td>8.0</td>\n",
              "      <td>Coconut Butter</td>\n",
              "      <td>19</td>\n",
              "      <td>13</td>\n",
              "      <td>oils vinegars</td>\n",
              "      <td>pantry</td>\n",
              "    </tr>\n",
              "    <tr>\n",
              "      <th>4</th>\n",
              "      <td>2</td>\n",
              "      <td>30035</td>\n",
              "      <td>5</td>\n",
              "      <td>0</td>\n",
              "      <td>202279</td>\n",
              "      <td>prior</td>\n",
              "      <td>3</td>\n",
              "      <td>5</td>\n",
              "      <td>9</td>\n",
              "      <td>8.0</td>\n",
              "      <td>Natural Sweetener</td>\n",
              "      <td>17</td>\n",
              "      <td>13</td>\n",
              "      <td>baking ingredients</td>\n",
              "      <td>pantry</td>\n",
              "    </tr>\n",
              "    <tr>\n",
              "      <th>5</th>\n",
              "      <td>2</td>\n",
              "      <td>17794</td>\n",
              "      <td>6</td>\n",
              "      <td>1</td>\n",
              "      <td>202279</td>\n",
              "      <td>prior</td>\n",
              "      <td>3</td>\n",
              "      <td>5</td>\n",
              "      <td>9</td>\n",
              "      <td>8.0</td>\n",
              "      <td>Carrots</td>\n",
              "      <td>83</td>\n",
              "      <td>4</td>\n",
              "      <td>fresh vegetables</td>\n",
              "      <td>produce</td>\n",
              "    </tr>\n",
              "    <tr>\n",
              "      <th>6</th>\n",
              "      <td>2</td>\n",
              "      <td>40141</td>\n",
              "      <td>7</td>\n",
              "      <td>1</td>\n",
              "      <td>202279</td>\n",
              "      <td>prior</td>\n",
              "      <td>3</td>\n",
              "      <td>5</td>\n",
              "      <td>9</td>\n",
              "      <td>8.0</td>\n",
              "      <td>Original Unflavored Gelatine Mix</td>\n",
              "      <td>105</td>\n",
              "      <td>13</td>\n",
              "      <td>doughs gelatins bake mixes</td>\n",
              "      <td>pantry</td>\n",
              "    </tr>\n",
              "    <tr>\n",
              "      <th>7</th>\n",
              "      <td>2</td>\n",
              "      <td>1819</td>\n",
              "      <td>8</td>\n",
              "      <td>1</td>\n",
              "      <td>202279</td>\n",
              "      <td>prior</td>\n",
              "      <td>3</td>\n",
              "      <td>5</td>\n",
              "      <td>9</td>\n",
              "      <td>8.0</td>\n",
              "      <td>All Natural No Stir Creamy Almond Butter</td>\n",
              "      <td>88</td>\n",
              "      <td>13</td>\n",
              "      <td>spreads</td>\n",
              "      <td>pantry</td>\n",
              "    </tr>\n",
              "    <tr>\n",
              "      <th>8</th>\n",
              "      <td>2</td>\n",
              "      <td>43668</td>\n",
              "      <td>9</td>\n",
              "      <td>0</td>\n",
              "      <td>202279</td>\n",
              "      <td>prior</td>\n",
              "      <td>3</td>\n",
              "      <td>5</td>\n",
              "      <td>9</td>\n",
              "      <td>8.0</td>\n",
              "      <td>Classic Blend Cole Slaw</td>\n",
              "      <td>123</td>\n",
              "      <td>4</td>\n",
              "      <td>packaged vegetables fruits</td>\n",
              "      <td>produce</td>\n",
              "    </tr>\n",
              "    <tr>\n",
              "      <th>9</th>\n",
              "      <td>3</td>\n",
              "      <td>33754</td>\n",
              "      <td>1</td>\n",
              "      <td>1</td>\n",
              "      <td>205970</td>\n",
              "      <td>prior</td>\n",
              "      <td>16</td>\n",
              "      <td>5</td>\n",
              "      <td>17</td>\n",
              "      <td>12.0</td>\n",
              "      <td>Total 2% with Strawberry Lowfat Greek Strained...</td>\n",
              "      <td>120</td>\n",
              "      <td>16</td>\n",
              "      <td>yogurt</td>\n",
              "      <td>dairy eggs</td>\n",
              "    </tr>\n",
              "  </tbody>\n",
              "</table>\n",
              "</div>"
            ],
            "text/plain": [
              "   order_id  product_id  add_to_cart_order  reordered  user_id eval_set  \\\n",
              "0         2       33120                  1          1   202279    prior   \n",
              "1         2       28985                  2          1   202279    prior   \n",
              "2         2        9327                  3          0   202279    prior   \n",
              "3         2       45918                  4          1   202279    prior   \n",
              "4         2       30035                  5          0   202279    prior   \n",
              "5         2       17794                  6          1   202279    prior   \n",
              "6         2       40141                  7          1   202279    prior   \n",
              "7         2        1819                  8          1   202279    prior   \n",
              "8         2       43668                  9          0   202279    prior   \n",
              "9         3       33754                  1          1   205970    prior   \n",
              "\n",
              "   order_number  order_dow  order_hour_of_day  days_since_prior_order  \\\n",
              "0             3          5                  9                     8.0   \n",
              "1             3          5                  9                     8.0   \n",
              "2             3          5                  9                     8.0   \n",
              "3             3          5                  9                     8.0   \n",
              "4             3          5                  9                     8.0   \n",
              "5             3          5                  9                     8.0   \n",
              "6             3          5                  9                     8.0   \n",
              "7             3          5                  9                     8.0   \n",
              "8             3          5                  9                     8.0   \n",
              "9            16          5                 17                    12.0   \n",
              "\n",
              "                                        product_name  aisle_id  department_id  \\\n",
              "0                                 Organic Egg Whites        86             16   \n",
              "1                              Michigan Organic Kale        83              4   \n",
              "2                                      Garlic Powder       104             13   \n",
              "3                                     Coconut Butter        19             13   \n",
              "4                                  Natural Sweetener        17             13   \n",
              "5                                            Carrots        83              4   \n",
              "6                   Original Unflavored Gelatine Mix       105             13   \n",
              "7           All Natural No Stir Creamy Almond Butter        88             13   \n",
              "8                            Classic Blend Cole Slaw       123              4   \n",
              "9  Total 2% with Strawberry Lowfat Greek Strained...       120             16   \n",
              "\n",
              "                        aisle  department  \n",
              "0                        eggs  dairy eggs  \n",
              "1            fresh vegetables     produce  \n",
              "2           spices seasonings      pantry  \n",
              "3               oils vinegars      pantry  \n",
              "4          baking ingredients      pantry  \n",
              "5            fresh vegetables     produce  \n",
              "6  doughs gelatins bake mixes      pantry  \n",
              "7                     spreads      pantry  \n",
              "8  packaged vegetables fruits     produce  \n",
              "9                      yogurt  dairy eggs  "
            ]
          },
          "metadata": {
            "tags": []
          },
          "execution_count": 4
        }
      ]
    },
    {
      "cell_type": "markdown",
      "metadata": {
        "id": "NjSL_jOE4C_U"
      },
      "source": [
        "### Merge Order_Product_Train with Order, Product, Department and Aisles"
      ]
    },
    {
      "cell_type": "code",
      "metadata": {
        "id": "S8zPjkLh4DlW"
      },
      "source": [
        "order_products__train = order_products__train.merge(orders, on = 'order_id', how = 'left')\n",
        "order_products__train = order_products__train.merge(products, on = 'product_id', how = 'left')\n",
        "order_products__train = order_products__train.merge(aisles, on = 'aisle_id', how = 'left')\n",
        "order_products__train = order_products__train.merge(departments, on = 'department_id', how = 'left')"
      ],
      "execution_count": null,
      "outputs": []
    },
    {
      "cell_type": "code",
      "metadata": {
        "colab": {
          "base_uri": "https://localhost:8080/"
        },
        "id": "cnrjGiTZ4LWh",
        "scrolled": true,
        "outputId": "c099e3a0-ea27-47aa-d6ec-efba5b66c666"
      },
      "source": [
        "order_products__train.head(10)"
      ],
      "execution_count": null,
      "outputs": [
        {
          "output_type": "execute_result",
          "data": {
            "text/html": [
              "<div>\n",
              "<style scoped>\n",
              "    .dataframe tbody tr th:only-of-type {\n",
              "        vertical-align: middle;\n",
              "    }\n",
              "\n",
              "    .dataframe tbody tr th {\n",
              "        vertical-align: top;\n",
              "    }\n",
              "\n",
              "    .dataframe thead th {\n",
              "        text-align: right;\n",
              "    }\n",
              "</style>\n",
              "<table border=\"1\" class=\"dataframe\">\n",
              "  <thead>\n",
              "    <tr style=\"text-align: right;\">\n",
              "      <th></th>\n",
              "      <th>order_id</th>\n",
              "      <th>product_id</th>\n",
              "      <th>add_to_cart_order</th>\n",
              "      <th>reordered</th>\n",
              "      <th>user_id</th>\n",
              "      <th>eval_set</th>\n",
              "      <th>order_number</th>\n",
              "      <th>order_dow</th>\n",
              "      <th>order_hour_of_day</th>\n",
              "      <th>days_since_prior_order</th>\n",
              "      <th>product_name</th>\n",
              "      <th>aisle_id</th>\n",
              "      <th>department_id</th>\n",
              "      <th>aisle</th>\n",
              "      <th>department</th>\n",
              "    </tr>\n",
              "  </thead>\n",
              "  <tbody>\n",
              "    <tr>\n",
              "      <th>0</th>\n",
              "      <td>1</td>\n",
              "      <td>49302</td>\n",
              "      <td>1</td>\n",
              "      <td>1</td>\n",
              "      <td>112108</td>\n",
              "      <td>train</td>\n",
              "      <td>4</td>\n",
              "      <td>4</td>\n",
              "      <td>10</td>\n",
              "      <td>9.0</td>\n",
              "      <td>Bulgarian Yogurt</td>\n",
              "      <td>120</td>\n",
              "      <td>16</td>\n",
              "      <td>yogurt</td>\n",
              "      <td>dairy eggs</td>\n",
              "    </tr>\n",
              "    <tr>\n",
              "      <th>1</th>\n",
              "      <td>1</td>\n",
              "      <td>11109</td>\n",
              "      <td>2</td>\n",
              "      <td>1</td>\n",
              "      <td>112108</td>\n",
              "      <td>train</td>\n",
              "      <td>4</td>\n",
              "      <td>4</td>\n",
              "      <td>10</td>\n",
              "      <td>9.0</td>\n",
              "      <td>Organic 4% Milk Fat Whole Milk Cottage Cheese</td>\n",
              "      <td>108</td>\n",
              "      <td>16</td>\n",
              "      <td>other creams cheeses</td>\n",
              "      <td>dairy eggs</td>\n",
              "    </tr>\n",
              "    <tr>\n",
              "      <th>2</th>\n",
              "      <td>1</td>\n",
              "      <td>10246</td>\n",
              "      <td>3</td>\n",
              "      <td>0</td>\n",
              "      <td>112108</td>\n",
              "      <td>train</td>\n",
              "      <td>4</td>\n",
              "      <td>4</td>\n",
              "      <td>10</td>\n",
              "      <td>9.0</td>\n",
              "      <td>Organic Celery Hearts</td>\n",
              "      <td>83</td>\n",
              "      <td>4</td>\n",
              "      <td>fresh vegetables</td>\n",
              "      <td>produce</td>\n",
              "    </tr>\n",
              "    <tr>\n",
              "      <th>3</th>\n",
              "      <td>1</td>\n",
              "      <td>49683</td>\n",
              "      <td>4</td>\n",
              "      <td>0</td>\n",
              "      <td>112108</td>\n",
              "      <td>train</td>\n",
              "      <td>4</td>\n",
              "      <td>4</td>\n",
              "      <td>10</td>\n",
              "      <td>9.0</td>\n",
              "      <td>Cucumber Kirby</td>\n",
              "      <td>83</td>\n",
              "      <td>4</td>\n",
              "      <td>fresh vegetables</td>\n",
              "      <td>produce</td>\n",
              "    </tr>\n",
              "    <tr>\n",
              "      <th>4</th>\n",
              "      <td>1</td>\n",
              "      <td>43633</td>\n",
              "      <td>5</td>\n",
              "      <td>1</td>\n",
              "      <td>112108</td>\n",
              "      <td>train</td>\n",
              "      <td>4</td>\n",
              "      <td>4</td>\n",
              "      <td>10</td>\n",
              "      <td>9.0</td>\n",
              "      <td>Lightly Smoked Sardines in Olive Oil</td>\n",
              "      <td>95</td>\n",
              "      <td>15</td>\n",
              "      <td>canned meat seafood</td>\n",
              "      <td>canned goods</td>\n",
              "    </tr>\n",
              "    <tr>\n",
              "      <th>5</th>\n",
              "      <td>1</td>\n",
              "      <td>13176</td>\n",
              "      <td>6</td>\n",
              "      <td>0</td>\n",
              "      <td>112108</td>\n",
              "      <td>train</td>\n",
              "      <td>4</td>\n",
              "      <td>4</td>\n",
              "      <td>10</td>\n",
              "      <td>9.0</td>\n",
              "      <td>Bag of Organic Bananas</td>\n",
              "      <td>24</td>\n",
              "      <td>4</td>\n",
              "      <td>fresh fruits</td>\n",
              "      <td>produce</td>\n",
              "    </tr>\n",
              "    <tr>\n",
              "      <th>6</th>\n",
              "      <td>1</td>\n",
              "      <td>47209</td>\n",
              "      <td>7</td>\n",
              "      <td>0</td>\n",
              "      <td>112108</td>\n",
              "      <td>train</td>\n",
              "      <td>4</td>\n",
              "      <td>4</td>\n",
              "      <td>10</td>\n",
              "      <td>9.0</td>\n",
              "      <td>Organic Hass Avocado</td>\n",
              "      <td>24</td>\n",
              "      <td>4</td>\n",
              "      <td>fresh fruits</td>\n",
              "      <td>produce</td>\n",
              "    </tr>\n",
              "    <tr>\n",
              "      <th>7</th>\n",
              "      <td>1</td>\n",
              "      <td>22035</td>\n",
              "      <td>8</td>\n",
              "      <td>1</td>\n",
              "      <td>112108</td>\n",
              "      <td>train</td>\n",
              "      <td>4</td>\n",
              "      <td>4</td>\n",
              "      <td>10</td>\n",
              "      <td>9.0</td>\n",
              "      <td>Organic Whole String Cheese</td>\n",
              "      <td>21</td>\n",
              "      <td>16</td>\n",
              "      <td>packaged cheese</td>\n",
              "      <td>dairy eggs</td>\n",
              "    </tr>\n",
              "    <tr>\n",
              "      <th>8</th>\n",
              "      <td>36</td>\n",
              "      <td>39612</td>\n",
              "      <td>1</td>\n",
              "      <td>0</td>\n",
              "      <td>79431</td>\n",
              "      <td>train</td>\n",
              "      <td>23</td>\n",
              "      <td>6</td>\n",
              "      <td>18</td>\n",
              "      <td>30.0</td>\n",
              "      <td>Grated Pecorino Romano Cheese</td>\n",
              "      <td>2</td>\n",
              "      <td>16</td>\n",
              "      <td>specialty cheeses</td>\n",
              "      <td>dairy eggs</td>\n",
              "    </tr>\n",
              "    <tr>\n",
              "      <th>9</th>\n",
              "      <td>36</td>\n",
              "      <td>19660</td>\n",
              "      <td>2</td>\n",
              "      <td>1</td>\n",
              "      <td>79431</td>\n",
              "      <td>train</td>\n",
              "      <td>23</td>\n",
              "      <td>6</td>\n",
              "      <td>18</td>\n",
              "      <td>30.0</td>\n",
              "      <td>Spring Water</td>\n",
              "      <td>115</td>\n",
              "      <td>7</td>\n",
              "      <td>water seltzer sparkling water</td>\n",
              "      <td>beverages</td>\n",
              "    </tr>\n",
              "  </tbody>\n",
              "</table>\n",
              "</div>"
            ],
            "text/plain": [
              "   order_id  product_id  add_to_cart_order  reordered  user_id eval_set  \\\n",
              "0         1       49302                  1          1   112108    train   \n",
              "1         1       11109                  2          1   112108    train   \n",
              "2         1       10246                  3          0   112108    train   \n",
              "3         1       49683                  4          0   112108    train   \n",
              "4         1       43633                  5          1   112108    train   \n",
              "5         1       13176                  6          0   112108    train   \n",
              "6         1       47209                  7          0   112108    train   \n",
              "7         1       22035                  8          1   112108    train   \n",
              "8        36       39612                  1          0    79431    train   \n",
              "9        36       19660                  2          1    79431    train   \n",
              "\n",
              "   order_number  order_dow  order_hour_of_day  days_since_prior_order  \\\n",
              "0             4          4                 10                     9.0   \n",
              "1             4          4                 10                     9.0   \n",
              "2             4          4                 10                     9.0   \n",
              "3             4          4                 10                     9.0   \n",
              "4             4          4                 10                     9.0   \n",
              "5             4          4                 10                     9.0   \n",
              "6             4          4                 10                     9.0   \n",
              "7             4          4                 10                     9.0   \n",
              "8            23          6                 18                    30.0   \n",
              "9            23          6                 18                    30.0   \n",
              "\n",
              "                                    product_name  aisle_id  department_id  \\\n",
              "0                               Bulgarian Yogurt       120             16   \n",
              "1  Organic 4% Milk Fat Whole Milk Cottage Cheese       108             16   \n",
              "2                          Organic Celery Hearts        83              4   \n",
              "3                                 Cucumber Kirby        83              4   \n",
              "4           Lightly Smoked Sardines in Olive Oil        95             15   \n",
              "5                         Bag of Organic Bananas        24              4   \n",
              "6                           Organic Hass Avocado        24              4   \n",
              "7                    Organic Whole String Cheese        21             16   \n",
              "8                  Grated Pecorino Romano Cheese         2             16   \n",
              "9                                   Spring Water       115              7   \n",
              "\n",
              "                           aisle    department  \n",
              "0                         yogurt    dairy eggs  \n",
              "1           other creams cheeses    dairy eggs  \n",
              "2               fresh vegetables       produce  \n",
              "3               fresh vegetables       produce  \n",
              "4            canned meat seafood  canned goods  \n",
              "5                   fresh fruits       produce  \n",
              "6                   fresh fruits       produce  \n",
              "7                packaged cheese    dairy eggs  \n",
              "8              specialty cheeses    dairy eggs  \n",
              "9  water seltzer sparkling water     beverages  "
            ]
          },
          "metadata": {
            "tags": []
          },
          "execution_count": 6
        }
      ]
    },
    {
      "cell_type": "markdown",
      "metadata": {
        "id": "gKkQ7d6YeJ8i"
      },
      "source": [
        "### Feature set creation for Apriori and FP-Growth"
      ]
    },
    {
      "cell_type": "code",
      "metadata": {
        "id": "CnrGi9h78Kwz"
      },
      "source": [
        "groupingOrders = pd.DataFrame(order_products__prior.groupby('order_id')['product_id'])"
      ],
      "execution_count": null,
      "outputs": []
    },
    {
      "cell_type": "code",
      "metadata": {
        "id": "PxNrpPjSeOxD"
      },
      "source": [
        "order1 = groupingOrders[0]\n",
        "product = []\n",
        "\n",
        "for i in range(len(groupingOrders[0])):\n",
        "    product.append(list(groupingOrders.iloc[i][1]))\n",
        "product1 = product\n",
        "transaction = pd.DataFrame({'OrderID' : order1, 'Products' : product1})"
      ],
      "execution_count": null,
      "outputs": []
    },
    {
      "cell_type": "code",
      "metadata": {
        "id": "5OIS1o_J8Kwz",
        "outputId": "1be8c470-b6e8-4782-a1aa-4dbe353bf887"
      },
      "source": [
        "transaction.head(10)"
      ],
      "execution_count": null,
      "outputs": [
        {
          "output_type": "execute_result",
          "data": {
            "text/html": [
              "<div>\n",
              "<style scoped>\n",
              "    .dataframe tbody tr th:only-of-type {\n",
              "        vertical-align: middle;\n",
              "    }\n",
              "\n",
              "    .dataframe tbody tr th {\n",
              "        vertical-align: top;\n",
              "    }\n",
              "\n",
              "    .dataframe thead th {\n",
              "        text-align: right;\n",
              "    }\n",
              "</style>\n",
              "<table border=\"1\" class=\"dataframe\">\n",
              "  <thead>\n",
              "    <tr style=\"text-align: right;\">\n",
              "      <th></th>\n",
              "      <th>OrderID</th>\n",
              "      <th>Products</th>\n",
              "    </tr>\n",
              "  </thead>\n",
              "  <tbody>\n",
              "    <tr>\n",
              "      <th>0</th>\n",
              "      <td>2</td>\n",
              "      <td>[33120, 28985, 9327, 45918, 30035, 17794, 4014...</td>\n",
              "    </tr>\n",
              "    <tr>\n",
              "      <th>1</th>\n",
              "      <td>3</td>\n",
              "      <td>[33754, 24838, 17704, 21903, 17668, 46667, 174...</td>\n",
              "    </tr>\n",
              "    <tr>\n",
              "      <th>2</th>\n",
              "      <td>4</td>\n",
              "      <td>[46842, 26434, 39758, 27761, 10054, 21351, 225...</td>\n",
              "    </tr>\n",
              "    <tr>\n",
              "      <th>3</th>\n",
              "      <td>5</td>\n",
              "      <td>[13176, 15005, 47329, 27966, 23909, 48370, 132...</td>\n",
              "    </tr>\n",
              "    <tr>\n",
              "      <th>4</th>\n",
              "      <td>6</td>\n",
              "      <td>[40462, 15873, 41897]</td>\n",
              "    </tr>\n",
              "    <tr>\n",
              "      <th>5</th>\n",
              "      <td>7</td>\n",
              "      <td>[34050, 46802]</td>\n",
              "    </tr>\n",
              "    <tr>\n",
              "      <th>6</th>\n",
              "      <td>8</td>\n",
              "      <td>[23423]</td>\n",
              "    </tr>\n",
              "    <tr>\n",
              "      <th>7</th>\n",
              "      <td>9</td>\n",
              "      <td>[21405, 47890, 11182, 2014, 29193, 34203, 1499...</td>\n",
              "    </tr>\n",
              "    <tr>\n",
              "      <th>8</th>\n",
              "      <td>10</td>\n",
              "      <td>[24852, 4796, 31717, 47766, 4605, 1529, 21137,...</td>\n",
              "    </tr>\n",
              "    <tr>\n",
              "      <th>9</th>\n",
              "      <td>11</td>\n",
              "      <td>[30162, 27085, 5994, 1313, 31506]</td>\n",
              "    </tr>\n",
              "  </tbody>\n",
              "</table>\n",
              "</div>"
            ],
            "text/plain": [
              "   OrderID                                           Products\n",
              "0        2  [33120, 28985, 9327, 45918, 30035, 17794, 4014...\n",
              "1        3  [33754, 24838, 17704, 21903, 17668, 46667, 174...\n",
              "2        4  [46842, 26434, 39758, 27761, 10054, 21351, 225...\n",
              "3        5  [13176, 15005, 47329, 27966, 23909, 48370, 132...\n",
              "4        6                              [40462, 15873, 41897]\n",
              "5        7                                     [34050, 46802]\n",
              "6        8                                            [23423]\n",
              "7        9  [21405, 47890, 11182, 2014, 29193, 34203, 1499...\n",
              "8       10  [24852, 4796, 31717, 47766, 4605, 1529, 21137,...\n",
              "9       11                  [30162, 27085, 5994, 1313, 31506]"
            ]
          },
          "metadata": {
            "tags": []
          },
          "execution_count": 23
        }
      ]
    },
    {
      "cell_type": "markdown",
      "metadata": {
        "id": "iIu3daJt_DPQ"
      },
      "source": [
        "# Data Analysis"
      ]
    },
    {
      "cell_type": "markdown",
      "metadata": {
        "id": "cfLnAnPrdWog"
      },
      "source": [
        "### Maximum Order Number by a customer and it's frequency"
      ]
    },
    {
      "cell_type": "code",
      "metadata": {
        "colab": {
          "base_uri": "https://localhost:8080/",
          "height": 341
        },
        "id": "9jbNIoii_PTd",
        "outputId": "af6f505b-a382-46ab-ca05-fa8d53365749"
      },
      "source": [
        "maximum_count_order = orders.groupby(\"user_id\")['order_number'].aggregate(np.max).reset_index()\n",
        "maximum_count_order = maximum_count_order.order_number.value_counts()\n",
        "plt.style.use('ggplot')\n",
        "plt.figure(figsize=(20,8))\n",
        "plt.bar(maximum_count_order.index, maximum_count_order.values, width = 0.6)\n",
        "plt.xticks(maximum_count_order.index,rotation='vertical')\n",
        "plt.ylabel('Frequency', fontsize = 14, fontweight = 'bold')\n",
        "plt.xlabel('Maximum order number of a customer', fontsize = 14, fontweight = 'bold')\n",
        "plt.show()"
      ],
      "execution_count": null,
      "outputs": [
        {
          "output_type": "display_data",
          "data": {
            "image/png": "[encoded data removed]",
            "text/plain": [
              "<Figure size 1440x576 with 1 Axes>"
            ]
          },
          "metadata": {
            "tags": []
          }
        }
      ]
    },
    {
      "cell_type": "markdown",
      "metadata": {
        "id": "S6xhr0Y5LCi1"
      },
      "source": [
        "### Order frequencies with day of the week"
      ]
    },
    {
      "cell_type": "code",
      "metadata": {
        "id": "LAtk7-cDLD15",
        "outputId": "dfba10d1-1f8a-40b1-984a-27e3596af252"
      },
      "source": [
        "xAxis=[0,1,2,3,4,5,6]\n",
        "yAxis=[orders[orders['order_dow']==0].shape[0],orders[orders['order_dow']==1].shape[0],orders[orders['order_dow']==2].shape[0],\n",
        "    orders[orders['order_dow']==3].shape[0],orders[orders['order_dow']==4].shape[0],orders[orders['order_dow']==5].shape[0],orders[orders['order_dow']==6].shape[0]]\n",
        "plt.figure(figsize = (10,5))\n",
        "plt.bar(xAxis,yAxis, color='slateblue')\n",
        "plt.xlabel('Day of the Week', fontsize = 14, fontweight = 'bold')\n",
        "plt.ylabel('Frequency', fontsize = 14, fontweight = 'bold')\n",
        "plt.xticks(xAxis,['Sunday','Monday','Tuesday','Wednesday','Thursday','Friday','Saturday'], rotation = 'vertical')\n",
        "plt.show()"
      ],
      "execution_count": null,
      "outputs": [
        {
          "output_type": "display_data",
          "data": {
            "image/png": "[encoded data removed]",
            "text/plain": [
              "<Figure size 720x360 with 1 Axes>"
            ]
          },
          "metadata": {
            "tags": []
          }
        }
      ]
    },
    {
      "cell_type": "markdown",
      "metadata": {
        "id": "Vlu0rClmLRX7"
      },
      "source": [
        "### Order frequencies with hour of the day"
      ]
    },
    {
      "cell_type": "code",
      "metadata": {
        "id": "Wyhr2eJ0LVj0",
        "outputId": "2e7e3254-c9da-4f04-b72b-c88f508bf9dc"
      },
      "source": [
        "xAxis= list(range(0,24))\n",
        "yAxis=[]\n",
        "for i in range(24):\n",
        "    yAxis.append(orders[orders['order_hour_of_day']==i].shape[0])\n",
        "plt.figure(figsize=(20,5))\n",
        "plt.bar(xAxis,yAxis,color='forestgreen')\n",
        "plt.xticks(np.arange(0,24,1))\n",
        "plt.xlabel('Hour of the Day', fontsize = 14, fontweight = 'bold')\n",
        "plt.ylabel('Frequency', fontsize = 14, fontweight = 'bold')\n",
        "plt.show()"
      ],
      "execution_count": null,
      "outputs": [
        {
          "output_type": "display_data",
          "data": {
            "image/png": "[encoded data removed]",
            "text/plain": [
              "<Figure size 1440x360 with 1 Axes>"
            ]
          },
          "metadata": {
            "tags": []
          }
        }
      ]
    },
    {
      "cell_type": "markdown",
      "metadata": {
        "id": "L5end6XVMW8Z",
        "outputId": "129c7d74-7c86-416c-a345-66a2e2aec374"
      },
      "source": [
        "### Department and it's order frequency"
      ]
    },
    {
      "cell_type": "code",
      "metadata": {
        "id": "Xj-xJSf48Kw1",
        "outputId": "aea35015-d643-4f89-bce3-88f21bd41579"
      },
      "source": [
        "count_dept = order_products__prior['department'].value_counts()\n",
        "figure = plt.figure(figsize = (20,10))\n",
        "count_dept.plot(kind=\"bar\", color='maroon')\n",
        "plt.xticks(rotation = 90)\n",
        "plt.xlabel('Department', fontsize = 14, fontweight = 'bold')\n",
        "plt.ylabel('Frequency', fontsize = 14, fontweight = 'bold')\n",
        "plt.show()"
      ],
      "execution_count": null,
      "outputs": [
        {
          "output_type": "display_data",
          "data": {
            "image/png": "[encoded data removed]",
            "text/plain": [
              "<Figure size 1440x720 with 1 Axes>"
            ]
          },
          "metadata": {
            "tags": []
          }
        }
      ]
    },
    {
      "cell_type": "markdown",
      "metadata": {
        "id": "6vCLr18i8Kw1"
      },
      "source": [
        "### Top 20 Aisles and it's order frequency"
      ]
    },
    {
      "cell_type": "code",
      "metadata": {
        "id": "6DCRRQSL8Kw1",
        "outputId": "81918552-60d6-4fd6-d589-54f49aba3260"
      },
      "source": [
        "count_Aisles = order_products__prior['aisle'].value_counts()\n",
        "figure = plt.figure(figsize = (20,10))\n",
        "count_Aisles[0:20].plot(kind=\"bar\", color='darkgoldenrod')\n",
        "plt.xticks(rotation = 90)\n",
        "plt.xlabel('Aisle', fontsize = 14, fontweight = 'bold')\n",
        "plt.ylabel('Frequency', fontsize = 14, fontweight = 'bold')\n",
        "plt.show()"
      ],
      "execution_count": null,
      "outputs": [
        {
          "output_type": "display_data",
          "data": {
            "image/png": "[encoded data removed]",
            "text/plain": [
              "<Figure size 1440x720 with 1 Axes>"
            ]
          },
          "metadata": {
            "tags": []
          }
        }
      ]
    },
    {
      "cell_type": "markdown",
      "metadata": {
        "id": "MtMFx3Mh8Kw2"
      },
      "source": [
        "### Top 20 Product and it's order frequency"
      ]
    },
    {
      "cell_type": "code",
      "metadata": {
        "scrolled": true,
        "id": "ZYn_0y6p8Kw2",
        "outputId": "adf8b823-b72e-4bf1-8b6e-391730cfab42"
      },
      "source": [
        "count_product = order_products__prior['product_name'].value_counts()\n",
        "figure = plt.figure(figsize = (20,10))\n",
        "count_product[0:20].plot(kind=\"bar\", color='purple')\n",
        "plt.xticks(rotation = 90)\n",
        "plt.xlabel('Product', fontsize = 14, fontweight = 'bold')\n",
        "plt.ylabel('Frequency', fontsize = 14, fontweight = 'bold')\n",
        "plt.show()"
      ],
      "execution_count": null,
      "outputs": [
        {
          "output_type": "display_data",
          "data": {
            "image/png": "[encoded data removed]",
            "text/plain": [
              "<Figure size 1440x720 with 1 Axes>"
            ]
          },
          "metadata": {
            "tags": []
          }
        }
      ]
    },
    {
      "cell_type": "markdown",
      "metadata": {
        "id": "Jz3Ulxi98Kw2"
      },
      "source": [
        "## Analysis of Re-orders"
      ]
    },
    {
      "cell_type": "code",
      "metadata": {
        "id": "-WNkyckR8Kw2"
      },
      "source": [
        "DFtemporary = order_products__prior.groupby(\"product_name\")[\"reordered\"].agg(['count', 'sum']).rename(columns = {'count':'total','sum':'reorders'})\n",
        "DFtemporary = DFtemporary.sort_values('total', ascending=False).reset_index()"
      ],
      "execution_count": null,
      "outputs": []
    },
    {
      "cell_type": "code",
      "metadata": {
        "id": "7mzSUbd_8Kw2",
        "outputId": "cd5ed0ea-175b-4abf-8d3d-ce75a90d91d8"
      },
      "source": [
        "Label = list(DFtemporary.product_name[0:20])\n",
        "ReOrders = list(DFtemporary.reorders[0:20])\n",
        "TotalReOrder = list(DFtemporary.total[0:20])\n",
        "Width = 0.35       # the width of the bars: can also be len(x) sequence\n",
        "\n",
        "figure, axis = plt.subplots(figsize = (20,10))\n",
        "axis.bar(Label, ReOrders, Width, label='Reorder',color='green')\n",
        "axis.bar(Label, TotalReOrder, Width, bottom=ReOrders,\n",
        "       label='Total',color='red')\n",
        "\n",
        "axis.set_ylabel('Total Orders', fontsize = 14, fontweight = 'bold')\n",
        "axis.legend()\n",
        "axis.set_title(\"Most Popular Products\")\n",
        "plt.xticks(rotation = 90)\n",
        "plt.show()"
      ],
      "execution_count": null,
      "outputs": [
        {
          "output_type": "display_data",
          "data": {
            "image/png": "[encoded data removed]",
            "text/plain": [
              "<Figure size 1440x720 with 1 Axes>"
            ]
          },
          "metadata": {
            "tags": []
          }
        }
      ]
    },
    {
      "cell_type": "code",
      "metadata": {
        "id": "kdITWPAA8Kw3",
        "outputId": "d5259442-848e-4aa8-9f95-c205383ef09e"
      },
      "source": [
        "DFgrouped = order_products__prior.groupby([\"department\"])[\"reordered\"].aggregate(\"mean\").reset_index()\n",
        "DFgrouped.head()"
      ],
      "execution_count": null,
      "outputs": [
        {
          "output_type": "execute_result",
          "data": {
            "text/html": [
              "<div>\n",
              "<style scoped>\n",
              "    .dataframe tbody tr th:only-of-type {\n",
              "        vertical-align: middle;\n",
              "    }\n",
              "\n",
              "    .dataframe tbody tr th {\n",
              "        vertical-align: top;\n",
              "    }\n",
              "\n",
              "    .dataframe thead th {\n",
              "        text-align: right;\n",
              "    }\n",
              "</style>\n",
              "<table border=\"1\" class=\"dataframe\">\n",
              "  <thead>\n",
              "    <tr style=\"text-align: right;\">\n",
              "      <th></th>\n",
              "      <th>department</th>\n",
              "      <th>reordered</th>\n",
              "    </tr>\n",
              "  </thead>\n",
              "  <tbody>\n",
              "    <tr>\n",
              "      <th>0</th>\n",
              "      <td>alcohol</td>\n",
              "      <td>0.569924</td>\n",
              "    </tr>\n",
              "    <tr>\n",
              "      <th>1</th>\n",
              "      <td>babies</td>\n",
              "      <td>0.578971</td>\n",
              "    </tr>\n",
              "    <tr>\n",
              "      <th>2</th>\n",
              "      <td>bakery</td>\n",
              "      <td>0.628141</td>\n",
              "    </tr>\n",
              "    <tr>\n",
              "      <th>3</th>\n",
              "      <td>beverages</td>\n",
              "      <td>0.653460</td>\n",
              "    </tr>\n",
              "    <tr>\n",
              "      <th>4</th>\n",
              "      <td>breakfast</td>\n",
              "      <td>0.560922</td>\n",
              "    </tr>\n",
              "  </tbody>\n",
              "</table>\n",
              "</div>"
            ],
            "text/plain": [
              "  department  reordered\n",
              "0    alcohol   0.569924\n",
              "1     babies   0.578971\n",
              "2     bakery   0.628141\n",
              "3  beverages   0.653460\n",
              "4  breakfast   0.560922"
            ]
          },
          "metadata": {
            "tags": []
          },
          "execution_count": 11
        }
      ]
    },
    {
      "cell_type": "code",
      "metadata": {
        "id": "dIuH36Sz8Kw3",
        "outputId": "e89ae605-97ab-4354-acc8-db58c27c5e14"
      },
      "source": [
        "plt.figure(figsize=(12,8))\n",
        "plt.plot(list(DFgrouped['department']), DFgrouped['reordered'].values, alpha=0.8)\n",
        "plt.scatter(list(DFgrouped['department']), DFgrouped['reordered'].values)\n",
        "plt.ylabel('Reorder ratio', fontsize=12)\n",
        "plt.xlabel('Department', fontsize=12)\n",
        "plt.title(\"Department wise reorder ratio\", fontsize=15)\n",
        "plt.xticks(rotation='vertical')\n",
        "plt.show()"
      ],
      "execution_count": null,
      "outputs": [
        {
          "output_type": "display_data",
          "data": {
            "image/png": "[encoded data removed]",
            "text/plain": [
              "<Figure size 864x576 with 1 Axes>"
            ]
          },
          "metadata": {
            "tags": []
          }
        }
      ]
    },
    {
      "cell_type": "code",
      "metadata": {
        "id": "4Qa5SQu58Kw3"
      },
      "source": [
        "DFtemporary  = order_products__prior.groupby(\"department\")[\"reordered\"].agg(['count', 'sum']).rename(columns = {'count':'total','sum':'reorders'})\n",
        "DFtemporary  = DFtemporary.sort_values('total', ascending=False).reset_index()"
      ],
      "execution_count": null,
      "outputs": []
    },
    {
      "cell_type": "code",
      "metadata": {
        "id": "Qk_oMOxj8Kw3",
        "outputId": "70aae430-8773-4236-edd2-aca46c233137"
      },
      "source": [
        "DFtemporary.head()"
      ],
      "execution_count": null,
      "outputs": [
        {
          "output_type": "execute_result",
          "data": {
            "text/html": [
              "<div>\n",
              "<style scoped>\n",
              "    .dataframe tbody tr th:only-of-type {\n",
              "        vertical-align: middle;\n",
              "    }\n",
              "\n",
              "    .dataframe tbody tr th {\n",
              "        vertical-align: top;\n",
              "    }\n",
              "\n",
              "    .dataframe thead th {\n",
              "        text-align: right;\n",
              "    }\n",
              "</style>\n",
              "<table border=\"1\" class=\"dataframe\">\n",
              "  <thead>\n",
              "    <tr style=\"text-align: right;\">\n",
              "      <th></th>\n",
              "      <th>department</th>\n",
              "      <th>total</th>\n",
              "      <th>reorders</th>\n",
              "    </tr>\n",
              "  </thead>\n",
              "  <tbody>\n",
              "    <tr>\n",
              "      <th>0</th>\n",
              "      <td>produce</td>\n",
              "      <td>9479291</td>\n",
              "      <td>6160710</td>\n",
              "    </tr>\n",
              "    <tr>\n",
              "      <th>1</th>\n",
              "      <td>dairy eggs</td>\n",
              "      <td>5414016</td>\n",
              "      <td>3627221</td>\n",
              "    </tr>\n",
              "    <tr>\n",
              "      <th>2</th>\n",
              "      <td>snacks</td>\n",
              "      <td>2887550</td>\n",
              "      <td>1657973</td>\n",
              "    </tr>\n",
              "    <tr>\n",
              "      <th>3</th>\n",
              "      <td>beverages</td>\n",
              "      <td>2690129</td>\n",
              "      <td>1757892</td>\n",
              "    </tr>\n",
              "    <tr>\n",
              "      <th>4</th>\n",
              "      <td>frozen</td>\n",
              "      <td>2236432</td>\n",
              "      <td>1211890</td>\n",
              "    </tr>\n",
              "  </tbody>\n",
              "</table>\n",
              "</div>"
            ],
            "text/plain": [
              "   department    total  reorders\n",
              "0     produce  9479291   6160710\n",
              "1  dairy eggs  5414016   3627221\n",
              "2      snacks  2887550   1657973\n",
              "3   beverages  2690129   1757892\n",
              "4      frozen  2236432   1211890"
            ]
          },
          "metadata": {
            "tags": []
          },
          "execution_count": 36
        }
      ]
    },
    {
      "cell_type": "code",
      "metadata": {
        "id": "RlYcMZWB8Kw4",
        "outputId": "094057fc-2eba-4679-8f4e-fe6ed46dad6c"
      },
      "source": [
        "Label = list(DFtemporary.department[0:20])\n",
        "ReOrders = list(DFtemporary.reorders[0:20])\n",
        "TotalReOrder = list(DFtemporary.total[0:20])\n",
        "Width = 0.35       # the width of the bars: can also be len(x) sequence\n",
        "\n",
        "figure, axis = plt.subplots(figsize = (20,10))\n",
        "axis.bar(Label, ReOrders, Width, label='Reorder',color='green')\n",
        "axis.bar(Label, TotalReOrder, Width, bottom=ReOrders,\n",
        "       label='Total',color='red')\n",
        "\n",
        "axis.set_ylabel('Total Orders', fontsize = 14, fontweight = 'bold')\n",
        "axis.legend()\n",
        "axis.set_title(\"Total Orders and Reorders From Departments\")\n",
        "plt.xticks(rotation = 90)\n",
        "plt.show()"
      ],
      "execution_count": null,
      "outputs": [
        {
          "output_type": "display_data",
          "data": {
            "image/png": "[encoded data removed]",
            "text/plain": [
              "<Figure size 1440x720 with 1 Axes>"
            ]
          },
          "metadata": {
            "tags": []
          }
        }
      ]
    },
    {
      "cell_type": "code",
      "metadata": {
        "id": "apgxk92p8Kw4",
        "outputId": "4408de19-3532-4d2f-e5f8-38d9c0eb2843"
      },
      "source": [
        "list(DFgrouped['aisle'])[0:20]"
      ],
      "execution_count": null,
      "outputs": [
        {
          "output_type": "execute_result",
          "data": {
            "text/plain": [
              "['air fresheners candles',\n",
              " 'asian foods',\n",
              " 'baby accessories',\n",
              " 'baby bath body care',\n",
              " 'baby food formula',\n",
              " 'bakery desserts',\n",
              " 'baking ingredients',\n",
              " 'baking supplies decor',\n",
              " 'beauty',\n",
              " 'beers coolers',\n",
              " 'body lotions soap',\n",
              " 'bread',\n",
              " 'breakfast bakery',\n",
              " 'breakfast bars pastries',\n",
              " 'bulk dried fruits vegetables',\n",
              " 'bulk grains rice dried goods',\n",
              " 'buns rolls',\n",
              " 'butter',\n",
              " 'candy chocolate',\n",
              " 'canned fruit applesauce']"
            ]
          },
          "metadata": {
            "tags": []
          },
          "execution_count": 15
        }
      ]
    },
    {
      "cell_type": "code",
      "metadata": {
        "id": "b_ak9rsN8Kw4",
        "outputId": "4a2c498d-ffb6-4cc8-9988-39129f7094d4"
      },
      "source": [
        "DFgrouped = order_products__prior.groupby([\"aisle\"])[\"reordered\"].aggregate(\"mean\").reset_index()\n",
        "DFgrouped.head()"
      ],
      "execution_count": null,
      "outputs": [
        {
          "output_type": "execute_result",
          "data": {
            "text/html": [
              "<div>\n",
              "<style scoped>\n",
              "    .dataframe tbody tr th:only-of-type {\n",
              "        vertical-align: middle;\n",
              "    }\n",
              "\n",
              "    .dataframe tbody tr th {\n",
              "        vertical-align: top;\n",
              "    }\n",
              "\n",
              "    .dataframe thead th {\n",
              "        text-align: right;\n",
              "    }\n",
              "</style>\n",
              "<table border=\"1\" class=\"dataframe\">\n",
              "  <thead>\n",
              "    <tr style=\"text-align: right;\">\n",
              "      <th></th>\n",
              "      <th>aisle</th>\n",
              "      <th>reordered</th>\n",
              "    </tr>\n",
              "  </thead>\n",
              "  <tbody>\n",
              "    <tr>\n",
              "      <th>0</th>\n",
              "      <td>air fresheners candles</td>\n",
              "      <td>0.309052</td>\n",
              "    </tr>\n",
              "    <tr>\n",
              "      <th>1</th>\n",
              "      <td>asian foods</td>\n",
              "      <td>0.351132</td>\n",
              "    </tr>\n",
              "    <tr>\n",
              "      <th>2</th>\n",
              "      <td>baby accessories</td>\n",
              "      <td>0.550980</td>\n",
              "    </tr>\n",
              "    <tr>\n",
              "      <th>3</th>\n",
              "      <td>baby bath body care</td>\n",
              "      <td>0.295770</td>\n",
              "    </tr>\n",
              "    <tr>\n",
              "      <th>4</th>\n",
              "      <td>baby food formula</td>\n",
              "      <td>0.590259</td>\n",
              "    </tr>\n",
              "  </tbody>\n",
              "</table>\n",
              "</div>"
            ],
            "text/plain": [
              "                    aisle  reordered\n",
              "0  air fresheners candles   0.309052\n",
              "1             asian foods   0.351132\n",
              "2        baby accessories   0.550980\n",
              "3     baby bath body care   0.295770\n",
              "4       baby food formula   0.590259"
            ]
          },
          "metadata": {
            "tags": []
          },
          "execution_count": 14
        }
      ]
    },
    {
      "cell_type": "code",
      "metadata": {
        "id": "XtPU9gHY8Kw4",
        "outputId": "810e0a0e-8eb0-4666-e9ed-909b39ae2e3e"
      },
      "source": [
        "plt.figure(figsize=(14,7))\n",
        "plt.plot(list(DFgrouped['aisle'])[0:20], DFgrouped['reordered'].values[0:20], alpha=0.8)\n",
        "plt.scatter(list(DFgrouped['aisle'])[0:20], DFgrouped['reordered'].values[0:20])\n",
        "plt.ylabel('Reorder ratio', fontsize=12)\n",
        "plt.xlabel('Aisle', fontsize=12)\n",
        "plt.title(\"Aisle wise reorder ratio\", fontsize=15)\n",
        "plt.xticks(rotation='vertical')\n",
        "plt.show()"
      ],
      "execution_count": null,
      "outputs": [
        {
          "output_type": "display_data",
          "data": {
            "image/png": "[encoded data removed]",
            "text/plain": [
              "<Figure size 1008x504 with 1 Axes>"
            ]
          },
          "metadata": {
            "tags": [],
            "needs_background": "light"
          }
        }
      ]
    },
    {
      "cell_type": "code",
      "metadata": {
        "id": "EswFp6lP8Kw4"
      },
      "source": [
        "DFtemporary  = order_products__prior.groupby(\"aisle\")[\"reordered\"].agg(['count', 'sum']).rename(columns = {'count':'total','sum':'reorders'})\n",
        "DFtemporary  = DFtemporary.sort_values('total', ascending=False).reset_index()"
      ],
      "execution_count": null,
      "outputs": []
    },
    {
      "cell_type": "code",
      "metadata": {
        "id": "UhQRe5FZ8Kw4",
        "outputId": "fb0230d3-4e6b-4c64-d2dc-bd78a1c48b0f"
      },
      "source": [
        "DFtemporary.head()"
      ],
      "execution_count": null,
      "outputs": [
        {
          "output_type": "execute_result",
          "data": {
            "text/html": [
              "<div>\n",
              "<style scoped>\n",
              "    .dataframe tbody tr th:only-of-type {\n",
              "        vertical-align: middle;\n",
              "    }\n",
              "\n",
              "    .dataframe tbody tr th {\n",
              "        vertical-align: top;\n",
              "    }\n",
              "\n",
              "    .dataframe thead th {\n",
              "        text-align: right;\n",
              "    }\n",
              "</style>\n",
              "<table border=\"1\" class=\"dataframe\">\n",
              "  <thead>\n",
              "    <tr style=\"text-align: right;\">\n",
              "      <th></th>\n",
              "      <th>aisle</th>\n",
              "      <th>total</th>\n",
              "      <th>reorders</th>\n",
              "    </tr>\n",
              "  </thead>\n",
              "  <tbody>\n",
              "    <tr>\n",
              "      <th>0</th>\n",
              "      <td>fresh fruits</td>\n",
              "      <td>3642188</td>\n",
              "      <td>2615469</td>\n",
              "    </tr>\n",
              "    <tr>\n",
              "      <th>1</th>\n",
              "      <td>fresh vegetables</td>\n",
              "      <td>3418021</td>\n",
              "      <td>2032172</td>\n",
              "    </tr>\n",
              "    <tr>\n",
              "      <th>2</th>\n",
              "      <td>packaged vegetables fruits</td>\n",
              "      <td>1765313</td>\n",
              "      <td>1127177</td>\n",
              "    </tr>\n",
              "    <tr>\n",
              "      <th>3</th>\n",
              "      <td>yogurt</td>\n",
              "      <td>1452343</td>\n",
              "      <td>997018</td>\n",
              "    </tr>\n",
              "    <tr>\n",
              "      <th>4</th>\n",
              "      <td>packaged cheese</td>\n",
              "      <td>979763</td>\n",
              "      <td>573383</td>\n",
              "    </tr>\n",
              "  </tbody>\n",
              "</table>\n",
              "</div>"
            ],
            "text/plain": [
              "                        aisle    total  reorders\n",
              "0                fresh fruits  3642188   2615469\n",
              "1            fresh vegetables  3418021   2032172\n",
              "2  packaged vegetables fruits  1765313   1127177\n",
              "3                      yogurt  1452343    997018\n",
              "4             packaged cheese   979763    573383"
            ]
          },
          "metadata": {
            "tags": []
          },
          "execution_count": 41
        }
      ]
    },
    {
      "cell_type": "code",
      "metadata": {
        "id": "jFu5lDCY8Kw5",
        "outputId": "ef697245-915f-48da-d33e-2a8b9eb4ca89"
      },
      "source": [
        "Label = list(DFtemporary.aisle[0:20])\n",
        "ReOrders = list(DFtemporary.reorders[0:20])\n",
        "TotalReOrder = list(DFtemporary.total[0:20])\n",
        "Width = 0.35       # the width of the bars: can also be len(x) sequence\n",
        "\n",
        "figure, axis = plt.subplots(figsize = (20,10))\n",
        "axis.bar(Label, ReOrders, Width, label='Reorder',color='green')\n",
        "axis.bar(Label, TotalReOrder, Width, bottom=ReOrders,\n",
        "       label='Total',color='red')\n",
        "\n",
        "axis.set_ylabel('Total Orders', fontsize = 14, fontweight = 'bold')\n",
        "axis.legend()\n",
        "axis.set_title(\"Total Orders and Reorders From Most Popular Aisles\")\n",
        "plt.xticks(rotation = 90)\n",
        "plt.show()"
      ],
      "execution_count": null,
      "outputs": [
        {
          "output_type": "display_data",
          "data": {
            "image/png": "[encoded data removed]",
            "text/plain": [
              "<Figure size 1440x720 with 1 Axes>"
            ]
          },
          "metadata": {
            "tags": []
          }
        }
      ]
    },
    {
      "cell_type": "markdown",
      "metadata": {
        "id": "HMt_QFRB8Kw5"
      },
      "source": [
        "### Let us check the relationship between how order of adding the product to the cart affects the reorder ratio"
      ]
    },
    {
      "cell_type": "code",
      "metadata": {
        "id": "AC47rxvl8Kw5",
        "outputId": "76142fa5-ba7a-48e5-fd8c-a8c52f0108ae"
      },
      "source": [
        "order_products__prior[\"add_to_cart_order_mod\"] = order_products__prior[\"add_to_cart_order\"].copy()\n",
        "order_products__prior[\"add_to_cart_order_mod\"].loc[order_products__prior[\"add_to_cart_order_mod\"]>70] = 70\n",
        "DFgrouped = order_products__prior.groupby([\"add_to_cart_order_mod\"])[\"reordered\"].aggregate(\"mean\").reset_index()"
      ],
      "execution_count": null,
      "outputs": [
        {
          "output_type": "stream",
          "text": [
            "/Users/vaishnavimandula/opt/anaconda3/lib/python3.8/site-packages/pandas/core/indexing.py:670: SettingWithCopyWarning: \n",
            "A value is trying to be set on a copy of a slice from a DataFrame\n",
            "\n",
            "See the caveats in the documentation: https://pandas.pydata.org/pandas-docs/stable/user_guide/indexing.html#returning-a-view-versus-a-copy\n",
            "  iloc._setitem_with_indexer(indexer, value)\n"
          ],
          "name": "stderr"
        }
      ]
    },
    {
      "cell_type": "code",
      "metadata": {
        "id": "RzFR0Yep8Kw5",
        "outputId": "147fe536-1f46-452d-ce64-97b3bb9f40f1"
      },
      "source": [
        "DFgrouped.head()"
      ],
      "execution_count": null,
      "outputs": [
        {
          "output_type": "execute_result",
          "data": {
            "text/html": [
              "<div>\n",
              "<style scoped>\n",
              "    .dataframe tbody tr th:only-of-type {\n",
              "        vertical-align: middle;\n",
              "    }\n",
              "\n",
              "    .dataframe tbody tr th {\n",
              "        vertical-align: top;\n",
              "    }\n",
              "\n",
              "    .dataframe thead th {\n",
              "        text-align: right;\n",
              "    }\n",
              "</style>\n",
              "<table border=\"1\" class=\"dataframe\">\n",
              "  <thead>\n",
              "    <tr style=\"text-align: right;\">\n",
              "      <th></th>\n",
              "      <th>add_to_cart_order_mod</th>\n",
              "      <th>reordered</th>\n",
              "    </tr>\n",
              "  </thead>\n",
              "  <tbody>\n",
              "    <tr>\n",
              "      <th>0</th>\n",
              "      <td>1</td>\n",
              "      <td>0.677533</td>\n",
              "    </tr>\n",
              "    <tr>\n",
              "      <th>1</th>\n",
              "      <td>2</td>\n",
              "      <td>0.676251</td>\n",
              "    </tr>\n",
              "    <tr>\n",
              "      <th>2</th>\n",
              "      <td>3</td>\n",
              "      <td>0.658037</td>\n",
              "    </tr>\n",
              "    <tr>\n",
              "      <th>3</th>\n",
              "      <td>4</td>\n",
              "      <td>0.636958</td>\n",
              "    </tr>\n",
              "    <tr>\n",
              "      <th>4</th>\n",
              "      <td>5</td>\n",
              "      <td>0.617383</td>\n",
              "    </tr>\n",
              "  </tbody>\n",
              "</table>\n",
              "</div>"
            ],
            "text/plain": [
              "   add_to_cart_order_mod  reordered\n",
              "0                      1   0.677533\n",
              "1                      2   0.676251\n",
              "2                      3   0.658037\n",
              "3                      4   0.636958\n",
              "4                      5   0.617383"
            ]
          },
          "metadata": {
            "tags": []
          },
          "execution_count": 44
        }
      ]
    },
    {
      "cell_type": "markdown",
      "metadata": {
        "id": "vbFsBoCY8Kw6"
      },
      "source": [
        "# Implemetation of Apriori"
      ]
    },
    {
      "cell_type": "code",
      "metadata": {
        "id": "Ck9rRfcc8Kw6"
      },
      "source": [
        "transactionsTup = [tuple(row) for row in transaction['Products'].tolist()]"
      ],
      "execution_count": null,
      "outputs": []
    },
    {
      "cell_type": "markdown",
      "metadata": {
        "id": "HY1Kftp18Kw6"
      },
      "source": [
        "### With Support = 0.01 and Confidence = 0.2"
      ]
    },
    {
      "cell_type": "code",
      "metadata": {
        "id": "QPld36368Kw6",
        "outputId": "016e2c36-734a-4cd9-f94d-ed8270335a16"
      },
      "source": [
        "t = datetime.now()\n",
        "apItemsets, apRules = apriori(transactionsTup[:500000], min_support=0.01, min_confidence=0.2)\n",
        "print('Execution time : ', datetime.now() - t)"
      ],
      "execution_count": null,
      "outputs": [
        {
          "output_type": "stream",
          "text": [
            "Execution time :  0:02:28.773492\n"
          ],
          "name": "stdout"
        }
      ]
    },
    {
      "cell_type": "code",
      "metadata": {
        "id": "iAJ7tVz38Kw6",
        "outputId": "9f4d3d9e-d9ea-47b8-eab4-36404a4755c1"
      },
      "source": [
        "apRules"
      ],
      "execution_count": null,
      "outputs": [
        {
          "output_type": "execute_result",
          "data": {
            "text/plain": [
              "[{27966} -> {13176},\n",
              " {47209} -> {13176},\n",
              " {21137} -> {24852},\n",
              " {47766} -> {24852},\n",
              " {21903} -> {24852},\n",
              " {49683} -> {24852},\n",
              " {47626} -> {24852},\n",
              " {28204} -> {24852},\n",
              " {16797} -> {24852},\n",
              " {21903} -> {13176},\n",
              " {21137} -> {13176},\n",
              " {27966} -> {21137}]"
            ]
          },
          "metadata": {
            "tags": []
          },
          "execution_count": 57
        }
      ]
    },
    {
      "cell_type": "code",
      "metadata": {
        "id": "dHu4BZdd8Kw6"
      },
      "source": [
        "item1 = [27966,47209,21137,47766,21903,49683,47626,28204,16797,21903,21137,27966]\n",
        "item2 = [13176,13176,24852,24852,24852,24852,24852,24852,24852,13176,13176,21137]\n",
        "temporaryVar = pd.DataFrame()\n",
        "temporaryVar['itemA'] = item1\n",
        "temporaryVar['itemB'] = item2"
      ],
      "execution_count": null,
      "outputs": []
    },
    {
      "cell_type": "code",
      "metadata": {
        "id": "A8xRXLp18Kw6"
      },
      "source": [
        "support1 = []\n",
        "support2 = []\n",
        "support12 = []\n",
        "confidence12 = []\n",
        "lift12 = []\n",
        "for i in range(len(temporaryVar)):\n",
        "    support1.append(apItemsets[1][tuple([temporaryVar['itemA'][i],])] / 500000)\n",
        "    support2.append(apItemsets[1][tuple([temporaryVar['itemB'][i],])] / 500000)\n",
        "    if tuple([temporaryVar['itemA'][i],temporaryVar['itemB'][i]]) in apItemsets[2].keys():\n",
        "        support12.append(apItemsets[2][tuple([temporaryVar['itemA'][i],temporaryVar['itemB'][i]])] / 500000)\n",
        "    else:\n",
        "        support12.append(apItemsets[2][tuple([temporaryVar['itemB'][i],temporaryVar['itemA'][i]])] / 500000)\n",
        "    confidence12.append(support12[i] / support1[i])\n",
        "    lift12.append(support12[i] / (support1[i] * support2[i]))"
      ],
      "execution_count": null,
      "outputs": []
    },
    {
      "cell_type": "code",
      "metadata": {
        "id": "CyiFSU6W8Kw7"
      },
      "source": [
        "apDfRules = pd.DataFrame()\n",
        "apDfRules['product_id'] = item1\n",
        "apDfRules = apDfRules.merge(products, on = 'product_id', how = 'left')\n",
        "apDfRules['Product_A'] = apDfRules['product_name']\n",
        "apDfRules = apDfRules.drop(columns = ['product_id','product_name','aisle_id','department_id'], axis = 1)\n",
        "apDfRules['product_id'] = item2\n",
        "apDfRules = apDfRules.merge(products, on = 'product_id', how = 'left')\n",
        "apDfRules['Product_B'] = apDfRules['product_name']\n",
        "apDfRules = apDfRules.drop(columns = ['product_id','product_name','aisle_id','department_id'], axis = 1)\n",
        "apDfRules['Support_A'] = support1\n",
        "apDfRules['Support_B'] = support2\n",
        "apDfRules['Support_AB'] = support12\n",
        "apDfRules['Confidence_AB'] = confidence12\n",
        "apDfRules['Lift_AB'] = lift12"
      ],
      "execution_count": null,
      "outputs": []
    },
    {
      "cell_type": "code",
      "metadata": {
        "scrolled": true,
        "id": "TlwA4R028Kw7",
        "outputId": "dbbc09b7-2851-4fb1-a3df-0790cdd5701d"
      },
      "source": [
        "apDfRules.sort_values(by = 'Confidence_AB', ascending = False)"
      ],
      "execution_count": null,
      "outputs": [
        {
          "output_type": "execute_result",
          "data": {
            "text/html": [
              "<div>\n",
              "<style scoped>\n",
              "    .dataframe tbody tr th:only-of-type {\n",
              "        vertical-align: middle;\n",
              "    }\n",
              "\n",
              "    .dataframe tbody tr th {\n",
              "        vertical-align: top;\n",
              "    }\n",
              "\n",
              "    .dataframe thead th {\n",
              "        text-align: right;\n",
              "    }\n",
              "</style>\n",
              "<table border=\"1\" class=\"dataframe\">\n",
              "  <thead>\n",
              "    <tr style=\"text-align: right;\">\n",
              "      <th></th>\n",
              "      <th>Product_A</th>\n",
              "      <th>Product_B</th>\n",
              "      <th>Support_A</th>\n",
              "      <th>Support_B</th>\n",
              "      <th>Support_AB</th>\n",
              "      <th>Confidence_AB</th>\n",
              "      <th>Lift_AB</th>\n",
              "    </tr>\n",
              "  </thead>\n",
              "  <tbody>\n",
              "    <tr>\n",
              "      <th>7</th>\n",
              "      <td>Organic Fuji Apple</td>\n",
              "      <td>Banana</td>\n",
              "      <td>0.027942</td>\n",
              "      <td>0.147194</td>\n",
              "      <td>0.010630</td>\n",
              "      <td>0.380431</td>\n",
              "      <td>2.584554</td>\n",
              "    </tr>\n",
              "    <tr>\n",
              "      <th>5</th>\n",
              "      <td>Cucumber Kirby</td>\n",
              "      <td>Banana</td>\n",
              "      <td>0.030218</td>\n",
              "      <td>0.147194</td>\n",
              "      <td>0.010024</td>\n",
              "      <td>0.331723</td>\n",
              "      <td>2.253644</td>\n",
              "    </tr>\n",
              "    <tr>\n",
              "      <th>3</th>\n",
              "      <td>Organic Avocado</td>\n",
              "      <td>Banana</td>\n",
              "      <td>0.054564</td>\n",
              "      <td>0.147194</td>\n",
              "      <td>0.016328</td>\n",
              "      <td>0.299245</td>\n",
              "      <td>2.032997</td>\n",
              "    </tr>\n",
              "    <tr>\n",
              "      <th>0</th>\n",
              "      <td>Organic Raspberries</td>\n",
              "      <td>Bag of Organic Bananas</td>\n",
              "      <td>0.042334</td>\n",
              "      <td>0.117802</td>\n",
              "      <td>0.012428</td>\n",
              "      <td>0.293570</td>\n",
              "      <td>2.492064</td>\n",
              "    </tr>\n",
              "    <tr>\n",
              "      <th>1</th>\n",
              "      <td>Organic Hass Avocado</td>\n",
              "      <td>Bag of Organic Bananas</td>\n",
              "      <td>0.066218</td>\n",
              "      <td>0.117802</td>\n",
              "      <td>0.019260</td>\n",
              "      <td>0.290857</td>\n",
              "      <td>2.469037</td>\n",
              "    </tr>\n",
              "    <tr>\n",
              "      <th>8</th>\n",
              "      <td>Strawberries</td>\n",
              "      <td>Banana</td>\n",
              "      <td>0.044496</td>\n",
              "      <td>0.147194</td>\n",
              "      <td>0.012902</td>\n",
              "      <td>0.289959</td>\n",
              "      <td>1.969908</td>\n",
              "    </tr>\n",
              "    <tr>\n",
              "      <th>6</th>\n",
              "      <td>Large Lemon</td>\n",
              "      <td>Banana</td>\n",
              "      <td>0.047718</td>\n",
              "      <td>0.147194</td>\n",
              "      <td>0.012692</td>\n",
              "      <td>0.265979</td>\n",
              "      <td>1.806998</td>\n",
              "    </tr>\n",
              "    <tr>\n",
              "      <th>11</th>\n",
              "      <td>Organic Raspberries</td>\n",
              "      <td>Organic Strawberries</td>\n",
              "      <td>0.042334</td>\n",
              "      <td>0.082550</td>\n",
              "      <td>0.010524</td>\n",
              "      <td>0.248595</td>\n",
              "      <td>3.011442</td>\n",
              "    </tr>\n",
              "    <tr>\n",
              "      <th>10</th>\n",
              "      <td>Organic Strawberries</td>\n",
              "      <td>Bag of Organic Bananas</td>\n",
              "      <td>0.082550</td>\n",
              "      <td>0.117802</td>\n",
              "      <td>0.019122</td>\n",
              "      <td>0.231641</td>\n",
              "      <td>1.966362</td>\n",
              "    </tr>\n",
              "    <tr>\n",
              "      <th>4</th>\n",
              "      <td>Organic Baby Spinach</td>\n",
              "      <td>Banana</td>\n",
              "      <td>0.075000</td>\n",
              "      <td>0.147194</td>\n",
              "      <td>0.016016</td>\n",
              "      <td>0.213547</td>\n",
              "      <td>1.450784</td>\n",
              "    </tr>\n",
              "    <tr>\n",
              "      <th>2</th>\n",
              "      <td>Organic Strawberries</td>\n",
              "      <td>Banana</td>\n",
              "      <td>0.082550</td>\n",
              "      <td>0.147194</td>\n",
              "      <td>0.017596</td>\n",
              "      <td>0.213156</td>\n",
              "      <td>1.448127</td>\n",
              "    </tr>\n",
              "    <tr>\n",
              "      <th>9</th>\n",
              "      <td>Organic Baby Spinach</td>\n",
              "      <td>Bag of Organic Bananas</td>\n",
              "      <td>0.075000</td>\n",
              "      <td>0.117802</td>\n",
              "      <td>0.015500</td>\n",
              "      <td>0.206667</td>\n",
              "      <td>1.754356</td>\n",
              "    </tr>\n",
              "  </tbody>\n",
              "</table>\n",
              "</div>"
            ],
            "text/plain": [
              "               Product_A               Product_B  Support_A  Support_B  \\\n",
              "7     Organic Fuji Apple                  Banana   0.027942   0.147194   \n",
              "5         Cucumber Kirby                  Banana   0.030218   0.147194   \n",
              "3        Organic Avocado                  Banana   0.054564   0.147194   \n",
              "0    Organic Raspberries  Bag of Organic Bananas   0.042334   0.117802   \n",
              "1   Organic Hass Avocado  Bag of Organic Bananas   0.066218   0.117802   \n",
              "8           Strawberries                  Banana   0.044496   0.147194   \n",
              "6            Large Lemon                  Banana   0.047718   0.147194   \n",
              "11   Organic Raspberries    Organic Strawberries   0.042334   0.082550   \n",
              "10  Organic Strawberries  Bag of Organic Bananas   0.082550   0.117802   \n",
              "4   Organic Baby Spinach                  Banana   0.075000   0.147194   \n",
              "2   Organic Strawberries                  Banana   0.082550   0.147194   \n",
              "9   Organic Baby Spinach  Bag of Organic Bananas   0.075000   0.117802   \n",
              "\n",
              "    Support_AB  Confidence_AB   Lift_AB  \n",
              "7     0.010630       0.380431  2.584554  \n",
              "5     0.010024       0.331723  2.253644  \n",
              "3     0.016328       0.299245  2.032997  \n",
              "0     0.012428       0.293570  2.492064  \n",
              "1     0.019260       0.290857  2.469037  \n",
              "8     0.012902       0.289959  1.969908  \n",
              "6     0.012692       0.265979  1.806998  \n",
              "11    0.010524       0.248595  3.011442  \n",
              "10    0.019122       0.231641  1.966362  \n",
              "4     0.016016       0.213547  1.450784  \n",
              "2     0.017596       0.213156  1.448127  \n",
              "9     0.015500       0.206667  1.754356  "
            ]
          },
          "metadata": {
            "tags": []
          },
          "execution_count": 138
        }
      ]
    },
    {
      "cell_type": "code",
      "metadata": {
        "id": "Es32kwj58Kw7",
        "outputId": "c206fc2d-5644-40c5-9322-14be3b327e59"
      },
      "source": [
        "apDfRules.sort_values(by = 'Lift_AB', ascending = False)"
      ],
      "execution_count": null,
      "outputs": [
        {
          "output_type": "execute_result",
          "data": {
            "text/html": [
              "<div>\n",
              "<style scoped>\n",
              "    .dataframe tbody tr th:only-of-type {\n",
              "        vertical-align: middle;\n",
              "    }\n",
              "\n",
              "    .dataframe tbody tr th {\n",
              "        vertical-align: top;\n",
              "    }\n",
              "\n",
              "    .dataframe thead th {\n",
              "        text-align: right;\n",
              "    }\n",
              "</style>\n",
              "<table border=\"1\" class=\"dataframe\">\n",
              "  <thead>\n",
              "    <tr style=\"text-align: right;\">\n",
              "      <th></th>\n",
              "      <th>Product_A</th>\n",
              "      <th>Product_B</th>\n",
              "      <th>Support_A</th>\n",
              "      <th>Support_B</th>\n",
              "      <th>Support_AB</th>\n",
              "      <th>Confidence_AB</th>\n",
              "      <th>Lift_AB</th>\n",
              "    </tr>\n",
              "  </thead>\n",
              "  <tbody>\n",
              "    <tr>\n",
              "      <th>11</th>\n",
              "      <td>Organic Raspberries</td>\n",
              "      <td>Organic Strawberries</td>\n",
              "      <td>0.042334</td>\n",
              "      <td>0.082550</td>\n",
              "      <td>0.010524</td>\n",
              "      <td>0.248595</td>\n",
              "      <td>3.011442</td>\n",
              "    </tr>\n",
              "    <tr>\n",
              "      <th>7</th>\n",
              "      <td>Organic Fuji Apple</td>\n",
              "      <td>Banana</td>\n",
              "      <td>0.027942</td>\n",
              "      <td>0.147194</td>\n",
              "      <td>0.010630</td>\n",
              "      <td>0.380431</td>\n",
              "      <td>2.584554</td>\n",
              "    </tr>\n",
              "    <tr>\n",
              "      <th>0</th>\n",
              "      <td>Organic Raspberries</td>\n",
              "      <td>Bag of Organic Bananas</td>\n",
              "      <td>0.042334</td>\n",
              "      <td>0.117802</td>\n",
              "      <td>0.012428</td>\n",
              "      <td>0.293570</td>\n",
              "      <td>2.492064</td>\n",
              "    </tr>\n",
              "    <tr>\n",
              "      <th>1</th>\n",
              "      <td>Organic Hass Avocado</td>\n",
              "      <td>Bag of Organic Bananas</td>\n",
              "      <td>0.066218</td>\n",
              "      <td>0.117802</td>\n",
              "      <td>0.019260</td>\n",
              "      <td>0.290857</td>\n",
              "      <td>2.469037</td>\n",
              "    </tr>\n",
              "    <tr>\n",
              "      <th>5</th>\n",
              "      <td>Cucumber Kirby</td>\n",
              "      <td>Banana</td>\n",
              "      <td>0.030218</td>\n",
              "      <td>0.147194</td>\n",
              "      <td>0.010024</td>\n",
              "      <td>0.331723</td>\n",
              "      <td>2.253644</td>\n",
              "    </tr>\n",
              "    <tr>\n",
              "      <th>3</th>\n",
              "      <td>Organic Avocado</td>\n",
              "      <td>Banana</td>\n",
              "      <td>0.054564</td>\n",
              "      <td>0.147194</td>\n",
              "      <td>0.016328</td>\n",
              "      <td>0.299245</td>\n",
              "      <td>2.032997</td>\n",
              "    </tr>\n",
              "    <tr>\n",
              "      <th>8</th>\n",
              "      <td>Strawberries</td>\n",
              "      <td>Banana</td>\n",
              "      <td>0.044496</td>\n",
              "      <td>0.147194</td>\n",
              "      <td>0.012902</td>\n",
              "      <td>0.289959</td>\n",
              "      <td>1.969908</td>\n",
              "    </tr>\n",
              "    <tr>\n",
              "      <th>10</th>\n",
              "      <td>Organic Strawberries</td>\n",
              "      <td>Bag of Organic Bananas</td>\n",
              "      <td>0.082550</td>\n",
              "      <td>0.117802</td>\n",
              "      <td>0.019122</td>\n",
              "      <td>0.231641</td>\n",
              "      <td>1.966362</td>\n",
              "    </tr>\n",
              "    <tr>\n",
              "      <th>6</th>\n",
              "      <td>Large Lemon</td>\n",
              "      <td>Banana</td>\n",
              "      <td>0.047718</td>\n",
              "      <td>0.147194</td>\n",
              "      <td>0.012692</td>\n",
              "      <td>0.265979</td>\n",
              "      <td>1.806998</td>\n",
              "    </tr>\n",
              "    <tr>\n",
              "      <th>9</th>\n",
              "      <td>Organic Baby Spinach</td>\n",
              "      <td>Bag of Organic Bananas</td>\n",
              "      <td>0.075000</td>\n",
              "      <td>0.117802</td>\n",
              "      <td>0.015500</td>\n",
              "      <td>0.206667</td>\n",
              "      <td>1.754356</td>\n",
              "    </tr>\n",
              "    <tr>\n",
              "      <th>4</th>\n",
              "      <td>Organic Baby Spinach</td>\n",
              "      <td>Banana</td>\n",
              "      <td>0.075000</td>\n",
              "      <td>0.147194</td>\n",
              "      <td>0.016016</td>\n",
              "      <td>0.213547</td>\n",
              "      <td>1.450784</td>\n",
              "    </tr>\n",
              "    <tr>\n",
              "      <th>2</th>\n",
              "      <td>Organic Strawberries</td>\n",
              "      <td>Banana</td>\n",
              "      <td>0.082550</td>\n",
              "      <td>0.147194</td>\n",
              "      <td>0.017596</td>\n",
              "      <td>0.213156</td>\n",
              "      <td>1.448127</td>\n",
              "    </tr>\n",
              "  </tbody>\n",
              "</table>\n",
              "</div>"
            ],
            "text/plain": [
              "               Product_A               Product_B  Support_A  Support_B  \\\n",
              "11   Organic Raspberries    Organic Strawberries   0.042334   0.082550   \n",
              "7     Organic Fuji Apple                  Banana   0.027942   0.147194   \n",
              "0    Organic Raspberries  Bag of Organic Bananas   0.042334   0.117802   \n",
              "1   Organic Hass Avocado  Bag of Organic Bananas   0.066218   0.117802   \n",
              "5         Cucumber Kirby                  Banana   0.030218   0.147194   \n",
              "3        Organic Avocado                  Banana   0.054564   0.147194   \n",
              "8           Strawberries                  Banana   0.044496   0.147194   \n",
              "10  Organic Strawberries  Bag of Organic Bananas   0.082550   0.117802   \n",
              "6            Large Lemon                  Banana   0.047718   0.147194   \n",
              "9   Organic Baby Spinach  Bag of Organic Bananas   0.075000   0.117802   \n",
              "4   Organic Baby Spinach                  Banana   0.075000   0.147194   \n",
              "2   Organic Strawberries                  Banana   0.082550   0.147194   \n",
              "\n",
              "    Support_AB  Confidence_AB   Lift_AB  \n",
              "11    0.010524       0.248595  3.011442  \n",
              "7     0.010630       0.380431  2.584554  \n",
              "0     0.012428       0.293570  2.492064  \n",
              "1     0.019260       0.290857  2.469037  \n",
              "5     0.010024       0.331723  2.253644  \n",
              "3     0.016328       0.299245  2.032997  \n",
              "8     0.012902       0.289959  1.969908  \n",
              "10    0.019122       0.231641  1.966362  \n",
              "6     0.012692       0.265979  1.806998  \n",
              "9     0.015500       0.206667  1.754356  \n",
              "4     0.016016       0.213547  1.450784  \n",
              "2     0.017596       0.213156  1.448127  "
            ]
          },
          "metadata": {
            "tags": []
          },
          "execution_count": 139
        }
      ]
    },
    {
      "cell_type": "markdown",
      "metadata": {
        "id": "HvWTaY8F8Kw7"
      },
      "source": [
        "### With support = 0.005 and Confidence = 0.2"
      ]
    },
    {
      "cell_type": "code",
      "metadata": {
        "id": "rB5MHDKH8Kw7",
        "outputId": "bccee306-72e8-4bb9-b1f9-c717cd4d128d"
      },
      "source": [
        "t = datetime.now()\n",
        "apItemsets1, apRules1 = apriori(transactionsTup[:500000], min_support=0.005, min_confidence=0.2)\n",
        "print('Execution time : ', datetime.now() - t)"
      ],
      "execution_count": null,
      "outputs": [
        {
          "output_type": "stream",
          "text": [
            "Execution time :  0:14:22.080191\n"
          ],
          "name": "stdout"
        }
      ]
    },
    {
      "cell_type": "code",
      "metadata": {
        "id": "LAJ5MPgK8Kw7",
        "outputId": "d57e5668-3c7e-4af0-8742-3112a7ab7a3a"
      },
      "source": [
        "apRules1"
      ],
      "execution_count": null,
      "outputs": [
        {
          "output_type": "execute_result",
          "data": {
            "text/plain": [
              "[{27966} -> {13176},\n",
              " {47209} -> {13176},\n",
              " {4605} -> {24852},\n",
              " {21137} -> {24852},\n",
              " {47766} -> {24852},\n",
              " {21903} -> {24852},\n",
              " {49683} -> {24852},\n",
              " {5876} -> {47209},\n",
              " {37646} -> {24852},\n",
              " {40706} -> {24852},\n",
              " {47626} -> {24852},\n",
              " {5876} -> {13176},\n",
              " {30391} -> {13176},\n",
              " {22935} -> {13176},\n",
              " {37646} -> {13176},\n",
              " {31717} -> {26209},\n",
              " {28204} -> {24852},\n",
              " {27845} -> {24852},\n",
              " {24964} -> {22935},\n",
              " {45066} -> {24852},\n",
              " {9076} -> {24852},\n",
              " {16797} -> {24852},\n",
              " {21903} -> {13176},\n",
              " {8277} -> {24852},\n",
              " {30391} -> {47209},\n",
              " {21137} -> {13176},\n",
              " {27966} -> {21137},\n",
              " {19057} -> {13176},\n",
              " {26209} -> {24852},\n",
              " {45007} -> {13176},\n",
              " {39275} -> {21137},\n",
              " {30489} -> {24852},\n",
              " {42265} -> {24852},\n",
              " {30391} -> {21137},\n",
              " {8277} -> {13176},\n",
              " {4920} -> {24852},\n",
              " {39275} -> {13176},\n",
              " {44632} -> {24852}]"
            ]
          },
          "metadata": {
            "tags": []
          },
          "execution_count": 59
        }
      ]
    },
    {
      "cell_type": "code",
      "metadata": {
        "id": "dMHkTsE-8Kw7"
      },
      "source": [
        "item1a = [27966,47209,4605,21137,47766,21903,49683,5876,37646,40706,47626,5876,30391,22935,37646,31717,\n",
        "           28204,27845,24964,45066,9076,16797,21903,8277,30391,21137,27966,19057,26209,45007,39275,30489,\n",
        "           42265,30391,8277,4920,39275,44632]\n",
        "item1b = [13176,13176,24852,24852,24852,24852,24852,47209,24852,24852,24852,13176,13176,13176,13176,26209,\n",
        "           24852,24852,22935,24852,24852,24852,13176,24852,47209,13176,21137,13176,24852,13176,21137,24852,\n",
        "           24852,21137,13176,24852,13176,24852]\n",
        "temporaryVar1 = pd.DataFrame()\n",
        "temporaryVar1['itemA'] = item1a\n",
        "temporaryVar1['itemB'] = item1b"
      ],
      "execution_count": null,
      "outputs": []
    },
    {
      "cell_type": "code",
      "metadata": {
        "id": "jntXrWc_8Kw8"
      },
      "source": [
        "support1a = []\n",
        "support2a = []\n",
        "support12a = []\n",
        "confidence12a = []\n",
        "lift12a = []\n",
        "for i in range(len(temporaryVar1)):\n",
        "    support1a.append(apItemsets1[1][tuple([temporaryVar1['itemA'][i],])] / 500000)\n",
        "    support2a.append(apItemsets1[1][tuple([temporaryVar1['itemB'][i],])] / 500000)\n",
        "    if tuple([temporaryVar1['itemA'][i],temporaryVar1['itemB'][i]]) in apItemsets1[2].keys():\n",
        "        support12a.append(apItemsets1[2][tuple([temporaryVar1['itemA'][i],temporaryVar1['itemB'][i]])] / 500000)\n",
        "    else:\n",
        "        support12a.append(apItemsets1[2][tuple([temporaryVar1['itemB'][i],temporaryVar1['itemA'][i]])] / 500000)\n",
        "    confidence12a.append(support12a[i] / support1a[i])\n",
        "    lift12a.append(support12a[i] / (support1a[i] * support2a[i]))"
      ],
      "execution_count": null,
      "outputs": []
    },
    {
      "cell_type": "code",
      "metadata": {
        "id": "ZNddO7_78Kw8"
      },
      "source": [
        "apDfRules1 = pd.DataFrame()\n",
        "apDfRules1['product_id'] = item1a\n",
        "apDfRules1 = apDfRules1.merge(products, on = 'product_id', how = 'left')\n",
        "apDfRules1['Product_A'] = apDfRules1['product_name']\n",
        "apDfRules1 = apDfRules1.drop(columns = ['product_id','product_name','aisle_id','department_id'], axis = 1)\n",
        "apDfRules1['product_id'] = item1b\n",
        "apDfRules1 = apDfRules1.merge(products, on = 'product_id', how = 'left')\n",
        "apDfRules1['Product_B'] = apDfRules1['product_name']\n",
        "apDfRules1 = apDfRules1.drop(columns = ['product_id','product_name','aisle_id','department_id'], axis = 1)\n",
        "apDfRules1['Support_A'] = support1a\n",
        "apDfRules1['Support_B'] = support2a\n",
        "apDfRules1['Support_AB'] = support12a\n",
        "apDfRules1['Confidence_AB'] = confidence12a\n",
        "apDfRules1['Lift_AB'] = lift12a"
      ],
      "execution_count": null,
      "outputs": []
    },
    {
      "cell_type": "code",
      "metadata": {
        "id": "IFZWz9k78Kw8",
        "outputId": "adf8b394-2c9e-48ff-dcef-d8f04328c80c"
      },
      "source": [
        "apDfRules1.sort_values(by = 'Confidence_AB', ascending = False).head(10)"
      ],
      "execution_count": null,
      "outputs": [
        {
          "output_type": "execute_result",
          "data": {
            "text/html": [
              "<div>\n",
              "<style scoped>\n",
              "    .dataframe tbody tr th:only-of-type {\n",
              "        vertical-align: middle;\n",
              "    }\n",
              "\n",
              "    .dataframe tbody tr th {\n",
              "        vertical-align: top;\n",
              "    }\n",
              "\n",
              "    .dataframe thead th {\n",
              "        text-align: right;\n",
              "    }\n",
              "</style>\n",
              "<table border=\"1\" class=\"dataframe\">\n",
              "  <thead>\n",
              "    <tr style=\"text-align: right;\">\n",
              "      <th></th>\n",
              "      <th>Product_A</th>\n",
              "      <th>Product_B</th>\n",
              "      <th>Support_A</th>\n",
              "      <th>Support_B</th>\n",
              "      <th>Support_AB</th>\n",
              "      <th>Confidence_AB</th>\n",
              "      <th>Lift_AB</th>\n",
              "    </tr>\n",
              "  </thead>\n",
              "  <tbody>\n",
              "    <tr>\n",
              "      <th>16</th>\n",
              "      <td>Organic Fuji Apple</td>\n",
              "      <td>Banana</td>\n",
              "      <td>0.027942</td>\n",
              "      <td>0.147194</td>\n",
              "      <td>0.010630</td>\n",
              "      <td>0.380431</td>\n",
              "      <td>2.584554</td>\n",
              "    </tr>\n",
              "    <tr>\n",
              "      <th>19</th>\n",
              "      <td>Honeycrisp Apple</td>\n",
              "      <td>Banana</td>\n",
              "      <td>0.024774</td>\n",
              "      <td>0.147194</td>\n",
              "      <td>0.008832</td>\n",
              "      <td>0.356503</td>\n",
              "      <td>2.421993</td>\n",
              "    </tr>\n",
              "    <tr>\n",
              "      <th>6</th>\n",
              "      <td>Cucumber Kirby</td>\n",
              "      <td>Banana</td>\n",
              "      <td>0.030218</td>\n",
              "      <td>0.147194</td>\n",
              "      <td>0.010024</td>\n",
              "      <td>0.331723</td>\n",
              "      <td>2.253644</td>\n",
              "    </tr>\n",
              "    <tr>\n",
              "      <th>27</th>\n",
              "      <td>Organic Large Extra Fancy Fuji Apple</td>\n",
              "      <td>Bag of Organic Bananas</td>\n",
              "      <td>0.023374</td>\n",
              "      <td>0.117802</td>\n",
              "      <td>0.007330</td>\n",
              "      <td>0.313596</td>\n",
              "      <td>2.662063</td>\n",
              "    </tr>\n",
              "    <tr>\n",
              "      <th>4</th>\n",
              "      <td>Organic Avocado</td>\n",
              "      <td>Banana</td>\n",
              "      <td>0.054564</td>\n",
              "      <td>0.147194</td>\n",
              "      <td>0.016328</td>\n",
              "      <td>0.299245</td>\n",
              "      <td>2.032997</td>\n",
              "    </tr>\n",
              "    <tr>\n",
              "      <th>35</th>\n",
              "      <td>Seedless Red Grapes</td>\n",
              "      <td>Banana</td>\n",
              "      <td>0.026054</td>\n",
              "      <td>0.147194</td>\n",
              "      <td>0.007750</td>\n",
              "      <td>0.297459</td>\n",
              "      <td>2.020864</td>\n",
              "    </tr>\n",
              "    <tr>\n",
              "      <th>2</th>\n",
              "      <td>Yellow Onions</td>\n",
              "      <td>Banana</td>\n",
              "      <td>0.022814</td>\n",
              "      <td>0.147194</td>\n",
              "      <td>0.006750</td>\n",
              "      <td>0.295871</td>\n",
              "      <td>2.010075</td>\n",
              "    </tr>\n",
              "    <tr>\n",
              "      <th>0</th>\n",
              "      <td>Organic Raspberries</td>\n",
              "      <td>Bag of Organic Bananas</td>\n",
              "      <td>0.042334</td>\n",
              "      <td>0.117802</td>\n",
              "      <td>0.012428</td>\n",
              "      <td>0.293570</td>\n",
              "      <td>2.492064</td>\n",
              "    </tr>\n",
              "    <tr>\n",
              "      <th>20</th>\n",
              "      <td>Blueberries</td>\n",
              "      <td>Banana</td>\n",
              "      <td>0.017674</td>\n",
              "      <td>0.147194</td>\n",
              "      <td>0.005186</td>\n",
              "      <td>0.293425</td>\n",
              "      <td>1.993460</td>\n",
              "    </tr>\n",
              "    <tr>\n",
              "      <th>1</th>\n",
              "      <td>Organic Hass Avocado</td>\n",
              "      <td>Bag of Organic Bananas</td>\n",
              "      <td>0.066218</td>\n",
              "      <td>0.117802</td>\n",
              "      <td>0.019260</td>\n",
              "      <td>0.290857</td>\n",
              "      <td>2.469037</td>\n",
              "    </tr>\n",
              "  </tbody>\n",
              "</table>\n",
              "</div>"
            ],
            "text/plain": [
              "                               Product_A               Product_B  Support_A  \\\n",
              "16                    Organic Fuji Apple                  Banana   0.027942   \n",
              "19                      Honeycrisp Apple                  Banana   0.024774   \n",
              "6                         Cucumber Kirby                  Banana   0.030218   \n",
              "27  Organic Large Extra Fancy Fuji Apple  Bag of Organic Bananas   0.023374   \n",
              "4                        Organic Avocado                  Banana   0.054564   \n",
              "35                   Seedless Red Grapes                  Banana   0.026054   \n",
              "2                          Yellow Onions                  Banana   0.022814   \n",
              "0                    Organic Raspberries  Bag of Organic Bananas   0.042334   \n",
              "20                           Blueberries                  Banana   0.017674   \n",
              "1                   Organic Hass Avocado  Bag of Organic Bananas   0.066218   \n",
              "\n",
              "    Support_B  Support_AB  Confidence_AB   Lift_AB  \n",
              "16   0.147194    0.010630       0.380431  2.584554  \n",
              "19   0.147194    0.008832       0.356503  2.421993  \n",
              "6    0.147194    0.010024       0.331723  2.253644  \n",
              "27   0.117802    0.007330       0.313596  2.662063  \n",
              "4    0.147194    0.016328       0.299245  2.032997  \n",
              "35   0.147194    0.007750       0.297459  2.020864  \n",
              "2    0.147194    0.006750       0.295871  2.010075  \n",
              "0    0.117802    0.012428       0.293570  2.492064  \n",
              "20   0.147194    0.005186       0.293425  1.993460  \n",
              "1    0.117802    0.019260       0.290857  2.469037  "
            ]
          },
          "metadata": {
            "tags": []
          },
          "execution_count": 142
        }
      ]
    },
    {
      "cell_type": "code",
      "metadata": {
        "id": "4ycRyseN8Kw8",
        "outputId": "3816b880-5c30-43b2-a7f3-2b797030851e"
      },
      "source": [
        "apDfRules1.sort_values(by = 'Lift_AB', ascending = False).head(10)"
      ],
      "execution_count": null,
      "outputs": [
        {
          "output_type": "execute_result",
          "data": {
            "text/html": [
              "<div>\n",
              "<style scoped>\n",
              "    .dataframe tbody tr th:only-of-type {\n",
              "        vertical-align: middle;\n",
              "    }\n",
              "\n",
              "    .dataframe tbody tr th {\n",
              "        vertical-align: top;\n",
              "    }\n",
              "\n",
              "    .dataframe thead th {\n",
              "        text-align: right;\n",
              "    }\n",
              "</style>\n",
              "<table border=\"1\" class=\"dataframe\">\n",
              "  <thead>\n",
              "    <tr style=\"text-align: right;\">\n",
              "      <th></th>\n",
              "      <th>Product_A</th>\n",
              "      <th>Product_B</th>\n",
              "      <th>Support_A</th>\n",
              "      <th>Support_B</th>\n",
              "      <th>Support_AB</th>\n",
              "      <th>Confidence_AB</th>\n",
              "      <th>Lift_AB</th>\n",
              "    </tr>\n",
              "  </thead>\n",
              "  <tbody>\n",
              "    <tr>\n",
              "      <th>15</th>\n",
              "      <td>Organic Cilantro</td>\n",
              "      <td>Limes</td>\n",
              "      <td>0.021334</td>\n",
              "      <td>0.043640</td>\n",
              "      <td>0.005342</td>\n",
              "      <td>0.250398</td>\n",
              "      <td>5.737819</td>\n",
              "    </tr>\n",
              "    <tr>\n",
              "      <th>18</th>\n",
              "      <td>Organic Garlic</td>\n",
              "      <td>Organic Yellow Onion</td>\n",
              "      <td>0.034158</td>\n",
              "      <td>0.035306</td>\n",
              "      <td>0.006868</td>\n",
              "      <td>0.201066</td>\n",
              "      <td>5.694942</td>\n",
              "    </tr>\n",
              "    <tr>\n",
              "      <th>7</th>\n",
              "      <td>Organic Lemon</td>\n",
              "      <td>Organic Hass Avocado</td>\n",
              "      <td>0.027242</td>\n",
              "      <td>0.066218</td>\n",
              "      <td>0.006534</td>\n",
              "      <td>0.239850</td>\n",
              "      <td>3.622130</td>\n",
              "    </tr>\n",
              "    <tr>\n",
              "      <th>24</th>\n",
              "      <td>Organic Cucumber</td>\n",
              "      <td>Organic Hass Avocado</td>\n",
              "      <td>0.025056</td>\n",
              "      <td>0.066218</td>\n",
              "      <td>0.005396</td>\n",
              "      <td>0.215358</td>\n",
              "      <td>3.252252</td>\n",
              "    </tr>\n",
              "    <tr>\n",
              "      <th>26</th>\n",
              "      <td>Organic Raspberries</td>\n",
              "      <td>Organic Strawberries</td>\n",
              "      <td>0.042334</td>\n",
              "      <td>0.082550</td>\n",
              "      <td>0.010524</td>\n",
              "      <td>0.248595</td>\n",
              "      <td>3.011442</td>\n",
              "    </tr>\n",
              "    <tr>\n",
              "      <th>30</th>\n",
              "      <td>Organic Blueberries</td>\n",
              "      <td>Organic Strawberries</td>\n",
              "      <td>0.031188</td>\n",
              "      <td>0.082550</td>\n",
              "      <td>0.007284</td>\n",
              "      <td>0.233551</td>\n",
              "      <td>2.829211</td>\n",
              "    </tr>\n",
              "    <tr>\n",
              "      <th>27</th>\n",
              "      <td>Organic Large Extra Fancy Fuji Apple</td>\n",
              "      <td>Bag of Organic Bananas</td>\n",
              "      <td>0.023374</td>\n",
              "      <td>0.117802</td>\n",
              "      <td>0.007330</td>\n",
              "      <td>0.313596</td>\n",
              "      <td>2.662063</td>\n",
              "    </tr>\n",
              "    <tr>\n",
              "      <th>16</th>\n",
              "      <td>Organic Fuji Apple</td>\n",
              "      <td>Banana</td>\n",
              "      <td>0.027942</td>\n",
              "      <td>0.147194</td>\n",
              "      <td>0.010630</td>\n",
              "      <td>0.380431</td>\n",
              "      <td>2.584554</td>\n",
              "    </tr>\n",
              "    <tr>\n",
              "      <th>0</th>\n",
              "      <td>Organic Raspberries</td>\n",
              "      <td>Bag of Organic Bananas</td>\n",
              "      <td>0.042334</td>\n",
              "      <td>0.117802</td>\n",
              "      <td>0.012428</td>\n",
              "      <td>0.293570</td>\n",
              "      <td>2.492064</td>\n",
              "    </tr>\n",
              "    <tr>\n",
              "      <th>33</th>\n",
              "      <td>Organic Cucumber</td>\n",
              "      <td>Organic Strawberries</td>\n",
              "      <td>0.025056</td>\n",
              "      <td>0.082550</td>\n",
              "      <td>0.005138</td>\n",
              "      <td>0.205061</td>\n",
              "      <td>2.484078</td>\n",
              "    </tr>\n",
              "  </tbody>\n",
              "</table>\n",
              "</div>"
            ],
            "text/plain": [
              "                               Product_A               Product_B  Support_A  \\\n",
              "15                      Organic Cilantro                   Limes   0.021334   \n",
              "18                        Organic Garlic    Organic Yellow Onion   0.034158   \n",
              "7                          Organic Lemon    Organic Hass Avocado   0.027242   \n",
              "24                      Organic Cucumber    Organic Hass Avocado   0.025056   \n",
              "26                   Organic Raspberries    Organic Strawberries   0.042334   \n",
              "30                   Organic Blueberries    Organic Strawberries   0.031188   \n",
              "27  Organic Large Extra Fancy Fuji Apple  Bag of Organic Bananas   0.023374   \n",
              "16                    Organic Fuji Apple                  Banana   0.027942   \n",
              "0                    Organic Raspberries  Bag of Organic Bananas   0.042334   \n",
              "33                      Organic Cucumber    Organic Strawberries   0.025056   \n",
              "\n",
              "    Support_B  Support_AB  Confidence_AB   Lift_AB  \n",
              "15   0.043640    0.005342       0.250398  5.737819  \n",
              "18   0.035306    0.006868       0.201066  5.694942  \n",
              "7    0.066218    0.006534       0.239850  3.622130  \n",
              "24   0.066218    0.005396       0.215358  3.252252  \n",
              "26   0.082550    0.010524       0.248595  3.011442  \n",
              "30   0.082550    0.007284       0.233551  2.829211  \n",
              "27   0.117802    0.007330       0.313596  2.662063  \n",
              "16   0.147194    0.010630       0.380431  2.584554  \n",
              "0    0.117802    0.012428       0.293570  2.492064  \n",
              "33   0.082550    0.005138       0.205061  2.484078  "
            ]
          },
          "metadata": {
            "tags": []
          },
          "execution_count": 143
        }
      ]
    },
    {
      "cell_type": "markdown",
      "metadata": {
        "id": "DEi12Fhr8Kw8"
      },
      "source": [
        "# Implementation of FP-Growth"
      ]
    },
    {
      "cell_type": "markdown",
      "metadata": {
        "id": "K0RBD18d8Kw8"
      },
      "source": [
        "### With support = 0.01 and Confidence = 0.2"
      ]
    },
    {
      "cell_type": "code",
      "metadata": {
        "id": "nETGcjWx8Kw8",
        "outputId": "ea5c3d95-9e90-494c-e6b8-12a35979609a"
      },
      "source": [
        "supportMin = 0.01 * 500000\n",
        "\n",
        "t = datetime.now()\n",
        "pattern = fpg.find_frequent_patterns(transaction['Products'][:500000].tolist(), supportMin)\n",
        "rule = fpg.generate_association_rules(pattern, 0.2)\n",
        "print('Execution time : ', datetime.now() - t)"
      ],
      "execution_count": null,
      "outputs": [
        {
          "output_type": "stream",
          "text": [
            "Execution time :  0:02:37.893029\n"
          ],
          "name": "stdout"
        }
      ]
    },
    {
      "cell_type": "code",
      "metadata": {
        "id": "ZxVjYn7d8Kw8",
        "outputId": "7859a331-0e1f-4851-9e69-2661ee68e1e8"
      },
      "source": [
        "rule"
      ],
      "execution_count": null,
      "outputs": [
        {
          "output_type": "execute_result",
          "data": {
            "text/plain": [
              "{(28204,): ((24852,), 0.38043089256316653),\n",
              " (49683,): ((24852,), 0.33172281421669203),\n",
              " (16797,): ((24852,), 0.2899586479683567),\n",
              " (47626,): ((24852,), 0.26597929502493817),\n",
              " (47766,): ((24852,), 0.29924492339271314)}"
            ]
          },
          "metadata": {
            "tags": []
          },
          "execution_count": 61
        }
      ]
    },
    {
      "cell_type": "code",
      "metadata": {
        "id": "YW6-e_yD8Kw9"
      },
      "source": [
        "item1b = [i for i in rule.keys()]\n",
        "item2b = [i[0] for i in rule.values()]\n",
        "support1b = []\n",
        "support2b = []\n",
        "support12b = []\n",
        "confidence12b = []\n",
        "lift12b = []\n",
        "for i in range(len(item1b)):\n",
        "    support1b.append(pattern[item1b[i]] / 500000)\n",
        "    support2b.append(pattern[item2b[i]] / 500000)\n",
        "    if tuple([list(item1b[i])[0],list(item2b[i])[0]]) in pattern.keys():\n",
        "        support12b.append( pattern[tuple([list(item1b[i])[0],list(item2b[i])[0]])] / 500000)\n",
        "    else:\n",
        "        support12b.append( pattern[tuple([list(item2b[i])[0],list(item1b[i])[0]])] / 500000)\n",
        "    confidence12b.append(support12b[i] / support1b[i])\n",
        "    lift12b.append(support12b[i] / (support1b[i] * support2b[i]))"
      ],
      "execution_count": null,
      "outputs": []
    },
    {
      "cell_type": "code",
      "metadata": {
        "id": "VJhoTfmz8Kw9"
      },
      "source": [
        "apDfRules2 = pd.DataFrame()\n",
        "apDfRules2['product_id'] = [list(i)[0] for i in item1b]\n",
        "apDfRules2 = apDfRules2.merge(products, on = 'product_id', how = 'left')\n",
        "apDfRules2['Product_A'] = apDfRules2['product_name']\n",
        "apDfRules2 = apDfRules2.drop(columns = ['product_id','product_name','aisle_id','department_id'], axis = 1)\n",
        "apDfRules2['product_id'] = [list(i)[0] for i in item2b]\n",
        "apDfRules2 = apDfRules2.merge(products, on = 'product_id', how = 'left')\n",
        "apDfRules2['Product_B'] = apDfRules2['product_name']\n",
        "apDfRules2 = apDfRules2.drop(columns = ['product_id','product_name','aisle_id','department_id'], axis = 1)\n",
        "apDfRules2['Support_A'] = support1b\n",
        "apDfRules2['Support_B'] = support2b\n",
        "apDfRules2['Support_AB'] = support12b\n",
        "apDfRules2['Confidence_AB'] = confidence12b\n",
        "apDfRules2['Lift_AB'] = lift12b"
      ],
      "execution_count": null,
      "outputs": []
    },
    {
      "cell_type": "code",
      "metadata": {
        "id": "cJ-vgwlK8Kw9",
        "outputId": "54e190a9-de78-4581-9969-17eaeffb2a3d"
      },
      "source": [
        "apDfRules2.sort_values(by = 'Confidence_AB', ascending = False)"
      ],
      "execution_count": null,
      "outputs": [
        {
          "output_type": "execute_result",
          "data": {
            "text/html": [
              "<div>\n",
              "<style scoped>\n",
              "    .dataframe tbody tr th:only-of-type {\n",
              "        vertical-align: middle;\n",
              "    }\n",
              "\n",
              "    .dataframe tbody tr th {\n",
              "        vertical-align: top;\n",
              "    }\n",
              "\n",
              "    .dataframe thead th {\n",
              "        text-align: right;\n",
              "    }\n",
              "</style>\n",
              "<table border=\"1\" class=\"dataframe\">\n",
              "  <thead>\n",
              "    <tr style=\"text-align: right;\">\n",
              "      <th></th>\n",
              "      <th>Product_A</th>\n",
              "      <th>Product_B</th>\n",
              "      <th>Support_A</th>\n",
              "      <th>Support_B</th>\n",
              "      <th>Support_AB</th>\n",
              "      <th>Confidence_AB</th>\n",
              "      <th>Lift_AB</th>\n",
              "    </tr>\n",
              "  </thead>\n",
              "  <tbody>\n",
              "    <tr>\n",
              "      <th>0</th>\n",
              "      <td>Organic Fuji Apple</td>\n",
              "      <td>Banana</td>\n",
              "      <td>0.027942</td>\n",
              "      <td>0.147194</td>\n",
              "      <td>0.010630</td>\n",
              "      <td>0.380431</td>\n",
              "      <td>2.584554</td>\n",
              "    </tr>\n",
              "    <tr>\n",
              "      <th>1</th>\n",
              "      <td>Cucumber Kirby</td>\n",
              "      <td>Banana</td>\n",
              "      <td>0.030218</td>\n",
              "      <td>0.147194</td>\n",
              "      <td>0.010024</td>\n",
              "      <td>0.331723</td>\n",
              "      <td>2.253644</td>\n",
              "    </tr>\n",
              "    <tr>\n",
              "      <th>4</th>\n",
              "      <td>Organic Avocado</td>\n",
              "      <td>Banana</td>\n",
              "      <td>0.054564</td>\n",
              "      <td>0.147194</td>\n",
              "      <td>0.016328</td>\n",
              "      <td>0.299245</td>\n",
              "      <td>2.032997</td>\n",
              "    </tr>\n",
              "    <tr>\n",
              "      <th>2</th>\n",
              "      <td>Strawberries</td>\n",
              "      <td>Banana</td>\n",
              "      <td>0.044496</td>\n",
              "      <td>0.147194</td>\n",
              "      <td>0.012902</td>\n",
              "      <td>0.289959</td>\n",
              "      <td>1.969908</td>\n",
              "    </tr>\n",
              "    <tr>\n",
              "      <th>3</th>\n",
              "      <td>Large Lemon</td>\n",
              "      <td>Banana</td>\n",
              "      <td>0.047718</td>\n",
              "      <td>0.147194</td>\n",
              "      <td>0.012692</td>\n",
              "      <td>0.265979</td>\n",
              "      <td>1.806998</td>\n",
              "    </tr>\n",
              "  </tbody>\n",
              "</table>\n",
              "</div>"
            ],
            "text/plain": [
              "            Product_A Product_B  Support_A  Support_B  Support_AB  \\\n",
              "0  Organic Fuji Apple    Banana   0.027942   0.147194    0.010630   \n",
              "1      Cucumber Kirby    Banana   0.030218   0.147194    0.010024   \n",
              "4     Organic Avocado    Banana   0.054564   0.147194    0.016328   \n",
              "2        Strawberries    Banana   0.044496   0.147194    0.012902   \n",
              "3         Large Lemon    Banana   0.047718   0.147194    0.012692   \n",
              "\n",
              "   Confidence_AB   Lift_AB  \n",
              "0       0.380431  2.584554  \n",
              "1       0.331723  2.253644  \n",
              "4       0.299245  2.032997  \n",
              "2       0.289959  1.969908  \n",
              "3       0.265979  1.806998  "
            ]
          },
          "metadata": {
            "tags": []
          },
          "execution_count": 169
        }
      ]
    },
    {
      "cell_type": "code",
      "metadata": {
        "id": "GB4Po2KE8Kw9",
        "outputId": "61744cbc-e1f9-4c27-9892-7bd332fbf0a8"
      },
      "source": [
        "apDfRules2.sort_values(by = 'Lift_AB', ascending = False)"
      ],
      "execution_count": null,
      "outputs": [
        {
          "output_type": "execute_result",
          "data": {
            "text/html": [
              "<div>\n",
              "<style scoped>\n",
              "    .dataframe tbody tr th:only-of-type {\n",
              "        vertical-align: middle;\n",
              "    }\n",
              "\n",
              "    .dataframe tbody tr th {\n",
              "        vertical-align: top;\n",
              "    }\n",
              "\n",
              "    .dataframe thead th {\n",
              "        text-align: right;\n",
              "    }\n",
              "</style>\n",
              "<table border=\"1\" class=\"dataframe\">\n",
              "  <thead>\n",
              "    <tr style=\"text-align: right;\">\n",
              "      <th></th>\n",
              "      <th>Product_A</th>\n",
              "      <th>Product_B</th>\n",
              "      <th>Support_A</th>\n",
              "      <th>Support_B</th>\n",
              "      <th>Support_AB</th>\n",
              "      <th>Confidence_AB</th>\n",
              "      <th>Lift_AB</th>\n",
              "    </tr>\n",
              "  </thead>\n",
              "  <tbody>\n",
              "    <tr>\n",
              "      <th>0</th>\n",
              "      <td>Organic Fuji Apple</td>\n",
              "      <td>Banana</td>\n",
              "      <td>0.027942</td>\n",
              "      <td>0.147194</td>\n",
              "      <td>0.010630</td>\n",
              "      <td>0.380431</td>\n",
              "      <td>2.584554</td>\n",
              "    </tr>\n",
              "    <tr>\n",
              "      <th>1</th>\n",
              "      <td>Cucumber Kirby</td>\n",
              "      <td>Banana</td>\n",
              "      <td>0.030218</td>\n",
              "      <td>0.147194</td>\n",
              "      <td>0.010024</td>\n",
              "      <td>0.331723</td>\n",
              "      <td>2.253644</td>\n",
              "    </tr>\n",
              "    <tr>\n",
              "      <th>4</th>\n",
              "      <td>Organic Avocado</td>\n",
              "      <td>Banana</td>\n",
              "      <td>0.054564</td>\n",
              "      <td>0.147194</td>\n",
              "      <td>0.016328</td>\n",
              "      <td>0.299245</td>\n",
              "      <td>2.032997</td>\n",
              "    </tr>\n",
              "    <tr>\n",
              "      <th>2</th>\n",
              "      <td>Strawberries</td>\n",
              "      <td>Banana</td>\n",
              "      <td>0.044496</td>\n",
              "      <td>0.147194</td>\n",
              "      <td>0.012902</td>\n",
              "      <td>0.289959</td>\n",
              "      <td>1.969908</td>\n",
              "    </tr>\n",
              "    <tr>\n",
              "      <th>3</th>\n",
              "      <td>Large Lemon</td>\n",
              "      <td>Banana</td>\n",
              "      <td>0.047718</td>\n",
              "      <td>0.147194</td>\n",
              "      <td>0.012692</td>\n",
              "      <td>0.265979</td>\n",
              "      <td>1.806998</td>\n",
              "    </tr>\n",
              "  </tbody>\n",
              "</table>\n",
              "</div>"
            ],
            "text/plain": [
              "            Product_A Product_B  Support_A  Support_B  Support_AB  \\\n",
              "0  Organic Fuji Apple    Banana   0.027942   0.147194    0.010630   \n",
              "1      Cucumber Kirby    Banana   0.030218   0.147194    0.010024   \n",
              "4     Organic Avocado    Banana   0.054564   0.147194    0.016328   \n",
              "2        Strawberries    Banana   0.044496   0.147194    0.012902   \n",
              "3         Large Lemon    Banana   0.047718   0.147194    0.012692   \n",
              "\n",
              "   Confidence_AB   Lift_AB  \n",
              "0       0.380431  2.584554  \n",
              "1       0.331723  2.253644  \n",
              "4       0.299245  2.032997  \n",
              "2       0.289959  1.969908  \n",
              "3       0.265979  1.806998  "
            ]
          },
          "metadata": {
            "tags": []
          },
          "execution_count": 170
        }
      ]
    },
    {
      "cell_type": "code",
      "metadata": {
        "id": "cI2poCGu8Kw9"
      },
      "source": [],
      "execution_count": null,
      "outputs": []
    },
    {
      "cell_type": "markdown",
      "metadata": {
        "id": "k_rKmq5y8Kw9"
      },
      "source": [
        "### With support = 0.005 and Confidence = 0.2"
      ]
    },
    {
      "cell_type": "code",
      "metadata": {
        "id": "7SMVa8_C8Kw9",
        "outputId": "3446961d-5b23-4821-c37c-1bd8bf218b7a"
      },
      "source": [
        "supportMin = 0.005 * 500000\n",
        "\n",
        "t = datetime.now()\n",
        "pattern1 = fpg.find_frequent_patterns(transaction['Products'][:500000].tolist(), supportMin)\n",
        "rule1 = fpg.generate_association_rules(pattern1, 0.2)\n",
        "print('Execution time : ', datetime.now() - t)"
      ],
      "execution_count": null,
      "outputs": [
        {
          "output_type": "stream",
          "text": [
            "Execution time :  0:05:12.664917\n"
          ],
          "name": "stdout"
        }
      ]
    },
    {
      "cell_type": "code",
      "metadata": {
        "id": "EJebz0oF8Kw9",
        "outputId": "a6ae8efb-73cf-4a33-c1d8-d4a2e391b97a"
      },
      "source": [
        "rule1"
      ],
      "execution_count": null,
      "outputs": [
        {
          "output_type": "execute_result",
          "data": {
            "text/plain": [
              "{(9076,): ((24852,), 0.29342537060088264),\n",
              " (31717,): ((26209,), 0.2503984250492172),\n",
              " (30489,): ((24852,), 0.25601297180434196),\n",
              " (4605,): ((24852,), 0.2958709564302621),\n",
              " (19057,): ((13176,), 0.3135963035851801),\n",
              " (44632,): ((24852,), 0.21126641966992254),\n",
              " (42265,): ((24852,), 0.2234416890080429),\n",
              " (45066,): ((24852,), 0.3565027851780092),\n",
              " (4920,): ((24852,), 0.29745912335917707),\n",
              " (28204,): ((24852,), 0.38043089256316653),\n",
              " (49683,): ((24852,), 0.33172281421669203)}"
            ]
          },
          "metadata": {
            "tags": []
          },
          "execution_count": 63
        }
      ]
    },
    {
      "cell_type": "code",
      "metadata": {
        "id": "rQ8boG_G8Kw-"
      },
      "source": [
        "item1c = [i for i in rule1.keys()]\n",
        "item2c = [i[0] for i in rule1.values()]\n",
        "support1c = []\n",
        "support2c = []\n",
        "support12c = []\n",
        "confidence12c = []\n",
        "lift12c = []\n",
        "for i in range(len(item1c)):\n",
        "    support1c.append(pattern1[item1c[i]] / 500000)\n",
        "    if item2c[i] in pattern1.keys():\n",
        "        support2c.append(pattern1[item2c[i]] / 500000)\n",
        "    else:\n",
        "        support2c.append(pattern[item2c[i]] / 500000)\n",
        "    if tuple([list(item1c[i])[0],list(item2c[i])[0]]) in pattern1.keys():\n",
        "        support12c.append( pattern1[tuple([list(item1c[i])[0],list(item2c[i])[0]])] / 500000)\n",
        "    else:\n",
        "        support12c.append( pattern1[tuple([list(item2c[i])[0],list(item1c[i])[0]])] / 500000)\n",
        "    confidence12c.append(support12c[i] / support1c[i])\n",
        "    lift12c.append(support12c[i] / (support1c[i] * support2c[i]))"
      ],
      "execution_count": null,
      "outputs": []
    },
    {
      "cell_type": "code",
      "metadata": {
        "id": "TAojR3be8Kw-"
      },
      "source": [
        "apDfRules3 = pd.DataFrame()\n",
        "apDfRules3['product_id'] = [list(i)[0] for i in item1c]\n",
        "apDfRules3 = apDfRules3.merge(products, on = 'product_id', how = 'left')\n",
        "apDfRules3['Product_A'] = apDfRules3['product_name']\n",
        "apDfRules3 = apDfRules3.drop(columns = ['product_id','product_name','aisle_id','department_id'], axis = 1)\n",
        "apDfRules3['product_id'] = [list(i)[0] for i in item2c]\n",
        "apDfRules3 = apDfRules3.merge(products, on = 'product_id', how = 'left')\n",
        "apDfRules3['Product_B'] = apDfRules3['product_name']\n",
        "apDfRules3 = apDfRules3.drop(columns = ['product_id','product_name','aisle_id','department_id'], axis = 1)\n",
        "apDfRules3['Support_A'] = support1c\n",
        "apDfRules3['Support_B'] = support2c\n",
        "apDfRules3['Support_AB'] = support12c\n",
        "apDfRules3['Confidence_AB'] = confidence12c\n",
        "apDfRules3['Lift_AB'] = lift12c"
      ],
      "execution_count": null,
      "outputs": []
    },
    {
      "cell_type": "code",
      "metadata": {
        "id": "leCwvkkd8Kw-",
        "outputId": "f83bf1c3-ba1d-4c28-9a8e-146825a9e353"
      },
      "source": [
        "apDfRules3.sort_values(by = 'Confidence_AB', ascending = False)"
      ],
      "execution_count": null,
      "outputs": [
        {
          "output_type": "execute_result",
          "data": {
            "text/html": [
              "<div>\n",
              "<style scoped>\n",
              "    .dataframe tbody tr th:only-of-type {\n",
              "        vertical-align: middle;\n",
              "    }\n",
              "\n",
              "    .dataframe tbody tr th {\n",
              "        vertical-align: top;\n",
              "    }\n",
              "\n",
              "    .dataframe thead th {\n",
              "        text-align: right;\n",
              "    }\n",
              "</style>\n",
              "<table border=\"1\" class=\"dataframe\">\n",
              "  <thead>\n",
              "    <tr style=\"text-align: right;\">\n",
              "      <th></th>\n",
              "      <th>Product_A</th>\n",
              "      <th>Product_B</th>\n",
              "      <th>Support_A</th>\n",
              "      <th>Support_B</th>\n",
              "      <th>Support_AB</th>\n",
              "      <th>Confidence_AB</th>\n",
              "      <th>Lift_AB</th>\n",
              "    </tr>\n",
              "  </thead>\n",
              "  <tbody>\n",
              "    <tr>\n",
              "      <th>9</th>\n",
              "      <td>Organic Fuji Apple</td>\n",
              "      <td>Banana</td>\n",
              "      <td>0.027942</td>\n",
              "      <td>0.147194</td>\n",
              "      <td>0.010630</td>\n",
              "      <td>0.380431</td>\n",
              "      <td>2.584554</td>\n",
              "    </tr>\n",
              "    <tr>\n",
              "      <th>7</th>\n",
              "      <td>Honeycrisp Apple</td>\n",
              "      <td>Banana</td>\n",
              "      <td>0.024774</td>\n",
              "      <td>0.147194</td>\n",
              "      <td>0.008832</td>\n",
              "      <td>0.356503</td>\n",
              "      <td>2.421993</td>\n",
              "    </tr>\n",
              "    <tr>\n",
              "      <th>10</th>\n",
              "      <td>Cucumber Kirby</td>\n",
              "      <td>Banana</td>\n",
              "      <td>0.030218</td>\n",
              "      <td>0.147194</td>\n",
              "      <td>0.010024</td>\n",
              "      <td>0.331723</td>\n",
              "      <td>2.253644</td>\n",
              "    </tr>\n",
              "    <tr>\n",
              "      <th>4</th>\n",
              "      <td>Organic Large Extra Fancy Fuji Apple</td>\n",
              "      <td>Bag of Organic Bananas</td>\n",
              "      <td>0.023374</td>\n",
              "      <td>0.117802</td>\n",
              "      <td>0.007330</td>\n",
              "      <td>0.313596</td>\n",
              "      <td>2.662063</td>\n",
              "    </tr>\n",
              "    <tr>\n",
              "      <th>8</th>\n",
              "      <td>Seedless Red Grapes</td>\n",
              "      <td>Banana</td>\n",
              "      <td>0.026054</td>\n",
              "      <td>0.147194</td>\n",
              "      <td>0.007750</td>\n",
              "      <td>0.297459</td>\n",
              "      <td>2.020864</td>\n",
              "    </tr>\n",
              "    <tr>\n",
              "      <th>3</th>\n",
              "      <td>Yellow Onions</td>\n",
              "      <td>Banana</td>\n",
              "      <td>0.022814</td>\n",
              "      <td>0.147194</td>\n",
              "      <td>0.006750</td>\n",
              "      <td>0.295871</td>\n",
              "      <td>2.010075</td>\n",
              "    </tr>\n",
              "    <tr>\n",
              "      <th>0</th>\n",
              "      <td>Blueberries</td>\n",
              "      <td>Banana</td>\n",
              "      <td>0.017674</td>\n",
              "      <td>0.147194</td>\n",
              "      <td>0.005186</td>\n",
              "      <td>0.293425</td>\n",
              "      <td>1.993460</td>\n",
              "    </tr>\n",
              "    <tr>\n",
              "      <th>2</th>\n",
              "      <td>Original Hummus</td>\n",
              "      <td>Banana</td>\n",
              "      <td>0.022202</td>\n",
              "      <td>0.147194</td>\n",
              "      <td>0.005684</td>\n",
              "      <td>0.256013</td>\n",
              "      <td>1.739289</td>\n",
              "    </tr>\n",
              "    <tr>\n",
              "      <th>1</th>\n",
              "      <td>Organic Cilantro</td>\n",
              "      <td>Limes</td>\n",
              "      <td>0.021334</td>\n",
              "      <td>0.043640</td>\n",
              "      <td>0.005342</td>\n",
              "      <td>0.250398</td>\n",
              "      <td>5.737819</td>\n",
              "    </tr>\n",
              "    <tr>\n",
              "      <th>6</th>\n",
              "      <td>Organic Baby Carrots</td>\n",
              "      <td>Banana</td>\n",
              "      <td>0.023872</td>\n",
              "      <td>0.147194</td>\n",
              "      <td>0.005334</td>\n",
              "      <td>0.223442</td>\n",
              "      <td>1.518008</td>\n",
              "    </tr>\n",
              "    <tr>\n",
              "      <th>5</th>\n",
              "      <td>Sparkling Water Grapefruit</td>\n",
              "      <td>Banana</td>\n",
              "      <td>0.023752</td>\n",
              "      <td>0.147194</td>\n",
              "      <td>0.005018</td>\n",
              "      <td>0.211266</td>\n",
              "      <td>1.435292</td>\n",
              "    </tr>\n",
              "  </tbody>\n",
              "</table>\n",
              "</div>"
            ],
            "text/plain": [
              "                               Product_A               Product_B  Support_A  \\\n",
              "9                     Organic Fuji Apple                  Banana   0.027942   \n",
              "7                       Honeycrisp Apple                  Banana   0.024774   \n",
              "10                        Cucumber Kirby                  Banana   0.030218   \n",
              "4   Organic Large Extra Fancy Fuji Apple  Bag of Organic Bananas   0.023374   \n",
              "8                    Seedless Red Grapes                  Banana   0.026054   \n",
              "3                          Yellow Onions                  Banana   0.022814   \n",
              "0                            Blueberries                  Banana   0.017674   \n",
              "2                        Original Hummus                  Banana   0.022202   \n",
              "1                       Organic Cilantro                   Limes   0.021334   \n",
              "6                   Organic Baby Carrots                  Banana   0.023872   \n",
              "5             Sparkling Water Grapefruit                  Banana   0.023752   \n",
              "\n",
              "    Support_B  Support_AB  Confidence_AB   Lift_AB  \n",
              "9    0.147194    0.010630       0.380431  2.584554  \n",
              "7    0.147194    0.008832       0.356503  2.421993  \n",
              "10   0.147194    0.010024       0.331723  2.253644  \n",
              "4    0.117802    0.007330       0.313596  2.662063  \n",
              "8    0.147194    0.007750       0.297459  2.020864  \n",
              "3    0.147194    0.006750       0.295871  2.010075  \n",
              "0    0.147194    0.005186       0.293425  1.993460  \n",
              "2    0.147194    0.005684       0.256013  1.739289  \n",
              "1    0.043640    0.005342       0.250398  5.737819  \n",
              "6    0.147194    0.005334       0.223442  1.518008  \n",
              "5    0.147194    0.005018       0.211266  1.435292  "
            ]
          },
          "metadata": {
            "tags": []
          },
          "execution_count": 189
        }
      ]
    },
    {
      "cell_type": "code",
      "metadata": {
        "scrolled": true,
        "id": "tluIob8x8Kw-",
        "outputId": "587d2e2e-7b22-468a-ee7f-afd9e52fd97b"
      },
      "source": [
        "apDfRules3.sort_values(by = 'Lift_AB', ascending = False)"
      ],
      "execution_count": null,
      "outputs": [
        {
          "output_type": "execute_result",
          "data": {
            "text/html": [
              "<div>\n",
              "<style scoped>\n",
              "    .dataframe tbody tr th:only-of-type {\n",
              "        vertical-align: middle;\n",
              "    }\n",
              "\n",
              "    .dataframe tbody tr th {\n",
              "        vertical-align: top;\n",
              "    }\n",
              "\n",
              "    .dataframe thead th {\n",
              "        text-align: right;\n",
              "    }\n",
              "</style>\n",
              "<table border=\"1\" class=\"dataframe\">\n",
              "  <thead>\n",
              "    <tr style=\"text-align: right;\">\n",
              "      <th></th>\n",
              "      <th>Product_A</th>\n",
              "      <th>Product_B</th>\n",
              "      <th>Support_A</th>\n",
              "      <th>Support_B</th>\n",
              "      <th>Support_AB</th>\n",
              "      <th>Confidence_AB</th>\n",
              "      <th>Lift_AB</th>\n",
              "    </tr>\n",
              "  </thead>\n",
              "  <tbody>\n",
              "    <tr>\n",
              "      <th>1</th>\n",
              "      <td>Organic Cilantro</td>\n",
              "      <td>Limes</td>\n",
              "      <td>0.021334</td>\n",
              "      <td>0.043640</td>\n",
              "      <td>0.005342</td>\n",
              "      <td>0.250398</td>\n",
              "      <td>5.737819</td>\n",
              "    </tr>\n",
              "    <tr>\n",
              "      <th>4</th>\n",
              "      <td>Organic Large Extra Fancy Fuji Apple</td>\n",
              "      <td>Bag of Organic Bananas</td>\n",
              "      <td>0.023374</td>\n",
              "      <td>0.117802</td>\n",
              "      <td>0.007330</td>\n",
              "      <td>0.313596</td>\n",
              "      <td>2.662063</td>\n",
              "    </tr>\n",
              "    <tr>\n",
              "      <th>9</th>\n",
              "      <td>Organic Fuji Apple</td>\n",
              "      <td>Banana</td>\n",
              "      <td>0.027942</td>\n",
              "      <td>0.147194</td>\n",
              "      <td>0.010630</td>\n",
              "      <td>0.380431</td>\n",
              "      <td>2.584554</td>\n",
              "    </tr>\n",
              "    <tr>\n",
              "      <th>7</th>\n",
              "      <td>Honeycrisp Apple</td>\n",
              "      <td>Banana</td>\n",
              "      <td>0.024774</td>\n",
              "      <td>0.147194</td>\n",
              "      <td>0.008832</td>\n",
              "      <td>0.356503</td>\n",
              "      <td>2.421993</td>\n",
              "    </tr>\n",
              "    <tr>\n",
              "      <th>10</th>\n",
              "      <td>Cucumber Kirby</td>\n",
              "      <td>Banana</td>\n",
              "      <td>0.030218</td>\n",
              "      <td>0.147194</td>\n",
              "      <td>0.010024</td>\n",
              "      <td>0.331723</td>\n",
              "      <td>2.253644</td>\n",
              "    </tr>\n",
              "    <tr>\n",
              "      <th>8</th>\n",
              "      <td>Seedless Red Grapes</td>\n",
              "      <td>Banana</td>\n",
              "      <td>0.026054</td>\n",
              "      <td>0.147194</td>\n",
              "      <td>0.007750</td>\n",
              "      <td>0.297459</td>\n",
              "      <td>2.020864</td>\n",
              "    </tr>\n",
              "    <tr>\n",
              "      <th>3</th>\n",
              "      <td>Yellow Onions</td>\n",
              "      <td>Banana</td>\n",
              "      <td>0.022814</td>\n",
              "      <td>0.147194</td>\n",
              "      <td>0.006750</td>\n",
              "      <td>0.295871</td>\n",
              "      <td>2.010075</td>\n",
              "    </tr>\n",
              "    <tr>\n",
              "      <th>0</th>\n",
              "      <td>Blueberries</td>\n",
              "      <td>Banana</td>\n",
              "      <td>0.017674</td>\n",
              "      <td>0.147194</td>\n",
              "      <td>0.005186</td>\n",
              "      <td>0.293425</td>\n",
              "      <td>1.993460</td>\n",
              "    </tr>\n",
              "    <tr>\n",
              "      <th>2</th>\n",
              "      <td>Original Hummus</td>\n",
              "      <td>Banana</td>\n",
              "      <td>0.022202</td>\n",
              "      <td>0.147194</td>\n",
              "      <td>0.005684</td>\n",
              "      <td>0.256013</td>\n",
              "      <td>1.739289</td>\n",
              "    </tr>\n",
              "    <tr>\n",
              "      <th>6</th>\n",
              "      <td>Organic Baby Carrots</td>\n",
              "      <td>Banana</td>\n",
              "      <td>0.023872</td>\n",
              "      <td>0.147194</td>\n",
              "      <td>0.005334</td>\n",
              "      <td>0.223442</td>\n",
              "      <td>1.518008</td>\n",
              "    </tr>\n",
              "    <tr>\n",
              "      <th>5</th>\n",
              "      <td>Sparkling Water Grapefruit</td>\n",
              "      <td>Banana</td>\n",
              "      <td>0.023752</td>\n",
              "      <td>0.147194</td>\n",
              "      <td>0.005018</td>\n",
              "      <td>0.211266</td>\n",
              "      <td>1.435292</td>\n",
              "    </tr>\n",
              "  </tbody>\n",
              "</table>\n",
              "</div>"
            ],
            "text/plain": [
              "                               Product_A               Product_B  Support_A  \\\n",
              "1                       Organic Cilantro                   Limes   0.021334   \n",
              "4   Organic Large Extra Fancy Fuji Apple  Bag of Organic Bananas   0.023374   \n",
              "9                     Organic Fuji Apple                  Banana   0.027942   \n",
              "7                       Honeycrisp Apple                  Banana   0.024774   \n",
              "10                        Cucumber Kirby                  Banana   0.030218   \n",
              "8                    Seedless Red Grapes                  Banana   0.026054   \n",
              "3                          Yellow Onions                  Banana   0.022814   \n",
              "0                            Blueberries                  Banana   0.017674   \n",
              "2                        Original Hummus                  Banana   0.022202   \n",
              "6                   Organic Baby Carrots                  Banana   0.023872   \n",
              "5             Sparkling Water Grapefruit                  Banana   0.023752   \n",
              "\n",
              "    Support_B  Support_AB  Confidence_AB   Lift_AB  \n",
              "1    0.043640    0.005342       0.250398  5.737819  \n",
              "4    0.117802    0.007330       0.313596  2.662063  \n",
              "9    0.147194    0.010630       0.380431  2.584554  \n",
              "7    0.147194    0.008832       0.356503  2.421993  \n",
              "10   0.147194    0.010024       0.331723  2.253644  \n",
              "8    0.147194    0.007750       0.297459  2.020864  \n",
              "3    0.147194    0.006750       0.295871  2.010075  \n",
              "0    0.147194    0.005186       0.293425  1.993460  \n",
              "2    0.147194    0.005684       0.256013  1.739289  \n",
              "6    0.147194    0.005334       0.223442  1.518008  \n",
              "5    0.147194    0.005018       0.211266  1.435292  "
            ]
          },
          "metadata": {
            "tags": []
          },
          "execution_count": 190
        }
      ]
    },
    {
      "cell_type": "markdown",
      "metadata": {
        "id": "qzsNFv4z8Kw-"
      },
      "source": [
        "# Recommender System"
      ]
    },
    {
      "cell_type": "code",
      "metadata": {
        "id": "RLNoRjje8Kw-"
      },
      "source": [
        "from surprise import KNNBasic, SVD, Reader, accuracy, Dataset\n",
        "from surprise.model_selection import cross_validate, train_test_split\n",
        "from collections import defaultdict"
      ],
      "execution_count": null,
      "outputs": []
    },
    {
      "cell_type": "code",
      "metadata": {
        "id": "QzVMOVQl8Kw-"
      },
      "source": [
        "trainMatrix = order_product_train[['user_id','product_name']].iloc[:500000,:]\n",
        "trainMatrix['rating'] = 1"
      ],
      "execution_count": null,
      "outputs": []
    },
    {
      "cell_type": "code",
      "metadata": {
        "id": "Y5tTFRkn8Kw-",
        "outputId": "6fd4d657-6e0f-4376-eb1c-dd49c2fb73ea"
      },
      "source": [
        "trainMatrix.head()"
      ],
      "execution_count": null,
      "outputs": [
        {
          "output_type": "execute_result",
          "data": {
            "text/html": [
              "<div>\n",
              "<style scoped>\n",
              "    .dataframe tbody tr th:only-of-type {\n",
              "        vertical-align: middle;\n",
              "    }\n",
              "\n",
              "    .dataframe tbody tr th {\n",
              "        vertical-align: top;\n",
              "    }\n",
              "\n",
              "    .dataframe thead th {\n",
              "        text-align: right;\n",
              "    }\n",
              "</style>\n",
              "<table border=\"1\" class=\"dataframe\">\n",
              "  <thead>\n",
              "    <tr style=\"text-align: right;\">\n",
              "      <th></th>\n",
              "      <th>user_id</th>\n",
              "      <th>product_name</th>\n",
              "      <th>rating</th>\n",
              "    </tr>\n",
              "  </thead>\n",
              "  <tbody>\n",
              "    <tr>\n",
              "      <th>0</th>\n",
              "      <td>112108</td>\n",
              "      <td>Bulgarian Yogurt</td>\n",
              "      <td>1</td>\n",
              "    </tr>\n",
              "    <tr>\n",
              "      <th>1</th>\n",
              "      <td>112108</td>\n",
              "      <td>Organic 4% Milk Fat Whole Milk Cottage Cheese</td>\n",
              "      <td>1</td>\n",
              "    </tr>\n",
              "    <tr>\n",
              "      <th>2</th>\n",
              "      <td>112108</td>\n",
              "      <td>Organic Celery Hearts</td>\n",
              "      <td>1</td>\n",
              "    </tr>\n",
              "    <tr>\n",
              "      <th>3</th>\n",
              "      <td>112108</td>\n",
              "      <td>Cucumber Kirby</td>\n",
              "      <td>1</td>\n",
              "    </tr>\n",
              "    <tr>\n",
              "      <th>4</th>\n",
              "      <td>112108</td>\n",
              "      <td>Lightly Smoked Sardines in Olive Oil</td>\n",
              "      <td>1</td>\n",
              "    </tr>\n",
              "  </tbody>\n",
              "</table>\n",
              "</div>"
            ],
            "text/plain": [
              "   user_id                                   product_name  rating\n",
              "0   112108                               Bulgarian Yogurt       1\n",
              "1   112108  Organic 4% Milk Fat Whole Milk Cottage Cheese       1\n",
              "2   112108                          Organic Celery Hearts       1\n",
              "3   112108                                 Cucumber Kirby       1\n",
              "4   112108           Lightly Smoked Sardines in Olive Oil       1"
            ]
          },
          "metadata": {
            "tags": []
          },
          "execution_count": 69
        }
      ]
    },
    {
      "cell_type": "code",
      "metadata": {
        "id": "YndZQwz88Kw_"
      },
      "source": [
        "r = Reader()\n",
        "trainData = Dataset.load_from_df(trainMatrix[['user_id', 'product_name', 'rating']], r)"
      ],
      "execution_count": null,
      "outputs": []
    },
    {
      "cell_type": "code",
      "metadata": {
        "id": "kVoDc7lz8Kw_"
      },
      "source": [
        "trainX, testX = train_test_split(trainData, test_size = 0.25, random_state = 0)"
      ],
      "execution_count": null,
      "outputs": []
    },
    {
      "cell_type": "markdown",
      "metadata": {
        "id": "aoth78VL8Kw_"
      },
      "source": [
        "# Collaborative Filtering"
      ]
    },
    {
      "cell_type": "code",
      "metadata": {
        "id": "b3S0QNKM8Kw_"
      },
      "source": [
        "def gettingTopN(predictions, n):\n",
        "    # First map the predictions to each user.\n",
        "    topN = defaultdict(list)\n",
        "    for uid, iid, true_r, est, _ in predictions:\n",
        "        topN[uid].append((iid, est))\n",
        "\n",
        "    # Then sort the predictions for each user and retrieve the k highest ones.\n",
        "    for uid, user_ratings in topN.items():\n",
        "        user_ratings.sort(key=lambda x: x[1], reverse=True)\n",
        "        topN[uid] = user_ratings[:n]\n",
        "\n",
        "    return topN"
      ],
      "execution_count": null,
      "outputs": []
    },
    {
      "cell_type": "markdown",
      "metadata": {
        "id": "WQfI_vZF8Kw_"
      },
      "source": [
        "## PMF"
      ]
    },
    {
      "cell_type": "code",
      "metadata": {
        "id": "ToVlii_48Kw_"
      },
      "source": [
        "# PMF model\n",
        "pmfSVD = SVD(biased = False)"
      ],
      "execution_count": null,
      "outputs": []
    },
    {
      "cell_type": "code",
      "metadata": {
        "id": "DMSdgUjQ8Kw_"
      },
      "source": [
        "pmfCV = cross_validate(pmfSVD, trainData, cv = 5, )"
      ],
      "execution_count": null,
      "outputs": []
    },
    {
      "cell_type": "code",
      "metadata": {
        "id": "e--EYl5T8Kw_",
        "outputId": "e2dfcdf6-6a56-46ef-e267-f119f85a9642"
      },
      "source": [
        "pmfSVD.fit(trainX)"
      ],
      "execution_count": null,
      "outputs": [
        {
          "output_type": "execute_result",
          "data": {
            "text/plain": [
              "<surprise.prediction_algorithms.matrix_factorization.SVD at 0x7fb31107cf70>"
            ]
          },
          "metadata": {
            "tags": []
          },
          "execution_count": 22
        }
      ]
    },
    {
      "cell_type": "code",
      "metadata": {
        "id": "f81f2xu-8Kw_",
        "outputId": "a94a6ad9-3936-4871-95b6-1ae3f79e4a33"
      },
      "source": [
        "pmfPrediction = pmfSVD.test(testX)\n",
        "accuracy.mae(pmfPrediction)\n",
        "accuracy.rmse(pmfPrediction)"
      ],
      "execution_count": null,
      "outputs": [
        {
          "output_type": "stream",
          "text": [
            "MAE:  0.0019\n",
            "RMSE: 0.0182\n"
          ],
          "name": "stdout"
        },
        {
          "output_type": "execute_result",
          "data": {
            "text/plain": [
              "0.018222349534105484"
            ]
          },
          "metadata": {
            "tags": []
          },
          "execution_count": 23
        }
      ]
    },
    {
      "cell_type": "markdown",
      "metadata": {
        "id": "n5ThjRv38KxA"
      },
      "source": [
        "### Top n Recommendations"
      ]
    },
    {
      "cell_type": "code",
      "metadata": {
        "id": "J5kz_goc8KxA",
        "outputId": "2e29589a-a0db-442f-ae65-7fc2a020dfdc"
      },
      "source": [
        "trainMatrix[trainMatrix['user_id'] == 112108]"
      ],
      "execution_count": null,
      "outputs": [
        {
          "output_type": "execute_result",
          "data": {
            "text/html": [
              "<div>\n",
              "<style scoped>\n",
              "    .dataframe tbody tr th:only-of-type {\n",
              "        vertical-align: middle;\n",
              "    }\n",
              "\n",
              "    .dataframe tbody tr th {\n",
              "        vertical-align: top;\n",
              "    }\n",
              "\n",
              "    .dataframe thead th {\n",
              "        text-align: right;\n",
              "    }\n",
              "</style>\n",
              "<table border=\"1\" class=\"dataframe\">\n",
              "  <thead>\n",
              "    <tr style=\"text-align: right;\">\n",
              "      <th></th>\n",
              "      <th>user_id</th>\n",
              "      <th>product_name</th>\n",
              "      <th>rating</th>\n",
              "    </tr>\n",
              "  </thead>\n",
              "  <tbody>\n",
              "    <tr>\n",
              "      <th>0</th>\n",
              "      <td>112108</td>\n",
              "      <td>Bulgarian Yogurt</td>\n",
              "      <td>1</td>\n",
              "    </tr>\n",
              "    <tr>\n",
              "      <th>1</th>\n",
              "      <td>112108</td>\n",
              "      <td>Organic 4% Milk Fat Whole Milk Cottage Cheese</td>\n",
              "      <td>1</td>\n",
              "    </tr>\n",
              "    <tr>\n",
              "      <th>2</th>\n",
              "      <td>112108</td>\n",
              "      <td>Organic Celery Hearts</td>\n",
              "      <td>1</td>\n",
              "    </tr>\n",
              "    <tr>\n",
              "      <th>3</th>\n",
              "      <td>112108</td>\n",
              "      <td>Cucumber Kirby</td>\n",
              "      <td>1</td>\n",
              "    </tr>\n",
              "    <tr>\n",
              "      <th>4</th>\n",
              "      <td>112108</td>\n",
              "      <td>Lightly Smoked Sardines in Olive Oil</td>\n",
              "      <td>1</td>\n",
              "    </tr>\n",
              "    <tr>\n",
              "      <th>5</th>\n",
              "      <td>112108</td>\n",
              "      <td>Bag of Organic Bananas</td>\n",
              "      <td>1</td>\n",
              "    </tr>\n",
              "    <tr>\n",
              "      <th>6</th>\n",
              "      <td>112108</td>\n",
              "      <td>Organic Hass Avocado</td>\n",
              "      <td>1</td>\n",
              "    </tr>\n",
              "    <tr>\n",
              "      <th>7</th>\n",
              "      <td>112108</td>\n",
              "      <td>Organic Whole String Cheese</td>\n",
              "      <td>1</td>\n",
              "    </tr>\n",
              "  </tbody>\n",
              "</table>\n",
              "</div>"
            ],
            "text/plain": [
              "   user_id                                   product_name  rating\n",
              "0   112108                               Bulgarian Yogurt       1\n",
              "1   112108  Organic 4% Milk Fat Whole Milk Cottage Cheese       1\n",
              "2   112108                          Organic Celery Hearts       1\n",
              "3   112108                                 Cucumber Kirby       1\n",
              "4   112108           Lightly Smoked Sardines in Olive Oil       1\n",
              "5   112108                         Bag of Organic Bananas       1\n",
              "6   112108                           Organic Hass Avocado       1\n",
              "7   112108                    Organic Whole String Cheese       1"
            ]
          },
          "metadata": {
            "tags": []
          },
          "execution_count": 24
        }
      ]
    },
    {
      "cell_type": "code",
      "metadata": {
        "id": "jDhTu5Rq8KxA",
        "outputId": "b0cf498c-9a0f-48b5-d201-180556254934"
      },
      "source": [
        "trainMatrix[trainMatrix['user_id'] == 1]"
      ],
      "execution_count": null,
      "outputs": [
        {
          "output_type": "execute_result",
          "data": {
            "text/html": [
              "<div>\n",
              "<style scoped>\n",
              "    .dataframe tbody tr th:only-of-type {\n",
              "        vertical-align: middle;\n",
              "    }\n",
              "\n",
              "    .dataframe tbody tr th {\n",
              "        vertical-align: top;\n",
              "    }\n",
              "\n",
              "    .dataframe thead th {\n",
              "        text-align: right;\n",
              "    }\n",
              "</style>\n",
              "<table border=\"1\" class=\"dataframe\">\n",
              "  <thead>\n",
              "    <tr style=\"text-align: right;\">\n",
              "      <th></th>\n",
              "      <th>user_id</th>\n",
              "      <th>product_name</th>\n",
              "      <th>rating</th>\n",
              "    </tr>\n",
              "  </thead>\n",
              "  <tbody>\n",
              "    <tr>\n",
              "      <th>484420</th>\n",
              "      <td>1</td>\n",
              "      <td>Soda</td>\n",
              "      <td>1</td>\n",
              "    </tr>\n",
              "    <tr>\n",
              "      <th>484421</th>\n",
              "      <td>1</td>\n",
              "      <td>Organic String Cheese</td>\n",
              "      <td>1</td>\n",
              "    </tr>\n",
              "    <tr>\n",
              "      <th>484422</th>\n",
              "      <td>1</td>\n",
              "      <td>0% Greek Strained Yogurt</td>\n",
              "      <td>1</td>\n",
              "    </tr>\n",
              "    <tr>\n",
              "      <th>484423</th>\n",
              "      <td>1</td>\n",
              "      <td>XL Pick-A-Size Paper Towel Rolls</td>\n",
              "      <td>1</td>\n",
              "    </tr>\n",
              "    <tr>\n",
              "      <th>484424</th>\n",
              "      <td>1</td>\n",
              "      <td>Milk Chocolate Almonds</td>\n",
              "      <td>1</td>\n",
              "    </tr>\n",
              "    <tr>\n",
              "      <th>484425</th>\n",
              "      <td>1</td>\n",
              "      <td>Pistachios</td>\n",
              "      <td>1</td>\n",
              "    </tr>\n",
              "    <tr>\n",
              "      <th>484426</th>\n",
              "      <td>1</td>\n",
              "      <td>Cinnamon Toast Crunch</td>\n",
              "      <td>1</td>\n",
              "    </tr>\n",
              "    <tr>\n",
              "      <th>484427</th>\n",
              "      <td>1</td>\n",
              "      <td>Aged White Cheddar Popcorn</td>\n",
              "      <td>1</td>\n",
              "    </tr>\n",
              "    <tr>\n",
              "      <th>484428</th>\n",
              "      <td>1</td>\n",
              "      <td>Organic Whole Milk</td>\n",
              "      <td>1</td>\n",
              "    </tr>\n",
              "    <tr>\n",
              "      <th>484429</th>\n",
              "      <td>1</td>\n",
              "      <td>Organic Half &amp; Half</td>\n",
              "      <td>1</td>\n",
              "    </tr>\n",
              "    <tr>\n",
              "      <th>484430</th>\n",
              "      <td>1</td>\n",
              "      <td>Zero Calorie Cola</td>\n",
              "      <td>1</td>\n",
              "    </tr>\n",
              "  </tbody>\n",
              "</table>\n",
              "</div>"
            ],
            "text/plain": [
              "        user_id                      product_name  rating\n",
              "484420        1                              Soda       1\n",
              "484421        1             Organic String Cheese       1\n",
              "484422        1          0% Greek Strained Yogurt       1\n",
              "484423        1  XL Pick-A-Size Paper Towel Rolls       1\n",
              "484424        1            Milk Chocolate Almonds       1\n",
              "484425        1                        Pistachios       1\n",
              "484426        1             Cinnamon Toast Crunch       1\n",
              "484427        1        Aged White Cheddar Popcorn       1\n",
              "484428        1                Organic Whole Milk       1\n",
              "484429        1               Organic Half & Half       1\n",
              "484430        1                 Zero Calorie Cola       1"
            ]
          },
          "metadata": {
            "tags": []
          },
          "execution_count": 25
        }
      ]
    },
    {
      "cell_type": "code",
      "metadata": {
        "id": "g0VG9NTI8KxA"
      },
      "source": [
        "topN = gettingTopN(pmfPrediction, 10)\n",
        "\n",
        "pmf_pred_dict = {}\n",
        "for uid, user_ratings in topN.items():\n",
        "    pmf_pred_dict[uid] = [iid for (iid, _) in user_ratings]"
      ],
      "execution_count": null,
      "outputs": []
    },
    {
      "cell_type": "code",
      "metadata": {
        "id": "u_DsOUc68KxA",
        "outputId": "6d6679e8-adc7-4c8c-f9d1-388439fdbcbf"
      },
      "source": [
        "pmf_pred_dict[112108]"
      ],
      "execution_count": null,
      "outputs": [
        {
          "output_type": "execute_result",
          "data": {
            "text/plain": [
              "['Organic 4% Milk Fat Whole Milk Cottage Cheese',\n",
              " 'Lightly Smoked Sardines in Olive Oil']"
            ]
          },
          "metadata": {
            "tags": []
          },
          "execution_count": 27
        }
      ]
    },
    {
      "cell_type": "code",
      "metadata": {
        "id": "wNFHyOIg8KxA",
        "outputId": "127411ed-9807-4e91-a02a-9015c095b95e"
      },
      "source": [
        "pmf_pred_dict[1]"
      ],
      "execution_count": null,
      "outputs": [
        {
          "output_type": "execute_result",
          "data": {
            "text/plain": [
              "['Organic String Cheese',\n",
              " 'Cinnamon Toast Crunch',\n",
              " 'Aged White Cheddar Popcorn']"
            ]
          },
          "metadata": {
            "tags": []
          },
          "execution_count": 28
        }
      ]
    },
    {
      "cell_type": "markdown",
      "metadata": {
        "id": "PMkSIhNp8KxA"
      },
      "source": [
        "## User based CF"
      ]
    },
    {
      "cell_type": "code",
      "metadata": {
        "id": "sh2leIt38KxA"
      },
      "source": [
        "cfUserBased = KNNBasic(sim_options={'user_based': True, 'name' : 'cosine'}, verbose = True)"
      ],
      "execution_count": null,
      "outputs": []
    },
    {
      "cell_type": "code",
      "metadata": {
        "id": "u9CDJ-4W8KxB",
        "outputId": "5344dd2e-ec8e-4095-9c1b-2156ab9b3d1b"
      },
      "source": [
        "cfUserBased.fit(trainX)"
      ],
      "execution_count": null,
      "outputs": [
        {
          "output_type": "stream",
          "text": [
            "Computing the cosine similarity matrix...\n",
            "Done computing similarity matrix.\n"
          ],
          "name": "stdout"
        },
        {
          "output_type": "execute_result",
          "data": {
            "text/plain": [
              "<surprise.prediction_algorithms.knns.KNNBasic at 0x7fb29011ebe0>"
            ]
          },
          "metadata": {
            "tags": []
          },
          "execution_count": 16
        }
      ]
    },
    {
      "cell_type": "code",
      "metadata": {
        "id": "4fKzzOf88KxB",
        "outputId": "6409e9f9-cd2f-4836-83c0-3a082d67d464"
      },
      "source": [
        "ubPrediction = cfUserBased.test(testX)\n",
        "accuracy.mae(ubPrediction)\n",
        "accuracy.rmse(ubPrediction)"
      ],
      "execution_count": null,
      "outputs": [
        {
          "output_type": "stream",
          "text": [
            "MAE:  0.0000\n",
            "RMSE: 0.0000\n"
          ],
          "name": "stdout"
        },
        {
          "output_type": "execute_result",
          "data": {
            "text/plain": [
              "0.0"
            ]
          },
          "metadata": {
            "tags": []
          },
          "execution_count": 17
        }
      ]
    },
    {
      "cell_type": "markdown",
      "metadata": {
        "id": "Xs1EWrwR8KxB"
      },
      "source": [
        "### Top N Recommendations"
      ]
    },
    {
      "cell_type": "code",
      "metadata": {
        "id": "MfANpn9e8KxB"
      },
      "source": [
        "topN = gettingTopN(ubPrediction, 10)\n",
        "\n",
        "ub_pred_dict = {}\n",
        "for uid, user_ratings in topN.items():\n",
        "    ub_pred_dict[uid] = [iid for (iid, _) in user_ratings]"
      ],
      "execution_count": null,
      "outputs": []
    },
    {
      "cell_type": "code",
      "metadata": {
        "id": "Q20sYHC78KxB",
        "outputId": "f7f13b3a-e3ae-4bd8-dfc8-86621fa2e479"
      },
      "source": [
        "ub_pred_dict[112108]"
      ],
      "execution_count": null,
      "outputs": [
        {
          "output_type": "execute_result",
          "data": {
            "text/plain": [
              "['Organic 4% Milk Fat Whole Milk Cottage Cheese',\n",
              " 'Lightly Smoked Sardines in Olive Oil']"
            ]
          },
          "metadata": {
            "tags": []
          },
          "execution_count": 19
        }
      ]
    },
    {
      "cell_type": "code",
      "metadata": {
        "id": "oJ-8l2788KxB",
        "outputId": "8a8dbb33-e239-42bb-8d0b-ddf6f9b251aa"
      },
      "source": [
        "ub_pred_dict[1]"
      ],
      "execution_count": null,
      "outputs": [
        {
          "output_type": "execute_result",
          "data": {
            "text/plain": [
              "['Organic String Cheese',\n",
              " 'Cinnamon Toast Crunch',\n",
              " 'Aged White Cheddar Popcorn']"
            ]
          },
          "metadata": {
            "tags": []
          },
          "execution_count": 20
        }
      ]
    },
    {
      "cell_type": "markdown",
      "metadata": {
        "id": "5uQMX6Bl8KxB"
      },
      "source": [
        "## Item based CF"
      ]
    },
    {
      "cell_type": "code",
      "metadata": {
        "id": "It6DTGwq8KxB"
      },
      "source": [
        "cfItemBased = KNNBasic(sim_options={'user_based': False, 'name' : 'cosine'}, verbose = True)"
      ],
      "execution_count": null,
      "outputs": []
    },
    {
      "cell_type": "code",
      "metadata": {
        "id": "lsnNWJrr8KxC",
        "outputId": "c9d15109-155d-4f24-e26a-be11c3a5d07d"
      },
      "source": [
        "cfItemBased.fit(trainX)"
      ],
      "execution_count": null,
      "outputs": [
        {
          "output_type": "stream",
          "text": [
            "Computing the cosine similarity matrix...\n",
            "Done computing similarity matrix.\n"
          ],
          "name": "stdout"
        },
        {
          "output_type": "execute_result",
          "data": {
            "text/plain": [
              "<surprise.prediction_algorithms.knns.KNNBasic at 0x7fb29011ef40>"
            ]
          },
          "metadata": {
            "tags": []
          },
          "execution_count": 10
        }
      ]
    },
    {
      "cell_type": "code",
      "metadata": {
        "id": "CZra2klt8KxC",
        "outputId": "b156a87f-fab6-4ddd-9ea9-5692374a9448"
      },
      "source": [
        "ibPrediction = cfItemBased.test(testX)\n",
        "accuracy.mae(ibPrediction)\n",
        "accuracy.rmse(ibPrediction)"
      ],
      "execution_count": null,
      "outputs": [
        {
          "output_type": "stream",
          "text": [
            "MAE:  0.0000\n",
            "RMSE: 0.0000\n"
          ],
          "name": "stdout"
        },
        {
          "output_type": "execute_result",
          "data": {
            "text/plain": [
              "0.0"
            ]
          },
          "metadata": {
            "tags": []
          },
          "execution_count": 11
        }
      ]
    },
    {
      "cell_type": "markdown",
      "metadata": {
        "id": "S6EtHYj38KxC"
      },
      "source": [
        "### Top N Recommendations"
      ]
    },
    {
      "cell_type": "code",
      "metadata": {
        "id": "7F0n-bGq8KxC"
      },
      "source": [
        "topN = gettingTopN(ibPrediction, 10)\n",
        "\n",
        "ib_pred_dict = {}\n",
        "for uid, user_ratings in topN.items():\n",
        "    ib_pred_dict[uid] = [iid for (iid, _) in user_ratings]"
      ],
      "execution_count": null,
      "outputs": []
    },
    {
      "cell_type": "code",
      "metadata": {
        "id": "oWCWwWgJ8KxC",
        "outputId": "2bdfbf0b-fcbd-435d-8e4f-9a8d1c010706"
      },
      "source": [
        "ib_pred_dict[1]"
      ],
      "execution_count": null,
      "outputs": [
        {
          "output_type": "execute_result",
          "data": {
            "text/plain": [
              "['Organic String Cheese',\n",
              " 'Cinnamon Toast Crunch',\n",
              " 'Aged White Cheddar Popcorn']"
            ]
          },
          "metadata": {
            "tags": []
          },
          "execution_count": 13
        }
      ]
    },
    {
      "cell_type": "code",
      "metadata": {
        "id": "9FJFr12F8KxC",
        "outputId": "21f918dd-34ae-4552-8858-46059b56a88b"
      },
      "source": [
        "ib_pred_dict[112108]"
      ],
      "execution_count": null,
      "outputs": [
        {
          "output_type": "execute_result",
          "data": {
            "text/plain": [
              "['Organic 4% Milk Fat Whole Milk Cottage Cheese',\n",
              " 'Lightly Smoked Sardines in Olive Oil']"
            ]
          },
          "metadata": {
            "tags": []
          },
          "execution_count": 14
        }
      ]
    },
    {
      "cell_type": "markdown",
      "metadata": {
        "id": "IJhnLg8v8KxC"
      },
      "source": [
        "# Classification Models"
      ]
    },
    {
      "cell_type": "code",
      "metadata": {
        "id": "dD7hSOcx8KxD"
      },
      "source": [
        "from sklearn.linear_model import LogisticRegression\n",
        "from sklearn.ensemble import RandomForestClassifier, AdaBoostClassifier, GradientBoostingClassifier\n",
        "from sklearn.svm import LinearSVC, SVC\n",
        "from sklearn.naive_bayes import GaussianNB\n",
        "from sklearn.neighbors import KNeighborsClassifier\n",
        "from sklearn.model_selection import GridSearchCV, train_test_split\n",
        "from sklearn.preprocessing import Normalizer\n",
        "from sklearn.metrics import accuracy_score, log_loss, confusion_matrix, classification_report, plot_confusion_matrix"
      ],
      "execution_count": null,
      "outputs": []
    },
    {
      "cell_type": "code",
      "metadata": {
        "colab": {
          "base_uri": "https://localhost:8080/",
          "height": 360
        },
        "id": "ZJhBVdWB8KxD",
        "outputId": "1a67a220-d7bc-417d-fffb-d9834d13f85a"
      },
      "source": [
        "DataSet = order_products__train.copy(deep = True)\n",
        "DataSet.head()"
      ],
      "execution_count": null,
      "outputs": [
        {
          "output_type": "execute_result",
          "data": {
            "text/html": [
              "<div>\n",
              "<style scoped>\n",
              "    .dataframe tbody tr th:only-of-type {\n",
              "        vertical-align: middle;\n",
              "    }\n",
              "\n",
              "    .dataframe tbody tr th {\n",
              "        vertical-align: top;\n",
              "    }\n",
              "\n",
              "    .dataframe thead th {\n",
              "        text-align: right;\n",
              "    }\n",
              "</style>\n",
              "<table border=\"1\" class=\"dataframe\">\n",
              "  <thead>\n",
              "    <tr style=\"text-align: right;\">\n",
              "      <th></th>\n",
              "      <th>order_id</th>\n",
              "      <th>product_id</th>\n",
              "      <th>add_to_cart_order</th>\n",
              "      <th>reordered</th>\n",
              "      <th>user_id</th>\n",
              "      <th>eval_set</th>\n",
              "      <th>order_number</th>\n",
              "      <th>order_dow</th>\n",
              "      <th>order_hour_of_day</th>\n",
              "      <th>days_since_prior_order</th>\n",
              "      <th>product_name</th>\n",
              "      <th>aisle_id</th>\n",
              "      <th>department_id</th>\n",
              "      <th>aisle</th>\n",
              "      <th>department</th>\n",
              "    </tr>\n",
              "  </thead>\n",
              "  <tbody>\n",
              "    <tr>\n",
              "      <th>0</th>\n",
              "      <td>1</td>\n",
              "      <td>49302</td>\n",
              "      <td>1</td>\n",
              "      <td>1</td>\n",
              "      <td>112108</td>\n",
              "      <td>train</td>\n",
              "      <td>4</td>\n",
              "      <td>4</td>\n",
              "      <td>10</td>\n",
              "      <td>9.0</td>\n",
              "      <td>Bulgarian Yogurt</td>\n",
              "      <td>120</td>\n",
              "      <td>16</td>\n",
              "      <td>yogurt</td>\n",
              "      <td>dairy eggs</td>\n",
              "    </tr>\n",
              "    <tr>\n",
              "      <th>1</th>\n",
              "      <td>1</td>\n",
              "      <td>11109</td>\n",
              "      <td>2</td>\n",
              "      <td>1</td>\n",
              "      <td>112108</td>\n",
              "      <td>train</td>\n",
              "      <td>4</td>\n",
              "      <td>4</td>\n",
              "      <td>10</td>\n",
              "      <td>9.0</td>\n",
              "      <td>Organic 4% Milk Fat Whole Milk Cottage Cheese</td>\n",
              "      <td>108</td>\n",
              "      <td>16</td>\n",
              "      <td>other creams cheeses</td>\n",
              "      <td>dairy eggs</td>\n",
              "    </tr>\n",
              "    <tr>\n",
              "      <th>2</th>\n",
              "      <td>1</td>\n",
              "      <td>10246</td>\n",
              "      <td>3</td>\n",
              "      <td>0</td>\n",
              "      <td>112108</td>\n",
              "      <td>train</td>\n",
              "      <td>4</td>\n",
              "      <td>4</td>\n",
              "      <td>10</td>\n",
              "      <td>9.0</td>\n",
              "      <td>Organic Celery Hearts</td>\n",
              "      <td>83</td>\n",
              "      <td>4</td>\n",
              "      <td>fresh vegetables</td>\n",
              "      <td>produce</td>\n",
              "    </tr>\n",
              "    <tr>\n",
              "      <th>3</th>\n",
              "      <td>1</td>\n",
              "      <td>49683</td>\n",
              "      <td>4</td>\n",
              "      <td>0</td>\n",
              "      <td>112108</td>\n",
              "      <td>train</td>\n",
              "      <td>4</td>\n",
              "      <td>4</td>\n",
              "      <td>10</td>\n",
              "      <td>9.0</td>\n",
              "      <td>Cucumber Kirby</td>\n",
              "      <td>83</td>\n",
              "      <td>4</td>\n",
              "      <td>fresh vegetables</td>\n",
              "      <td>produce</td>\n",
              "    </tr>\n",
              "    <tr>\n",
              "      <th>4</th>\n",
              "      <td>1</td>\n",
              "      <td>43633</td>\n",
              "      <td>5</td>\n",
              "      <td>1</td>\n",
              "      <td>112108</td>\n",
              "      <td>train</td>\n",
              "      <td>4</td>\n",
              "      <td>4</td>\n",
              "      <td>10</td>\n",
              "      <td>9.0</td>\n",
              "      <td>Lightly Smoked Sardines in Olive Oil</td>\n",
              "      <td>95</td>\n",
              "      <td>15</td>\n",
              "      <td>canned meat seafood</td>\n",
              "      <td>canned goods</td>\n",
              "    </tr>\n",
              "  </tbody>\n",
              "</table>\n",
              "</div>"
            ],
            "text/plain": [
              "   order_id  product_id  ...                 aisle    department\n",
              "0         1       49302  ...                yogurt    dairy eggs\n",
              "1         1       11109  ...  other creams cheeses    dairy eggs\n",
              "2         1       10246  ...      fresh vegetables       produce\n",
              "3         1       49683  ...      fresh vegetables       produce\n",
              "4         1       43633  ...   canned meat seafood  canned goods\n",
              "\n",
              "[5 rows x 15 columns]"
            ]
          },
          "metadata": {
            "tags": []
          },
          "execution_count": 6
        }
      ]
    },
    {
      "cell_type": "code",
      "metadata": {
        "id": "AxFqrxEt8KxD"
      },
      "source": [
        "DataSet.drop(['eval_set','product_name','aisle','department'],axis=1,inplace=True)"
      ],
      "execution_count": null,
      "outputs": []
    },
    {
      "cell_type": "code",
      "metadata": {
        "colab": {
          "base_uri": "https://localhost:8080/"
        },
        "id": "m5GMLtXG8KxD",
        "outputId": "e3d37fb0-a181-44c2-ad86-4cdb112777f2"
      },
      "source": [
        "DataSet.isna().sum()"
      ],
      "execution_count": null,
      "outputs": [
        {
          "output_type": "execute_result",
          "data": {
            "text/plain": [
              "order_id                  0\n",
              "product_id                0\n",
              "add_to_cart_order         0\n",
              "reordered                 0\n",
              "user_id                   0\n",
              "order_number              0\n",
              "order_dow                 0\n",
              "order_hour_of_day         0\n",
              "days_since_prior_order    0\n",
              "aisle_id                  0\n",
              "department_id             0\n",
              "dtype: int64"
            ]
          },
          "metadata": {
            "tags": []
          },
          "execution_count": 8
        }
      ]
    },
    {
      "cell_type": "code",
      "metadata": {
        "colab": {
          "base_uri": "https://localhost:8080/",
          "height": 410
        },
        "id": "eWmYbq3y8KxD",
        "outputId": "f0b42d1b-d62d-49b0-e429-659569b5d977"
      },
      "source": [
        "DataSet.corr()"
      ],
      "execution_count": null,
      "outputs": [
        {
          "output_type": "execute_result",
          "data": {
            "text/html": [
              "<div>\n",
              "<style scoped>\n",
              "    .dataframe tbody tr th:only-of-type {\n",
              "        vertical-align: middle;\n",
              "    }\n",
              "\n",
              "    .dataframe tbody tr th {\n",
              "        vertical-align: top;\n",
              "    }\n",
              "\n",
              "    .dataframe thead th {\n",
              "        text-align: right;\n",
              "    }\n",
              "</style>\n",
              "<table border=\"1\" class=\"dataframe\">\n",
              "  <thead>\n",
              "    <tr style=\"text-align: right;\">\n",
              "      <th></th>\n",
              "      <th>order_id</th>\n",
              "      <th>product_id</th>\n",
              "      <th>add_to_cart_order</th>\n",
              "      <th>reordered</th>\n",
              "      <th>user_id</th>\n",
              "      <th>order_number</th>\n",
              "      <th>order_dow</th>\n",
              "      <th>order_hour_of_day</th>\n",
              "      <th>days_since_prior_order</th>\n",
              "      <th>aisle_id</th>\n",
              "      <th>department_id</th>\n",
              "    </tr>\n",
              "  </thead>\n",
              "  <tbody>\n",
              "    <tr>\n",
              "      <th>order_id</th>\n",
              "      <td>1.000000</td>\n",
              "      <td>-0.000545</td>\n",
              "      <td>0.001916</td>\n",
              "      <td>0.001418</td>\n",
              "      <td>-0.000867</td>\n",
              "      <td>0.001522</td>\n",
              "      <td>0.001090</td>\n",
              "      <td>-0.004422</td>\n",
              "      <td>0.002708</td>\n",
              "      <td>-0.000814</td>\n",
              "      <td>0.002708</td>\n",
              "    </tr>\n",
              "    <tr>\n",
              "      <th>product_id</th>\n",
              "      <td>-0.000545</td>\n",
              "      <td>1.000000</td>\n",
              "      <td>0.003128</td>\n",
              "      <td>0.006560</td>\n",
              "      <td>-0.001014</td>\n",
              "      <td>-0.001463</td>\n",
              "      <td>-0.003597</td>\n",
              "      <td>0.001829</td>\n",
              "      <td>0.001036</td>\n",
              "      <td>-0.001932</td>\n",
              "      <td>-0.027212</td>\n",
              "    </tr>\n",
              "    <tr>\n",
              "      <th>add_to_cart_order</th>\n",
              "      <td>0.001916</td>\n",
              "      <td>0.003128</td>\n",
              "      <td>1.000000</td>\n",
              "      <td>-0.146393</td>\n",
              "      <td>0.000739</td>\n",
              "      <td>0.014332</td>\n",
              "      <td>-0.019353</td>\n",
              "      <td>-0.008905</td>\n",
              "      <td>0.017283</td>\n",
              "      <td>0.010887</td>\n",
              "      <td>0.027428</td>\n",
              "    </tr>\n",
              "    <tr>\n",
              "      <th>reordered</th>\n",
              "      <td>0.001418</td>\n",
              "      <td>0.006560</td>\n",
              "      <td>-0.146393</td>\n",
              "      <td>1.000000</td>\n",
              "      <td>-0.004316</td>\n",
              "      <td>0.223947</td>\n",
              "      <td>-0.006714</td>\n",
              "      <td>-0.017840</td>\n",
              "      <td>-0.160152</td>\n",
              "      <td>-0.000172</td>\n",
              "      <td>-0.050294</td>\n",
              "    </tr>\n",
              "    <tr>\n",
              "      <th>user_id</th>\n",
              "      <td>-0.000867</td>\n",
              "      <td>-0.001014</td>\n",
              "      <td>0.000739</td>\n",
              "      <td>-0.004316</td>\n",
              "      <td>1.000000</td>\n",
              "      <td>-0.003715</td>\n",
              "      <td>-0.006746</td>\n",
              "      <td>-0.001239</td>\n",
              "      <td>0.003854</td>\n",
              "      <td>0.000972</td>\n",
              "      <td>-0.000548</td>\n",
              "    </tr>\n",
              "    <tr>\n",
              "      <th>order_number</th>\n",
              "      <td>0.001522</td>\n",
              "      <td>-0.001463</td>\n",
              "      <td>0.014332</td>\n",
              "      <td>0.223947</td>\n",
              "      <td>-0.003715</td>\n",
              "      <td>1.000000</td>\n",
              "      <td>0.024500</td>\n",
              "      <td>-0.026567</td>\n",
              "      <td>-0.403861</td>\n",
              "      <td>-0.002022</td>\n",
              "      <td>-0.001568</td>\n",
              "    </tr>\n",
              "    <tr>\n",
              "      <th>order_dow</th>\n",
              "      <td>0.001090</td>\n",
              "      <td>-0.003597</td>\n",
              "      <td>-0.019353</td>\n",
              "      <td>-0.006714</td>\n",
              "      <td>-0.006746</td>\n",
              "      <td>0.024500</td>\n",
              "      <td>1.000000</td>\n",
              "      <td>0.005910</td>\n",
              "      <td>-0.026765</td>\n",
              "      <td>-0.002933</td>\n",
              "      <td>0.006798</td>\n",
              "    </tr>\n",
              "    <tr>\n",
              "      <th>order_hour_of_day</th>\n",
              "      <td>-0.004422</td>\n",
              "      <td>0.001829</td>\n",
              "      <td>-0.008905</td>\n",
              "      <td>-0.017840</td>\n",
              "      <td>-0.001239</td>\n",
              "      <td>-0.026567</td>\n",
              "      <td>0.005910</td>\n",
              "      <td>1.000000</td>\n",
              "      <td>0.005184</td>\n",
              "      <td>-0.001078</td>\n",
              "      <td>-0.005992</td>\n",
              "    </tr>\n",
              "    <tr>\n",
              "      <th>days_since_prior_order</th>\n",
              "      <td>0.002708</td>\n",
              "      <td>0.001036</td>\n",
              "      <td>0.017283</td>\n",
              "      <td>-0.160152</td>\n",
              "      <td>0.003854</td>\n",
              "      <td>-0.403861</td>\n",
              "      <td>-0.026765</td>\n",
              "      <td>0.005184</td>\n",
              "      <td>1.000000</td>\n",
              "      <td>0.006088</td>\n",
              "      <td>0.005045</td>\n",
              "    </tr>\n",
              "    <tr>\n",
              "      <th>aisle_id</th>\n",
              "      <td>-0.000814</td>\n",
              "      <td>-0.001932</td>\n",
              "      <td>0.010887</td>\n",
              "      <td>-0.000172</td>\n",
              "      <td>0.000972</td>\n",
              "      <td>-0.002022</td>\n",
              "      <td>-0.002933</td>\n",
              "      <td>-0.001078</td>\n",
              "      <td>0.006088</td>\n",
              "      <td>1.000000</td>\n",
              "      <td>0.061357</td>\n",
              "    </tr>\n",
              "    <tr>\n",
              "      <th>department_id</th>\n",
              "      <td>0.002708</td>\n",
              "      <td>-0.027212</td>\n",
              "      <td>0.027428</td>\n",
              "      <td>-0.050294</td>\n",
              "      <td>-0.000548</td>\n",
              "      <td>-0.001568</td>\n",
              "      <td>0.006798</td>\n",
              "      <td>-0.005992</td>\n",
              "      <td>0.005045</td>\n",
              "      <td>0.061357</td>\n",
              "      <td>1.000000</td>\n",
              "    </tr>\n",
              "  </tbody>\n",
              "</table>\n",
              "</div>"
            ],
            "text/plain": [
              "                        order_id  product_id  ...  aisle_id  department_id\n",
              "order_id                1.000000   -0.000545  ... -0.000814       0.002708\n",
              "product_id             -0.000545    1.000000  ... -0.001932      -0.027212\n",
              "add_to_cart_order       0.001916    0.003128  ...  0.010887       0.027428\n",
              "reordered               0.001418    0.006560  ... -0.000172      -0.050294\n",
              "user_id                -0.000867   -0.001014  ...  0.000972      -0.000548\n",
              "order_number            0.001522   -0.001463  ... -0.002022      -0.001568\n",
              "order_dow               0.001090   -0.003597  ... -0.002933       0.006798\n",
              "order_hour_of_day      -0.004422    0.001829  ... -0.001078      -0.005992\n",
              "days_since_prior_order  0.002708    0.001036  ...  0.006088       0.005045\n",
              "aisle_id               -0.000814   -0.001932  ...  1.000000       0.061357\n",
              "department_id           0.002708   -0.027212  ...  0.061357       1.000000\n",
              "\n",
              "[11 rows x 11 columns]"
            ]
          },
          "metadata": {
            "tags": []
          },
          "execution_count": 9
        }
      ]
    },
    {
      "cell_type": "code",
      "metadata": {
        "id": "jloT43pz8KxD"
      },
      "source": [
        "xAxis = DataSet.drop(['reordered','user_id','order_id','aisle_id'], axis = 1).iloc[:,:].values\n",
        "yAxis = DataSet['reordered'].values"
      ],
      "execution_count": null,
      "outputs": []
    },
    {
      "cell_type": "code",
      "metadata": {
        "id": "3Eh3EtC88KxD"
      },
      "source": [
        "trainX, testX, trainY, testY = train_test_split(xAxis, yAxis, test_size = 0.25, random_state = 0)"
      ],
      "execution_count": null,
      "outputs": []
    },
    {
      "cell_type": "code",
      "metadata": {
        "id": "-qM6XKH-8KxD"
      },
      "source": [
        "nz = Normalizer()\n",
        "nz.fit(trainX)\n",
        "trainX = nz.transform(trainX)\n",
        "testX = nz.transform(testX)"
      ],
      "execution_count": null,
      "outputs": []
    },
    {
      "cell_type": "markdown",
      "metadata": {
        "id": "_LvfETha8KxD"
      },
      "source": [
        "### Logistic Regression"
      ]
    },
    {
      "cell_type": "code",
      "metadata": {
        "colab": {
          "base_uri": "https://localhost:8080/"
        },
        "id": "7rphVl4u8KxD",
        "outputId": "e9551cd8-a186-4015-fcdf-f597f7dcef65"
      },
      "source": [
        "LRClassifier = LogisticRegression(random_state = 0, n_jobs = -1, max_iter = 100000)\n",
        "LRClassifier.fit(trainX, trainY)"
      ],
      "execution_count": null,
      "outputs": [
        {
          "output_type": "execute_result",
          "data": {
            "text/plain": [
              "LogisticRegression(C=1.0, class_weight=None, dual=False, fit_intercept=True,\n",
              "                   intercept_scaling=1, l1_ratio=None, max_iter=100000,\n",
              "                   multi_class='auto', n_jobs=-1, penalty='l2', random_state=0,\n",
              "                   solver='lbfgs', tol=0.0001, verbose=0, warm_start=False)"
            ]
          },
          "metadata": {
            "tags": []
          },
          "execution_count": 16
        }
      ]
    },
    {
      "cell_type": "code",
      "metadata": {
        "colab": {
          "base_uri": "https://localhost:8080/"
        },
        "id": "l2DKo3cA8KxE",
        "outputId": "1d282634-2ff6-4afa-93eb-12331e97f851"
      },
      "source": [
        "LRyPred = LRClassifier.predict(testX)\n",
        "print('accuracy : ', accuracy_score(testY, LRyPred))\n",
        "print('log_loss : ', log_loss(testY, LRyPred))"
      ],
      "execution_count": null,
      "outputs": [
        {
          "output_type": "stream",
          "text": [
            "accuracy :  0.5988646704510985\n",
            "log_loss :  13.855042761384036\n"
          ],
          "name": "stdout"
        }
      ]
    },
    {
      "cell_type": "code",
      "metadata": {
        "colab": {
          "base_uri": "https://localhost:8080/",
          "height": 296
        },
        "id": "1XoVs2bG8KxE",
        "outputId": "37d9b506-df0e-4e9d-91ed-1fbec98a6601"
      },
      "source": [
        "print(plot_confusion_matrix(LRClassifier,testX, testY, values_format = '.1f'))"
      ],
      "execution_count": null,
      "outputs": [
        {
          "output_type": "stream",
          "text": [
            "<sklearn.metrics._plot.confusion_matrix.ConfusionMatrixDisplay object at 0x7fcf3ee38f10>\n"
          ],
          "name": "stdout"
        },
        {
          "output_type": "display_data",
          "data": {
            "image/png": "[encoded data removed]",
            "text/plain": [
              "<Figure size 432x288 with 2 Axes>"
            ]
          },
          "metadata": {
            "tags": [],
            "needs_background": "light"
          }
        }
      ]
    },
    {
      "cell_type": "code",
      "metadata": {
        "colab": {
          "base_uri": "https://localhost:8080/"
        },
        "id": "huxULFT1-no5",
        "outputId": "fb118be2-0d06-43d0-f134-c124f4188b0a"
      },
      "source": [
        "print(classification_report(testY, LRyPred))"
      ],
      "execution_count": null,
      "outputs": [
        {
          "output_type": "stream",
          "text": [
            "              precision    recall  f1-score   support\n",
            "\n",
            "           0       0.59      0.01      0.01    139111\n",
            "           1       0.60      1.00      0.75    207044\n",
            "\n",
            "    accuracy                           0.60    346155\n",
            "   macro avg       0.59      0.50      0.38    346155\n",
            "weighted avg       0.59      0.60      0.45    346155\n",
            "\n"
          ],
          "name": "stdout"
        }
      ]
    },
    {
      "cell_type": "markdown",
      "metadata": {
        "id": "upZilVB28KxE"
      },
      "source": [
        "### Random Forest"
      ]
    },
    {
      "cell_type": "code",
      "metadata": {
        "colab": {
          "base_uri": "https://localhost:8080/"
        },
        "id": "jLbL3-c38KxE",
        "outputId": "39401a7b-e800-4d88-da70-13135e39469f"
      },
      "source": [
        "RFClassifier = RandomForestClassifier(random_state = 0, n_jobs = -1)\n",
        "RFClassifier.fit(trainX, trainY)"
      ],
      "execution_count": null,
      "outputs": [
        {
          "output_type": "execute_result",
          "data": {
            "text/plain": [
              "RandomForestClassifier(bootstrap=True, ccp_alpha=0.0, class_weight=None,\n",
              "                       criterion='gini', max_depth=None, max_features='auto',\n",
              "                       max_leaf_nodes=None, max_samples=None,\n",
              "                       min_impurity_decrease=0.0, min_impurity_split=None,\n",
              "                       min_samples_leaf=1, min_samples_split=2,\n",
              "                       min_weight_fraction_leaf=0.0, n_estimators=100,\n",
              "                       n_jobs=-1, oob_score=False, random_state=0, verbose=0,\n",
              "                       warm_start=False)"
            ]
          },
          "metadata": {
            "tags": []
          },
          "execution_count": 23
        }
      ]
    },
    {
      "cell_type": "code",
      "metadata": {
        "colab": {
          "base_uri": "https://localhost:8080/"
        },
        "id": "jphYeiUu8KxE",
        "outputId": "6d24e278-ea4e-4256-dc1d-d4b6854c97d1"
      },
      "source": [
        "RFyPred = RFClassifier.predict(testX)\n",
        "print('accuracy : ', accuracy_score(testY, RFyPred))\n",
        "print('log_loss : ', log_loss(testY, RFyPred))"
      ],
      "execution_count": null,
      "outputs": [
        {
          "output_type": "stream",
          "text": [
            "accuracy :  0.6557553697043232\n",
            "log_loss :  11.889961498714957\n"
          ],
          "name": "stdout"
        }
      ]
    },
    {
      "cell_type": "code",
      "metadata": {
        "colab": {
          "base_uri": "https://localhost:8080/",
          "height": 296
        },
        "id": "BC-vBUqc8KxE",
        "outputId": "1d7eb546-cb5a-4233-ec10-fcf2538542da"
      },
      "source": [
        "print(plot_confusion_matrix(RFClassifier,testX, testY, values_format = '.1f'))"
      ],
      "execution_count": null,
      "outputs": [
        {
          "output_type": "stream",
          "text": [
            "<sklearn.metrics._plot.confusion_matrix.ConfusionMatrixDisplay object at 0x7fcf4783b1d0>\n"
          ],
          "name": "stdout"
        },
        {
          "output_type": "display_data",
          "data": {
            "image/png": "[encoded data removed]",
            "text/plain": [
              "<Figure size 432x288 with 2 Axes>"
            ]
          },
          "metadata": {
            "tags": [],
            "needs_background": "light"
          }
        }
      ]
    },
    {
      "cell_type": "code",
      "metadata": {
        "colab": {
          "base_uri": "https://localhost:8080/"
        },
        "id": "lhVkqRIo-2Ki",
        "outputId": "02768b67-358c-4120-ebed-c2895742d47b"
      },
      "source": [
        "print(classification_report(testY, RFyPred))"
      ],
      "execution_count": null,
      "outputs": [
        {
          "output_type": "stream",
          "text": [
            "              precision    recall  f1-score   support\n",
            "\n",
            "           0       0.59      0.46      0.52    139111\n",
            "           1       0.68      0.79      0.73    207044\n",
            "\n",
            "    accuracy                           0.66    346155\n",
            "   macro avg       0.64      0.62      0.63    346155\n",
            "weighted avg       0.65      0.66      0.65    346155\n",
            "\n"
          ],
          "name": "stdout"
        }
      ]
    },
    {
      "cell_type": "markdown",
      "metadata": {
        "id": "ASWs9sUu8KxE"
      },
      "source": [
        "### AdaBoost"
      ]
    },
    {
      "cell_type": "code",
      "metadata": {
        "colab": {
          "base_uri": "https://localhost:8080/"
        },
        "id": "uWZWQX4v8KxE",
        "outputId": "c4107e2f-8e50-473f-effa-b70d4648ba9b"
      },
      "source": [
        "AdaClassifier = AdaBoostClassifier(random_state = 0)\n",
        "AdaClassifier.fit(trainX, trainY)"
      ],
      "execution_count": null,
      "outputs": [
        {
          "output_type": "execute_result",
          "data": {
            "text/plain": [
              "AdaBoostClassifier(algorithm='SAMME.R', base_estimator=None, learning_rate=1.0,\n",
              "                   n_estimators=50, random_state=0)"
            ]
          },
          "metadata": {
            "tags": []
          },
          "execution_count": 27
        }
      ]
    },
    {
      "cell_type": "code",
      "metadata": {
        "colab": {
          "base_uri": "https://localhost:8080/"
        },
        "id": "TYnt5UlC8KxF",
        "outputId": "a6a3b3a6-9647-40f6-d9ed-d15666546934"
      },
      "source": [
        "ADAyPred = AdaClassifier.predict(testX)\n",
        "print('accuracy : ', accuracy_score(testY, ADAyPred))\n",
        "print('log_loss : ', log_loss(testY, ADAyPred))"
      ],
      "execution_count": null,
      "outputs": [
        {
          "output_type": "stream",
          "text": [
            "accuracy :  0.6215741503083878\n",
            "log_loss :  13.070619747854048\n"
          ],
          "name": "stdout"
        }
      ]
    },
    {
      "cell_type": "code",
      "metadata": {
        "colab": {
          "base_uri": "https://localhost:8080/",
          "height": 296
        },
        "id": "tHk008rV8KxF",
        "outputId": "0173fec7-dba0-49c8-986b-4855d1e0890e"
      },
      "source": [
        "print(plot_confusion_matrix(AdaClassifier,testX, testY, values_format = '.1f'))"
      ],
      "execution_count": null,
      "outputs": [
        {
          "output_type": "stream",
          "text": [
            "<sklearn.metrics._plot.confusion_matrix.ConfusionMatrixDisplay object at 0x7fcf49475910>\n"
          ],
          "name": "stdout"
        },
        {
          "output_type": "display_data",
          "data": {
            "image/png": "[encoded data removed]",
            "text/plain": [
              "<Figure size 432x288 with 2 Axes>"
            ]
          },
          "metadata": {
            "tags": [],
            "needs_background": "light"
          }
        }
      ]
    },
    {
      "cell_type": "code",
      "metadata": {
        "colab": {
          "base_uri": "https://localhost:8080/"
        },
        "id": "siWDVDKP-_wv",
        "outputId": "ff2b6d8e-8fb8-4d0e-db5e-a7f390f71c93"
      },
      "source": [
        "print(classification_report(testY, ADAyPred))"
      ],
      "execution_count": null,
      "outputs": [
        {
          "output_type": "stream",
          "text": [
            "              precision    recall  f1-score   support\n",
            "\n",
            "           0       0.58      0.21      0.31    139111\n",
            "           1       0.63      0.90      0.74    207044\n",
            "\n",
            "    accuracy                           0.62    346155\n",
            "   macro avg       0.60      0.55      0.52    346155\n",
            "weighted avg       0.61      0.62      0.57    346155\n",
            "\n"
          ],
          "name": "stdout"
        }
      ]
    },
    {
      "cell_type": "markdown",
      "metadata": {
        "id": "5T9HwZAv8KxF"
      },
      "source": [
        "### GradientBoost"
      ]
    },
    {
      "cell_type": "code",
      "metadata": {
        "colab": {
          "base_uri": "https://localhost:8080/"
        },
        "id": "8vLNeeB28KxF",
        "outputId": "4171954a-95df-444e-bd76-d7d240628c30"
      },
      "source": [
        "GDClassifier = GradientBoostingClassifier(random_state = 0)\n",
        "GDClassifier.fit(trainX, trainY)"
      ],
      "execution_count": null,
      "outputs": [
        {
          "output_type": "execute_result",
          "data": {
            "text/plain": [
              "GradientBoostingClassifier(ccp_alpha=0.0, criterion='friedman_mse', init=None,\n",
              "                           learning_rate=0.1, loss='deviance', max_depth=3,\n",
              "                           max_features=None, max_leaf_nodes=None,\n",
              "                           min_impurity_decrease=0.0, min_impurity_split=None,\n",
              "                           min_samples_leaf=1, min_samples_split=2,\n",
              "                           min_weight_fraction_leaf=0.0, n_estimators=100,\n",
              "                           n_iter_no_change=None, presort='deprecated',\n",
              "                           random_state=0, subsample=1.0, tol=0.0001,\n",
              "                           validation_fraction=0.1, verbose=0,\n",
              "                           warm_start=False)"
            ]
          },
          "metadata": {
            "tags": []
          },
          "execution_count": 31
        }
      ]
    },
    {
      "cell_type": "code",
      "metadata": {
        "colab": {
          "base_uri": "https://localhost:8080/"
        },
        "id": "Hx5ngg3q8KxF",
        "outputId": "ed9ab996-551d-4f49-aa5b-ca1c823667f1"
      },
      "source": [
        "GDyPred = GDClassifier.predict(testX)\n",
        "print('accuracy : ', accuracy_score(testY, GDyPred))\n",
        "print('log_loss : ', log_loss(testY, GDyPred))"
      ],
      "execution_count": null,
      "outputs": [
        {
          "output_type": "stream",
          "text": [
            "accuracy :  0.6466438445205183\n",
            "log_loss :  12.204710716649778\n"
          ],
          "name": "stdout"
        }
      ]
    },
    {
      "cell_type": "code",
      "metadata": {
        "colab": {
          "base_uri": "https://localhost:8080/",
          "height": 299
        },
        "id": "_I6tkY_i8KxF",
        "outputId": "b7825c8a-b2fd-47c3-dfee-68656706e5af"
      },
      "source": [
        "print(plot_confusion_matrix(GDClassifier,testX, testY, values_format = '.1f'))"
      ],
      "execution_count": null,
      "outputs": [
        {
          "output_type": "stream",
          "text": [
            "<sklearn.metrics._plot.confusion_matrix.ConfusionMatrixDisplay object at 0x7fcf3e995dd0>\n"
          ],
          "name": "stdout"
        },
        {
          "output_type": "display_data",
          "data": {
            "image/png": "[encoded data removed]",
            "text/plain": [
              "<Figure size 432x288 with 2 Axes>"
            ]
          },
          "metadata": {
            "tags": [],
            "needs_background": "light"
          }
        }
      ]
    },
    {
      "cell_type": "code",
      "metadata": {
        "colab": {
          "base_uri": "https://localhost:8080/"
        },
        "id": "3yECV6p8_HXl",
        "outputId": "054fc4f2-f408-40d7-92bc-fb0c222b8a67"
      },
      "source": [
        "print(classification_report(testY, GDyPred))"
      ],
      "execution_count": null,
      "outputs": [
        {
          "output_type": "stream",
          "text": [
            "              precision    recall  f1-score   support\n",
            "\n",
            "           0       0.62      0.31      0.41    139111\n",
            "           1       0.65      0.87      0.75    207044\n",
            "\n",
            "    accuracy                           0.65    346155\n",
            "   macro avg       0.64      0.59      0.58    346155\n",
            "weighted avg       0.64      0.65      0.61    346155\n",
            "\n"
          ],
          "name": "stdout"
        }
      ]
    },
    {
      "cell_type": "markdown",
      "metadata": {
        "id": "HO5Nj8fy8KxF"
      },
      "source": [
        "### Linear SVM"
      ]
    },
    {
      "cell_type": "code",
      "metadata": {
        "colab": {
          "base_uri": "https://localhost:8080/"
        },
        "id": "O03Je2Ve8KxF",
        "outputId": "16bc86ba-0c9a-499f-b202-372da5e99173"
      },
      "source": [
        "LSVMClassifier = LinearSVC(random_state = 0, max_iter = 100000)\n",
        "LSVMClassifier.fit(trainX, trainY)"
      ],
      "execution_count": null,
      "outputs": [
        {
          "output_type": "execute_result",
          "data": {
            "text/plain": [
              "LinearSVC(C=1.0, class_weight=None, dual=True, fit_intercept=True,\n",
              "          intercept_scaling=1, loss='squared_hinge', max_iter=100000,\n",
              "          multi_class='ovr', penalty='l2', random_state=0, tol=0.0001,\n",
              "          verbose=0)"
            ]
          },
          "metadata": {
            "tags": []
          },
          "execution_count": 35
        }
      ]
    },
    {
      "cell_type": "code",
      "metadata": {
        "colab": {
          "base_uri": "https://localhost:8080/"
        },
        "id": "zelJWscJ8KxF",
        "outputId": "a006c774-48f3-4d6f-fd51-e101eba69149"
      },
      "source": [
        "LSVMyPred = LSVMClassifier.predict(testX)\n",
        "print('accuracy : ', accuracy_score(testY, LSVMyPred))\n",
        "print('log_loss : ', log_loss(testY, LSVMyPred))"
      ],
      "execution_count": null,
      "outputs": [
        {
          "output_type": "stream",
          "text": [
            "accuracy :  0.5987115598503561\n",
            "log_loss :  13.86033153392337\n"
          ],
          "name": "stdout"
        }
      ]
    },
    {
      "cell_type": "code",
      "metadata": {
        "colab": {
          "base_uri": "https://localhost:8080/",
          "height": 296
        },
        "id": "maL_GZo18KxG",
        "outputId": "45d797ef-72c1-4cca-d090-f729daf4a1c5"
      },
      "source": [
        "print(plot_confusion_matrix(LSVMClassifier,testX, testY, values_format = '.1f'))"
      ],
      "execution_count": null,
      "outputs": [
        {
          "output_type": "stream",
          "text": [
            "<sklearn.metrics._plot.confusion_matrix.ConfusionMatrixDisplay object at 0x7fcf3d702310>\n"
          ],
          "name": "stdout"
        },
        {
          "output_type": "display_data",
          "data": {
            "image/png": "[encoded data removed]",
            "text/plain": [
              "<Figure size 432x288 with 2 Axes>"
            ]
          },
          "metadata": {
            "tags": [],
            "needs_background": "light"
          }
        }
      ]
    },
    {
      "cell_type": "code",
      "metadata": {
        "colab": {
          "base_uri": "https://localhost:8080/"
        },
        "id": "MaAwczII_aDG",
        "outputId": "5df2db93-7466-4bbd-d9ce-a5e933d9a348"
      },
      "source": [
        "print(classification_report(testY, LSVMyPred))"
      ],
      "execution_count": null,
      "outputs": [
        {
          "output_type": "stream",
          "text": [
            "              precision    recall  f1-score   support\n",
            "\n",
            "           0       0.59      0.00      0.01    139111\n",
            "           1       0.60      1.00      0.75    207044\n",
            "\n",
            "    accuracy                           0.60    346155\n",
            "   macro avg       0.60      0.50      0.38    346155\n",
            "weighted avg       0.60      0.60      0.45    346155\n",
            "\n"
          ],
          "name": "stdout"
        }
      ]
    },
    {
      "cell_type": "markdown",
      "metadata": {
        "id": "en5WPsTq8KxG"
      },
      "source": [
        "### Naive Bayes"
      ]
    },
    {
      "cell_type": "code",
      "metadata": {
        "colab": {
          "base_uri": "https://localhost:8080/"
        },
        "id": "Sh7MknQ08KxG",
        "outputId": "c7ff95ec-99f3-4bda-ca57-69a062bd64b6"
      },
      "source": [
        "NBClassifier = GaussianNB()\n",
        "NBClassifier.fit(trainX, trainY)"
      ],
      "execution_count": null,
      "outputs": [
        {
          "output_type": "execute_result",
          "data": {
            "text/plain": [
              "GaussianNB(priors=None, var_smoothing=1e-09)"
            ]
          },
          "metadata": {
            "tags": []
          },
          "execution_count": 39
        }
      ]
    },
    {
      "cell_type": "code",
      "metadata": {
        "colab": {
          "base_uri": "https://localhost:8080/"
        },
        "id": "IDxSYXi28KxG",
        "outputId": "fcf62a87-a9d0-4cf3-af26-13147ed613ce"
      },
      "source": [
        "NByPred = NBClassifier.predict(testX)\n",
        "print('accuracy : ', accuracy_score(testY, NByPred))\n",
        "print('log_loss : ', log_loss(testY, NByPred))"
      ],
      "execution_count": null,
      "outputs": [
        {
          "output_type": "stream",
          "text": [
            "accuracy :  0.5991131140673975\n",
            "log_loss :  13.84645881764144\n"
          ],
          "name": "stdout"
        }
      ]
    },
    {
      "cell_type": "code",
      "metadata": {
        "colab": {
          "base_uri": "https://localhost:8080/",
          "height": 296
        },
        "id": "TIC-6pje8KxG",
        "outputId": "97b5feff-5c9c-4351-cc3f-26247ba04159"
      },
      "source": [
        "print(plot_confusion_matrix(NBClassifier,testX, testY, values_format = '.1f'))"
      ],
      "execution_count": null,
      "outputs": [
        {
          "output_type": "stream",
          "text": [
            "<sklearn.metrics._plot.confusion_matrix.ConfusionMatrixDisplay object at 0x7fcf3d689710>\n"
          ],
          "name": "stdout"
        },
        {
          "output_type": "display_data",
          "data": {
            "image/png": "[encoded data removed]",
            "text/plain": [
              "<Figure size 432x288 with 2 Axes>"
            ]
          },
          "metadata": {
            "tags": [],
            "needs_background": "light"
          }
        }
      ]
    },
    {
      "cell_type": "code",
      "metadata": {
        "colab": {
          "base_uri": "https://localhost:8080/"
        },
        "id": "sRkmI_RQ_pec",
        "outputId": "45053700-aae0-4ea0-a95c-fac3b909b479"
      },
      "source": [
        "print(classification_report(testY, NByPred))"
      ],
      "execution_count": null,
      "outputs": [
        {
          "output_type": "stream",
          "text": [
            "              precision    recall  f1-score   support\n",
            "\n",
            "           0       0.54      0.02      0.03    139111\n",
            "           1       0.60      0.99      0.75    207044\n",
            "\n",
            "    accuracy                           0.60    346155\n",
            "   macro avg       0.57      0.50      0.39    346155\n",
            "weighted avg       0.58      0.60      0.46    346155\n",
            "\n"
          ],
          "name": "stdout"
        }
      ]
    },
    {
      "cell_type": "markdown",
      "metadata": {
        "id": "x7YGDGX-8KxG"
      },
      "source": [
        "### KNN"
      ]
    },
    {
      "cell_type": "code",
      "metadata": {
        "colab": {
          "base_uri": "https://localhost:8080/"
        },
        "id": "7H3agfgs8KxG",
        "outputId": "844b9a56-268c-4427-eed9-5eb02fab8d97"
      },
      "source": [
        "KNNClassifier = KNeighborsClassifier(n_neighbors = 7)\n",
        "KNNClassifier.fit(trainX, trainY)"
      ],
      "execution_count": null,
      "outputs": [
        {
          "output_type": "execute_result",
          "data": {
            "text/plain": [
              "KNeighborsClassifier(algorithm='auto', leaf_size=30, metric='minkowski',\n",
              "                     metric_params=None, n_jobs=None, n_neighbors=7, p=2,\n",
              "                     weights='uniform')"
            ]
          },
          "metadata": {
            "tags": []
          },
          "execution_count": 47
        }
      ]
    },
    {
      "cell_type": "code",
      "metadata": {
        "colab": {
          "base_uri": "https://localhost:8080/"
        },
        "id": "8Nc91uDL8KxG",
        "outputId": "336a965b-af45-48a3-b4c4-aa6e1d93b66e"
      },
      "source": [
        "KNNyPred = KNNClassifier.predict(testX)\n",
        "print('accuracy : ', accuracy_score(testY, KNNyPred))\n",
        "print('log_loss : ', log_loss(testY, KNNyPred))"
      ],
      "execution_count": null,
      "outputs": [
        {
          "output_type": "stream",
          "text": [
            "accuracy :  0.628634571218096\n",
            "log_loss :  12.826683192637734\n"
          ],
          "name": "stdout"
        }
      ]
    },
    {
      "cell_type": "code",
      "metadata": {
        "colab": {
          "base_uri": "https://localhost:8080/",
          "height": 296
        },
        "id": "tQXTq8bC8KxG",
        "outputId": "cb85271f-d3be-47cc-c24d-6c66cb4a6d13"
      },
      "source": [
        "print(plot_confusion_matrix(KNNClassifier,testX, testY, values_format = '.1f'))"
      ],
      "execution_count": null,
      "outputs": [
        {
          "output_type": "stream",
          "text": [
            "<sklearn.metrics._plot.confusion_matrix.ConfusionMatrixDisplay object at 0x7fcf3d5aae10>\n"
          ],
          "name": "stdout"
        },
        {
          "output_type": "display_data",
          "data": {
            "image/png": "[encoded data removed]",
            "text/plain": [
              "<Figure size 432x288 with 2 Axes>"
            ]
          },
          "metadata": {
            "tags": [],
            "needs_background": "light"
          }
        }
      ]
    },
    {
      "cell_type": "code",
      "metadata": {
        "colab": {
          "base_uri": "https://localhost:8080/"
        },
        "id": "jIbiX4fP8KxH",
        "outputId": "4dafdd68-1298-4e75-c050-4272d657d36d"
      },
      "source": [
        "print(classification_report(testY, KNNyPred))"
      ],
      "execution_count": null,
      "outputs": [
        {
          "output_type": "stream",
          "text": [
            "              precision    recall  f1-score   support\n",
            "\n",
            "           0       0.55      0.45      0.50    139111\n",
            "           1       0.67      0.75      0.71    207044\n",
            "\n",
            "    accuracy                           0.63    346155\n",
            "   macro avg       0.61      0.60      0.60    346155\n",
            "weighted avg       0.62      0.63      0.62    346155\n",
            "\n"
          ],
          "name": "stdout"
        }
      ]
    },
    {
      "cell_type": "markdown",
      "metadata": {
        "id": "eEqPCeBp8KxH"
      },
      "source": [
        "### ANN"
      ]
    },
    {
      "cell_type": "code",
      "metadata": {
        "id": "6YOolOel8KxH"
      },
      "source": [
        "from tensorflow.keras.models import Sequential\n",
        "from tensorflow.keras.layers import Dense, Dropout\n",
        "from tensorflow.keras.utils import plot_model"
      ],
      "execution_count": null,
      "outputs": []
    },
    {
      "cell_type": "code",
      "metadata": {
        "id": "uvEGnsKm8KxH"
      },
      "source": [
        "ANN = Sequential()\n",
        "ANN.add(Dense(units = 30, activation = 'relu'))\n",
        "ANN.add(Dropout(0.2))\n",
        "ANN.add(Dense(units = 30, activation = 'relu'))\n",
        "ANN.add(Dropout(0.2))\n",
        "ANN.add(Dense(units = 20, activation = 'relu'))\n",
        "ANN.add(Dropout(0.2))\n",
        "ANN.add(Dense(units = 1, activation = 'sigmoid'))\n",
        "ANN.compile(optimizer = 'adam', loss = 'binary_crossentropy', metrics = ['accuracy'])"
      ],
      "execution_count": null,
      "outputs": []
    },
    {
      "cell_type": "code",
      "metadata": {
        "colab": {
          "base_uri": "https://localhost:8080/"
        },
        "id": "FA1vrfkwJACj",
        "outputId": "3e051510-9248-4375-988c-9dd9b52135bc"
      },
      "source": [
        "ANN.fit(trainX, trainY, epochs = 50, batch_size = 32)"
      ],
      "execution_count": null,
      "outputs": [
        {
          "output_type": "stream",
          "text": [
            "Epoch 1/50\n",
            "32452/32452 [==============================] - 51s 2ms/step - loss: 0.6728 - accuracy: 0.5991\n",
            "Epoch 2/50\n",
            "32452/32452 [==============================] - 50s 2ms/step - loss: 0.6496 - accuracy: 0.6159\n",
            "Epoch 3/50\n",
            "32452/32452 [==============================] - 50s 2ms/step - loss: 0.6433 - accuracy: 0.6219\n",
            "Epoch 4/50\n",
            "32452/32452 [==============================] - 50s 2ms/step - loss: 0.6409 - accuracy: 0.6262\n",
            "Epoch 5/50\n",
            "32452/32452 [==============================] - 50s 2ms/step - loss: 0.6383 - accuracy: 0.6300\n",
            "Epoch 6/50\n",
            "32452/32452 [==============================] - 50s 2ms/step - loss: 0.6366 - accuracy: 0.6320\n",
            "Epoch 7/50\n",
            "32452/32452 [==============================] - 50s 2ms/step - loss: 0.6359 - accuracy: 0.6342\n",
            "Epoch 8/50\n",
            "32452/32452 [==============================] - 50s 2ms/step - loss: 0.6350 - accuracy: 0.6352\n",
            "Epoch 9/50\n",
            "32452/32452 [==============================] - 50s 2ms/step - loss: 0.6344 - accuracy: 0.6366\n",
            "Epoch 10/50\n",
            "32452/32452 [==============================] - 50s 2ms/step - loss: 0.6339 - accuracy: 0.6372\n",
            "Epoch 11/50\n",
            "32452/32452 [==============================] - 50s 2ms/step - loss: 0.6334 - accuracy: 0.6377\n",
            "Epoch 12/50\n",
            "32452/32452 [==============================] - 50s 2ms/step - loss: 0.6326 - accuracy: 0.6386\n",
            "Epoch 13/50\n",
            "32452/32452 [==============================] - 50s 2ms/step - loss: 0.6328 - accuracy: 0.6385\n",
            "Epoch 14/50\n",
            "32452/32452 [==============================] - 50s 2ms/step - loss: 0.6324 - accuracy: 0.6395\n",
            "Epoch 15/50\n",
            "32452/32452 [==============================] - 50s 2ms/step - loss: 0.6319 - accuracy: 0.6403\n",
            "Epoch 16/50\n",
            "32452/32452 [==============================] - 50s 2ms/step - loss: 0.6321 - accuracy: 0.6407\n",
            "Epoch 17/50\n",
            "32452/32452 [==============================] - 50s 2ms/step - loss: 0.6317 - accuracy: 0.6403\n",
            "Epoch 18/50\n",
            "32452/32452 [==============================] - 50s 2ms/step - loss: 0.6320 - accuracy: 0.6403\n",
            "Epoch 19/50\n",
            "32452/32452 [==============================] - 50s 2ms/step - loss: 0.6311 - accuracy: 0.6417\n",
            "Epoch 20/50\n",
            "32452/32452 [==============================] - 49s 2ms/step - loss: 0.6310 - accuracy: 0.6420\n",
            "Epoch 21/50\n",
            "32452/32452 [==============================] - 50s 2ms/step - loss: 0.6307 - accuracy: 0.6427\n",
            "Epoch 22/50\n",
            "32452/32452 [==============================] - 50s 2ms/step - loss: 0.6311 - accuracy: 0.6414\n",
            "Epoch 23/50\n",
            "32452/32452 [==============================] - 50s 2ms/step - loss: 0.6310 - accuracy: 0.6427\n",
            "Epoch 24/50\n",
            "32452/32452 [==============================] - 50s 2ms/step - loss: 0.6313 - accuracy: 0.6416\n",
            "Epoch 25/50\n",
            "32452/32452 [==============================] - 50s 2ms/step - loss: 0.6306 - accuracy: 0.6429\n",
            "Epoch 26/50\n",
            "32452/32452 [==============================] - 49s 2ms/step - loss: 0.6298 - accuracy: 0.6432\n",
            "Epoch 27/50\n",
            "32452/32452 [==============================] - 50s 2ms/step - loss: 0.6299 - accuracy: 0.6446\n",
            "Epoch 28/50\n",
            "32452/32452 [==============================] - 50s 2ms/step - loss: 0.6305 - accuracy: 0.6435\n",
            "Epoch 29/50\n",
            "32452/32452 [==============================] - 50s 2ms/step - loss: 0.6293 - accuracy: 0.6449\n",
            "Epoch 30/50\n",
            "32452/32452 [==============================] - 50s 2ms/step - loss: 0.6301 - accuracy: 0.6440\n",
            "Epoch 31/50\n",
            "32452/32452 [==============================] - 50s 2ms/step - loss: 0.6297 - accuracy: 0.6459\n",
            "Epoch 32/50\n",
            "32452/32452 [==============================] - 50s 2ms/step - loss: 0.6297 - accuracy: 0.6451\n",
            "Epoch 33/50\n",
            "32452/32452 [==============================] - 51s 2ms/step - loss: 0.6298 - accuracy: 0.6445\n",
            "Epoch 34/50\n",
            "32452/32452 [==============================] - 51s 2ms/step - loss: 0.6294 - accuracy: 0.6450\n",
            "Epoch 35/50\n",
            "32452/32452 [==============================] - 51s 2ms/step - loss: 0.6295 - accuracy: 0.6446\n",
            "Epoch 36/50\n",
            "32452/32452 [==============================] - 50s 2ms/step - loss: 0.6294 - accuracy: 0.6450\n",
            "Epoch 37/50\n",
            "32452/32452 [==============================] - 50s 2ms/step - loss: 0.6292 - accuracy: 0.6453\n",
            "Epoch 38/50\n",
            "32452/32452 [==============================] - 50s 2ms/step - loss: 0.6291 - accuracy: 0.6451\n",
            "Epoch 39/50\n",
            "32452/32452 [==============================] - 51s 2ms/step - loss: 0.6299 - accuracy: 0.6456\n",
            "Epoch 40/50\n",
            "32452/32452 [==============================] - 51s 2ms/step - loss: 0.6299 - accuracy: 0.6442\n",
            "Epoch 41/50\n",
            "32452/32452 [==============================] - 52s 2ms/step - loss: 0.6294 - accuracy: 0.6458\n",
            "Epoch 42/50\n",
            "32452/32452 [==============================] - 52s 2ms/step - loss: 0.6293 - accuracy: 0.6453\n",
            "Epoch 43/50\n",
            "32452/32452 [==============================] - 52s 2ms/step - loss: 0.6289 - accuracy: 0.6458\n",
            "Epoch 44/50\n",
            "32452/32452 [==============================] - 52s 2ms/step - loss: 0.6286 - accuracy: 0.6466\n",
            "Epoch 45/50\n",
            "32452/32452 [==============================] - 53s 2ms/step - loss: 0.6290 - accuracy: 0.6458\n",
            "Epoch 46/50\n",
            "32452/32452 [==============================] - 52s 2ms/step - loss: 0.6292 - accuracy: 0.6456\n",
            "Epoch 47/50\n",
            "32452/32452 [==============================] - 52s 2ms/step - loss: 0.6291 - accuracy: 0.6461\n",
            "Epoch 48/50\n",
            "32452/32452 [==============================] - 53s 2ms/step - loss: 0.6286 - accuracy: 0.6466\n",
            "Epoch 49/50\n",
            "32452/32452 [==============================] - 53s 2ms/step - loss: 0.6292 - accuracy: 0.6457\n",
            "Epoch 50/50\n",
            "32452/32452 [==============================] - 53s 2ms/step - loss: 0.6289 - accuracy: 0.6462\n"
          ],
          "name": "stdout"
        },
        {
          "output_type": "execute_result",
          "data": {
            "text/plain": [
              "<tensorflow.python.keras.callbacks.History at 0x7fcf01aba490>"
            ]
          },
          "metadata": {
            "tags": []
          },
          "execution_count": 61
        }
      ]
    },
    {
      "cell_type": "code",
      "metadata": {
        "colab": {
          "base_uri": "https://localhost:8080/"
        },
        "id": "0u6xilxW8KxH",
        "outputId": "cd5aeb45-4494-413d-f57b-4e60de5e570b"
      },
      "source": [
        "ANNyPred = ANN.predict(testX)\n",
        "ANNyPred = [1 if i>=0.5 else 0 for i in ANNyPred]\n",
        "print('accuracy : ', accuracy_score(testY, ANNyPred))\n",
        "print('log_loss : ', log_loss(testY, ANNyPred))"
      ],
      "execution_count": null,
      "outputs": [
        {
          "output_type": "stream",
          "text": [
            "accuracy :  0.6529444901850328\n",
            "log_loss :  11.98705999090979\n"
          ],
          "name": "stdout"
        }
      ]
    },
    {
      "cell_type": "code",
      "metadata": {
        "colab": {
          "base_uri": "https://localhost:8080/"
        },
        "id": "bn88TUw1AMpK",
        "outputId": "ff3d4ffa-cc31-4b5c-8abf-346311570eb8"
      },
      "source": [
        "print(classification_report(testY, ANNyPred))"
      ],
      "execution_count": null,
      "outputs": [
        {
          "output_type": "stream",
          "text": [
            "              precision    recall  f1-score   support\n",
            "\n",
            "           0       0.60      0.42      0.49    139111\n",
            "           1       0.67      0.81      0.74    207044\n",
            "\n",
            "    accuracy                           0.65    346155\n",
            "   macro avg       0.64      0.61      0.61    346155\n",
            "weighted avg       0.64      0.65      0.64    346155\n",
            "\n"
          ],
          "name": "stdout"
        }
      ]
    }
  ]
}