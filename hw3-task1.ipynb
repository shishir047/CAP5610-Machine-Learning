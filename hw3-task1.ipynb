{
 "cells": [
  {
   "cell_type": "code",
   "execution_count": 1,
   "id": "6c15cdf2",
   "metadata": {
    "_cell_guid": "b1076dfc-b9ad-4769-8c92-a6c4dae69d19",
    "_uuid": "8f2839f25d086af736a60e9eeb907d3b93b6e0e5",
    "execution": {
     "iopub.execute_input": "2022-11-23T01:35:16.263371Z",
     "iopub.status.busy": "2022-11-23T01:35:16.262230Z",
     "iopub.status.idle": "2022-11-23T01:35:17.123944Z",
     "shell.execute_reply": "2022-11-23T01:35:17.122653Z"
    },
    "papermill": {
     "duration": 0.872064,
     "end_time": "2022-11-23T01:35:17.126456",
     "exception": false,
     "start_time": "2022-11-23T01:35:16.254392",
     "status": "completed"
    },
    "tags": []
   },
   "outputs": [],
   "source": [
    "# This Python 3 environment comes with many helpful analytics libraries installed\n",
    "# It is defined by the kaggle/python Docker image: https://github.com/kaggle/docker-python\n",
    "# For example, here's several helpful packages to load\n",
    "\n",
    "import numpy as np # linear algebra\n",
    "import pandas as pd # data processing, CSV file I/O (e.g. pd.read_csv)\n",
    "\n",
    "# Input data files are available in the read-only \"../input/\" directory\n",
    "# For example, running this (by clicking run or pressing Shift+Enter) will list all files under the input directory\n",
    "\n",
    "import scipy \n",
    "import sklearn\n",
    "from collections import Counter\n",
    "from sklearn.metrics import multilabel_confusion_matrix\n",
    "from scipy import spatial\n",
    "\n",
    "# You can write up to 20GB to the current directory (/kaggle/working/) that gets preserved as output when you create a version using \"Save & Run All\" \n",
    "# You can also write temporary files to /kaggle/temp/, but they won't be saved outside of the current session"
   ]
  },
  {
   "cell_type": "code",
   "execution_count": 2,
   "id": "5fb543b3",
   "metadata": {
    "execution": {
     "iopub.execute_input": "2022-11-23T01:35:17.139754Z",
     "iopub.status.busy": "2022-11-23T01:35:17.138204Z",
     "iopub.status.idle": "2022-11-23T01:35:17.896598Z",
     "shell.execute_reply": "2022-11-23T01:35:17.895603Z"
    },
    "papermill": {
     "duration": 0.767103,
     "end_time": "2022-11-23T01:35:17.899256",
     "exception": false,
     "start_time": "2022-11-23T01:35:17.132153",
     "status": "completed"
    },
    "tags": []
   },
   "outputs": [],
   "source": [
    "data = pd.read_csv('../input/kmeans-data/data.csv')\n",
    "labels = pd.read_csv('../input/kmeans-data/label.csv',names=['label'],header=None)"
   ]
  },
  {
   "cell_type": "code",
   "execution_count": 3,
   "id": "faeccfee",
   "metadata": {
    "execution": {
     "iopub.execute_input": "2022-11-23T01:35:17.911034Z",
     "iopub.status.busy": "2022-11-23T01:35:17.910679Z",
     "iopub.status.idle": "2022-11-23T01:35:17.933458Z",
     "shell.execute_reply": "2022-11-23T01:35:17.932536Z"
    },
    "papermill": {
     "duration": 0.031286,
     "end_time": "2022-11-23T01:35:17.935884",
     "exception": false,
     "start_time": "2022-11-23T01:35:17.904598",
     "status": "completed"
    },
    "tags": []
   },
   "outputs": [
    {
     "data": {
      "text/html": [
       "<div>\n",
       "<style scoped>\n",
       "    .dataframe tbody tr th:only-of-type {\n",
       "        vertical-align: middle;\n",
       "    }\n",
       "\n",
       "    .dataframe tbody tr th {\n",
       "        vertical-align: top;\n",
       "    }\n",
       "\n",
       "    .dataframe thead th {\n",
       "        text-align: right;\n",
       "    }\n",
       "</style>\n",
       "<table border=\"1\" class=\"dataframe\">\n",
       "  <thead>\n",
       "    <tr style=\"text-align: right;\">\n",
       "      <th></th>\n",
       "      <th>0</th>\n",
       "      <th>0.1</th>\n",
       "      <th>0.2</th>\n",
       "      <th>0.3</th>\n",
       "      <th>0.4</th>\n",
       "      <th>0.5</th>\n",
       "      <th>0.6</th>\n",
       "      <th>0.7</th>\n",
       "      <th>0.8</th>\n",
       "      <th>0.9</th>\n",
       "      <th>...</th>\n",
       "      <th>0.658</th>\n",
       "      <th>0.659</th>\n",
       "      <th>0.660</th>\n",
       "      <th>0.661</th>\n",
       "      <th>0.662</th>\n",
       "      <th>0.663</th>\n",
       "      <th>0.664</th>\n",
       "      <th>0.665</th>\n",
       "      <th>0.666</th>\n",
       "      <th>0.667</th>\n",
       "    </tr>\n",
       "  </thead>\n",
       "  <tbody>\n",
       "    <tr>\n",
       "      <th>0</th>\n",
       "      <td>0</td>\n",
       "      <td>0</td>\n",
       "      <td>0</td>\n",
       "      <td>0</td>\n",
       "      <td>0</td>\n",
       "      <td>0</td>\n",
       "      <td>0</td>\n",
       "      <td>0</td>\n",
       "      <td>0</td>\n",
       "      <td>0</td>\n",
       "      <td>...</td>\n",
       "      <td>0</td>\n",
       "      <td>0</td>\n",
       "      <td>0</td>\n",
       "      <td>0</td>\n",
       "      <td>0</td>\n",
       "      <td>0</td>\n",
       "      <td>0</td>\n",
       "      <td>0</td>\n",
       "      <td>0</td>\n",
       "      <td>0</td>\n",
       "    </tr>\n",
       "    <tr>\n",
       "      <th>1</th>\n",
       "      <td>0</td>\n",
       "      <td>0</td>\n",
       "      <td>0</td>\n",
       "      <td>0</td>\n",
       "      <td>0</td>\n",
       "      <td>0</td>\n",
       "      <td>0</td>\n",
       "      <td>0</td>\n",
       "      <td>0</td>\n",
       "      <td>0</td>\n",
       "      <td>...</td>\n",
       "      <td>0</td>\n",
       "      <td>0</td>\n",
       "      <td>0</td>\n",
       "      <td>0</td>\n",
       "      <td>0</td>\n",
       "      <td>0</td>\n",
       "      <td>0</td>\n",
       "      <td>0</td>\n",
       "      <td>0</td>\n",
       "      <td>0</td>\n",
       "    </tr>\n",
       "    <tr>\n",
       "      <th>2</th>\n",
       "      <td>0</td>\n",
       "      <td>0</td>\n",
       "      <td>0</td>\n",
       "      <td>0</td>\n",
       "      <td>0</td>\n",
       "      <td>0</td>\n",
       "      <td>0</td>\n",
       "      <td>0</td>\n",
       "      <td>0</td>\n",
       "      <td>0</td>\n",
       "      <td>...</td>\n",
       "      <td>0</td>\n",
       "      <td>0</td>\n",
       "      <td>0</td>\n",
       "      <td>0</td>\n",
       "      <td>0</td>\n",
       "      <td>0</td>\n",
       "      <td>0</td>\n",
       "      <td>0</td>\n",
       "      <td>0</td>\n",
       "      <td>0</td>\n",
       "    </tr>\n",
       "    <tr>\n",
       "      <th>3</th>\n",
       "      <td>0</td>\n",
       "      <td>0</td>\n",
       "      <td>0</td>\n",
       "      <td>0</td>\n",
       "      <td>0</td>\n",
       "      <td>0</td>\n",
       "      <td>0</td>\n",
       "      <td>0</td>\n",
       "      <td>0</td>\n",
       "      <td>0</td>\n",
       "      <td>...</td>\n",
       "      <td>0</td>\n",
       "      <td>0</td>\n",
       "      <td>0</td>\n",
       "      <td>0</td>\n",
       "      <td>0</td>\n",
       "      <td>0</td>\n",
       "      <td>0</td>\n",
       "      <td>0</td>\n",
       "      <td>0</td>\n",
       "      <td>0</td>\n",
       "    </tr>\n",
       "    <tr>\n",
       "      <th>4</th>\n",
       "      <td>0</td>\n",
       "      <td>0</td>\n",
       "      <td>0</td>\n",
       "      <td>0</td>\n",
       "      <td>0</td>\n",
       "      <td>0</td>\n",
       "      <td>0</td>\n",
       "      <td>0</td>\n",
       "      <td>0</td>\n",
       "      <td>0</td>\n",
       "      <td>...</td>\n",
       "      <td>0</td>\n",
       "      <td>0</td>\n",
       "      <td>0</td>\n",
       "      <td>0</td>\n",
       "      <td>0</td>\n",
       "      <td>0</td>\n",
       "      <td>0</td>\n",
       "      <td>0</td>\n",
       "      <td>0</td>\n",
       "      <td>0</td>\n",
       "    </tr>\n",
       "  </tbody>\n",
       "</table>\n",
       "<p>5 rows × 784 columns</p>\n",
       "</div>"
      ],
      "text/plain": [
       "   0  0.1  0.2  0.3  0.4  0.5  0.6  0.7  0.8  0.9  ...  0.658  0.659  0.660  \\\n",
       "0  0    0    0    0    0    0    0    0    0    0  ...      0      0      0   \n",
       "1  0    0    0    0    0    0    0    0    0    0  ...      0      0      0   \n",
       "2  0    0    0    0    0    0    0    0    0    0  ...      0      0      0   \n",
       "3  0    0    0    0    0    0    0    0    0    0  ...      0      0      0   \n",
       "4  0    0    0    0    0    0    0    0    0    0  ...      0      0      0   \n",
       "\n",
       "   0.661  0.662  0.663  0.664  0.665  0.666  0.667  \n",
       "0      0      0      0      0      0      0      0  \n",
       "1      0      0      0      0      0      0      0  \n",
       "2      0      0      0      0      0      0      0  \n",
       "3      0      0      0      0      0      0      0  \n",
       "4      0      0      0      0      0      0      0  \n",
       "\n",
       "[5 rows x 784 columns]"
      ]
     },
     "execution_count": 3,
     "metadata": {},
     "output_type": "execute_result"
    }
   ],
   "source": [
    "data.head()"
   ]
  },
  {
   "cell_type": "code",
   "execution_count": 4,
   "id": "b2c419b1",
   "metadata": {
    "execution": {
     "iopub.execute_input": "2022-11-23T01:35:17.947818Z",
     "iopub.status.busy": "2022-11-23T01:35:17.947519Z",
     "iopub.status.idle": "2022-11-23T01:35:17.968438Z",
     "shell.execute_reply": "2022-11-23T01:35:17.967401Z"
    },
    "papermill": {
     "duration": 0.029333,
     "end_time": "2022-11-23T01:35:17.970629",
     "exception": false,
     "start_time": "2022-11-23T01:35:17.941296",
     "status": "completed"
    },
    "tags": []
   },
   "outputs": [
    {
     "data": {
      "text/plain": [
       "0        9999\n",
       "0.1      9999\n",
       "0.2      9999\n",
       "0.3      9999\n",
       "0.4      9999\n",
       "         ... \n",
       "0.663    9999\n",
       "0.664    9999\n",
       "0.665    9999\n",
       "0.666    9999\n",
       "0.667    9999\n",
       "Length: 784, dtype: int64"
      ]
     },
     "execution_count": 4,
     "metadata": {},
     "output_type": "execute_result"
    }
   ],
   "source": [
    "data.count()"
   ]
  },
  {
   "cell_type": "code",
   "execution_count": 5,
   "id": "1c608c39",
   "metadata": {
    "execution": {
     "iopub.execute_input": "2022-11-23T01:35:17.982904Z",
     "iopub.status.busy": "2022-11-23T01:35:17.982605Z",
     "iopub.status.idle": "2022-11-23T01:35:18.085714Z",
     "shell.execute_reply": "2022-11-23T01:35:18.081503Z"
    },
    "papermill": {
     "duration": 0.11603,
     "end_time": "2022-11-23T01:35:18.092328",
     "exception": false,
     "start_time": "2022-11-23T01:35:17.976298",
     "status": "completed"
    },
    "tags": []
   },
   "outputs": [],
   "source": [
    "#Split data\n",
    "from sklearn.model_selection import train_test_split\n",
    "train_data, test_data = train_test_split( data, test_size=0.08, random_state=42)\n",
    "train_labels, test_labels = train_test_split( labels, test_size=0.08, random_state=42)"
   ]
  },
  {
   "cell_type": "code",
   "execution_count": 6,
   "id": "84257eeb",
   "metadata": {
    "execution": {
     "iopub.execute_input": "2022-11-23T01:35:18.119283Z",
     "iopub.status.busy": "2022-11-23T01:35:18.118635Z",
     "iopub.status.idle": "2022-11-23T01:35:18.142433Z",
     "shell.execute_reply": "2022-11-23T01:35:18.141573Z"
    },
    "papermill": {
     "duration": 0.038504,
     "end_time": "2022-11-23T01:35:18.144962",
     "exception": false,
     "start_time": "2022-11-23T01:35:18.106458",
     "status": "completed"
    },
    "tags": []
   },
   "outputs": [],
   "source": [
    "class KMeans:\n",
    "    \n",
    "    def calculate_SSE(self, centroid_value_dict, centroid_dict,data):\n",
    "        sse_data = 0\n",
    "        for i in centroid_dict:\n",
    "            sse_cluster = 0\n",
    "\n",
    "            for j in centroid_dict[i]:\n",
    "                dp = list(data.iloc[int(j)])\n",
    "                for a,b in zip(centroid_value_dict[i],dp):\n",
    "                    sse_cluster += (a-b)**2\n",
    "            sse_data+=sse_cluster\n",
    "        return sse_data    \n",
    "    \n",
    "    def Initialize_Centroids(self,data,K):\n",
    "        m = data.shape[0]\n",
    "        centroid_value_dict={}\n",
    "        for i in range(K):\n",
    "            r = np.random.randint(0, m-1)\n",
    "            centroid_value_dict[i] = data.iloc[r]\n",
    "        return centroid_value_dict\n",
    "    \n",
    "    def jaccard_similarity(self,centroid, dp):\n",
    "        intersection = len(list(set(centroid).intersection(dp)))\n",
    "        union = (len(set(centroid)) + len(set(dp))) - intersection\n",
    "        return float(intersection) / union\n",
    "\n",
    "    def train_Kmeans(self,data,K,max_iter=20,mode=1,tol=10):\n",
    "        #Mode = 1 => Euclidean np.linalg.norm(x-list(data.iloc[i,:]))\n",
    "        #Mode = 2 => Jaccard\n",
    "        #Mode = 3 => Cosine\n",
    "        centroid_value_dict = self.Initialize_Centroids(data,K)\n",
    "        new_centroid_value_dict = {}\n",
    "        count = 0\n",
    "        centroid_dict = {}\n",
    "        convergence = False\n",
    "        while((count<max_iter) and not convergence):\n",
    "            \n",
    "            for i in list(centroid_value_dict.keys()):\n",
    "                centroid_dict[i]=[]\n",
    "            for i in range(data.shape[0]):\n",
    "                x = data.iloc[i]\n",
    "                if mode==1 :\n",
    "                    distance_measure = [np.linalg.norm(x-centroid_value_dict[j])  for j in centroid_value_dict]\n",
    "                    idx = np.argmin(distance_measure)\n",
    "                    centroid_dict[idx].append(i)\n",
    "                elif mode==2 :\n",
    "                    distance_measure = [self.jaccard_similarity(list(x),centroid_value_dict[j]) for j in centroid_value_dict]\n",
    "                    idx = np.argmax(distance_measure)\n",
    "                    centroid_dict[idx].append(i)\n",
    "                elif mode==3 :\n",
    "                    distance_measure = [1-scipy.spatial.distance.cosine(x,list(centroid_value_dict[j]))  for j in centroid_value_dict]\n",
    "                    idx = np.argmax(distance_measure)\n",
    "                    centroid_dict[idx].append(i)\n",
    "                \n",
    "                prev_centroids=dict(centroid_value_dict)\n",
    "                \n",
    "            \n",
    "            for i in centroid_dict:\n",
    "                if len(centroid_dict[i]):\n",
    "                    dps_centroid = centroid_dict[i]\n",
    "                    centroid_value_dict[i] = np.average(data.iloc[dps_centroid],axis=0)\n",
    "            \n",
    "            \n",
    "            current_tol=-1\n",
    "            for i in centroid_value_dict:\n",
    "                prev_centroid_point = prev_centroids[i]\n",
    "                new_centroid_point = centroid_value_dict[i]\n",
    "                change = np.sum(np.absolute(new_centroid_point-prev_centroid_point))\n",
    "                current_tol = max(change, current_tol)\n",
    "                \n",
    "            print(\"Tolerance for the Iteration \",count,\": \",current_tol)\n",
    "            \n",
    "            count+=1\n",
    "            if (current_tol<10):\n",
    "                convergence = True\n",
    "                break\n",
    "           # print(\"KMeans Iteration\",count)\n",
    "        return centroid_value_dict,centroid_dict\n",
    "    "
   ]
  },
  {
   "cell_type": "code",
   "execution_count": 7,
   "id": "1c6f495d",
   "metadata": {
    "execution": {
     "iopub.execute_input": "2022-11-23T01:35:18.164362Z",
     "iopub.status.busy": "2022-11-23T01:35:18.164000Z",
     "iopub.status.idle": "2022-11-23T01:35:18.172079Z",
     "shell.execute_reply": "2022-11-23T01:35:18.171203Z"
    },
    "papermill": {
     "duration": 0.021479,
     "end_time": "2022-11-23T01:35:18.175778",
     "exception": false,
     "start_time": "2022-11-23T01:35:18.154299",
     "status": "completed"
    },
    "tags": []
   },
   "outputs": [],
   "source": [
    "def predict_cluster_labels(C, S, labels):\n",
    "    '''\n",
    "    Input : C -> Centroids\n",
    "            S -> Set of Indicies corresponding to Centroid C\n",
    "            data -> Data used to form clusters\n",
    "    Output : Returns an array of size K having labels based on majority voting in the cluster\n",
    "    '''\n",
    "    cluster_labels = np.zeros(10,dtype=int)\n",
    "    for c in C:\n",
    "        labels_of_points = []\n",
    "        for point in S[c]:\n",
    "            labels_of_points.extend(labels.iloc[point])\n",
    "        counter = Counter(labels_of_points)\n",
    "        try:\n",
    "            cluster_labels[c] = max(counter, key=counter.get)\n",
    "        except:\n",
    "            cluster_labels[c] = np.random.randint(0,9)\n",
    "    return cluster_labels"
   ]
  },
  {
   "cell_type": "code",
   "execution_count": 8,
   "id": "e44f2aa5",
   "metadata": {
    "execution": {
     "iopub.execute_input": "2022-11-23T01:35:18.195386Z",
     "iopub.status.busy": "2022-11-23T01:35:18.194999Z",
     "iopub.status.idle": "2022-11-23T01:35:18.201155Z",
     "shell.execute_reply": "2022-11-23T01:35:18.200012Z"
    },
    "papermill": {
     "duration": 0.020151,
     "end_time": "2022-11-23T01:35:18.204325",
     "exception": false,
     "start_time": "2022-11-23T01:35:18.184174",
     "status": "completed"
    },
    "tags": []
   },
   "outputs": [],
   "source": [
    "def jaccard_similarity(centroid, dp):\n",
    "        intersection = len(list(set(centroid).intersection(dp)))\n",
    "        union = (len(set(centroid)) + len(set(dp))) - intersection\n",
    "        return float(intersection) / union"
   ]
  },
  {
   "cell_type": "code",
   "execution_count": 9,
   "id": "60c40b4b",
   "metadata": {
    "execution": {
     "iopub.execute_input": "2022-11-23T01:35:18.222113Z",
     "iopub.status.busy": "2022-11-23T01:35:18.221652Z",
     "iopub.status.idle": "2022-11-23T01:35:18.234539Z",
     "shell.execute_reply": "2022-11-23T01:35:18.233726Z"
    },
    "papermill": {
     "duration": 0.024172,
     "end_time": "2022-11-23T01:35:18.236657",
     "exception": false,
     "start_time": "2022-11-23T01:35:18.212485",
     "status": "completed"
    },
    "tags": []
   },
   "outputs": [],
   "source": [
    "def accuracy(centroids, centroid_Labels, test_data, true_labels, mode=1):\n",
    "    y_true = list(true_labels['label']);\n",
    "    y_pred = []\n",
    "    for index in range(test_data.shape[0]):\n",
    "        featureset = test_data.iloc[index]\n",
    "        if mode==1:\n",
    "            distances = [np.linalg.norm(featureset - centroids[centroid]) for centroid in centroids]\n",
    "            classification = distances.index(min(distances))\n",
    "            y_pred.append(centroid_Labels[classification])\n",
    "        elif mode==2:\n",
    "            similarity = [jaccard_similarity(featureset, centroids[centroid]) for centroid in centroids]\n",
    "            classification = similarity.index(max(similarity))\n",
    "            y_pred.append(centroid_Labels[classification]) \n",
    "        elif mode==3:\n",
    "            similarity = [1 - spatial.distance.cosine(featureset, centroids[centroid]) for centroid in centroids]\n",
    "            classification = similarity.index(max(similarity))\n",
    "            y_pred.append(centroid_Labels[classification])\n",
    "    denominator = test_data.shape[0]\n",
    "    correctly_classified = 0\n",
    "    for i in range(0,len(y_pred)):\n",
    "        if y_true[i] == y_pred[i]:\n",
    "            correctly_classified += 1\n",
    "    accuracy = correctly_classified/denominator\n",
    "    return accuracy"
   ]
  },
  {
   "cell_type": "code",
   "execution_count": 10,
   "id": "52e0d2dd",
   "metadata": {
    "execution": {
     "iopub.execute_input": "2022-11-23T01:35:18.253696Z",
     "iopub.status.busy": "2022-11-23T01:35:18.253315Z",
     "iopub.status.idle": "2022-11-23T01:41:52.862646Z",
     "shell.execute_reply": "2022-11-23T01:41:52.861593Z"
    },
    "papermill": {
     "duration": 394.627319,
     "end_time": "2022-11-23T01:41:52.871752",
     "exception": false,
     "start_time": "2022-11-23T01:35:18.244433",
     "status": "completed"
    },
    "tags": []
   },
   "outputs": [
    {
     "name": "stdout",
     "output_type": "stream",
     "text": [
      "Tolerance for the Iteration  0 :  28253.305982905986\n",
      "Tolerance for the Iteration  1 :  5203.900750848727\n",
      "Tolerance for the Iteration  2 :  4138.2160355396645\n",
      "Tolerance for the Iteration  3 :  3822.7612913918692\n",
      "Tolerance for the Iteration  4 :  3698.3624468072576\n",
      "Tolerance for the Iteration  5 :  1835.4912117902782\n",
      "Tolerance for the Iteration  6 :  798.475158869518\n",
      "Tolerance for the Iteration  7 :  588.550544411313\n",
      "Tolerance for the Iteration  8 :  411.74694522180033\n",
      "Tolerance for the Iteration  9 :  234.72926995485136\n",
      "Tolerance for the Iteration  10 :  238.8342935487566\n",
      "Tolerance for the Iteration  11 :  286.3391003675474\n",
      "Tolerance for the Iteration  12 :  254.57018669646163\n",
      "Tolerance for the Iteration  13 :  186.4844131176693\n",
      "Tolerance for the Iteration  14 :  187.03352286126704\n",
      "Tolerance for the Iteration  15 :  173.98646601406895\n",
      "Tolerance for the Iteration  16 :  140.23445535675714\n",
      "Tolerance for the Iteration  17 :  160.02006146020386\n",
      "Tolerance for the Iteration  18 :  131.00880805307713\n",
      "Tolerance for the Iteration  19 :  188.91152384055596\n",
      "Tolerance for the Iteration  20 :  140.79532976827093\n",
      "Tolerance for the Iteration  21 :  134.3478843210146\n",
      "Tolerance for the Iteration  22 :  191.72349998989392\n",
      "Tolerance for the Iteration  23 :  142.35988064378466\n",
      "Tolerance for the Iteration  24 :  157.4680853833138\n",
      "Tolerance for the Iteration  25 :  176.47760328098434\n",
      "Tolerance for the Iteration  26 :  80.81994873331118\n",
      "Tolerance for the Iteration  27 :  44.76480034967036\n",
      "Tolerance for the Iteration  28 :  51.108474704348744\n",
      "Tolerance for the Iteration  29 :  0.0\n"
     ]
    }
   ],
   "source": [
    "model1 = KMeans()\n",
    "centroids1,clusters1 = model1.train_Kmeans(data,10, max_iter=100,mode=1)"
   ]
  },
  {
   "cell_type": "code",
   "execution_count": 11,
   "id": "86862f47",
   "metadata": {
    "execution": {
     "iopub.execute_input": "2022-11-23T01:41:52.887843Z",
     "iopub.status.busy": "2022-11-23T01:41:52.887512Z",
     "iopub.status.idle": "2022-11-23T01:41:58.850215Z",
     "shell.execute_reply": "2022-11-23T01:41:58.849233Z"
    },
    "papermill": {
     "duration": 5.973037,
     "end_time": "2022-11-23T01:41:58.852608",
     "exception": false,
     "start_time": "2022-11-23T01:41:52.879571",
     "status": "completed"
    },
    "tags": []
   },
   "outputs": [],
   "source": [
    "Euclidean_SSE = model1.calculate_SSE(centroids1,clusters1,data)"
   ]
  },
  {
   "cell_type": "code",
   "execution_count": 12,
   "id": "b04f0996",
   "metadata": {
    "execution": {
     "iopub.execute_input": "2022-11-23T01:41:58.868908Z",
     "iopub.status.busy": "2022-11-23T01:41:58.867396Z",
     "iopub.status.idle": "2022-11-23T01:41:58.874785Z",
     "shell.execute_reply": "2022-11-23T01:41:58.873709Z"
    },
    "papermill": {
     "duration": 0.017935,
     "end_time": "2022-11-23T01:41:58.877516",
     "exception": false,
     "start_time": "2022-11-23T01:41:58.859581",
     "status": "completed"
    },
    "tags": []
   },
   "outputs": [
    {
     "name": "stdout",
     "output_type": "stream",
     "text": [
      "Euclidean SSE: 25316242143.801693\n"
     ]
    }
   ],
   "source": [
    "print(\"Euclidean SSE:\",Euclidean_SSE)"
   ]
  },
  {
   "cell_type": "code",
   "execution_count": 13,
   "id": "2f24648c",
   "metadata": {
    "execution": {
     "iopub.execute_input": "2022-11-23T01:41:58.892609Z",
     "iopub.status.busy": "2022-11-23T01:41:58.892301Z",
     "iopub.status.idle": "2022-11-23T01:41:59.557730Z",
     "shell.execute_reply": "2022-11-23T01:41:59.556676Z"
    },
    "papermill": {
     "duration": 0.675424,
     "end_time": "2022-11-23T01:41:59.559927",
     "exception": false,
     "start_time": "2022-11-23T01:41:58.884503",
     "status": "completed"
    },
    "tags": []
   },
   "outputs": [
    {
     "data": {
      "text/plain": [
       "array([5, 0, 3, 2, 1, 8, 7, 3, 0, 9])"
      ]
     },
     "execution_count": 13,
     "metadata": {},
     "output_type": "execute_result"
    }
   ],
   "source": [
    "cluster_labels1 = predict_cluster_labels(centroids1,clusters1,labels)\n",
    "cluster_labels1"
   ]
  },
  {
   "cell_type": "code",
   "execution_count": 14,
   "id": "32d27d3a",
   "metadata": {
    "execution": {
     "iopub.execute_input": "2022-11-23T01:41:59.577160Z",
     "iopub.status.busy": "2022-11-23T01:41:59.575430Z",
     "iopub.status.idle": "2022-11-23T01:42:00.617689Z",
     "shell.execute_reply": "2022-11-23T01:42:00.616686Z"
    },
    "papermill": {
     "duration": 1.052705,
     "end_time": "2022-11-23T01:42:00.619849",
     "exception": false,
     "start_time": "2022-11-23T01:41:59.567144",
     "status": "completed"
    },
    "tags": []
   },
   "outputs": [
    {
     "data": {
      "text/plain": [
       "0.0875"
      ]
     },
     "execution_count": 14,
     "metadata": {},
     "output_type": "execute_result"
    }
   ],
   "source": [
    "Accuracy_Euclidean = accuracy(centroids1, cluster_labels1,test_data,test_labels)\n",
    "Accuracy_Euclidean"
   ]
  },
  {
   "cell_type": "code",
   "execution_count": 15,
   "id": "f2378da7",
   "metadata": {
    "execution": {
     "iopub.execute_input": "2022-11-23T01:42:00.635954Z",
     "iopub.status.busy": "2022-11-23T01:42:00.635248Z",
     "iopub.status.idle": "2022-11-23T01:48:27.563014Z",
     "shell.execute_reply": "2022-11-23T01:48:27.561917Z"
    },
    "papermill": {
     "duration": 386.938698,
     "end_time": "2022-11-23T01:48:27.565780",
     "exception": false,
     "start_time": "2022-11-23T01:42:00.627082",
     "status": "completed"
    },
    "tags": []
   },
   "outputs": [
    {
     "name": "stdout",
     "output_type": "stream",
     "text": [
      "Tolerance for the Iteration  0 :  34565.31001890359\n",
      "Tolerance for the Iteration  1 :  17900.874105197636\n",
      "Tolerance for the Iteration  2 :  9955.762886597939\n",
      "Tolerance for the Iteration  3 :  16293.732413241325\n",
      "Tolerance for the Iteration  4 :  3794.053178389067\n",
      "Tolerance for the Iteration  5 :  722.669134882238\n",
      "Tolerance for the Iteration  6 :  570.85104667672\n",
      "Tolerance for the Iteration  7 :  589.711590093216\n",
      "Tolerance for the Iteration  8 :  1685.0883827513185\n",
      "Tolerance for the Iteration  9 :  952.5932035982056\n",
      "Tolerance for the Iteration  10 :  961.2304131320847\n",
      "Tolerance for the Iteration  11 :  227.70706020181848\n",
      "Tolerance for the Iteration  12 :  631.8978648237774\n",
      "Tolerance for the Iteration  13 :  372.7988996060237\n",
      "Tolerance for the Iteration  14 :  0.0\n"
     ]
    }
   ],
   "source": [
    "model2 = KMeans()\n",
    "centroids2,clusters2 = model2.train_Kmeans(data,10, max_iter=100,mode=2)\n",
    "Jaccard_SSE = model2.calculate_SSE(centroids2,clusters2,data)"
   ]
  },
  {
   "cell_type": "code",
   "execution_count": 16,
   "id": "20e40ff1",
   "metadata": {
    "execution": {
     "iopub.execute_input": "2022-11-23T01:48:27.584107Z",
     "iopub.status.busy": "2022-11-23T01:48:27.583749Z",
     "iopub.status.idle": "2022-11-23T01:48:27.588688Z",
     "shell.execute_reply": "2022-11-23T01:48:27.587772Z"
    },
    "papermill": {
     "duration": 0.016863,
     "end_time": "2022-11-23T01:48:27.591447",
     "exception": false,
     "start_time": "2022-11-23T01:48:27.574584",
     "status": "completed"
    },
    "tags": []
   },
   "outputs": [
    {
     "name": "stdout",
     "output_type": "stream",
     "text": [
      "Jacard SSE: 34361687572.938736\n"
     ]
    }
   ],
   "source": [
    "print(\"Jacard SSE:\",Jaccard_SSE)"
   ]
  },
  {
   "cell_type": "code",
   "execution_count": 17,
   "id": "6bf75845",
   "metadata": {
    "execution": {
     "iopub.execute_input": "2022-11-23T01:48:27.609386Z",
     "iopub.status.busy": "2022-11-23T01:48:27.609034Z",
     "iopub.status.idle": "2022-11-23T01:48:28.289167Z",
     "shell.execute_reply": "2022-11-23T01:48:28.288050Z"
    },
    "papermill": {
     "duration": 0.691722,
     "end_time": "2022-11-23T01:48:28.291807",
     "exception": false,
     "start_time": "2022-11-23T01:48:27.600085",
     "status": "completed"
    },
    "tags": []
   },
   "outputs": [
    {
     "data": {
      "text/plain": [
       "array([1, 2, 2, 7, 6, 4, 2, 0, 1, 8])"
      ]
     },
     "execution_count": 17,
     "metadata": {},
     "output_type": "execute_result"
    }
   ],
   "source": [
    "cluster_labels2 = predict_cluster_labels(centroids2,clusters2,labels)\n",
    "cluster_labels2"
   ]
  },
  {
   "cell_type": "code",
   "execution_count": 18,
   "id": "93b6de58",
   "metadata": {
    "execution": {
     "iopub.execute_input": "2022-11-23T01:48:28.309242Z",
     "iopub.status.busy": "2022-11-23T01:48:28.308947Z",
     "iopub.status.idle": "2022-11-23T01:48:29.694695Z",
     "shell.execute_reply": "2022-11-23T01:48:29.693830Z"
    },
    "papermill": {
     "duration": 1.39751,
     "end_time": "2022-11-23T01:48:29.697394",
     "exception": false,
     "start_time": "2022-11-23T01:48:28.299884",
     "status": "completed"
    },
    "tags": []
   },
   "outputs": [
    {
     "data": {
      "text/plain": [
       "0.1075"
      ]
     },
     "execution_count": 18,
     "metadata": {},
     "output_type": "execute_result"
    }
   ],
   "source": [
    "Accuracy_Jaccard = accuracy(centroids2, cluster_labels2,test_data,test_labels)\n",
    "Accuracy_Jaccard"
   ]
  },
  {
   "cell_type": "code",
   "execution_count": 19,
   "id": "80add7fd",
   "metadata": {
    "execution": {
     "iopub.execute_input": "2022-11-23T01:48:29.723825Z",
     "iopub.status.busy": "2022-11-23T01:48:29.723419Z",
     "iopub.status.idle": "2022-11-23T02:06:22.994384Z",
     "shell.execute_reply": "2022-11-23T02:06:22.993384Z"
    },
    "papermill": {
     "duration": 1073.287269,
     "end_time": "2022-11-23T02:06:22.997451",
     "exception": false,
     "start_time": "2022-11-23T01:48:29.710182",
     "status": "completed"
    },
    "tags": []
   },
   "outputs": [
    {
     "name": "stdout",
     "output_type": "stream",
     "text": [
      "Tolerance for the Iteration  0 :  34077.41536539662\n",
      "Tolerance for the Iteration  1 :  3521.3462677165357\n",
      "Tolerance for the Iteration  2 :  1938.1517337880973\n",
      "Tolerance for the Iteration  3 :  2652.0924288362794\n",
      "Tolerance for the Iteration  4 :  4663.580094086264\n",
      "Tolerance for the Iteration  5 :  3493.2876479191596\n",
      "Tolerance for the Iteration  6 :  1951.650176409922\n",
      "Tolerance for the Iteration  7 :  1720.9151701791875\n",
      "Tolerance for the Iteration  8 :  1329.2509867707656\n",
      "Tolerance for the Iteration  9 :  1066.5759177770528\n",
      "Tolerance for the Iteration  10 :  1385.8849019832626\n",
      "Tolerance for the Iteration  11 :  1111.922217073024\n",
      "Tolerance for the Iteration  12 :  873.3226854861178\n",
      "Tolerance for the Iteration  13 :  1061.7961146337232\n",
      "Tolerance for the Iteration  14 :  928.4854553035341\n",
      "Tolerance for the Iteration  15 :  783.2714551444342\n",
      "Tolerance for the Iteration  16 :  710.6197711614174\n",
      "Tolerance for the Iteration  17 :  675.4640857924\n",
      "Tolerance for the Iteration  18 :  676.0372193180046\n",
      "Tolerance for the Iteration  19 :  578.6110656922252\n",
      "Tolerance for the Iteration  20 :  506.6768581136396\n",
      "Tolerance for the Iteration  21 :  462.0978666904979\n",
      "Tolerance for the Iteration  22 :  388.2746631027954\n",
      "Tolerance for the Iteration  23 :  427.78791350376486\n",
      "Tolerance for the Iteration  24 :  415.22342354608526\n",
      "Tolerance for the Iteration  25 :  354.7162249858234\n",
      "Tolerance for the Iteration  26 :  436.26930506923213\n",
      "Tolerance for the Iteration  27 :  356.37479209045773\n",
      "Tolerance for the Iteration  28 :  366.38925765132205\n",
      "Tolerance for the Iteration  29 :  275.20017755425397\n",
      "Tolerance for the Iteration  30 :  259.9792602812551\n",
      "Tolerance for the Iteration  31 :  205.79405562366352\n",
      "Tolerance for the Iteration  32 :  252.81492568901626\n",
      "Tolerance for the Iteration  33 :  219.11121234680382\n",
      "Tolerance for the Iteration  34 :  226.89286400702898\n",
      "Tolerance for the Iteration  35 :  179.99425154661589\n",
      "Tolerance for the Iteration  36 :  245.8177620324097\n",
      "Tolerance for the Iteration  37 :  197.87875286516632\n",
      "Tolerance for the Iteration  38 :  219.25644024378778\n",
      "Tolerance for the Iteration  39 :  160.65278427915933\n",
      "Tolerance for the Iteration  40 :  180.0678296050177\n",
      "Tolerance for the Iteration  41 :  181.2801719495999\n",
      "Tolerance for the Iteration  42 :  142.9671518399245\n",
      "Tolerance for the Iteration  43 :  184.23001370113846\n",
      "Tolerance for the Iteration  44 :  207.8109218694211\n",
      "Tolerance for the Iteration  45 :  185.20426540284373\n",
      "Tolerance for the Iteration  46 :  155.88130342318553\n",
      "Tolerance for the Iteration  47 :  184.91878722722265\n",
      "Tolerance for the Iteration  48 :  206.69345754507725\n",
      "Tolerance for the Iteration  49 :  207.17420089916166\n",
      "Tolerance for the Iteration  50 :  190.24779484193112\n",
      "Tolerance for the Iteration  51 :  163.07866519635454\n",
      "Tolerance for the Iteration  52 :  171.9691460198231\n",
      "Tolerance for the Iteration  53 :  227.6325533600754\n",
      "Tolerance for the Iteration  54 :  144.54884553671553\n",
      "Tolerance for the Iteration  55 :  188.87971468699376\n",
      "Tolerance for the Iteration  56 :  147.27113370717137\n",
      "Tolerance for the Iteration  57 :  145.59952749373292\n",
      "Tolerance for the Iteration  58 :  88.76234032672016\n",
      "Tolerance for the Iteration  59 :  72.56737667309648\n",
      "Tolerance for the Iteration  60 :  77.41422106847126\n",
      "Tolerance for the Iteration  61 :  111.56389381640976\n",
      "Tolerance for the Iteration  62 :  165.03235864920305\n",
      "Tolerance for the Iteration  63 :  171.63762923351152\n",
      "Tolerance for the Iteration  64 :  126.64420062695916\n",
      "Tolerance for the Iteration  65 :  130.84850324517657\n",
      "Tolerance for the Iteration  66 :  136.29176669744518\n",
      "Tolerance for the Iteration  67 :  119.25765350451294\n",
      "Tolerance for the Iteration  68 :  93.5691881918819\n",
      "Tolerance for the Iteration  69 :  78.35563452000648\n",
      "Tolerance for the Iteration  70 :  37.88764044943818\n",
      "Tolerance for the Iteration  71 :  0.0\n"
     ]
    }
   ],
   "source": [
    "model3 = KMeans()\n",
    "centroids3,clusters3 = model3.train_Kmeans(data,10, max_iter = 100,mode=3)"
   ]
  },
  {
   "cell_type": "code",
   "execution_count": 20,
   "id": "12e2b743",
   "metadata": {
    "execution": {
     "iopub.execute_input": "2022-11-23T02:06:23.024014Z",
     "iopub.status.busy": "2022-11-23T02:06:23.023654Z",
     "iopub.status.idle": "2022-11-23T02:06:28.640592Z",
     "shell.execute_reply": "2022-11-23T02:06:28.639618Z"
    },
    "papermill": {
     "duration": 5.632488,
     "end_time": "2022-11-23T02:06:28.643115",
     "exception": false,
     "start_time": "2022-11-23T02:06:23.010627",
     "status": "completed"
    },
    "tags": []
   },
   "outputs": [],
   "source": [
    "Cosine_SSE = model3.calculate_SSE(centroids3,clusters3,data)"
   ]
  },
  {
   "cell_type": "code",
   "execution_count": 21,
   "id": "4ed9a11a",
   "metadata": {
    "execution": {
     "iopub.execute_input": "2022-11-23T02:06:28.670059Z",
     "iopub.status.busy": "2022-11-23T02:06:28.669686Z",
     "iopub.status.idle": "2022-11-23T02:06:28.675096Z",
     "shell.execute_reply": "2022-11-23T02:06:28.674039Z"
    },
    "papermill": {
     "duration": 0.022554,
     "end_time": "2022-11-23T02:06:28.678885",
     "exception": false,
     "start_time": "2022-11-23T02:06:28.656331",
     "status": "completed"
    },
    "tags": []
   },
   "outputs": [
    {
     "name": "stdout",
     "output_type": "stream",
     "text": [
      "Euclidean SSE: 25316242143.801693\n",
      "Jacard SSE: 34361687572.938736\n",
      "Cosine SSE : 25416927048.0813\n"
     ]
    }
   ],
   "source": [
    "print(\"Euclidean SSE:\",Euclidean_SSE)\n",
    "print(\"Jacard SSE:\",Jaccard_SSE)\n",
    "print(\"Cosine SSE :\",Cosine_SSE)"
   ]
  },
  {
   "cell_type": "code",
   "execution_count": 22,
   "id": "8b5603b2",
   "metadata": {
    "execution": {
     "iopub.execute_input": "2022-11-23T02:06:28.703798Z",
     "iopub.status.busy": "2022-11-23T02:06:28.702988Z",
     "iopub.status.idle": "2022-11-23T02:06:29.364073Z",
     "shell.execute_reply": "2022-11-23T02:06:29.362935Z"
    },
    "papermill": {
     "duration": 0.676082,
     "end_time": "2022-11-23T02:06:29.366648",
     "exception": false,
     "start_time": "2022-11-23T02:06:28.690566",
     "status": "completed"
    },
    "tags": []
   },
   "outputs": [
    {
     "data": {
      "text/plain": [
       "array([1, 9, 5, 3, 2, 0, 3, 0, 8, 7])"
      ]
     },
     "execution_count": 22,
     "metadata": {},
     "output_type": "execute_result"
    }
   ],
   "source": [
    "cluster_labels3 = predict_cluster_labels(centroids3,clusters3,labels)\n",
    "cluster_labels3"
   ]
  },
  {
   "cell_type": "code",
   "execution_count": 23,
   "id": "07bc8d6d",
   "metadata": {
    "execution": {
     "iopub.execute_input": "2022-11-23T02:06:29.391683Z",
     "iopub.status.busy": "2022-11-23T02:06:29.391360Z",
     "iopub.status.idle": "2022-11-23T02:06:30.327410Z",
     "shell.execute_reply": "2022-11-23T02:06:30.326460Z"
    },
    "papermill": {
     "duration": 0.950721,
     "end_time": "2022-11-23T02:06:30.329393",
     "exception": false,
     "start_time": "2022-11-23T02:06:29.378672",
     "status": "completed"
    },
    "tags": []
   },
   "outputs": [
    {
     "data": {
      "text/plain": [
       "0.0775"
      ]
     },
     "execution_count": 23,
     "metadata": {},
     "output_type": "execute_result"
    }
   ],
   "source": [
    "Accuracy_Cosine = accuracy(centroids3, cluster_labels3,test_data,test_labels)\n",
    "Accuracy_Euclidean\n",
    "Accuracy_Jaccard\n",
    "Accuracy_Cosine"
   ]
  },
  {
   "cell_type": "code",
   "execution_count": 24,
   "id": "97dbe18f",
   "metadata": {
    "execution": {
     "iopub.execute_input": "2022-11-23T02:06:30.355970Z",
     "iopub.status.busy": "2022-11-23T02:06:30.354270Z",
     "iopub.status.idle": "2022-11-23T02:06:30.360491Z",
     "shell.execute_reply": "2022-11-23T02:06:30.359462Z"
    },
    "papermill": {
     "duration": 0.022105,
     "end_time": "2022-11-23T02:06:30.363419",
     "exception": false,
     "start_time": "2022-11-23T02:06:30.341314",
     "status": "completed"
    },
    "tags": []
   },
   "outputs": [
    {
     "name": "stdout",
     "output_type": "stream",
     "text": [
      "Euclidean accuracy: 0.0875\n",
      "Jacard accuracy: 0.1075\n",
      "Cosine accuracy : 0.0775\n"
     ]
    }
   ],
   "source": [
    "print(\"Euclidean accuracy:\",Accuracy_Euclidean)\n",
    "print(\"Jacard accuracy:\",Accuracy_Jaccard)\n",
    "print(\"Cosine accuracy :\",Accuracy_Cosine)"
   ]
  }
 ],
 "metadata": {
  "kernelspec": {
   "display_name": "Python 3",
   "language": "python",
   "name": "python3"
  },
  "language_info": {
   "codemirror_mode": {
    "name": "ipython",
    "version": 3
   },
   "file_extension": ".py",
   "mimetype": "text/x-python",
   "name": "python",
   "nbconvert_exporter": "python",
   "pygments_lexer": "ipython3",
   "version": "3.7.12"
  },
  "papermill": {
   "default_parameters": {},
   "duration": 1882.596153,
   "end_time": "2022-11-23T02:06:30.998169",
   "environment_variables": {},
   "exception": null,
   "input_path": "__notebook__.ipynb",
   "output_path": "__notebook__.ipynb",
   "parameters": {},
   "start_time": "2022-11-23T01:35:08.402016",
   "version": "2.3.4"
  }
 },
 "nbformat": 4,
 "nbformat_minor": 5
}
