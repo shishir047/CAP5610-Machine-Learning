{
 "cells": [
  {
   "cell_type": "code",
   "execution_count": 1,
   "id": "73bf8e3b",
   "metadata": {
    "_cell_guid": "b1076dfc-b9ad-4769-8c92-a6c4dae69d19",
    "_uuid": "8f2839f25d086af736a60e9eeb907d3b93b6e0e5",
    "execution": {
     "iopub.execute_input": "2022-11-23T01:37:33.411922Z",
     "iopub.status.busy": "2022-11-23T01:37:33.411189Z",
     "iopub.status.idle": "2022-11-23T01:38:02.245677Z",
     "shell.execute_reply": "2022-11-23T01:38:02.243420Z"
    },
    "papermill": {
     "duration": 28.850553,
     "end_time": "2022-11-23T01:38:02.250163",
     "exception": false,
     "start_time": "2022-11-23T01:37:33.399610",
     "status": "completed"
    },
    "tags": []
   },
   "outputs": [
    {
     "data": {
      "text/html": [
       "        <script type=\"text/javascript\">\n",
       "        window.PlotlyConfig = {MathJaxConfig: 'local'};\n",
       "        if (window.MathJax && window.MathJax.Hub && window.MathJax.Hub.Config) {window.MathJax.Hub.Config({SVG: {font: \"STIX-Web\"}});}\n",
       "        if (typeof require !== 'undefined') {\n",
       "        require.undef(\"plotly\");\n",
       "        requirejs.config({\n",
       "            paths: {\n",
       "                'plotly': ['https://cdn.plot.ly/plotly-2.14.0.min']\n",
       "            }\n",
       "        });\n",
       "        require(['plotly'], function(Plotly) {\n",
       "            window._Plotly = Plotly;\n",
       "        });\n",
       "        }\n",
       "        </script>\n",
       "        "
      ]
     },
     "metadata": {},
     "output_type": "display_data"
    },
    {
     "name": "stdout",
     "output_type": "stream",
     "text": [
      "Collecting kaleido\r\n",
      "  Downloading kaleido-0.2.1-py2.py3-none-manylinux1_x86_64.whl (79.9 MB)\r\n",
      "\u001b[2K     \u001b[90m━━━━━━━━━━━━━━━━━━━━━━━━━━━━━━━━━━━━━━━━\u001b[0m \u001b[32m79.9/79.9 MB\u001b[0m \u001b[31m7.5 MB/s\u001b[0m eta \u001b[36m0:00:00\u001b[0m\r\n",
      "\u001b[?25hInstalling collected packages: kaleido\r\n",
      "Successfully installed kaleido-0.2.1\r\n",
      "\u001b[33mWARNING: Running pip as the 'root' user can result in broken permissions and conflicting behaviour with the system package manager. It is recommended to use a virtual environment instead: https://pip.pypa.io/warnings/venv\u001b[0m\u001b[33m\r\n",
      "\u001b[0m"
     ]
    }
   ],
   "source": [
    "# This Python 3 environment comes with many helpful analytics libraries installed\n",
    "# It is defined by the kaggle/python Docker image: https://github.com/kaggle/docker-python\n",
    "# For example, here's several helpful packages to load\n",
    "\n",
    "import numpy as np # linear algebra\n",
    "import pandas as pd # data processing, CSV file I/O (e.g. pd.read_csv)\n",
    "\n",
    "# Input data files are available in the read-only \"../input/\" directory\n",
    "# For example, running this (by clicking run or pressing Shift+Enter) will list all files under the input directory\n",
    "\n",
    "# import all required libraries\n",
    "\n",
    "# visualization\n",
    "import matplotlib.pyplot as plt\n",
    "import seaborn as sns\n",
    "from plotly.offline import init_notebook_mode, plot, iplot\n",
    "import plotly.graph_objs as go\n",
    "from IPython.display import Image\n",
    "init_notebook_mode(connected=True)\n",
    "%matplotlib inline\n",
    "\n",
    "# machine learning\n",
    "import surprise\n",
    "from surprise import KNNBasic\n",
    "from surprise.model_selection import GridSearchCV\n",
    "from surprise import Reader\n",
    "from surprise import SVD\n",
    "from surprise import Dataset\n",
    "from surprise.model_selection import cross_validate\n",
    "from surprise import KNNWithMeans\n",
    "\n",
    "!pip install kaleido\n",
    "\n",
    "# You can write up to 20GB to the current directory (/kaggle/working/) that gets preserved as output when you create a version using \"Save & Run All\" \n",
    "# You can also write temporary files to /kaggle/temp/, but they won't be saved outside of the current session"
   ]
  },
  {
   "cell_type": "code",
   "execution_count": 2,
   "id": "d23f01fb",
   "metadata": {
    "execution": {
     "iopub.execute_input": "2022-11-23T01:38:02.341957Z",
     "iopub.status.busy": "2022-11-23T01:38:02.332827Z",
     "iopub.status.idle": "2022-11-23T01:38:02.491068Z",
     "shell.execute_reply": "2022-11-23T01:38:02.489567Z"
    },
    "papermill": {
     "duration": 0.202809,
     "end_time": "2022-11-23T01:38:02.494414",
     "exception": false,
     "start_time": "2022-11-23T01:38:02.291605",
     "status": "completed"
    },
    "tags": []
   },
   "outputs": [],
   "source": [
    "# load the movies rating data (small)\n",
    "rating_df = pd.read_csv(\"../input/the-movies-dataset/ratings_small.csv\")"
   ]
  },
  {
   "cell_type": "code",
   "execution_count": 3,
   "id": "e8b40467",
   "metadata": {
    "execution": {
     "iopub.execute_input": "2022-11-23T01:38:02.549495Z",
     "iopub.status.busy": "2022-11-23T01:38:02.548745Z",
     "iopub.status.idle": "2022-11-23T01:38:02.587400Z",
     "shell.execute_reply": "2022-11-23T01:38:02.585665Z"
    },
    "papermill": {
     "duration": 0.072949,
     "end_time": "2022-11-23T01:38:02.591815",
     "exception": false,
     "start_time": "2022-11-23T01:38:02.518866",
     "status": "completed"
    },
    "tags": []
   },
   "outputs": [
    {
     "data": {
      "text/html": [
       "<div>\n",
       "<style scoped>\n",
       "    .dataframe tbody tr th:only-of-type {\n",
       "        vertical-align: middle;\n",
       "    }\n",
       "\n",
       "    .dataframe tbody tr th {\n",
       "        vertical-align: top;\n",
       "    }\n",
       "\n",
       "    .dataframe thead th {\n",
       "        text-align: right;\n",
       "    }\n",
       "</style>\n",
       "<table border=\"1\" class=\"dataframe\">\n",
       "  <thead>\n",
       "    <tr style=\"text-align: right;\">\n",
       "      <th></th>\n",
       "      <th>userId</th>\n",
       "      <th>movieId</th>\n",
       "      <th>rating</th>\n",
       "      <th>timestamp</th>\n",
       "    </tr>\n",
       "  </thead>\n",
       "  <tbody>\n",
       "    <tr>\n",
       "      <th>0</th>\n",
       "      <td>1</td>\n",
       "      <td>31</td>\n",
       "      <td>2.5</td>\n",
       "      <td>1260759144</td>\n",
       "    </tr>\n",
       "    <tr>\n",
       "      <th>1</th>\n",
       "      <td>1</td>\n",
       "      <td>1029</td>\n",
       "      <td>3.0</td>\n",
       "      <td>1260759179</td>\n",
       "    </tr>\n",
       "    <tr>\n",
       "      <th>2</th>\n",
       "      <td>1</td>\n",
       "      <td>1061</td>\n",
       "      <td>3.0</td>\n",
       "      <td>1260759182</td>\n",
       "    </tr>\n",
       "    <tr>\n",
       "      <th>3</th>\n",
       "      <td>1</td>\n",
       "      <td>1129</td>\n",
       "      <td>2.0</td>\n",
       "      <td>1260759185</td>\n",
       "    </tr>\n",
       "    <tr>\n",
       "      <th>4</th>\n",
       "      <td>1</td>\n",
       "      <td>1172</td>\n",
       "      <td>4.0</td>\n",
       "      <td>1260759205</td>\n",
       "    </tr>\n",
       "  </tbody>\n",
       "</table>\n",
       "</div>"
      ],
      "text/plain": [
       "   userId  movieId  rating   timestamp\n",
       "0       1       31     2.5  1260759144\n",
       "1       1     1029     3.0  1260759179\n",
       "2       1     1061     3.0  1260759182\n",
       "3       1     1129     2.0  1260759185\n",
       "4       1     1172     4.0  1260759205"
      ]
     },
     "execution_count": 3,
     "metadata": {},
     "output_type": "execute_result"
    }
   ],
   "source": [
    "# check the raw data\n",
    "rating_df.head()"
   ]
  },
  {
   "cell_type": "code",
   "execution_count": 4,
   "id": "06d0a372",
   "metadata": {
    "execution": {
     "iopub.execute_input": "2022-11-23T01:38:02.651625Z",
     "iopub.status.busy": "2022-11-23T01:38:02.650866Z",
     "iopub.status.idle": "2022-11-23T01:38:02.662673Z",
     "shell.execute_reply": "2022-11-23T01:38:02.658971Z"
    },
    "papermill": {
     "duration": 0.046727,
     "end_time": "2022-11-23T01:38:02.667808",
     "exception": false,
     "start_time": "2022-11-23T01:38:02.621081",
     "status": "completed"
    },
    "tags": []
   },
   "outputs": [
    {
     "name": "stdout",
     "output_type": "stream",
     "text": [
      "Dimension of the data:  (100004, 4)\n"
     ]
    }
   ],
   "source": [
    "print(\"Dimension of the data: \", rating_df.shape)"
   ]
  },
  {
   "cell_type": "code",
   "execution_count": 5,
   "id": "19e4f350",
   "metadata": {
    "execution": {
     "iopub.execute_input": "2022-11-23T01:38:02.726578Z",
     "iopub.status.busy": "2022-11-23T01:38:02.725941Z",
     "iopub.status.idle": "2022-11-23T01:38:02.814767Z",
     "shell.execute_reply": "2022-11-23T01:38:02.812987Z"
    },
    "papermill": {
     "duration": 0.121862,
     "end_time": "2022-11-23T01:38:02.818155",
     "exception": false,
     "start_time": "2022-11-23T01:38:02.696293",
     "status": "completed"
    },
    "tags": []
   },
   "outputs": [
    {
     "data": {
      "text/html": [
       "<div>\n",
       "<style scoped>\n",
       "    .dataframe tbody tr th:only-of-type {\n",
       "        vertical-align: middle;\n",
       "    }\n",
       "\n",
       "    .dataframe tbody tr th {\n",
       "        vertical-align: top;\n",
       "    }\n",
       "\n",
       "    .dataframe thead th {\n",
       "        text-align: right;\n",
       "    }\n",
       "</style>\n",
       "<table border=\"1\" class=\"dataframe\">\n",
       "  <thead>\n",
       "    <tr style=\"text-align: right;\">\n",
       "      <th></th>\n",
       "      <th>userId</th>\n",
       "      <th>movieId</th>\n",
       "      <th>rating</th>\n",
       "      <th>timestamp</th>\n",
       "    </tr>\n",
       "  </thead>\n",
       "  <tbody>\n",
       "    <tr>\n",
       "      <th>count</th>\n",
       "      <td>100004.000000</td>\n",
       "      <td>100004.000000</td>\n",
       "      <td>100004.000000</td>\n",
       "      <td>1.000040e+05</td>\n",
       "    </tr>\n",
       "    <tr>\n",
       "      <th>mean</th>\n",
       "      <td>347.011310</td>\n",
       "      <td>12548.664363</td>\n",
       "      <td>3.543608</td>\n",
       "      <td>1.129639e+09</td>\n",
       "    </tr>\n",
       "    <tr>\n",
       "      <th>std</th>\n",
       "      <td>195.163838</td>\n",
       "      <td>26369.198969</td>\n",
       "      <td>1.058064</td>\n",
       "      <td>1.916858e+08</td>\n",
       "    </tr>\n",
       "    <tr>\n",
       "      <th>min</th>\n",
       "      <td>1.000000</td>\n",
       "      <td>1.000000</td>\n",
       "      <td>0.500000</td>\n",
       "      <td>7.896520e+08</td>\n",
       "    </tr>\n",
       "    <tr>\n",
       "      <th>25%</th>\n",
       "      <td>182.000000</td>\n",
       "      <td>1028.000000</td>\n",
       "      <td>3.000000</td>\n",
       "      <td>9.658478e+08</td>\n",
       "    </tr>\n",
       "    <tr>\n",
       "      <th>50%</th>\n",
       "      <td>367.000000</td>\n",
       "      <td>2406.500000</td>\n",
       "      <td>4.000000</td>\n",
       "      <td>1.110422e+09</td>\n",
       "    </tr>\n",
       "    <tr>\n",
       "      <th>75%</th>\n",
       "      <td>520.000000</td>\n",
       "      <td>5418.000000</td>\n",
       "      <td>4.000000</td>\n",
       "      <td>1.296192e+09</td>\n",
       "    </tr>\n",
       "    <tr>\n",
       "      <th>max</th>\n",
       "      <td>671.000000</td>\n",
       "      <td>163949.000000</td>\n",
       "      <td>5.000000</td>\n",
       "      <td>1.476641e+09</td>\n",
       "    </tr>\n",
       "  </tbody>\n",
       "</table>\n",
       "</div>"
      ],
      "text/plain": [
       "              userId        movieId         rating     timestamp\n",
       "count  100004.000000  100004.000000  100004.000000  1.000040e+05\n",
       "mean      347.011310   12548.664363       3.543608  1.129639e+09\n",
       "std       195.163838   26369.198969       1.058064  1.916858e+08\n",
       "min         1.000000       1.000000       0.500000  7.896520e+08\n",
       "25%       182.000000    1028.000000       3.000000  9.658478e+08\n",
       "50%       367.000000    2406.500000       4.000000  1.110422e+09\n",
       "75%       520.000000    5418.000000       4.000000  1.296192e+09\n",
       "max       671.000000  163949.000000       5.000000  1.476641e+09"
      ]
     },
     "execution_count": 5,
     "metadata": {},
     "output_type": "execute_result"
    }
   ],
   "source": [
    "# summary of the data\n",
    "rating_df.describe()"
   ]
  },
  {
   "cell_type": "code",
   "execution_count": 6,
   "id": "bd4c0d4a",
   "metadata": {
    "execution": {
     "iopub.execute_input": "2022-11-23T01:38:02.875773Z",
     "iopub.status.busy": "2022-11-23T01:38:02.875165Z",
     "iopub.status.idle": "2022-11-23T01:38:03.082188Z",
     "shell.execute_reply": "2022-11-23T01:38:03.080498Z"
    },
    "papermill": {
     "duration": 0.240762,
     "end_time": "2022-11-23T01:38:03.085819",
     "exception": false,
     "start_time": "2022-11-23T01:38:02.845057",
     "status": "completed"
    },
    "tags": []
   },
   "outputs": [],
   "source": [
    "# load the data into surprise specific data-structure\n",
    "reader = Reader(rating_scale=(1, 5))\n",
    "data = Dataset.load_from_df(rating_df[['userId', 'movieId', 'rating']], reader)"
   ]
  },
  {
   "cell_type": "code",
   "execution_count": 7,
   "id": "44757bfd",
   "metadata": {
    "execution": {
     "iopub.execute_input": "2022-11-23T01:38:03.123056Z",
     "iopub.status.busy": "2022-11-23T01:38:03.121821Z",
     "iopub.status.idle": "2022-11-23T01:40:20.028005Z",
     "shell.execute_reply": "2022-11-23T01:40:20.026118Z"
    },
    "papermill": {
     "duration": 136.929658,
     "end_time": "2022-11-23T01:40:20.032730",
     "exception": false,
     "start_time": "2022-11-23T01:38:03.103072",
     "status": "completed"
    },
    "tags": []
   },
   "outputs": [
    {
     "name": "stdout",
     "output_type": "stream",
     "text": [
      "Evaluating RMSE, MAE of algorithm SVD on 5 split(s).\n",
      "\n",
      "                  Fold 1  Fold 2  Fold 3  Fold 4  Fold 5  Mean    Std     \n",
      "RMSE (testset)    1.0066  1.0051  1.0079  1.0159  1.0063  1.0084  0.0039  \n",
      "MAE (testset)     0.7780  0.7747  0.7778  0.7841  0.7793  0.7788  0.0031  \n",
      "Fit time          6.96    6.65    6.37    6.35    7.63    6.79    0.47    \n",
      "Test time         0.20    0.37    0.29    0.18    0.33    0.27    0.07    \n",
      "Computing the msd similarity matrix...\n",
      "Done computing similarity matrix.\n",
      "Computing the msd similarity matrix...\n",
      "Done computing similarity matrix.\n",
      "Computing the msd similarity matrix...\n",
      "Done computing similarity matrix.\n",
      "Computing the msd similarity matrix...\n",
      "Done computing similarity matrix.\n",
      "Computing the msd similarity matrix...\n",
      "Done computing similarity matrix.\n",
      "Evaluating RMSE, MAE of algorithm KNNBasic on 5 split(s).\n",
      "\n",
      "                  Fold 1  Fold 2  Fold 3  Fold 4  Fold 5  Mean    Std     \n",
      "RMSE (testset)    0.9691  0.9600  0.9653  0.9611  0.9775  0.9666  0.0063  \n",
      "MAE (testset)     0.7466  0.7389  0.7415  0.7386  0.7489  0.7429  0.0041  \n",
      "Fit time          0.24    0.24    0.24    0.24    0.25    0.24    0.01    \n",
      "Test time         1.91    1.99    2.48    1.91    1.96    2.05    0.22    \n",
      "Computing the msd similarity matrix...\n",
      "Done computing similarity matrix.\n",
      "Computing the msd similarity matrix...\n",
      "Done computing similarity matrix.\n",
      "Computing the msd similarity matrix...\n",
      "Done computing similarity matrix.\n",
      "Computing the msd similarity matrix...\n",
      "Done computing similarity matrix.\n",
      "Computing the msd similarity matrix...\n",
      "Done computing similarity matrix.\n",
      "Evaluating RMSE, MAE of algorithm KNNBasic on 5 split(s).\n",
      "\n",
      "                  Fold 1  Fold 2  Fold 3  Fold 4  Fold 5  Mean    Std     \n",
      "RMSE (testset)    0.9388  0.9386  0.9373  0.9265  0.9326  0.9348  0.0047  \n",
      "MAE (testset)     0.7248  0.7246  0.7229  0.7136  0.7206  0.7213  0.0041  \n",
      "Fit time          6.62    6.59    6.52    6.78    7.03    6.71    0.18    \n",
      "Test time         10.74   10.38   10.68   10.07   10.90   10.55   0.29    \n"
     ]
    }
   ],
   "source": [
    "# default setting: distance MSD, k=10\n",
    "benchmark = []\n",
    "\n",
    "# iterate over all algorithms\n",
    "for algorithm in [SVD(biased=False), KNNBasic(sim_options = {'user_based': True }), KNNBasic(sim_options = {'user_based': False})]:\n",
    "    # perform cross validation\n",
    "    results = cross_validate(algorithm, data, measures=['RMSE', 'MAE'], cv=5, verbose=True)\n",
    "    \n",
    "    # get results & append algorithm name\n",
    "    tmp = pd.DataFrame.from_dict(results).mean(axis=0)\n",
    "    tmp = tmp.append(pd.Series([str(algorithm).split(' ')[0].split('.')[-1]], index=['Algorithm']))\n",
    "    \n",
    "    # store data\n",
    "    benchmark.append(tmp)"
   ]
  },
  {
   "cell_type": "code",
   "execution_count": 8,
   "id": "31ed3351",
   "metadata": {
    "execution": {
     "iopub.execute_input": "2022-11-23T01:40:20.074116Z",
     "iopub.status.busy": "2022-11-23T01:40:20.071739Z",
     "iopub.status.idle": "2022-11-23T01:40:20.081893Z",
     "shell.execute_reply": "2022-11-23T01:40:20.080560Z"
    },
    "papermill": {
     "duration": 0.033085,
     "end_time": "2022-11-23T01:40:20.084748",
     "exception": false,
     "start_time": "2022-11-23T01:40:20.051663",
     "status": "completed"
    },
    "tags": []
   },
   "outputs": [],
   "source": [
    "benchmark = pd.DataFrame(benchmark)"
   ]
  },
  {
   "cell_type": "code",
   "execution_count": 9,
   "id": "09ee8e0d",
   "metadata": {
    "execution": {
     "iopub.execute_input": "2022-11-23T01:40:20.124421Z",
     "iopub.status.busy": "2022-11-23T01:40:20.123948Z",
     "iopub.status.idle": "2022-11-23T01:40:20.144484Z",
     "shell.execute_reply": "2022-11-23T01:40:20.143134Z"
    },
    "papermill": {
     "duration": 0.043939,
     "end_time": "2022-11-23T01:40:20.147615",
     "exception": false,
     "start_time": "2022-11-23T01:40:20.103676",
     "status": "completed"
    },
    "tags": []
   },
   "outputs": [
    {
     "data": {
      "text/html": [
       "<div>\n",
       "<style scoped>\n",
       "    .dataframe tbody tr th:only-of-type {\n",
       "        vertical-align: middle;\n",
       "    }\n",
       "\n",
       "    .dataframe tbody tr th {\n",
       "        vertical-align: top;\n",
       "    }\n",
       "\n",
       "    .dataframe thead th {\n",
       "        text-align: right;\n",
       "    }\n",
       "</style>\n",
       "<table border=\"1\" class=\"dataframe\">\n",
       "  <thead>\n",
       "    <tr style=\"text-align: right;\">\n",
       "      <th></th>\n",
       "      <th>test_rmse</th>\n",
       "      <th>test_mae</th>\n",
       "      <th>fit_time</th>\n",
       "      <th>test_time</th>\n",
       "      <th>Algorithm</th>\n",
       "    </tr>\n",
       "  </thead>\n",
       "  <tbody>\n",
       "    <tr>\n",
       "      <th>0</th>\n",
       "      <td>1.008379</td>\n",
       "      <td>0.778779</td>\n",
       "      <td>6.790346</td>\n",
       "      <td>0.273234</td>\n",
       "      <td>PMF</td>\n",
       "    </tr>\n",
       "    <tr>\n",
       "      <th>1</th>\n",
       "      <td>0.966611</td>\n",
       "      <td>0.742901</td>\n",
       "      <td>0.244098</td>\n",
       "      <td>2.050482</td>\n",
       "      <td>UserCF</td>\n",
       "    </tr>\n",
       "    <tr>\n",
       "      <th>2</th>\n",
       "      <td>0.934764</td>\n",
       "      <td>0.721309</td>\n",
       "      <td>6.706625</td>\n",
       "      <td>10.550929</td>\n",
       "      <td>ItemCF</td>\n",
       "    </tr>\n",
       "  </tbody>\n",
       "</table>\n",
       "</div>"
      ],
      "text/plain": [
       "   test_rmse  test_mae  fit_time  test_time Algorithm\n",
       "0   1.008379  0.778779  6.790346   0.273234       PMF\n",
       "1   0.966611  0.742901  0.244098   2.050482    UserCF\n",
       "2   0.934764  0.721309  6.706625  10.550929    ItemCF"
      ]
     },
     "execution_count": 9,
     "metadata": {},
     "output_type": "execute_result"
    }
   ],
   "source": [
    "# udpate algrithm names \n",
    "new_algorithms = ['PMF','UserCF','ItemCF']\n",
    "benchmark['Algorithm'] = new_algorithms\n",
    "\n",
    "benchmark"
   ]
  },
  {
   "cell_type": "code",
   "execution_count": 10,
   "id": "2af61329",
   "metadata": {
    "execution": {
     "iopub.execute_input": "2022-11-23T01:40:20.187288Z",
     "iopub.status.busy": "2022-11-23T01:40:20.186773Z",
     "iopub.status.idle": "2022-11-23T01:48:15.034619Z",
     "shell.execute_reply": "2022-11-23T01:48:15.033310Z"
    },
    "papermill": {
     "duration": 474.871308,
     "end_time": "2022-11-23T01:48:15.037656",
     "exception": false,
     "start_time": "2022-11-23T01:40:20.166348",
     "status": "completed"
    },
    "tags": []
   },
   "outputs": [
    {
     "name": "stdout",
     "output_type": "stream",
     "text": [
      "Computing the cosine similarity matrix...\n",
      "Done computing similarity matrix.\n",
      "Computing the cosine similarity matrix...\n",
      "Done computing similarity matrix.\n",
      "Computing the cosine similarity matrix...\n",
      "Done computing similarity matrix.\n",
      "Computing the cosine similarity matrix...\n",
      "Done computing similarity matrix.\n",
      "Computing the cosine similarity matrix...\n",
      "Done computing similarity matrix.\n",
      "Computing the msd similarity matrix...\n",
      "Done computing similarity matrix.\n",
      "Computing the msd similarity matrix...\n",
      "Done computing similarity matrix.\n",
      "Computing the msd similarity matrix...\n",
      "Done computing similarity matrix.\n",
      "Computing the msd similarity matrix...\n",
      "Done computing similarity matrix.\n",
      "Computing the msd similarity matrix...\n",
      "Done computing similarity matrix.\n",
      "Computing the pearson similarity matrix...\n",
      "Done computing similarity matrix.\n",
      "Computing the pearson similarity matrix...\n",
      "Done computing similarity matrix.\n",
      "Computing the pearson similarity matrix...\n",
      "Done computing similarity matrix.\n",
      "Computing the pearson similarity matrix...\n",
      "Done computing similarity matrix.\n",
      "Computing the pearson similarity matrix...\n",
      "Done computing similarity matrix.\n",
      "Computing the cosine similarity matrix...\n",
      "Done computing similarity matrix.\n",
      "Computing the cosine similarity matrix...\n",
      "Done computing similarity matrix.\n",
      "Computing the cosine similarity matrix...\n",
      "Done computing similarity matrix.\n",
      "Computing the cosine similarity matrix...\n",
      "Done computing similarity matrix.\n",
      "Computing the cosine similarity matrix...\n",
      "Done computing similarity matrix.\n",
      "Computing the msd similarity matrix...\n",
      "Done computing similarity matrix.\n",
      "Computing the msd similarity matrix...\n",
      "Done computing similarity matrix.\n",
      "Computing the msd similarity matrix...\n",
      "Done computing similarity matrix.\n",
      "Computing the msd similarity matrix...\n",
      "Done computing similarity matrix.\n",
      "Computing the msd similarity matrix...\n",
      "Done computing similarity matrix.\n",
      "Computing the pearson similarity matrix...\n",
      "Done computing similarity matrix.\n",
      "Computing the pearson similarity matrix...\n",
      "Done computing similarity matrix.\n",
      "Computing the pearson similarity matrix...\n",
      "Done computing similarity matrix.\n",
      "Computing the pearson similarity matrix...\n",
      "Done computing similarity matrix.\n",
      "Computing the pearson similarity matrix...\n",
      "Done computing similarity matrix.\n"
     ]
    }
   ],
   "source": [
    "benchmark2 = []\n",
    "\n",
    "# iterate over all algorithms\n",
    "for algorithm in [KNNBasic(sim_options = {'name':'cosine','user_based': True}), KNNBasic(sim_options = {'name':'MSD', 'user_based':True }),\n",
    "                 KNNBasic(sim_options = {'name':'pearson','user_based': True}),\n",
    "                 KNNBasic(sim_options = {'name':'cosine', 'user_based':False }),KNNBasic(sim_options = {'name':'MSD', 'user_based':False }),\n",
    "                 KNNBasic(sim_options = {'name':'pearson','user_based': False}) \n",
    "                 ]:\n",
    "    # perform cross validation\n",
    "    results = cross_validate(algorithm, data, measures=['RMSE', 'MAE'], cv=5, verbose=False)\n",
    "    \n",
    "    # get results & append algorithm names\n",
    "    tmp = pd.DataFrame.from_dict(results).mean(axis=0)\n",
    "    tmp = tmp.append(pd.Series([str(algorithm).split(' ')[0].split('.')[-1]], index=['Algorithm']))\n",
    "    \n",
    "    # store data\n",
    "    benchmark2.append(tmp)"
   ]
  },
  {
   "cell_type": "code",
   "execution_count": 11,
   "id": "c17f6e4c",
   "metadata": {
    "execution": {
     "iopub.execute_input": "2022-11-23T01:48:15.086924Z",
     "iopub.status.busy": "2022-11-23T01:48:15.086495Z",
     "iopub.status.idle": "2022-11-23T01:48:15.095300Z",
     "shell.execute_reply": "2022-11-23T01:48:15.094279Z"
    },
    "papermill": {
     "duration": 0.03572,
     "end_time": "2022-11-23T01:48:15.098022",
     "exception": false,
     "start_time": "2022-11-23T01:48:15.062302",
     "status": "completed"
    },
    "tags": []
   },
   "outputs": [],
   "source": [
    "benchmark2 = pd.DataFrame(benchmark2)"
   ]
  },
  {
   "cell_type": "code",
   "execution_count": 12,
   "id": "b347e688",
   "metadata": {
    "execution": {
     "iopub.execute_input": "2022-11-23T01:48:15.145275Z",
     "iopub.status.busy": "2022-11-23T01:48:15.144799Z",
     "iopub.status.idle": "2022-11-23T01:48:15.165643Z",
     "shell.execute_reply": "2022-11-23T01:48:15.164295Z"
    },
    "papermill": {
     "duration": 0.04857,
     "end_time": "2022-11-23T01:48:15.168588",
     "exception": false,
     "start_time": "2022-11-23T01:48:15.120018",
     "status": "completed"
    },
    "tags": []
   },
   "outputs": [
    {
     "data": {
      "text/html": [
       "<div>\n",
       "<style scoped>\n",
       "    .dataframe tbody tr th:only-of-type {\n",
       "        vertical-align: middle;\n",
       "    }\n",
       "\n",
       "    .dataframe tbody tr th {\n",
       "        vertical-align: top;\n",
       "    }\n",
       "\n",
       "    .dataframe thead th {\n",
       "        text-align: right;\n",
       "    }\n",
       "</style>\n",
       "<table border=\"1\" class=\"dataframe\">\n",
       "  <thead>\n",
       "    <tr style=\"text-align: right;\">\n",
       "      <th></th>\n",
       "      <th>test_rmse</th>\n",
       "      <th>test_mae</th>\n",
       "      <th>fit_time</th>\n",
       "      <th>test_time</th>\n",
       "    </tr>\n",
       "    <tr>\n",
       "      <th>Algorithm</th>\n",
       "      <th></th>\n",
       "      <th></th>\n",
       "      <th></th>\n",
       "      <th></th>\n",
       "    </tr>\n",
       "  </thead>\n",
       "  <tbody>\n",
       "    <tr>\n",
       "      <th>Pearson-UserCF</th>\n",
       "      <td>0.998116</td>\n",
       "      <td>0.772638</td>\n",
       "      <td>0.702471</td>\n",
       "      <td>2.001863</td>\n",
       "    </tr>\n",
       "    <tr>\n",
       "      <th>Cosine-ItemCF</th>\n",
       "      <td>0.995659</td>\n",
       "      <td>0.774976</td>\n",
       "      <td>20.521248</td>\n",
       "      <td>9.793159</td>\n",
       "    </tr>\n",
       "    <tr>\n",
       "      <th>Cosine-UserCF</th>\n",
       "      <td>0.993968</td>\n",
       "      <td>0.768239</td>\n",
       "      <td>0.512294</td>\n",
       "      <td>2.025649</td>\n",
       "    </tr>\n",
       "    <tr>\n",
       "      <th>Pearson-ItemCF</th>\n",
       "      <td>0.989018</td>\n",
       "      <td>0.767845</td>\n",
       "      <td>27.688312</td>\n",
       "      <td>10.169672</td>\n",
       "    </tr>\n",
       "    <tr>\n",
       "      <th>MSD-UserCF</th>\n",
       "      <td>0.968291</td>\n",
       "      <td>0.744513</td>\n",
       "      <td>0.257499</td>\n",
       "      <td>2.157526</td>\n",
       "    </tr>\n",
       "    <tr>\n",
       "      <th>MSD-ItemCF</th>\n",
       "      <td>0.935090</td>\n",
       "      <td>0.721387</td>\n",
       "      <td>7.139881</td>\n",
       "      <td>10.297349</td>\n",
       "    </tr>\n",
       "  </tbody>\n",
       "</table>\n",
       "</div>"
      ],
      "text/plain": [
       "                test_rmse  test_mae   fit_time  test_time\n",
       "Algorithm                                                \n",
       "Pearson-UserCF   0.998116  0.772638   0.702471   2.001863\n",
       "Cosine-ItemCF    0.995659  0.774976  20.521248   9.793159\n",
       "Cosine-UserCF    0.993968  0.768239   0.512294   2.025649\n",
       "Pearson-ItemCF   0.989018  0.767845  27.688312  10.169672\n",
       "MSD-UserCF       0.968291  0.744513   0.257499   2.157526\n",
       "MSD-ItemCF       0.935090  0.721387   7.139881  10.297349"
      ]
     },
     "execution_count": 12,
     "metadata": {},
     "output_type": "execute_result"
    }
   ],
   "source": [
    "# udpate algorithm names \n",
    "new_algorithms2 = ['Cosine-UserCF','MSD-UserCF','Pearson-UserCF','Cosine-ItemCF','MSD-ItemCF','Pearson-ItemCF']\n",
    "benchmark2['Algorithm'] = new_algorithms2\n",
    "\n",
    "# store results\n",
    "results2 = benchmark2.set_index('Algorithm').sort_values('test_rmse', ascending=False)\n",
    "results2"
   ]
  },
  {
   "cell_type": "code",
   "execution_count": 13,
   "id": "1dc37d29",
   "metadata": {
    "execution": {
     "iopub.execute_input": "2022-11-23T01:48:15.217331Z",
     "iopub.status.busy": "2022-11-23T01:48:15.216103Z",
     "iopub.status.idle": "2022-11-23T01:48:15.230578Z",
     "shell.execute_reply": "2022-11-23T01:48:15.229300Z"
    },
    "papermill": {
     "duration": 0.041652,
     "end_time": "2022-11-23T01:48:15.233665",
     "exception": false,
     "start_time": "2022-11-23T01:48:15.192013",
     "status": "completed"
    },
    "tags": []
   },
   "outputs": [],
   "source": [
    "# plotting the results\n",
    "\n",
    "# prepare the data for plotting\n",
    "data = results2[['test_rmse', 'test_mae']]\n",
    "grid = data.values\n",
    "\n",
    "# create axis labels\n",
    "x_axis = [label.split('_')[1].upper() for label in data.columns.tolist()]\n",
    "y_axis = data.index.tolist()\n",
    "\n",
    "x_label = 'Function'\n",
    "y_label = 'Algorithm'\n",
    "\n",
    "\n"
   ]
  },
  {
   "cell_type": "code",
   "execution_count": 14,
   "id": "2ea09d07",
   "metadata": {
    "execution": {
     "iopub.execute_input": "2022-11-23T01:48:15.281382Z",
     "iopub.status.busy": "2022-11-23T01:48:15.280205Z",
     "iopub.status.idle": "2022-11-23T01:48:15.293631Z",
     "shell.execute_reply": "2022-11-23T01:48:15.292315Z"
    },
    "papermill": {
     "duration": 0.040644,
     "end_time": "2022-11-23T01:48:15.296722",
     "exception": false,
     "start_time": "2022-11-23T01:48:15.256078",
     "status": "completed"
    },
    "tags": []
   },
   "outputs": [],
   "source": [
    "# get annotations and hovertext\n",
    "hovertexts = []\n",
    "annotations = []\n",
    "\n",
    "for i, y_value in enumerate(y_axis):\n",
    "    row = []\n",
    "    for j, x_value in enumerate(x_axis):\n",
    "        annotation = grid[i, j]\n",
    "        row.append('Error: {:.4f}{}: {}{}: {} Fit Time: {:.3f}s Test Time: {:.3f}s'.format(annotation, y_label, y_value ,x_label, x_value,\n",
    "                   results2.loc[y_value]['fit_time'],\n",
    "                   results2.loc[y_value]['test_time']))\n",
    "        annotations.append(dict(x=x_value, y=y_value, text='{:.4f}'.format(annotation), ax=0, ay=0, font=dict(color='#000000')))\n",
    "    hovertexts.append(row)\n",
    "\n"
   ]
  },
  {
   "cell_type": "code",
   "execution_count": 15,
   "id": "89e311f9",
   "metadata": {
    "execution": {
     "iopub.execute_input": "2022-11-23T01:48:15.344559Z",
     "iopub.status.busy": "2022-11-23T01:48:15.343186Z",
     "iopub.status.idle": "2022-11-23T01:48:15.490058Z",
     "shell.execute_reply": "2022-11-23T01:48:15.488497Z"
    },
    "papermill": {
     "duration": 0.174293,
     "end_time": "2022-11-23T01:48:15.493605",
     "exception": false,
     "start_time": "2022-11-23T01:48:15.319312",
     "status": "completed"
    },
    "tags": []
   },
   "outputs": [],
   "source": [
    "# create trace\n",
    "trace = go.Heatmap(x = x_axis,\n",
    "                   y = y_axis,\n",
    "                   z = data.values,\n",
    "                   text = hovertexts,\n",
    "                   hoverinfo = 'text',\n",
    "                   colorscale = 'Picnic',\n",
    "                   colorbar = dict(title = 'Error'))\n",
    "\n",
    "# Create layout\n",
    "layout = go.Layout(title = 'Cross-validated Comparison of Algorithms',\n",
    "                   xaxis = dict(title = x_label),\n",
    "                   yaxis = dict(title = y_label,\n",
    "                                tickangle = -40),\n",
    "                   annotations = annotations)\n",
    "\n"
   ]
  },
  {
   "cell_type": "code",
   "execution_count": 16,
   "id": "5a92f2af",
   "metadata": {
    "execution": {
     "iopub.execute_input": "2022-11-23T01:48:15.541501Z",
     "iopub.status.busy": "2022-11-23T01:48:15.540792Z",
     "iopub.status.idle": "2022-11-23T01:48:15.596397Z",
     "shell.execute_reply": "2022-11-23T01:48:15.594974Z"
    },
    "papermill": {
     "duration": 0.083101,
     "end_time": "2022-11-23T01:48:15.599425",
     "exception": false,
     "start_time": "2022-11-23T01:48:15.516324",
     "status": "completed"
    },
    "tags": []
   },
   "outputs": [
    {
     "data": {
      "application/vnd.plotly.v1+json": {
       "config": {
        "plotlyServerURL": "https://plot.ly"
       },
       "data": [
        {
         "colorbar": {
          "title": {
           "text": "Error"
          }
         },
         "colorscale": [
          [
           0.0,
           "rgb(0,0,255)"
          ],
          [
           0.1,
           "rgb(51,153,255)"
          ],
          [
           0.2,
           "rgb(102,204,255)"
          ],
          [
           0.3,
           "rgb(153,204,255)"
          ],
          [
           0.4,
           "rgb(204,204,255)"
          ],
          [
           0.5,
           "rgb(255,255,255)"
          ],
          [
           0.6,
           "rgb(255,204,255)"
          ],
          [
           0.7,
           "rgb(255,153,255)"
          ],
          [
           0.8,
           "rgb(255,102,204)"
          ],
          [
           0.9,
           "rgb(255,102,102)"
          ],
          [
           1.0,
           "rgb(255,0,0)"
          ]
         ],
         "hoverinfo": "text",
         "text": [
          [
           "Error: 0.9981Algorithm: Pearson-UserCFFunction: RMSE Fit Time: 0.702s Test Time: 2.002s",
           "Error: 0.7726Algorithm: Pearson-UserCFFunction: MAE Fit Time: 0.702s Test Time: 2.002s"
          ],
          [
           "Error: 0.9957Algorithm: Cosine-ItemCFFunction: RMSE Fit Time: 20.521s Test Time: 9.793s",
           "Error: 0.7750Algorithm: Cosine-ItemCFFunction: MAE Fit Time: 20.521s Test Time: 9.793s"
          ],
          [
           "Error: 0.9940Algorithm: Cosine-UserCFFunction: RMSE Fit Time: 0.512s Test Time: 2.026s",
           "Error: 0.7682Algorithm: Cosine-UserCFFunction: MAE Fit Time: 0.512s Test Time: 2.026s"
          ],
          [
           "Error: 0.9890Algorithm: Pearson-ItemCFFunction: RMSE Fit Time: 27.688s Test Time: 10.170s",
           "Error: 0.7678Algorithm: Pearson-ItemCFFunction: MAE Fit Time: 27.688s Test Time: 10.170s"
          ],
          [
           "Error: 0.9683Algorithm: MSD-UserCFFunction: RMSE Fit Time: 0.257s Test Time: 2.158s",
           "Error: 0.7445Algorithm: MSD-UserCFFunction: MAE Fit Time: 0.257s Test Time: 2.158s"
          ],
          [
           "Error: 0.9351Algorithm: MSD-ItemCFFunction: RMSE Fit Time: 7.140s Test Time: 10.297s",
           "Error: 0.7214Algorithm: MSD-ItemCFFunction: MAE Fit Time: 7.140s Test Time: 10.297s"
          ]
         ],
         "type": "heatmap",
         "x": [
          "RMSE",
          "MAE"
         ],
         "y": [
          "Pearson-UserCF",
          "Cosine-ItemCF",
          "Cosine-UserCF",
          "Pearson-ItemCF",
          "MSD-UserCF",
          "MSD-ItemCF"
         ],
         "z": [
          [
           0.9981159101118046,
           0.7726378578024979
          ],
          [
           0.9956591465853883,
           0.7749761255672662
          ],
          [
           0.9939680549751003,
           0.7682392750699802
          ],
          [
           0.989018071980451,
           0.7678453067097927
          ],
          [
           0.9682906487878185,
           0.7445131191128268
          ],
          [
           0.9350904546630086,
           0.7213868945684379
          ]
         ]
        }
       ],
       "layout": {
        "annotations": [
         {
          "ax": 0,
          "ay": 0,
          "font": {
           "color": "#000000"
          },
          "text": "0.9981",
          "x": "RMSE",
          "y": "Pearson-UserCF"
         },
         {
          "ax": 0,
          "ay": 0,
          "font": {
           "color": "#000000"
          },
          "text": "0.7726",
          "x": "MAE",
          "y": "Pearson-UserCF"
         },
         {
          "ax": 0,
          "ay": 0,
          "font": {
           "color": "#000000"
          },
          "text": "0.9957",
          "x": "RMSE",
          "y": "Cosine-ItemCF"
         },
         {
          "ax": 0,
          "ay": 0,
          "font": {
           "color": "#000000"
          },
          "text": "0.7750",
          "x": "MAE",
          "y": "Cosine-ItemCF"
         },
         {
          "ax": 0,
          "ay": 0,
          "font": {
           "color": "#000000"
          },
          "text": "0.9940",
          "x": "RMSE",
          "y": "Cosine-UserCF"
         },
         {
          "ax": 0,
          "ay": 0,
          "font": {
           "color": "#000000"
          },
          "text": "0.7682",
          "x": "MAE",
          "y": "Cosine-UserCF"
         },
         {
          "ax": 0,
          "ay": 0,
          "font": {
           "color": "#000000"
          },
          "text": "0.9890",
          "x": "RMSE",
          "y": "Pearson-ItemCF"
         },
         {
          "ax": 0,
          "ay": 0,
          "font": {
           "color": "#000000"
          },
          "text": "0.7678",
          "x": "MAE",
          "y": "Pearson-ItemCF"
         },
         {
          "ax": 0,
          "ay": 0,
          "font": {
           "color": "#000000"
          },
          "text": "0.9683",
          "x": "RMSE",
          "y": "MSD-UserCF"
         },
         {
          "ax": 0,
          "ay": 0,
          "font": {
           "color": "#000000"
          },
          "text": "0.7445",
          "x": "MAE",
          "y": "MSD-UserCF"
         },
         {
          "ax": 0,
          "ay": 0,
          "font": {
           "color": "#000000"
          },
          "text": "0.9351",
          "x": "RMSE",
          "y": "MSD-ItemCF"
         },
         {
          "ax": 0,
          "ay": 0,
          "font": {
           "color": "#000000"
          },
          "text": "0.7214",
          "x": "MAE",
          "y": "MSD-ItemCF"
         }
        ],
        "template": {
         "data": {
          "bar": [
           {
            "error_x": {
             "color": "#2a3f5f"
            },
            "error_y": {
             "color": "#2a3f5f"
            },
            "marker": {
             "line": {
              "color": "#E5ECF6",
              "width": 0.5
             },
             "pattern": {
              "fillmode": "overlay",
              "size": 10,
              "solidity": 0.2
             }
            },
            "type": "bar"
           }
          ],
          "barpolar": [
           {
            "marker": {
             "line": {
              "color": "#E5ECF6",
              "width": 0.5
             },
             "pattern": {
              "fillmode": "overlay",
              "size": 10,
              "solidity": 0.2
             }
            },
            "type": "barpolar"
           }
          ],
          "carpet": [
           {
            "aaxis": {
             "endlinecolor": "#2a3f5f",
             "gridcolor": "white",
             "linecolor": "white",
             "minorgridcolor": "white",
             "startlinecolor": "#2a3f5f"
            },
            "baxis": {
             "endlinecolor": "#2a3f5f",
             "gridcolor": "white",
             "linecolor": "white",
             "minorgridcolor": "white",
             "startlinecolor": "#2a3f5f"
            },
            "type": "carpet"
           }
          ],
          "choropleth": [
           {
            "colorbar": {
             "outlinewidth": 0,
             "ticks": ""
            },
            "type": "choropleth"
           }
          ],
          "contour": [
           {
            "colorbar": {
             "outlinewidth": 0,
             "ticks": ""
            },
            "colorscale": [
             [
              0.0,
              "#0d0887"
             ],
             [
              0.1111111111111111,
              "#46039f"
             ],
             [
              0.2222222222222222,
              "#7201a8"
             ],
             [
              0.3333333333333333,
              "#9c179e"
             ],
             [
              0.4444444444444444,
              "#bd3786"
             ],
             [
              0.5555555555555556,
              "#d8576b"
             ],
             [
              0.6666666666666666,
              "#ed7953"
             ],
             [
              0.7777777777777778,
              "#fb9f3a"
             ],
             [
              0.8888888888888888,
              "#fdca26"
             ],
             [
              1.0,
              "#f0f921"
             ]
            ],
            "type": "contour"
           }
          ],
          "contourcarpet": [
           {
            "colorbar": {
             "outlinewidth": 0,
             "ticks": ""
            },
            "type": "contourcarpet"
           }
          ],
          "heatmap": [
           {
            "colorbar": {
             "outlinewidth": 0,
             "ticks": ""
            },
            "colorscale": [
             [
              0.0,
              "#0d0887"
             ],
             [
              0.1111111111111111,
              "#46039f"
             ],
             [
              0.2222222222222222,
              "#7201a8"
             ],
             [
              0.3333333333333333,
              "#9c179e"
             ],
             [
              0.4444444444444444,
              "#bd3786"
             ],
             [
              0.5555555555555556,
              "#d8576b"
             ],
             [
              0.6666666666666666,
              "#ed7953"
             ],
             [
              0.7777777777777778,
              "#fb9f3a"
             ],
             [
              0.8888888888888888,
              "#fdca26"
             ],
             [
              1.0,
              "#f0f921"
             ]
            ],
            "type": "heatmap"
           }
          ],
          "heatmapgl": [
           {
            "colorbar": {
             "outlinewidth": 0,
             "ticks": ""
            },
            "colorscale": [
             [
              0.0,
              "#0d0887"
             ],
             [
              0.1111111111111111,
              "#46039f"
             ],
             [
              0.2222222222222222,
              "#7201a8"
             ],
             [
              0.3333333333333333,
              "#9c179e"
             ],
             [
              0.4444444444444444,
              "#bd3786"
             ],
             [
              0.5555555555555556,
              "#d8576b"
             ],
             [
              0.6666666666666666,
              "#ed7953"
             ],
             [
              0.7777777777777778,
              "#fb9f3a"
             ],
             [
              0.8888888888888888,
              "#fdca26"
             ],
             [
              1.0,
              "#f0f921"
             ]
            ],
            "type": "heatmapgl"
           }
          ],
          "histogram": [
           {
            "marker": {
             "pattern": {
              "fillmode": "overlay",
              "size": 10,
              "solidity": 0.2
             }
            },
            "type": "histogram"
           }
          ],
          "histogram2d": [
           {
            "colorbar": {
             "outlinewidth": 0,
             "ticks": ""
            },
            "colorscale": [
             [
              0.0,
              "#0d0887"
             ],
             [
              0.1111111111111111,
              "#46039f"
             ],
             [
              0.2222222222222222,
              "#7201a8"
             ],
             [
              0.3333333333333333,
              "#9c179e"
             ],
             [
              0.4444444444444444,
              "#bd3786"
             ],
             [
              0.5555555555555556,
              "#d8576b"
             ],
             [
              0.6666666666666666,
              "#ed7953"
             ],
             [
              0.7777777777777778,
              "#fb9f3a"
             ],
             [
              0.8888888888888888,
              "#fdca26"
             ],
             [
              1.0,
              "#f0f921"
             ]
            ],
            "type": "histogram2d"
           }
          ],
          "histogram2dcontour": [
           {
            "colorbar": {
             "outlinewidth": 0,
             "ticks": ""
            },
            "colorscale": [
             [
              0.0,
              "#0d0887"
             ],
             [
              0.1111111111111111,
              "#46039f"
             ],
             [
              0.2222222222222222,
              "#7201a8"
             ],
             [
              0.3333333333333333,
              "#9c179e"
             ],
             [
              0.4444444444444444,
              "#bd3786"
             ],
             [
              0.5555555555555556,
              "#d8576b"
             ],
             [
              0.6666666666666666,
              "#ed7953"
             ],
             [
              0.7777777777777778,
              "#fb9f3a"
             ],
             [
              0.8888888888888888,
              "#fdca26"
             ],
             [
              1.0,
              "#f0f921"
             ]
            ],
            "type": "histogram2dcontour"
           }
          ],
          "mesh3d": [
           {
            "colorbar": {
             "outlinewidth": 0,
             "ticks": ""
            },
            "type": "mesh3d"
           }
          ],
          "parcoords": [
           {
            "line": {
             "colorbar": {
              "outlinewidth": 0,
              "ticks": ""
             }
            },
            "type": "parcoords"
           }
          ],
          "pie": [
           {
            "automargin": true,
            "type": "pie"
           }
          ],
          "scatter": [
           {
            "fillpattern": {
             "fillmode": "overlay",
             "size": 10,
             "solidity": 0.2
            },
            "type": "scatter"
           }
          ],
          "scatter3d": [
           {
            "line": {
             "colorbar": {
              "outlinewidth": 0,
              "ticks": ""
             }
            },
            "marker": {
             "colorbar": {
              "outlinewidth": 0,
              "ticks": ""
             }
            },
            "type": "scatter3d"
           }
          ],
          "scattercarpet": [
           {
            "marker": {
             "colorbar": {
              "outlinewidth": 0,
              "ticks": ""
             }
            },
            "type": "scattercarpet"
           }
          ],
          "scattergeo": [
           {
            "marker": {
             "colorbar": {
              "outlinewidth": 0,
              "ticks": ""
             }
            },
            "type": "scattergeo"
           }
          ],
          "scattergl": [
           {
            "marker": {
             "colorbar": {
              "outlinewidth": 0,
              "ticks": ""
             }
            },
            "type": "scattergl"
           }
          ],
          "scattermapbox": [
           {
            "marker": {
             "colorbar": {
              "outlinewidth": 0,
              "ticks": ""
             }
            },
            "type": "scattermapbox"
           }
          ],
          "scatterpolar": [
           {
            "marker": {
             "colorbar": {
              "outlinewidth": 0,
              "ticks": ""
             }
            },
            "type": "scatterpolar"
           }
          ],
          "scatterpolargl": [
           {
            "marker": {
             "colorbar": {
              "outlinewidth": 0,
              "ticks": ""
             }
            },
            "type": "scatterpolargl"
           }
          ],
          "scatterternary": [
           {
            "marker": {
             "colorbar": {
              "outlinewidth": 0,
              "ticks": ""
             }
            },
            "type": "scatterternary"
           }
          ],
          "surface": [
           {
            "colorbar": {
             "outlinewidth": 0,
             "ticks": ""
            },
            "colorscale": [
             [
              0.0,
              "#0d0887"
             ],
             [
              0.1111111111111111,
              "#46039f"
             ],
             [
              0.2222222222222222,
              "#7201a8"
             ],
             [
              0.3333333333333333,
              "#9c179e"
             ],
             [
              0.4444444444444444,
              "#bd3786"
             ],
             [
              0.5555555555555556,
              "#d8576b"
             ],
             [
              0.6666666666666666,
              "#ed7953"
             ],
             [
              0.7777777777777778,
              "#fb9f3a"
             ],
             [
              0.8888888888888888,
              "#fdca26"
             ],
             [
              1.0,
              "#f0f921"
             ]
            ],
            "type": "surface"
           }
          ],
          "table": [
           {
            "cells": {
             "fill": {
              "color": "#EBF0F8"
             },
             "line": {
              "color": "white"
             }
            },
            "header": {
             "fill": {
              "color": "#C8D4E3"
             },
             "line": {
              "color": "white"
             }
            },
            "type": "table"
           }
          ]
         },
         "layout": {
          "annotationdefaults": {
           "arrowcolor": "#2a3f5f",
           "arrowhead": 0,
           "arrowwidth": 1
          },
          "autotypenumbers": "strict",
          "coloraxis": {
           "colorbar": {
            "outlinewidth": 0,
            "ticks": ""
           }
          },
          "colorscale": {
           "diverging": [
            [
             0,
             "#8e0152"
            ],
            [
             0.1,
             "#c51b7d"
            ],
            [
             0.2,
             "#de77ae"
            ],
            [
             0.3,
             "#f1b6da"
            ],
            [
             0.4,
             "#fde0ef"
            ],
            [
             0.5,
             "#f7f7f7"
            ],
            [
             0.6,
             "#e6f5d0"
            ],
            [
             0.7,
             "#b8e186"
            ],
            [
             0.8,
             "#7fbc41"
            ],
            [
             0.9,
             "#4d9221"
            ],
            [
             1,
             "#276419"
            ]
           ],
           "sequential": [
            [
             0.0,
             "#0d0887"
            ],
            [
             0.1111111111111111,
             "#46039f"
            ],
            [
             0.2222222222222222,
             "#7201a8"
            ],
            [
             0.3333333333333333,
             "#9c179e"
            ],
            [
             0.4444444444444444,
             "#bd3786"
            ],
            [
             0.5555555555555556,
             "#d8576b"
            ],
            [
             0.6666666666666666,
             "#ed7953"
            ],
            [
             0.7777777777777778,
             "#fb9f3a"
            ],
            [
             0.8888888888888888,
             "#fdca26"
            ],
            [
             1.0,
             "#f0f921"
            ]
           ],
           "sequentialminus": [
            [
             0.0,
             "#0d0887"
            ],
            [
             0.1111111111111111,
             "#46039f"
            ],
            [
             0.2222222222222222,
             "#7201a8"
            ],
            [
             0.3333333333333333,
             "#9c179e"
            ],
            [
             0.4444444444444444,
             "#bd3786"
            ],
            [
             0.5555555555555556,
             "#d8576b"
            ],
            [
             0.6666666666666666,
             "#ed7953"
            ],
            [
             0.7777777777777778,
             "#fb9f3a"
            ],
            [
             0.8888888888888888,
             "#fdca26"
            ],
            [
             1.0,
             "#f0f921"
            ]
           ]
          },
          "colorway": [
           "#636efa",
           "#EF553B",
           "#00cc96",
           "#ab63fa",
           "#FFA15A",
           "#19d3f3",
           "#FF6692",
           "#B6E880",
           "#FF97FF",
           "#FECB52"
          ],
          "font": {
           "color": "#2a3f5f"
          },
          "geo": {
           "bgcolor": "white",
           "lakecolor": "white",
           "landcolor": "#E5ECF6",
           "showlakes": true,
           "showland": true,
           "subunitcolor": "white"
          },
          "hoverlabel": {
           "align": "left"
          },
          "hovermode": "closest",
          "mapbox": {
           "style": "light"
          },
          "paper_bgcolor": "white",
          "plot_bgcolor": "#E5ECF6",
          "polar": {
           "angularaxis": {
            "gridcolor": "white",
            "linecolor": "white",
            "ticks": ""
           },
           "bgcolor": "#E5ECF6",
           "radialaxis": {
            "gridcolor": "white",
            "linecolor": "white",
            "ticks": ""
           }
          },
          "scene": {
           "xaxis": {
            "backgroundcolor": "#E5ECF6",
            "gridcolor": "white",
            "gridwidth": 2,
            "linecolor": "white",
            "showbackground": true,
            "ticks": "",
            "zerolinecolor": "white"
           },
           "yaxis": {
            "backgroundcolor": "#E5ECF6",
            "gridcolor": "white",
            "gridwidth": 2,
            "linecolor": "white",
            "showbackground": true,
            "ticks": "",
            "zerolinecolor": "white"
           },
           "zaxis": {
            "backgroundcolor": "#E5ECF6",
            "gridcolor": "white",
            "gridwidth": 2,
            "linecolor": "white",
            "showbackground": true,
            "ticks": "",
            "zerolinecolor": "white"
           }
          },
          "shapedefaults": {
           "line": {
            "color": "#2a3f5f"
           }
          },
          "ternary": {
           "aaxis": {
            "gridcolor": "white",
            "linecolor": "white",
            "ticks": ""
           },
           "baxis": {
            "gridcolor": "white",
            "linecolor": "white",
            "ticks": ""
           },
           "bgcolor": "#E5ECF6",
           "caxis": {
            "gridcolor": "white",
            "linecolor": "white",
            "ticks": ""
           }
          },
          "title": {
           "x": 0.05
          },
          "xaxis": {
           "automargin": true,
           "gridcolor": "white",
           "linecolor": "white",
           "ticks": "",
           "title": {
            "standoff": 15
           },
           "zerolinecolor": "white",
           "zerolinewidth": 2
          },
          "yaxis": {
           "automargin": true,
           "gridcolor": "white",
           "linecolor": "white",
           "ticks": "",
           "title": {
            "standoff": 15
           },
           "zerolinecolor": "white",
           "zerolinewidth": 2
          }
         }
        },
        "title": {
         "text": "Cross-validated Comparison of Algorithms"
        },
        "xaxis": {
         "title": {
          "text": "Function"
         }
        },
        "yaxis": {
         "tickangle": -40,
         "title": {
          "text": "Algorithm"
         }
        }
       }
      },
      "text/html": [
       "<div>                            <div id=\"3f2d3d2c-2f32-45ae-acb8-d1dc743a377d\" class=\"plotly-graph-div\" style=\"height:525px; width:100%;\"></div>            <script type=\"text/javascript\">                require([\"plotly\"], function(Plotly) {                    window.PLOTLYENV=window.PLOTLYENV || {};                                    if (document.getElementById(\"3f2d3d2c-2f32-45ae-acb8-d1dc743a377d\")) {                    Plotly.newPlot(                        \"3f2d3d2c-2f32-45ae-acb8-d1dc743a377d\",                        [{\"colorbar\":{\"title\":{\"text\":\"Error\"}},\"colorscale\":[[0.0,\"rgb(0,0,255)\"],[0.1,\"rgb(51,153,255)\"],[0.2,\"rgb(102,204,255)\"],[0.3,\"rgb(153,204,255)\"],[0.4,\"rgb(204,204,255)\"],[0.5,\"rgb(255,255,255)\"],[0.6,\"rgb(255,204,255)\"],[0.7,\"rgb(255,153,255)\"],[0.8,\"rgb(255,102,204)\"],[0.9,\"rgb(255,102,102)\"],[1.0,\"rgb(255,0,0)\"]],\"hoverinfo\":\"text\",\"text\":[[\"Error: 0.9981Algorithm: Pearson-UserCFFunction: RMSE Fit Time: 0.702s Test Time: 2.002s\",\"Error: 0.7726Algorithm: Pearson-UserCFFunction: MAE Fit Time: 0.702s Test Time: 2.002s\"],[\"Error: 0.9957Algorithm: Cosine-ItemCFFunction: RMSE Fit Time: 20.521s Test Time: 9.793s\",\"Error: 0.7750Algorithm: Cosine-ItemCFFunction: MAE Fit Time: 20.521s Test Time: 9.793s\"],[\"Error: 0.9940Algorithm: Cosine-UserCFFunction: RMSE Fit Time: 0.512s Test Time: 2.026s\",\"Error: 0.7682Algorithm: Cosine-UserCFFunction: MAE Fit Time: 0.512s Test Time: 2.026s\"],[\"Error: 0.9890Algorithm: Pearson-ItemCFFunction: RMSE Fit Time: 27.688s Test Time: 10.170s\",\"Error: 0.7678Algorithm: Pearson-ItemCFFunction: MAE Fit Time: 27.688s Test Time: 10.170s\"],[\"Error: 0.9683Algorithm: MSD-UserCFFunction: RMSE Fit Time: 0.257s Test Time: 2.158s\",\"Error: 0.7445Algorithm: MSD-UserCFFunction: MAE Fit Time: 0.257s Test Time: 2.158s\"],[\"Error: 0.9351Algorithm: MSD-ItemCFFunction: RMSE Fit Time: 7.140s Test Time: 10.297s\",\"Error: 0.7214Algorithm: MSD-ItemCFFunction: MAE Fit Time: 7.140s Test Time: 10.297s\"]],\"x\":[\"RMSE\",\"MAE\"],\"y\":[\"Pearson-UserCF\",\"Cosine-ItemCF\",\"Cosine-UserCF\",\"Pearson-ItemCF\",\"MSD-UserCF\",\"MSD-ItemCF\"],\"z\":[[0.9981159101118046,0.7726378578024979],[0.9956591465853883,0.7749761255672662],[0.9939680549751003,0.7682392750699802],[0.989018071980451,0.7678453067097927],[0.9682906487878185,0.7445131191128268],[0.9350904546630086,0.7213868945684379]],\"type\":\"heatmap\"}],                        {\"annotations\":[{\"ax\":0,\"ay\":0,\"font\":{\"color\":\"#000000\"},\"text\":\"0.9981\",\"x\":\"RMSE\",\"y\":\"Pearson-UserCF\"},{\"ax\":0,\"ay\":0,\"font\":{\"color\":\"#000000\"},\"text\":\"0.7726\",\"x\":\"MAE\",\"y\":\"Pearson-UserCF\"},{\"ax\":0,\"ay\":0,\"font\":{\"color\":\"#000000\"},\"text\":\"0.9957\",\"x\":\"RMSE\",\"y\":\"Cosine-ItemCF\"},{\"ax\":0,\"ay\":0,\"font\":{\"color\":\"#000000\"},\"text\":\"0.7750\",\"x\":\"MAE\",\"y\":\"Cosine-ItemCF\"},{\"ax\":0,\"ay\":0,\"font\":{\"color\":\"#000000\"},\"text\":\"0.9940\",\"x\":\"RMSE\",\"y\":\"Cosine-UserCF\"},{\"ax\":0,\"ay\":0,\"font\":{\"color\":\"#000000\"},\"text\":\"0.7682\",\"x\":\"MAE\",\"y\":\"Cosine-UserCF\"},{\"ax\":0,\"ay\":0,\"font\":{\"color\":\"#000000\"},\"text\":\"0.9890\",\"x\":\"RMSE\",\"y\":\"Pearson-ItemCF\"},{\"ax\":0,\"ay\":0,\"font\":{\"color\":\"#000000\"},\"text\":\"0.7678\",\"x\":\"MAE\",\"y\":\"Pearson-ItemCF\"},{\"ax\":0,\"ay\":0,\"font\":{\"color\":\"#000000\"},\"text\":\"0.9683\",\"x\":\"RMSE\",\"y\":\"MSD-UserCF\"},{\"ax\":0,\"ay\":0,\"font\":{\"color\":\"#000000\"},\"text\":\"0.7445\",\"x\":\"MAE\",\"y\":\"MSD-UserCF\"},{\"ax\":0,\"ay\":0,\"font\":{\"color\":\"#000000\"},\"text\":\"0.9351\",\"x\":\"RMSE\",\"y\":\"MSD-ItemCF\"},{\"ax\":0,\"ay\":0,\"font\":{\"color\":\"#000000\"},\"text\":\"0.7214\",\"x\":\"MAE\",\"y\":\"MSD-ItemCF\"}],\"title\":{\"text\":\"Cross-validated Comparison of Algorithms\"},\"xaxis\":{\"title\":{\"text\":\"Function\"}},\"yaxis\":{\"tickangle\":-40,\"title\":{\"text\":\"Algorithm\"}},\"template\":{\"data\":{\"histogram2dcontour\":[{\"type\":\"histogram2dcontour\",\"colorbar\":{\"outlinewidth\":0,\"ticks\":\"\"},\"colorscale\":[[0.0,\"#0d0887\"],[0.1111111111111111,\"#46039f\"],[0.2222222222222222,\"#7201a8\"],[0.3333333333333333,\"#9c179e\"],[0.4444444444444444,\"#bd3786\"],[0.5555555555555556,\"#d8576b\"],[0.6666666666666666,\"#ed7953\"],[0.7777777777777778,\"#fb9f3a\"],[0.8888888888888888,\"#fdca26\"],[1.0,\"#f0f921\"]]}],\"choropleth\":[{\"type\":\"choropleth\",\"colorbar\":{\"outlinewidth\":0,\"ticks\":\"\"}}],\"histogram2d\":[{\"type\":\"histogram2d\",\"colorbar\":{\"outlinewidth\":0,\"ticks\":\"\"},\"colorscale\":[[0.0,\"#0d0887\"],[0.1111111111111111,\"#46039f\"],[0.2222222222222222,\"#7201a8\"],[0.3333333333333333,\"#9c179e\"],[0.4444444444444444,\"#bd3786\"],[0.5555555555555556,\"#d8576b\"],[0.6666666666666666,\"#ed7953\"],[0.7777777777777778,\"#fb9f3a\"],[0.8888888888888888,\"#fdca26\"],[1.0,\"#f0f921\"]]}],\"heatmap\":[{\"type\":\"heatmap\",\"colorbar\":{\"outlinewidth\":0,\"ticks\":\"\"},\"colorscale\":[[0.0,\"#0d0887\"],[0.1111111111111111,\"#46039f\"],[0.2222222222222222,\"#7201a8\"],[0.3333333333333333,\"#9c179e\"],[0.4444444444444444,\"#bd3786\"],[0.5555555555555556,\"#d8576b\"],[0.6666666666666666,\"#ed7953\"],[0.7777777777777778,\"#fb9f3a\"],[0.8888888888888888,\"#fdca26\"],[1.0,\"#f0f921\"]]}],\"heatmapgl\":[{\"type\":\"heatmapgl\",\"colorbar\":{\"outlinewidth\":0,\"ticks\":\"\"},\"colorscale\":[[0.0,\"#0d0887\"],[0.1111111111111111,\"#46039f\"],[0.2222222222222222,\"#7201a8\"],[0.3333333333333333,\"#9c179e\"],[0.4444444444444444,\"#bd3786\"],[0.5555555555555556,\"#d8576b\"],[0.6666666666666666,\"#ed7953\"],[0.7777777777777778,\"#fb9f3a\"],[0.8888888888888888,\"#fdca26\"],[1.0,\"#f0f921\"]]}],\"contourcarpet\":[{\"type\":\"contourcarpet\",\"colorbar\":{\"outlinewidth\":0,\"ticks\":\"\"}}],\"contour\":[{\"type\":\"contour\",\"colorbar\":{\"outlinewidth\":0,\"ticks\":\"\"},\"colorscale\":[[0.0,\"#0d0887\"],[0.1111111111111111,\"#46039f\"],[0.2222222222222222,\"#7201a8\"],[0.3333333333333333,\"#9c179e\"],[0.4444444444444444,\"#bd3786\"],[0.5555555555555556,\"#d8576b\"],[0.6666666666666666,\"#ed7953\"],[0.7777777777777778,\"#fb9f3a\"],[0.8888888888888888,\"#fdca26\"],[1.0,\"#f0f921\"]]}],\"surface\":[{\"type\":\"surface\",\"colorbar\":{\"outlinewidth\":0,\"ticks\":\"\"},\"colorscale\":[[0.0,\"#0d0887\"],[0.1111111111111111,\"#46039f\"],[0.2222222222222222,\"#7201a8\"],[0.3333333333333333,\"#9c179e\"],[0.4444444444444444,\"#bd3786\"],[0.5555555555555556,\"#d8576b\"],[0.6666666666666666,\"#ed7953\"],[0.7777777777777778,\"#fb9f3a\"],[0.8888888888888888,\"#fdca26\"],[1.0,\"#f0f921\"]]}],\"mesh3d\":[{\"type\":\"mesh3d\",\"colorbar\":{\"outlinewidth\":0,\"ticks\":\"\"}}],\"scatter\":[{\"fillpattern\":{\"fillmode\":\"overlay\",\"size\":10,\"solidity\":0.2},\"type\":\"scatter\"}],\"parcoords\":[{\"type\":\"parcoords\",\"line\":{\"colorbar\":{\"outlinewidth\":0,\"ticks\":\"\"}}}],\"scatterpolargl\":[{\"type\":\"scatterpolargl\",\"marker\":{\"colorbar\":{\"outlinewidth\":0,\"ticks\":\"\"}}}],\"bar\":[{\"error_x\":{\"color\":\"#2a3f5f\"},\"error_y\":{\"color\":\"#2a3f5f\"},\"marker\":{\"line\":{\"color\":\"#E5ECF6\",\"width\":0.5},\"pattern\":{\"fillmode\":\"overlay\",\"size\":10,\"solidity\":0.2}},\"type\":\"bar\"}],\"scattergeo\":[{\"type\":\"scattergeo\",\"marker\":{\"colorbar\":{\"outlinewidth\":0,\"ticks\":\"\"}}}],\"scatterpolar\":[{\"type\":\"scatterpolar\",\"marker\":{\"colorbar\":{\"outlinewidth\":0,\"ticks\":\"\"}}}],\"histogram\":[{\"marker\":{\"pattern\":{\"fillmode\":\"overlay\",\"size\":10,\"solidity\":0.2}},\"type\":\"histogram\"}],\"scattergl\":[{\"type\":\"scattergl\",\"marker\":{\"colorbar\":{\"outlinewidth\":0,\"ticks\":\"\"}}}],\"scatter3d\":[{\"type\":\"scatter3d\",\"line\":{\"colorbar\":{\"outlinewidth\":0,\"ticks\":\"\"}},\"marker\":{\"colorbar\":{\"outlinewidth\":0,\"ticks\":\"\"}}}],\"scattermapbox\":[{\"type\":\"scattermapbox\",\"marker\":{\"colorbar\":{\"outlinewidth\":0,\"ticks\":\"\"}}}],\"scatterternary\":[{\"type\":\"scatterternary\",\"marker\":{\"colorbar\":{\"outlinewidth\":0,\"ticks\":\"\"}}}],\"scattercarpet\":[{\"type\":\"scattercarpet\",\"marker\":{\"colorbar\":{\"outlinewidth\":0,\"ticks\":\"\"}}}],\"carpet\":[{\"aaxis\":{\"endlinecolor\":\"#2a3f5f\",\"gridcolor\":\"white\",\"linecolor\":\"white\",\"minorgridcolor\":\"white\",\"startlinecolor\":\"#2a3f5f\"},\"baxis\":{\"endlinecolor\":\"#2a3f5f\",\"gridcolor\":\"white\",\"linecolor\":\"white\",\"minorgridcolor\":\"white\",\"startlinecolor\":\"#2a3f5f\"},\"type\":\"carpet\"}],\"table\":[{\"cells\":{\"fill\":{\"color\":\"#EBF0F8\"},\"line\":{\"color\":\"white\"}},\"header\":{\"fill\":{\"color\":\"#C8D4E3\"},\"line\":{\"color\":\"white\"}},\"type\":\"table\"}],\"barpolar\":[{\"marker\":{\"line\":{\"color\":\"#E5ECF6\",\"width\":0.5},\"pattern\":{\"fillmode\":\"overlay\",\"size\":10,\"solidity\":0.2}},\"type\":\"barpolar\"}],\"pie\":[{\"automargin\":true,\"type\":\"pie\"}]},\"layout\":{\"autotypenumbers\":\"strict\",\"colorway\":[\"#636efa\",\"#EF553B\",\"#00cc96\",\"#ab63fa\",\"#FFA15A\",\"#19d3f3\",\"#FF6692\",\"#B6E880\",\"#FF97FF\",\"#FECB52\"],\"font\":{\"color\":\"#2a3f5f\"},\"hovermode\":\"closest\",\"hoverlabel\":{\"align\":\"left\"},\"paper_bgcolor\":\"white\",\"plot_bgcolor\":\"#E5ECF6\",\"polar\":{\"bgcolor\":\"#E5ECF6\",\"angularaxis\":{\"gridcolor\":\"white\",\"linecolor\":\"white\",\"ticks\":\"\"},\"radialaxis\":{\"gridcolor\":\"white\",\"linecolor\":\"white\",\"ticks\":\"\"}},\"ternary\":{\"bgcolor\":\"#E5ECF6\",\"aaxis\":{\"gridcolor\":\"white\",\"linecolor\":\"white\",\"ticks\":\"\"},\"baxis\":{\"gridcolor\":\"white\",\"linecolor\":\"white\",\"ticks\":\"\"},\"caxis\":{\"gridcolor\":\"white\",\"linecolor\":\"white\",\"ticks\":\"\"}},\"coloraxis\":{\"colorbar\":{\"outlinewidth\":0,\"ticks\":\"\"}},\"colorscale\":{\"sequential\":[[0.0,\"#0d0887\"],[0.1111111111111111,\"#46039f\"],[0.2222222222222222,\"#7201a8\"],[0.3333333333333333,\"#9c179e\"],[0.4444444444444444,\"#bd3786\"],[0.5555555555555556,\"#d8576b\"],[0.6666666666666666,\"#ed7953\"],[0.7777777777777778,\"#fb9f3a\"],[0.8888888888888888,\"#fdca26\"],[1.0,\"#f0f921\"]],\"sequentialminus\":[[0.0,\"#0d0887\"],[0.1111111111111111,\"#46039f\"],[0.2222222222222222,\"#7201a8\"],[0.3333333333333333,\"#9c179e\"],[0.4444444444444444,\"#bd3786\"],[0.5555555555555556,\"#d8576b\"],[0.6666666666666666,\"#ed7953\"],[0.7777777777777778,\"#fb9f3a\"],[0.8888888888888888,\"#fdca26\"],[1.0,\"#f0f921\"]],\"diverging\":[[0,\"#8e0152\"],[0.1,\"#c51b7d\"],[0.2,\"#de77ae\"],[0.3,\"#f1b6da\"],[0.4,\"#fde0ef\"],[0.5,\"#f7f7f7\"],[0.6,\"#e6f5d0\"],[0.7,\"#b8e186\"],[0.8,\"#7fbc41\"],[0.9,\"#4d9221\"],[1,\"#276419\"]]},\"xaxis\":{\"gridcolor\":\"white\",\"linecolor\":\"white\",\"ticks\":\"\",\"title\":{\"standoff\":15},\"zerolinecolor\":\"white\",\"automargin\":true,\"zerolinewidth\":2},\"yaxis\":{\"gridcolor\":\"white\",\"linecolor\":\"white\",\"ticks\":\"\",\"title\":{\"standoff\":15},\"zerolinecolor\":\"white\",\"automargin\":true,\"zerolinewidth\":2},\"scene\":{\"xaxis\":{\"backgroundcolor\":\"#E5ECF6\",\"gridcolor\":\"white\",\"linecolor\":\"white\",\"showbackground\":true,\"ticks\":\"\",\"zerolinecolor\":\"white\",\"gridwidth\":2},\"yaxis\":{\"backgroundcolor\":\"#E5ECF6\",\"gridcolor\":\"white\",\"linecolor\":\"white\",\"showbackground\":true,\"ticks\":\"\",\"zerolinecolor\":\"white\",\"gridwidth\":2},\"zaxis\":{\"backgroundcolor\":\"#E5ECF6\",\"gridcolor\":\"white\",\"linecolor\":\"white\",\"showbackground\":true,\"ticks\":\"\",\"zerolinecolor\":\"white\",\"gridwidth\":2}},\"shapedefaults\":{\"line\":{\"color\":\"#2a3f5f\"}},\"annotationdefaults\":{\"arrowcolor\":\"#2a3f5f\",\"arrowhead\":0,\"arrowwidth\":1},\"geo\":{\"bgcolor\":\"white\",\"landcolor\":\"#E5ECF6\",\"subunitcolor\":\"white\",\"showland\":true,\"showlakes\":true,\"lakecolor\":\"white\"},\"title\":{\"x\":0.05},\"mapbox\":{\"style\":\"light\"}}}},                        {\"responsive\": true}                    ).then(function(){\n",
       "                            \n",
       "var gd = document.getElementById('3f2d3d2c-2f32-45ae-acb8-d1dc743a377d');\n",
       "var x = new MutationObserver(function (mutations, observer) {{\n",
       "        var display = window.getComputedStyle(gd).display;\n",
       "        if (!display || display === 'none') {{\n",
       "            console.log([gd, 'removed!']);\n",
       "            Plotly.purge(gd);\n",
       "            observer.disconnect();\n",
       "        }}\n",
       "}});\n",
       "\n",
       "// Listen for the removal of the full notebook cells\n",
       "var notebookContainer = gd.closest('#notebook-container');\n",
       "if (notebookContainer) {{\n",
       "    x.observe(notebookContainer, {childList: true});\n",
       "}}\n",
       "\n",
       "// Listen for the clearing of the current output cell\n",
       "var outputEl = gd.closest('.output');\n",
       "if (outputEl) {{\n",
       "    x.observe(outputEl, {childList: true});\n",
       "}}\n",
       "\n",
       "                        })                };                });            </script>        </div>"
      ]
     },
     "metadata": {},
     "output_type": "display_data"
    }
   ],
   "source": [
    "# Create plot\n",
    "fig = go.Figure(data=[trace], layout=layout)\n",
    "import plotly.io as pio\n",
    "pio.show(fig)"
   ]
  },
  {
   "cell_type": "code",
   "execution_count": 17,
   "id": "84f68d45",
   "metadata": {
    "execution": {
     "iopub.execute_input": "2022-11-23T01:48:15.661512Z",
     "iopub.status.busy": "2022-11-23T01:48:15.660349Z",
     "iopub.status.idle": "2022-11-23T01:48:15.789704Z",
     "shell.execute_reply": "2022-11-23T01:48:15.788276Z"
    },
    "papermill": {
     "duration": 0.16344,
     "end_time": "2022-11-23T01:48:15.793118",
     "exception": false,
     "start_time": "2022-11-23T01:48:15.629678",
     "status": "completed"
    },
    "tags": []
   },
   "outputs": [],
   "source": [
    "# load the data into surprise specific data-structure format\n",
    "reader = Reader(rating_scale=(1, 5))\n",
    "data = Dataset.load_from_df(rating_df[['userId', 'movieId', 'rating']], reader)"
   ]
  },
  {
   "cell_type": "code",
   "execution_count": 18,
   "id": "a77c9844",
   "metadata": {
    "execution": {
     "iopub.execute_input": "2022-11-23T01:48:15.855362Z",
     "iopub.status.busy": "2022-11-23T01:48:15.854088Z",
     "iopub.status.idle": "2022-11-23T01:52:41.674299Z",
     "shell.execute_reply": "2022-11-23T01:52:41.672783Z"
    },
    "papermill": {
     "duration": 265.855236,
     "end_time": "2022-11-23T01:52:41.678175",
     "exception": false,
     "start_time": "2022-11-23T01:48:15.822939",
     "status": "completed"
    },
    "tags": []
   },
   "outputs": [
    {
     "name": "stdout",
     "output_type": "stream",
     "text": [
      "Computing the msd similarity matrix...\n",
      "Done computing similarity matrix.\n",
      "Computing the msd similarity matrix...\n",
      "Done computing similarity matrix.\n",
      "Computing the msd similarity matrix...\n",
      "Done computing similarity matrix.\n",
      "Computing the msd similarity matrix...\n",
      "Done computing similarity matrix.\n",
      "Computing the msd similarity matrix...\n",
      "Done computing similarity matrix.\n",
      "Computing the msd similarity matrix...\n",
      "Done computing similarity matrix.\n",
      "Computing the msd similarity matrix...\n",
      "Done computing similarity matrix.\n",
      "Computing the msd similarity matrix...\n",
      "Done computing similarity matrix.\n",
      "Computing the msd similarity matrix...\n",
      "Done computing similarity matrix.\n",
      "Computing the msd similarity matrix...\n",
      "Done computing similarity matrix.\n",
      "Computing the msd similarity matrix...\n",
      "Done computing similarity matrix.\n",
      "Computing the msd similarity matrix...\n",
      "Done computing similarity matrix.\n",
      "Computing the msd similarity matrix...\n",
      "Done computing similarity matrix.\n",
      "Computing the msd similarity matrix...\n",
      "Done computing similarity matrix.\n",
      "Computing the msd similarity matrix...\n",
      "Done computing similarity matrix.\n",
      "Computing the msd similarity matrix...\n",
      "Done computing similarity matrix.\n",
      "Computing the msd similarity matrix...\n",
      "Done computing similarity matrix.\n",
      "Computing the msd similarity matrix...\n",
      "Done computing similarity matrix.\n",
      "Computing the msd similarity matrix...\n",
      "Done computing similarity matrix.\n",
      "Computing the msd similarity matrix...\n",
      "Done computing similarity matrix.\n",
      "Computing the msd similarity matrix...\n",
      "Done computing similarity matrix.\n",
      "Computing the msd similarity matrix...\n",
      "Done computing similarity matrix.\n",
      "Computing the msd similarity matrix...\n",
      "Done computing similarity matrix.\n",
      "Computing the msd similarity matrix...\n",
      "Done computing similarity matrix.\n",
      "Computing the msd similarity matrix...\n",
      "Done computing similarity matrix.\n",
      "Computing the msd similarity matrix...\n",
      "Done computing similarity matrix.\n",
      "Computing the msd similarity matrix...\n",
      "Done computing similarity matrix.\n",
      "Computing the msd similarity matrix...\n",
      "Done computing similarity matrix.\n",
      "Computing the msd similarity matrix...\n",
      "Done computing similarity matrix.\n",
      "Computing the msd similarity matrix...\n",
      "Done computing similarity matrix.\n",
      "Computing the msd similarity matrix...\n",
      "Done computing similarity matrix.\n",
      "Computing the msd similarity matrix...\n",
      "Done computing similarity matrix.\n",
      "Computing the msd similarity matrix...\n",
      "Done computing similarity matrix.\n",
      "Computing the msd similarity matrix...\n",
      "Done computing similarity matrix.\n",
      "Computing the msd similarity matrix...\n",
      "Done computing similarity matrix.\n",
      "Computing the msd similarity matrix...\n",
      "Done computing similarity matrix.\n",
      "Computing the msd similarity matrix...\n",
      "Done computing similarity matrix.\n",
      "Computing the msd similarity matrix...\n",
      "Done computing similarity matrix.\n",
      "Computing the msd similarity matrix...\n",
      "Done computing similarity matrix.\n",
      "Computing the msd similarity matrix...\n",
      "Done computing similarity matrix.\n",
      "Computing the msd similarity matrix...\n",
      "Done computing similarity matrix.\n",
      "Computing the msd similarity matrix...\n",
      "Done computing similarity matrix.\n",
      "Computing the msd similarity matrix...\n",
      "Done computing similarity matrix.\n",
      "Computing the msd similarity matrix...\n",
      "Done computing similarity matrix.\n",
      "Computing the msd similarity matrix...\n",
      "Done computing similarity matrix.\n",
      "Computing the msd similarity matrix...\n",
      "Done computing similarity matrix.\n",
      "Computing the msd similarity matrix...\n",
      "Done computing similarity matrix.\n",
      "Computing the msd similarity matrix...\n",
      "Done computing similarity matrix.\n",
      "Computing the msd similarity matrix...\n",
      "Done computing similarity matrix.\n",
      "Computing the msd similarity matrix...\n",
      "Done computing similarity matrix.\n",
      "Computing the msd similarity matrix...\n",
      "Done computing similarity matrix.\n",
      "Computing the msd similarity matrix...\n",
      "Done computing similarity matrix.\n",
      "Computing the msd similarity matrix...\n",
      "Done computing similarity matrix.\n",
      "Computing the msd similarity matrix...\n",
      "Done computing similarity matrix.\n",
      "Computing the msd similarity matrix...\n",
      "Done computing similarity matrix.\n",
      "Computing the msd similarity matrix...\n",
      "Done computing similarity matrix.\n",
      "Computing the msd similarity matrix...\n",
      "Done computing similarity matrix.\n",
      "Computing the msd similarity matrix...\n",
      "Done computing similarity matrix.\n",
      "Computing the msd similarity matrix...\n",
      "Done computing similarity matrix.\n",
      "Computing the msd similarity matrix...\n",
      "Done computing similarity matrix.\n",
      "Computing the msd similarity matrix...\n",
      "Done computing similarity matrix.\n",
      "Computing the msd similarity matrix...\n",
      "Done computing similarity matrix.\n",
      "Computing the msd similarity matrix...\n",
      "Done computing similarity matrix.\n",
      "Computing the msd similarity matrix...\n",
      "Done computing similarity matrix.\n",
      "Computing the msd similarity matrix...\n",
      "Done computing similarity matrix.\n",
      "Computing the msd similarity matrix...\n",
      "Done computing similarity matrix.\n",
      "Computing the msd similarity matrix...\n",
      "Done computing similarity matrix.\n",
      "Computing the msd similarity matrix...\n",
      "Done computing similarity matrix.\n",
      "Computing the msd similarity matrix...\n",
      "Done computing similarity matrix.\n",
      "Computing the msd similarity matrix...\n",
      "Done computing similarity matrix.\n",
      "Computing the msd similarity matrix...\n",
      "Done computing similarity matrix.\n",
      "Computing the msd similarity matrix...\n",
      "Done computing similarity matrix.\n",
      "Computing the msd similarity matrix...\n",
      "Done computing similarity matrix.\n",
      "Computing the msd similarity matrix...\n",
      "Done computing similarity matrix.\n",
      "Computing the msd similarity matrix...\n",
      "Done computing similarity matrix.\n",
      "Computing the msd similarity matrix...\n",
      "Done computing similarity matrix.\n",
      "Computing the msd similarity matrix...\n",
      "Done computing similarity matrix.\n",
      "Computing the msd similarity matrix...\n",
      "Done computing similarity matrix.\n",
      "Computing the msd similarity matrix...\n",
      "Done computing similarity matrix.\n",
      "Computing the msd similarity matrix...\n",
      "Done computing similarity matrix.\n",
      "Computing the msd similarity matrix...\n",
      "Done computing similarity matrix.\n",
      "Computing the msd similarity matrix...\n",
      "Done computing similarity matrix.\n",
      "Computing the msd similarity matrix...\n",
      "Done computing similarity matrix.\n",
      "Computing the msd similarity matrix...\n",
      "Done computing similarity matrix.\n",
      "Computing the msd similarity matrix...\n",
      "Done computing similarity matrix.\n",
      "Computing the msd similarity matrix...\n",
      "Done computing similarity matrix.\n",
      "Computing the msd similarity matrix...\n",
      "Done computing similarity matrix.\n"
     ]
    }
   ],
   "source": [
    "# User-based Collaborative Filtering: optimal k\n",
    "benchmark_ucf = []\n",
    "\n",
    "for i in range(1,30):\n",
    "    # perform cross validation\n",
    "    algorithm =KNNBasic(k=i, sim_options = {'name':'MSD','user_based': True})\n",
    "    results = cross_validate(algorithm, data, measures=['RMSE', 'MAE'], cv=3, verbose=False)\n",
    "    \n",
    "    # get results & append algorithm names\n",
    "    tmp = pd.DataFrame.from_dict(results).mean(axis=0)\n",
    "       \n",
    "    # Store data\n",
    "    benchmark_ucf.append(tmp)"
   ]
  },
  {
   "cell_type": "code",
   "execution_count": 19,
   "id": "45e678ac",
   "metadata": {
    "execution": {
     "iopub.execute_input": "2022-11-23T01:52:41.753835Z",
     "iopub.status.busy": "2022-11-23T01:52:41.753371Z",
     "iopub.status.idle": "2022-11-23T02:19:49.088635Z",
     "shell.execute_reply": "2022-11-23T02:19:49.087129Z"
    },
    "papermill": {
     "duration": 1627.37629,
     "end_time": "2022-11-23T02:19:49.092060",
     "exception": false,
     "start_time": "2022-11-23T01:52:41.715770",
     "status": "completed"
    },
    "tags": []
   },
   "outputs": [
    {
     "name": "stdout",
     "output_type": "stream",
     "text": [
      "Computing the msd similarity matrix...\n",
      "Done computing similarity matrix.\n",
      "Computing the msd similarity matrix...\n",
      "Done computing similarity matrix.\n",
      "Computing the msd similarity matrix...\n",
      "Done computing similarity matrix.\n",
      "Computing the msd similarity matrix...\n",
      "Done computing similarity matrix.\n",
      "Computing the msd similarity matrix...\n",
      "Done computing similarity matrix.\n",
      "Computing the msd similarity matrix...\n",
      "Done computing similarity matrix.\n",
      "Computing the msd similarity matrix...\n",
      "Done computing similarity matrix.\n",
      "Computing the msd similarity matrix...\n",
      "Done computing similarity matrix.\n",
      "Computing the msd similarity matrix...\n",
      "Done computing similarity matrix.\n",
      "Computing the msd similarity matrix...\n",
      "Done computing similarity matrix.\n",
      "Computing the msd similarity matrix...\n",
      "Done computing similarity matrix.\n",
      "Computing the msd similarity matrix...\n",
      "Done computing similarity matrix.\n",
      "Computing the msd similarity matrix...\n",
      "Done computing similarity matrix.\n",
      "Computing the msd similarity matrix...\n",
      "Done computing similarity matrix.\n",
      "Computing the msd similarity matrix...\n",
      "Done computing similarity matrix.\n",
      "Computing the msd similarity matrix...\n",
      "Done computing similarity matrix.\n",
      "Computing the msd similarity matrix...\n",
      "Done computing similarity matrix.\n",
      "Computing the msd similarity matrix...\n",
      "Done computing similarity matrix.\n",
      "Computing the msd similarity matrix...\n",
      "Done computing similarity matrix.\n",
      "Computing the msd similarity matrix...\n",
      "Done computing similarity matrix.\n",
      "Computing the msd similarity matrix...\n",
      "Done computing similarity matrix.\n",
      "Computing the msd similarity matrix...\n",
      "Done computing similarity matrix.\n",
      "Computing the msd similarity matrix...\n",
      "Done computing similarity matrix.\n",
      "Computing the msd similarity matrix...\n",
      "Done computing similarity matrix.\n",
      "Computing the msd similarity matrix...\n",
      "Done computing similarity matrix.\n",
      "Computing the msd similarity matrix...\n",
      "Done computing similarity matrix.\n",
      "Computing the msd similarity matrix...\n",
      "Done computing similarity matrix.\n",
      "Computing the msd similarity matrix...\n",
      "Done computing similarity matrix.\n",
      "Computing the msd similarity matrix...\n",
      "Done computing similarity matrix.\n",
      "Computing the msd similarity matrix...\n",
      "Done computing similarity matrix.\n",
      "Computing the msd similarity matrix...\n",
      "Done computing similarity matrix.\n",
      "Computing the msd similarity matrix...\n",
      "Done computing similarity matrix.\n",
      "Computing the msd similarity matrix...\n",
      "Done computing similarity matrix.\n",
      "Computing the msd similarity matrix...\n",
      "Done computing similarity matrix.\n",
      "Computing the msd similarity matrix...\n",
      "Done computing similarity matrix.\n",
      "Computing the msd similarity matrix...\n",
      "Done computing similarity matrix.\n",
      "Computing the msd similarity matrix...\n",
      "Done computing similarity matrix.\n",
      "Computing the msd similarity matrix...\n",
      "Done computing similarity matrix.\n",
      "Computing the msd similarity matrix...\n",
      "Done computing similarity matrix.\n",
      "Computing the msd similarity matrix...\n",
      "Done computing similarity matrix.\n",
      "Computing the msd similarity matrix...\n",
      "Done computing similarity matrix.\n",
      "Computing the msd similarity matrix...\n",
      "Done computing similarity matrix.\n",
      "Computing the msd similarity matrix...\n",
      "Done computing similarity matrix.\n",
      "Computing the msd similarity matrix...\n",
      "Done computing similarity matrix.\n",
      "Computing the msd similarity matrix...\n",
      "Done computing similarity matrix.\n",
      "Computing the msd similarity matrix...\n",
      "Done computing similarity matrix.\n",
      "Computing the msd similarity matrix...\n",
      "Done computing similarity matrix.\n",
      "Computing the msd similarity matrix...\n",
      "Done computing similarity matrix.\n",
      "Computing the msd similarity matrix...\n",
      "Done computing similarity matrix.\n",
      "Computing the msd similarity matrix...\n",
      "Done computing similarity matrix.\n",
      "Computing the msd similarity matrix...\n",
      "Done computing similarity matrix.\n",
      "Computing the msd similarity matrix...\n",
      "Done computing similarity matrix.\n",
      "Computing the msd similarity matrix...\n",
      "Done computing similarity matrix.\n",
      "Computing the msd similarity matrix...\n",
      "Done computing similarity matrix.\n",
      "Computing the msd similarity matrix...\n",
      "Done computing similarity matrix.\n",
      "Computing the msd similarity matrix...\n",
      "Done computing similarity matrix.\n",
      "Computing the msd similarity matrix...\n",
      "Done computing similarity matrix.\n",
      "Computing the msd similarity matrix...\n",
      "Done computing similarity matrix.\n",
      "Computing the msd similarity matrix...\n",
      "Done computing similarity matrix.\n",
      "Computing the msd similarity matrix...\n",
      "Done computing similarity matrix.\n",
      "Computing the msd similarity matrix...\n",
      "Done computing similarity matrix.\n",
      "Computing the msd similarity matrix...\n",
      "Done computing similarity matrix.\n",
      "Computing the msd similarity matrix...\n",
      "Done computing similarity matrix.\n",
      "Computing the msd similarity matrix...\n",
      "Done computing similarity matrix.\n",
      "Computing the msd similarity matrix...\n",
      "Done computing similarity matrix.\n",
      "Computing the msd similarity matrix...\n",
      "Done computing similarity matrix.\n",
      "Computing the msd similarity matrix...\n",
      "Done computing similarity matrix.\n",
      "Computing the msd similarity matrix...\n",
      "Done computing similarity matrix.\n",
      "Computing the msd similarity matrix...\n",
      "Done computing similarity matrix.\n",
      "Computing the msd similarity matrix...\n",
      "Done computing similarity matrix.\n",
      "Computing the msd similarity matrix...\n",
      "Done computing similarity matrix.\n",
      "Computing the msd similarity matrix...\n",
      "Done computing similarity matrix.\n",
      "Computing the msd similarity matrix...\n",
      "Done computing similarity matrix.\n",
      "Computing the msd similarity matrix...\n",
      "Done computing similarity matrix.\n",
      "Computing the msd similarity matrix...\n",
      "Done computing similarity matrix.\n",
      "Computing the msd similarity matrix...\n",
      "Done computing similarity matrix.\n",
      "Computing the msd similarity matrix...\n",
      "Done computing similarity matrix.\n",
      "Computing the msd similarity matrix...\n",
      "Done computing similarity matrix.\n",
      "Computing the msd similarity matrix...\n",
      "Done computing similarity matrix.\n",
      "Computing the msd similarity matrix...\n",
      "Done computing similarity matrix.\n",
      "Computing the msd similarity matrix...\n",
      "Done computing similarity matrix.\n",
      "Computing the msd similarity matrix...\n",
      "Done computing similarity matrix.\n",
      "Computing the msd similarity matrix...\n",
      "Done computing similarity matrix.\n",
      "Computing the msd similarity matrix...\n",
      "Done computing similarity matrix.\n",
      "Computing the msd similarity matrix...\n",
      "Done computing similarity matrix.\n",
      "Computing the msd similarity matrix...\n",
      "Done computing similarity matrix.\n",
      "Computing the msd similarity matrix...\n",
      "Done computing similarity matrix.\n"
     ]
    }
   ],
   "source": [
    "# Item-based Collaborative Filtering: optimal k\n",
    "benchmark_icf = []\n",
    "\n",
    "for i in range(1,30):\n",
    "    # perform cross validation\n",
    "    algorithm = KNNBasic(k=i, sim_options = {'name':'MSD','user_based': False})\n",
    "    results = cross_validate(algorithm, data, measures=['RMSE','MAE'], cv=3, verbose=False)\n",
    "    \n",
    "    # get results & append algorithm names\n",
    "    tmp = pd.DataFrame.from_dict(results).mean(axis=0)\n",
    "        \n",
    "    # Store data\n",
    "    benchmark_icf.append(tmp)"
   ]
  },
  {
   "cell_type": "code",
   "execution_count": 20,
   "id": "68799ce9",
   "metadata": {
    "execution": {
     "iopub.execute_input": "2022-11-23T02:19:49.187351Z",
     "iopub.status.busy": "2022-11-23T02:19:49.186018Z",
     "iopub.status.idle": "2022-11-23T02:19:49.213833Z",
     "shell.execute_reply": "2022-11-23T02:19:49.212557Z"
    },
    "papermill": {
     "duration": 0.078424,
     "end_time": "2022-11-23T02:19:49.217316",
     "exception": false,
     "start_time": "2022-11-23T02:19:49.138892",
     "status": "completed"
    },
    "tags": []
   },
   "outputs": [],
   "source": [
    "benchmark_ucf = pd.DataFrame(benchmark_ucf)\n",
    "benchmark_icf = pd.DataFrame(benchmark_icf)\n",
    "\n",
    "acc_userCF1 = benchmark_ucf['test_rmse']\n",
    "acc_itemCF1 = benchmark_icf['test_rmse']\n",
    "\n",
    "acc_userCF2 = benchmark_ucf['test_mae']\n",
    "acc_itemCF2 = benchmark_icf['test_mae']"
   ]
  },
  {
   "cell_type": "code",
   "execution_count": 21,
   "id": "2f2487e8",
   "metadata": {
    "execution": {
     "iopub.execute_input": "2022-11-23T02:19:49.315754Z",
     "iopub.status.busy": "2022-11-23T02:19:49.315308Z",
     "iopub.status.idle": "2022-11-23T02:19:49.325752Z",
     "shell.execute_reply": "2022-11-23T02:19:49.324346Z"
    },
    "papermill": {
     "duration": 0.061563,
     "end_time": "2022-11-23T02:19:49.328918",
     "exception": false,
     "start_time": "2022-11-23T02:19:49.267355",
     "status": "completed"
    },
    "tags": []
   },
   "outputs": [
    {
     "data": {
      "text/plain": [
       "0     1.300098\n",
       "1     1.139410\n",
       "2     1.075851\n",
       "3     1.045232\n",
       "4     1.022071\n",
       "5     1.006643\n",
       "6     0.997246\n",
       "7     0.987126\n",
       "8     0.980874\n",
       "9     0.977687\n",
       "10    0.970604\n",
       "11    0.968934\n",
       "12    0.963415\n",
       "13    0.960746\n",
       "14    0.959572\n",
       "15    0.956142\n",
       "16    0.955376\n",
       "17    0.954109\n",
       "18    0.953006\n",
       "19    0.951432\n",
       "20    0.950196\n",
       "21    0.949193\n",
       "22    0.948320\n",
       "23    0.947965\n",
       "24    0.947614\n",
       "25    0.944866\n",
       "26    0.944530\n",
       "27    0.945228\n",
       "28    0.943247\n",
       "Name: test_rmse, dtype: float64"
      ]
     },
     "execution_count": 21,
     "metadata": {},
     "output_type": "execute_result"
    }
   ],
   "source": [
    "acc_itemCF1"
   ]
  },
  {
   "cell_type": "code",
   "execution_count": 22,
   "id": "ebb88cd0",
   "metadata": {
    "execution": {
     "iopub.execute_input": "2022-11-23T02:19:49.422745Z",
     "iopub.status.busy": "2022-11-23T02:19:49.421476Z",
     "iopub.status.idle": "2022-11-23T02:19:49.432099Z",
     "shell.execute_reply": "2022-11-23T02:19:49.430629Z"
    },
    "papermill": {
     "duration": 0.060889,
     "end_time": "2022-11-23T02:19:49.435501",
     "exception": false,
     "start_time": "2022-11-23T02:19:49.374612",
     "status": "completed"
    },
    "tags": []
   },
   "outputs": [
    {
     "data": {
      "text/plain": [
       "0     1.226991\n",
       "1     1.086877\n",
       "2     1.036119\n",
       "3     1.013121\n",
       "4     0.998037\n",
       "5     0.990750\n",
       "6     0.987172\n",
       "7     0.982231\n",
       "8     0.980886\n",
       "9     0.979415\n",
       "10    0.975083\n",
       "11    0.976480\n",
       "12    0.975136\n",
       "13    0.975222\n",
       "14    0.975400\n",
       "15    0.974632\n",
       "16    0.972727\n",
       "17    0.974723\n",
       "18    0.975148\n",
       "19    0.975084\n",
       "20    0.977198\n",
       "21    0.974919\n",
       "22    0.974796\n",
       "23    0.976282\n",
       "24    0.976940\n",
       "25    0.977268\n",
       "26    0.976816\n",
       "27    0.974680\n",
       "28    0.975276\n",
       "Name: test_rmse, dtype: float64"
      ]
     },
     "execution_count": 22,
     "metadata": {},
     "output_type": "execute_result"
    }
   ],
   "source": [
    "acc_userCF1"
   ]
  },
  {
   "cell_type": "code",
   "execution_count": 23,
   "id": "304a510c",
   "metadata": {
    "execution": {
     "iopub.execute_input": "2022-11-23T02:19:49.531310Z",
     "iopub.status.busy": "2022-11-23T02:19:49.529973Z",
     "iopub.status.idle": "2022-11-23T02:19:51.108135Z",
     "shell.execute_reply": "2022-11-23T02:19:51.106805Z"
    },
    "papermill": {
     "duration": 1.628555,
     "end_time": "2022-11-23T02:19:51.111331",
     "exception": false,
     "start_time": "2022-11-23T02:19:49.482776",
     "status": "completed"
    },
    "tags": []
   },
   "outputs": [
    {
     "data": {
      "image/png": "[encoded data removed]",
      "text/plain": [
       "<Figure size 864x576 with 1 Axes>"
      ]
     },
     "metadata": {
      "needs_background": "light"
     },
     "output_type": "display_data"
    }
   ],
   "source": [
    "# plotting the results (RMSE)\n",
    "\n",
    "plt.figure(figsize=(12,8))\n",
    "plt.plot(range(1,30), acc_userCF1, label = \"User-based CF\")\n",
    "plt.plot(range(1,30), acc_itemCF1, label = \"Item-based CF\")\n",
    "plt.title('')\n",
    "plt.xlabel('Number of neighbors (K)', fontsize=12)\n",
    "plt.ylabel('RMSE', fontsize=12)\n",
    "\n",
    "plt.title('K Neighbors vs. RMSE (User-based CF and Item-based CF)', fontsize=18, y=1.03)\n",
    "plt.legend(loc='best')\n",
    "plt.grid(ls='dotted')\n",
    "\n",
    "plt.savefig(\"plot_f (RMSE).png\", dpi=300)\n",
    "\n",
    "plt.show()"
   ]
  },
  {
   "cell_type": "code",
   "execution_count": 24,
   "id": "93fa2aef",
   "metadata": {
    "execution": {
     "iopub.execute_input": "2022-11-23T02:19:51.207362Z",
     "iopub.status.busy": "2022-11-23T02:19:51.206104Z",
     "iopub.status.idle": "2022-11-23T02:19:52.516670Z",
     "shell.execute_reply": "2022-11-23T02:19:52.515323Z"
    },
    "papermill": {
     "duration": 1.36195,
     "end_time": "2022-11-23T02:19:52.519712",
     "exception": false,
     "start_time": "2022-11-23T02:19:51.157762",
     "status": "completed"
    },
    "tags": []
   },
   "outputs": [
    {
     "data": {
      "image/png": "[encoded data removed]",
      "text/plain": [
       "<Figure size 864x576 with 1 Axes>"
      ]
     },
     "metadata": {
      "needs_background": "light"
     },
     "output_type": "display_data"
    }
   ],
   "source": [
    "# plotting the results (MAE)\n",
    "\n",
    "plt.figure(figsize=(12,8))\n",
    "plt.plot(range(1,30), acc_userCF2, label = \"User-based CF\")\n",
    "plt.plot(range(1,30), acc_itemCF2, label = \"Item-based CF\")\n",
    "plt.title('')\n",
    "plt.xlabel('Number of neighbors (K)', fontsize=12)\n",
    "plt.ylabel('RMSE', fontsize=12)\n",
    "\n",
    "plt.title('K Neighbors vs. MAE (User-based CF and Item-based CF)', fontsize=18, y=1.03)\n",
    "plt.legend(loc='best')\n",
    "plt.grid(ls='dotted')\n",
    "\n",
    "plt.savefig(\"plot_f (MAE).png\", dpi=300)\n",
    "\n",
    "plt.show()"
   ]
  },
  {
   "cell_type": "code",
   "execution_count": 25,
   "id": "db2e0e46",
   "metadata": {
    "execution": {
     "iopub.execute_input": "2022-11-23T02:19:52.617012Z",
     "iopub.status.busy": "2022-11-23T02:19:52.615894Z",
     "iopub.status.idle": "2022-11-23T02:19:52.628463Z",
     "shell.execute_reply": "2022-11-23T02:19:52.626686Z"
    },
    "papermill": {
     "duration": 0.065859,
     "end_time": "2022-11-23T02:19:52.632792",
     "exception": false,
     "start_time": "2022-11-23T02:19:52.566933",
     "status": "completed"
    },
    "tags": []
   },
   "outputs": [
    {
     "name": "stdout",
     "output_type": "stream",
     "text": [
      "For User-based CF, the best number of neighbor (K) is at K = 17 with minimum RMSE: 0.972726858128544\n",
      "For Item-based CF, the best number of neighbor (K) is at K = 29 with minimum RMSE: 0.9432473353758022\n"
     ]
    }
   ],
   "source": [
    "# find out the best number of neighbor (K) for User/Item based collaborative filtering in terms of RMSE\n",
    "print(\"For User-based CF, the best number of neighbor (K) is at K =\" , acc_userCF1.idxmin()+1, \"with minimum RMSE:\", min(acc_userCF1))\n",
    "print(\"For Item-based CF, the best number of neighbor (K) is at K =\" , acc_itemCF1.idxmin()+1 , \"with minimum RMSE:\", min(acc_itemCF1))"
   ]
  },
  {
   "cell_type": "code",
   "execution_count": 26,
   "id": "eec2ed9b",
   "metadata": {
    "execution": {
     "iopub.execute_input": "2022-11-23T02:19:52.731953Z",
     "iopub.status.busy": "2022-11-23T02:19:52.731195Z",
     "iopub.status.idle": "2022-11-23T02:19:52.743846Z",
     "shell.execute_reply": "2022-11-23T02:19:52.742236Z"
    },
    "papermill": {
     "duration": 0.065683,
     "end_time": "2022-11-23T02:19:52.747648",
     "exception": false,
     "start_time": "2022-11-23T02:19:52.681965",
     "status": "completed"
    },
    "tags": []
   },
   "outputs": [
    {
     "name": "stdout",
     "output_type": "stream",
     "text": [
      "For User-based CF, the best number of neighbor (K) is at K = 17 with minimum MAE: 0.7458472636445651\n",
      "For Item-based CF, the best number of neighbor (K) is at K = 29 with minimum MAE: 0.727692654188098\n"
     ]
    }
   ],
   "source": [
    "# find out the best number of neighbor (K) for User/Item based collaborative filtering in terms of MAE\n",
    "print(\"For User-based CF, the best number of neighbor (K) is at K =\" , acc_userCF2.idxmin()+1, \"with minimum MAE:\", min(acc_userCF2))\n",
    "print(\"For Item-based CF, the best number of neighbor (K) is at K =\" , acc_itemCF2.idxmin()+1 , \"with minimum MAE:\", min(acc_itemCF2))"
   ]
  },
  {
   "cell_type": "code",
   "execution_count": null,
   "id": "5553a6ba",
   "metadata": {
    "papermill": {
     "duration": 0.047628,
     "end_time": "2022-11-23T02:19:52.844140",
     "exception": false,
     "start_time": "2022-11-23T02:19:52.796512",
     "status": "completed"
    },
    "tags": []
   },
   "outputs": [],
   "source": []
  }
 ],
 "metadata": {
  "kernelspec": {
   "display_name": "Python 3",
   "language": "python",
   "name": "python3"
  },
  "language_info": {
   "codemirror_mode": {
    "name": "ipython",
    "version": 3
   },
   "file_extension": ".py",
   "mimetype": "text/x-python",
   "name": "python",
   "nbconvert_exporter": "python",
   "pygments_lexer": "ipython3",
   "version": "3.7.12"
  },
  "papermill": {
   "default_parameters": {},
   "duration": 2554.421318,
   "end_time": "2022-11-23T02:19:53.922465",
   "environment_variables": {},
   "exception": null,
   "input_path": "__notebook__.ipynb",
   "output_path": "__notebook__.ipynb",
   "parameters": {},
   "start_time": "2022-11-23T01:37:19.501147",
   "version": "2.3.4"
  }
 },
 "nbformat": 4,
 "nbformat_minor": 5
}
