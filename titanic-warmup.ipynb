{
 "cells": [
  {
   "cell_type": "code",
   "execution_count": 1,
   "id": "af448df3",
   "metadata": {
    "_cell_guid": "b1076dfc-b9ad-4769-8c92-a6c4dae69d19",
    "_uuid": "8f2839f25d086af736a60e9eeb907d3b93b6e0e5",
    "execution": {
     "iopub.execute_input": "2022-09-19T23:32:44.179105Z",
     "iopub.status.busy": "2022-09-19T23:32:44.178301Z",
     "iopub.status.idle": "2022-09-19T23:32:44.188545Z",
     "shell.execute_reply": "2022-09-19T23:32:44.187467Z"
    },
    "papermill": {
     "duration": 0.029851,
     "end_time": "2022-09-19T23:32:44.191207",
     "exception": false,
     "start_time": "2022-09-19T23:32:44.161356",
     "status": "completed"
    },
    "tags": []
   },
   "outputs": [],
   "source": [
    "import numpy as np # linear algebra\n",
    "import pandas as pd # data processing, CSV file I/O (e.g. pd.read_csv)"
   ]
  },
  {
   "cell_type": "code",
   "execution_count": 2,
   "id": "9f8724a7",
   "metadata": {
    "execution": {
     "iopub.execute_input": "2022-09-19T23:32:44.216174Z",
     "iopub.status.busy": "2022-09-19T23:32:44.215797Z",
     "iopub.status.idle": "2022-09-19T23:32:44.245627Z",
     "shell.execute_reply": "2022-09-19T23:32:44.244781Z"
    },
    "papermill": {
     "duration": 0.045224,
     "end_time": "2022-09-19T23:32:44.248213",
     "exception": false,
     "start_time": "2022-09-19T23:32:44.202989",
     "status": "completed"
    },
    "tags": []
   },
   "outputs": [],
   "source": [
    "train_data = pd.read_csv('../input/titanic/train.csv')"
   ]
  },
  {
   "cell_type": "code",
   "execution_count": 3,
   "id": "6ded7db7",
   "metadata": {
    "execution": {
     "iopub.execute_input": "2022-09-19T23:32:44.276850Z",
     "iopub.status.busy": "2022-09-19T23:32:44.276151Z",
     "iopub.status.idle": "2022-09-19T23:32:44.286890Z",
     "shell.execute_reply": "2022-09-19T23:32:44.286087Z"
    },
    "papermill": {
     "duration": 0.029651,
     "end_time": "2022-09-19T23:32:44.289502",
     "exception": false,
     "start_time": "2022-09-19T23:32:44.259851",
     "status": "completed"
    },
    "tags": []
   },
   "outputs": [],
   "source": [
    "x_train = pd.read_csv('../input/titanic/train.csv')"
   ]
  },
  {
   "cell_type": "code",
   "execution_count": 4,
   "id": "c3df76d3",
   "metadata": {
    "execution": {
     "iopub.execute_input": "2022-09-19T23:32:44.315034Z",
     "iopub.status.busy": "2022-09-19T23:32:44.314333Z",
     "iopub.status.idle": "2022-09-19T23:32:44.328069Z",
     "shell.execute_reply": "2022-09-19T23:32:44.327264Z"
    },
    "papermill": {
     "duration": 0.029288,
     "end_time": "2022-09-19T23:32:44.330555",
     "exception": false,
     "start_time": "2022-09-19T23:32:44.301267",
     "status": "completed"
    },
    "tags": []
   },
   "outputs": [],
   "source": [
    "x_test = pd.read_csv('../input/titanic/test.csv')"
   ]
  },
  {
   "cell_type": "code",
   "execution_count": 5,
   "id": "8c9cb295",
   "metadata": {
    "execution": {
     "iopub.execute_input": "2022-09-19T23:32:44.355520Z",
     "iopub.status.busy": "2022-09-19T23:32:44.355123Z",
     "iopub.status.idle": "2022-09-19T23:32:44.365533Z",
     "shell.execute_reply": "2022-09-19T23:32:44.364540Z"
    },
    "papermill": {
     "duration": 0.025656,
     "end_time": "2022-09-19T23:32:44.367800",
     "exception": false,
     "start_time": "2022-09-19T23:32:44.342144",
     "status": "completed"
    },
    "tags": []
   },
   "outputs": [],
   "source": [
    "y_train = np.array(x_train['Survived'].copy())"
   ]
  },
  {
   "cell_type": "code",
   "execution_count": 6,
   "id": "025caf6f",
   "metadata": {
    "execution": {
     "iopub.execute_input": "2022-09-19T23:32:44.393161Z",
     "iopub.status.busy": "2022-09-19T23:32:44.392445Z",
     "iopub.status.idle": "2022-09-19T23:32:44.397565Z",
     "shell.execute_reply": "2022-09-19T23:32:44.396537Z"
    },
    "papermill": {
     "duration": 0.02027,
     "end_time": "2022-09-19T23:32:44.399866",
     "exception": false,
     "start_time": "2022-09-19T23:32:44.379596",
     "status": "completed"
    },
    "tags": []
   },
   "outputs": [],
   "source": [
    "id_test = np.array(x_test['PassengerId'].copy())"
   ]
  },
  {
   "cell_type": "code",
   "execution_count": 7,
   "id": "95ad2193",
   "metadata": {
    "execution": {
     "iopub.execute_input": "2022-09-19T23:32:44.425450Z",
     "iopub.status.busy": "2022-09-19T23:32:44.424516Z",
     "iopub.status.idle": "2022-09-19T23:32:44.453188Z",
     "shell.execute_reply": "2022-09-19T23:32:44.452419Z"
    },
    "papermill": {
     "duration": 0.044387,
     "end_time": "2022-09-19T23:32:44.456031",
     "exception": false,
     "start_time": "2022-09-19T23:32:44.411644",
     "status": "completed"
    },
    "tags": []
   },
   "outputs": [
    {
     "data": {
      "text/html": [
       "<div>\n",
       "<style scoped>\n",
       "    .dataframe tbody tr th:only-of-type {\n",
       "        vertical-align: middle;\n",
       "    }\n",
       "\n",
       "    .dataframe tbody tr th {\n",
       "        vertical-align: top;\n",
       "    }\n",
       "\n",
       "    .dataframe thead th {\n",
       "        text-align: right;\n",
       "    }\n",
       "</style>\n",
       "<table border=\"1\" class=\"dataframe\">\n",
       "  <thead>\n",
       "    <tr style=\"text-align: right;\">\n",
       "      <th></th>\n",
       "      <th>PassengerId</th>\n",
       "      <th>Survived</th>\n",
       "      <th>Pclass</th>\n",
       "      <th>Name</th>\n",
       "      <th>Sex</th>\n",
       "      <th>Age</th>\n",
       "      <th>SibSp</th>\n",
       "      <th>Parch</th>\n",
       "      <th>Ticket</th>\n",
       "      <th>Fare</th>\n",
       "      <th>Cabin</th>\n",
       "      <th>Embarked</th>\n",
       "    </tr>\n",
       "  </thead>\n",
       "  <tbody>\n",
       "    <tr>\n",
       "      <th>0</th>\n",
       "      <td>1</td>\n",
       "      <td>0</td>\n",
       "      <td>3</td>\n",
       "      <td>Braund, Mr. Owen Harris</td>\n",
       "      <td>male</td>\n",
       "      <td>22.0</td>\n",
       "      <td>1</td>\n",
       "      <td>0</td>\n",
       "      <td>A/5 21171</td>\n",
       "      <td>7.2500</td>\n",
       "      <td>NaN</td>\n",
       "      <td>S</td>\n",
       "    </tr>\n",
       "    <tr>\n",
       "      <th>1</th>\n",
       "      <td>2</td>\n",
       "      <td>1</td>\n",
       "      <td>1</td>\n",
       "      <td>Cumings, Mrs. John Bradley (Florence Briggs Th...</td>\n",
       "      <td>female</td>\n",
       "      <td>38.0</td>\n",
       "      <td>1</td>\n",
       "      <td>0</td>\n",
       "      <td>PC 17599</td>\n",
       "      <td>71.2833</td>\n",
       "      <td>C85</td>\n",
       "      <td>C</td>\n",
       "    </tr>\n",
       "    <tr>\n",
       "      <th>2</th>\n",
       "      <td>3</td>\n",
       "      <td>1</td>\n",
       "      <td>3</td>\n",
       "      <td>Heikkinen, Miss. Laina</td>\n",
       "      <td>female</td>\n",
       "      <td>26.0</td>\n",
       "      <td>0</td>\n",
       "      <td>0</td>\n",
       "      <td>STON/O2. 3101282</td>\n",
       "      <td>7.9250</td>\n",
       "      <td>NaN</td>\n",
       "      <td>S</td>\n",
       "    </tr>\n",
       "    <tr>\n",
       "      <th>3</th>\n",
       "      <td>4</td>\n",
       "      <td>1</td>\n",
       "      <td>1</td>\n",
       "      <td>Futrelle, Mrs. Jacques Heath (Lily May Peel)</td>\n",
       "      <td>female</td>\n",
       "      <td>35.0</td>\n",
       "      <td>1</td>\n",
       "      <td>0</td>\n",
       "      <td>113803</td>\n",
       "      <td>53.1000</td>\n",
       "      <td>C123</td>\n",
       "      <td>S</td>\n",
       "    </tr>\n",
       "    <tr>\n",
       "      <th>4</th>\n",
       "      <td>5</td>\n",
       "      <td>0</td>\n",
       "      <td>3</td>\n",
       "      <td>Allen, Mr. William Henry</td>\n",
       "      <td>male</td>\n",
       "      <td>35.0</td>\n",
       "      <td>0</td>\n",
       "      <td>0</td>\n",
       "      <td>373450</td>\n",
       "      <td>8.0500</td>\n",
       "      <td>NaN</td>\n",
       "      <td>S</td>\n",
       "    </tr>\n",
       "  </tbody>\n",
       "</table>\n",
       "</div>"
      ],
      "text/plain": [
       "   PassengerId  Survived  Pclass  \\\n",
       "0            1         0       3   \n",
       "1            2         1       1   \n",
       "2            3         1       3   \n",
       "3            4         1       1   \n",
       "4            5         0       3   \n",
       "\n",
       "                                                Name     Sex   Age  SibSp  \\\n",
       "0                            Braund, Mr. Owen Harris    male  22.0      1   \n",
       "1  Cumings, Mrs. John Bradley (Florence Briggs Th...  female  38.0      1   \n",
       "2                             Heikkinen, Miss. Laina  female  26.0      0   \n",
       "3       Futrelle, Mrs. Jacques Heath (Lily May Peel)  female  35.0      1   \n",
       "4                           Allen, Mr. William Henry    male  35.0      0   \n",
       "\n",
       "   Parch            Ticket     Fare Cabin Embarked  \n",
       "0      0         A/5 21171   7.2500   NaN        S  \n",
       "1      0          PC 17599  71.2833   C85        C  \n",
       "2      0  STON/O2. 3101282   7.9250   NaN        S  \n",
       "3      0            113803  53.1000  C123        S  \n",
       "4      0            373450   8.0500   NaN        S  "
      ]
     },
     "execution_count": 7,
     "metadata": {},
     "output_type": "execute_result"
    }
   ],
   "source": [
    "x_train.head()"
   ]
  },
  {
   "cell_type": "code",
   "execution_count": 8,
   "id": "9dbd22e2",
   "metadata": {
    "execution": {
     "iopub.execute_input": "2022-09-19T23:32:44.482913Z",
     "iopub.status.busy": "2022-09-19T23:32:44.482215Z",
     "iopub.status.idle": "2022-09-19T23:32:44.487301Z",
     "shell.execute_reply": "2022-09-19T23:32:44.486405Z"
    },
    "papermill": {
     "duration": 0.021584,
     "end_time": "2022-09-19T23:32:44.489658",
     "exception": false,
     "start_time": "2022-09-19T23:32:44.468074",
     "status": "completed"
    },
    "tags": []
   },
   "outputs": [],
   "source": [
    "labels = [\"Pclass\", \"Sex\", \"Age\", \"SibSp\", \"Parch\", \"Fare\", \"Embarked\"]"
   ]
  },
  {
   "cell_type": "code",
   "execution_count": 9,
   "id": "449f9a1c",
   "metadata": {
    "execution": {
     "iopub.execute_input": "2022-09-19T23:32:44.515508Z",
     "iopub.status.busy": "2022-09-19T23:32:44.514642Z",
     "iopub.status.idle": "2022-09-19T23:32:44.524361Z",
     "shell.execute_reply": "2022-09-19T23:32:44.523275Z"
    },
    "papermill": {
     "duration": 0.024978,
     "end_time": "2022-09-19T23:32:44.526658",
     "exception": false,
     "start_time": "2022-09-19T23:32:44.501680",
     "status": "completed"
    },
    "tags": []
   },
   "outputs": [],
   "source": [
    "x_train = x_train[labels]"
   ]
  },
  {
   "cell_type": "code",
   "execution_count": 10,
   "id": "d3666929",
   "metadata": {
    "execution": {
     "iopub.execute_input": "2022-09-19T23:32:44.552654Z",
     "iopub.status.busy": "2022-09-19T23:32:44.552029Z",
     "iopub.status.idle": "2022-09-19T23:32:44.559068Z",
     "shell.execute_reply": "2022-09-19T23:32:44.558329Z"
    },
    "papermill": {
     "duration": 0.022581,
     "end_time": "2022-09-19T23:32:44.561186",
     "exception": false,
     "start_time": "2022-09-19T23:32:44.538605",
     "status": "completed"
    },
    "tags": []
   },
   "outputs": [],
   "source": [
    "x_test = x_test[labels]"
   ]
  },
  {
   "cell_type": "code",
   "execution_count": 11,
   "id": "4c227fa3",
   "metadata": {
    "execution": {
     "iopub.execute_input": "2022-09-19T23:32:44.587073Z",
     "iopub.status.busy": "2022-09-19T23:32:44.586430Z",
     "iopub.status.idle": "2022-09-19T23:32:44.603295Z",
     "shell.execute_reply": "2022-09-19T23:32:44.602524Z"
    },
    "papermill": {
     "duration": 0.03244,
     "end_time": "2022-09-19T23:32:44.605640",
     "exception": false,
     "start_time": "2022-09-19T23:32:44.573200",
     "status": "completed"
    },
    "tags": []
   },
   "outputs": [
    {
     "name": "stdout",
     "output_type": "stream",
     "text": [
      "<class 'pandas.core.frame.DataFrame'>\n",
      "RangeIndex: 891 entries, 0 to 890\n",
      "Data columns (total 7 columns):\n",
      " #   Column    Non-Null Count  Dtype  \n",
      "---  ------    --------------  -----  \n",
      " 0   Pclass    891 non-null    int64  \n",
      " 1   Sex       891 non-null    object \n",
      " 2   Age       714 non-null    float64\n",
      " 3   SibSp     891 non-null    int64  \n",
      " 4   Parch     891 non-null    int64  \n",
      " 5   Fare      891 non-null    float64\n",
      " 6   Embarked  889 non-null    object \n",
      "dtypes: float64(2), int64(3), object(2)\n",
      "memory usage: 48.9+ KB\n"
     ]
    }
   ],
   "source": [
    "x_train.info()"
   ]
  },
  {
   "cell_type": "code",
   "execution_count": 12,
   "id": "a3e16aad",
   "metadata": {
    "execution": {
     "iopub.execute_input": "2022-09-19T23:32:44.631470Z",
     "iopub.status.busy": "2022-09-19T23:32:44.630820Z",
     "iopub.status.idle": "2022-09-19T23:32:44.643621Z",
     "shell.execute_reply": "2022-09-19T23:32:44.642344Z"
    },
    "papermill": {
     "duration": 0.028337,
     "end_time": "2022-09-19T23:32:44.645878",
     "exception": false,
     "start_time": "2022-09-19T23:32:44.617541",
     "status": "completed"
    },
    "tags": []
   },
   "outputs": [
    {
     "name": "stdout",
     "output_type": "stream",
     "text": [
      "<class 'pandas.core.frame.DataFrame'>\n",
      "RangeIndex: 418 entries, 0 to 417\n",
      "Data columns (total 7 columns):\n",
      " #   Column    Non-Null Count  Dtype  \n",
      "---  ------    --------------  -----  \n",
      " 0   Pclass    418 non-null    int64  \n",
      " 1   Sex       418 non-null    object \n",
      " 2   Age       332 non-null    float64\n",
      " 3   SibSp     418 non-null    int64  \n",
      " 4   Parch     418 non-null    int64  \n",
      " 5   Fare      417 non-null    float64\n",
      " 6   Embarked  418 non-null    object \n",
      "dtypes: float64(2), int64(3), object(2)\n",
      "memory usage: 23.0+ KB\n"
     ]
    }
   ],
   "source": [
    "x_test.info()"
   ]
  },
  {
   "cell_type": "code",
   "execution_count": 13,
   "id": "d8324349",
   "metadata": {
    "execution": {
     "iopub.execute_input": "2022-09-19T23:32:44.672120Z",
     "iopub.status.busy": "2022-09-19T23:32:44.671463Z",
     "iopub.status.idle": "2022-09-19T23:32:44.699002Z",
     "shell.execute_reply": "2022-09-19T23:32:44.698107Z"
    },
    "papermill": {
     "duration": 0.043217,
     "end_time": "2022-09-19T23:32:44.701211",
     "exception": false,
     "start_time": "2022-09-19T23:32:44.657994",
     "status": "completed"
    },
    "tags": []
   },
   "outputs": [
    {
     "data": {
      "text/html": [
       "<div>\n",
       "<style scoped>\n",
       "    .dataframe tbody tr th:only-of-type {\n",
       "        vertical-align: middle;\n",
       "    }\n",
       "\n",
       "    .dataframe tbody tr th {\n",
       "        vertical-align: top;\n",
       "    }\n",
       "\n",
       "    .dataframe thead th {\n",
       "        text-align: right;\n",
       "    }\n",
       "</style>\n",
       "<table border=\"1\" class=\"dataframe\">\n",
       "  <thead>\n",
       "    <tr style=\"text-align: right;\">\n",
       "      <th></th>\n",
       "      <th>Pclass</th>\n",
       "      <th>Age</th>\n",
       "      <th>SibSp</th>\n",
       "      <th>Parch</th>\n",
       "      <th>Fare</th>\n",
       "    </tr>\n",
       "  </thead>\n",
       "  <tbody>\n",
       "    <tr>\n",
       "      <th>count</th>\n",
       "      <td>891.000000</td>\n",
       "      <td>714.000000</td>\n",
       "      <td>891.000000</td>\n",
       "      <td>891.000000</td>\n",
       "      <td>891.000000</td>\n",
       "    </tr>\n",
       "    <tr>\n",
       "      <th>mean</th>\n",
       "      <td>2.308642</td>\n",
       "      <td>29.699118</td>\n",
       "      <td>0.523008</td>\n",
       "      <td>0.381594</td>\n",
       "      <td>32.204208</td>\n",
       "    </tr>\n",
       "    <tr>\n",
       "      <th>std</th>\n",
       "      <td>0.836071</td>\n",
       "      <td>14.526497</td>\n",
       "      <td>1.102743</td>\n",
       "      <td>0.806057</td>\n",
       "      <td>49.693429</td>\n",
       "    </tr>\n",
       "    <tr>\n",
       "      <th>min</th>\n",
       "      <td>1.000000</td>\n",
       "      <td>0.420000</td>\n",
       "      <td>0.000000</td>\n",
       "      <td>0.000000</td>\n",
       "      <td>0.000000</td>\n",
       "    </tr>\n",
       "    <tr>\n",
       "      <th>25%</th>\n",
       "      <td>2.000000</td>\n",
       "      <td>20.125000</td>\n",
       "      <td>0.000000</td>\n",
       "      <td>0.000000</td>\n",
       "      <td>7.910400</td>\n",
       "    </tr>\n",
       "    <tr>\n",
       "      <th>50%</th>\n",
       "      <td>3.000000</td>\n",
       "      <td>28.000000</td>\n",
       "      <td>0.000000</td>\n",
       "      <td>0.000000</td>\n",
       "      <td>14.454200</td>\n",
       "    </tr>\n",
       "    <tr>\n",
       "      <th>75%</th>\n",
       "      <td>3.000000</td>\n",
       "      <td>38.000000</td>\n",
       "      <td>1.000000</td>\n",
       "      <td>0.000000</td>\n",
       "      <td>31.000000</td>\n",
       "    </tr>\n",
       "    <tr>\n",
       "      <th>max</th>\n",
       "      <td>3.000000</td>\n",
       "      <td>80.000000</td>\n",
       "      <td>8.000000</td>\n",
       "      <td>6.000000</td>\n",
       "      <td>512.329200</td>\n",
       "    </tr>\n",
       "  </tbody>\n",
       "</table>\n",
       "</div>"
      ],
      "text/plain": [
       "           Pclass         Age       SibSp       Parch        Fare\n",
       "count  891.000000  714.000000  891.000000  891.000000  891.000000\n",
       "mean     2.308642   29.699118    0.523008    0.381594   32.204208\n",
       "std      0.836071   14.526497    1.102743    0.806057   49.693429\n",
       "min      1.000000    0.420000    0.000000    0.000000    0.000000\n",
       "25%      2.000000   20.125000    0.000000    0.000000    7.910400\n",
       "50%      3.000000   28.000000    0.000000    0.000000   14.454200\n",
       "75%      3.000000   38.000000    1.000000    0.000000   31.000000\n",
       "max      3.000000   80.000000    8.000000    6.000000  512.329200"
      ]
     },
     "execution_count": 13,
     "metadata": {},
     "output_type": "execute_result"
    }
   ],
   "source": [
    "x_train.describe()"
   ]
  },
  {
   "cell_type": "code",
   "execution_count": 14,
   "id": "55db91f8",
   "metadata": {
    "execution": {
     "iopub.execute_input": "2022-09-19T23:32:44.729774Z",
     "iopub.status.busy": "2022-09-19T23:32:44.729126Z",
     "iopub.status.idle": "2022-09-19T23:32:46.063759Z",
     "shell.execute_reply": "2022-09-19T23:32:46.062679Z"
    },
    "papermill": {
     "duration": 1.35327,
     "end_time": "2022-09-19T23:32:46.067401",
     "exception": false,
     "start_time": "2022-09-19T23:32:44.714131",
     "status": "completed"
    },
    "tags": []
   },
   "outputs": [],
   "source": [
    "from sklearn.pipeline import Pipeline\n",
    "from sklearn.preprocessing import StandardScaler\n",
    "from sklearn.impute import SimpleImputer"
   ]
  },
  {
   "cell_type": "code",
   "execution_count": 15,
   "id": "22d780a9",
   "metadata": {
    "execution": {
     "iopub.execute_input": "2022-09-19T23:32:46.100965Z",
     "iopub.status.busy": "2022-09-19T23:32:46.100157Z",
     "iopub.status.idle": "2022-09-19T23:32:46.107252Z",
     "shell.execute_reply": "2022-09-19T23:32:46.105281Z"
    },
    "papermill": {
     "duration": 0.027449,
     "end_time": "2022-09-19T23:32:46.109945",
     "exception": false,
     "start_time": "2022-09-19T23:32:46.082496",
     "status": "completed"
    },
    "tags": []
   },
   "outputs": [],
   "source": [
    "num_pipeline = Pipeline([\n",
    "    ('num_imputer', SimpleImputer(strategy=\"median\")),\n",
    "    ('std_scaler', StandardScaler())\n",
    "])"
   ]
  },
  {
   "cell_type": "code",
   "execution_count": 16,
   "id": "efa978f6",
   "metadata": {
    "execution": {
     "iopub.execute_input": "2022-09-19T23:32:46.138611Z",
     "iopub.status.busy": "2022-09-19T23:32:46.137791Z",
     "iopub.status.idle": "2022-09-19T23:32:46.143320Z",
     "shell.execute_reply": "2022-09-19T23:32:46.142459Z"
    },
    "papermill": {
     "duration": 0.023136,
     "end_time": "2022-09-19T23:32:46.146563",
     "exception": false,
     "start_time": "2022-09-19T23:32:46.123427",
     "status": "completed"
    },
    "tags": []
   },
   "outputs": [],
   "source": [
    "from sklearn.preprocessing import OneHotEncoder"
   ]
  },
  {
   "cell_type": "code",
   "execution_count": 17,
   "id": "b605f406",
   "metadata": {
    "execution": {
     "iopub.execute_input": "2022-09-19T23:32:46.174059Z",
     "iopub.status.busy": "2022-09-19T23:32:46.173641Z",
     "iopub.status.idle": "2022-09-19T23:32:46.178990Z",
     "shell.execute_reply": "2022-09-19T23:32:46.177857Z"
    },
    "papermill": {
     "duration": 0.021546,
     "end_time": "2022-09-19T23:32:46.181015",
     "exception": false,
     "start_time": "2022-09-19T23:32:46.159469",
     "status": "completed"
    },
    "tags": []
   },
   "outputs": [],
   "source": [
    "cat_pipeline = Pipeline([\n",
    "    ('cat_imputer', SimpleImputer(strategy=\"most_frequent\")),\n",
    "    ('encode', OneHotEncoder())\n",
    "])"
   ]
  },
  {
   "cell_type": "code",
   "execution_count": 18,
   "id": "a4756cef",
   "metadata": {
    "execution": {
     "iopub.execute_input": "2022-09-19T23:32:46.208230Z",
     "iopub.status.busy": "2022-09-19T23:32:46.207542Z",
     "iopub.status.idle": "2022-09-19T23:32:46.217512Z",
     "shell.execute_reply": "2022-09-19T23:32:46.216535Z"
    },
    "papermill": {
     "duration": 0.02633,
     "end_time": "2022-09-19T23:32:46.219796",
     "exception": false,
     "start_time": "2022-09-19T23:32:46.193466",
     "status": "completed"
    },
    "tags": []
   },
   "outputs": [],
   "source": [
    "from sklearn.compose import ColumnTransformer\n",
    "from sklearn.preprocessing import PolynomialFeatures"
   ]
  },
  {
   "cell_type": "code",
   "execution_count": 19,
   "id": "f94ea1d7",
   "metadata": {
    "execution": {
     "iopub.execute_input": "2022-09-19T23:32:46.246587Z",
     "iopub.status.busy": "2022-09-19T23:32:46.246128Z",
     "iopub.status.idle": "2022-09-19T23:32:46.251437Z",
     "shell.execute_reply": "2022-09-19T23:32:46.250322Z"
    },
    "papermill": {
     "duration": 0.021437,
     "end_time": "2022-09-19T23:32:46.253760",
     "exception": false,
     "start_time": "2022-09-19T23:32:46.232323",
     "status": "completed"
    },
    "tags": []
   },
   "outputs": [],
   "source": [
    "num_labels = [\"Pclass\", \"Age\", \"SibSp\", \"Parch\", \"Fare\"]\n"
   ]
  },
  {
   "cell_type": "code",
   "execution_count": 20,
   "id": "7d489eb0",
   "metadata": {
    "execution": {
     "iopub.execute_input": "2022-09-19T23:32:46.281469Z",
     "iopub.status.busy": "2022-09-19T23:32:46.280559Z",
     "iopub.status.idle": "2022-09-19T23:32:46.286450Z",
     "shell.execute_reply": "2022-09-19T23:32:46.285241Z"
    },
    "papermill": {
     "duration": 0.022546,
     "end_time": "2022-09-19T23:32:46.288616",
     "exception": false,
     "start_time": "2022-09-19T23:32:46.266070",
     "status": "completed"
    },
    "tags": []
   },
   "outputs": [],
   "source": [
    "cat_labels = [\"Sex\", \"Embarked\"]"
   ]
  },
  {
   "cell_type": "code",
   "execution_count": 21,
   "id": "4f2c6c90",
   "metadata": {
    "execution": {
     "iopub.execute_input": "2022-09-19T23:32:46.315188Z",
     "iopub.status.busy": "2022-09-19T23:32:46.314759Z",
     "iopub.status.idle": "2022-09-19T23:32:46.319722Z",
     "shell.execute_reply": "2022-09-19T23:32:46.318900Z"
    },
    "papermill": {
     "duration": 0.020598,
     "end_time": "2022-09-19T23:32:46.321753",
     "exception": false,
     "start_time": "2022-09-19T23:32:46.301155",
     "status": "completed"
    },
    "tags": []
   },
   "outputs": [],
   "source": [
    "full_pipeline = ColumnTransformer([\n",
    "    (\"num_trans\", num_pipeline, num_labels),\n",
    "    (\"cat_trans\", cat_pipeline, cat_labels)\n",
    "])"
   ]
  },
  {
   "cell_type": "code",
   "execution_count": 22,
   "id": "3a695261",
   "metadata": {
    "execution": {
     "iopub.execute_input": "2022-09-19T23:32:46.348711Z",
     "iopub.status.busy": "2022-09-19T23:32:46.348013Z",
     "iopub.status.idle": "2022-09-19T23:32:46.366857Z",
     "shell.execute_reply": "2022-09-19T23:32:46.366081Z"
    },
    "papermill": {
     "duration": 0.035203,
     "end_time": "2022-09-19T23:32:46.369320",
     "exception": false,
     "start_time": "2022-09-19T23:32:46.334117",
     "status": "completed"
    },
    "tags": []
   },
   "outputs": [],
   "source": [
    "x_train_prepared = full_pipeline.fit_transform(x_train)"
   ]
  },
  {
   "cell_type": "code",
   "execution_count": 23,
   "id": "09f7a8cc",
   "metadata": {
    "execution": {
     "iopub.execute_input": "2022-09-19T23:32:46.395893Z",
     "iopub.status.busy": "2022-09-19T23:32:46.395482Z",
     "iopub.status.idle": "2022-09-19T23:32:46.401509Z",
     "shell.execute_reply": "2022-09-19T23:32:46.400542Z"
    },
    "papermill": {
     "duration": 0.021759,
     "end_time": "2022-09-19T23:32:46.403569",
     "exception": false,
     "start_time": "2022-09-19T23:32:46.381810",
     "status": "completed"
    },
    "tags": []
   },
   "outputs": [],
   "source": [
    "def model_fit_and_print_acc(model):\n",
    "    model.fit(x_train_prepared, y_train)\n",
    "    pred = model.predict(x_train_prepared) \n",
    "    print(\"Train accuracy: \", accuracy_score(pred, y_train))\n",
    "    cv_scores = cross_val_score(model, x_train_prepared, y_train, cv=3, scoring=\"accuracy\")\n",
    "    print(\"Validation accuracy: \", cv_scores.mean())"
   ]
  },
  {
   "cell_type": "code",
   "execution_count": 24,
   "id": "bb6cad08",
   "metadata": {
    "execution": {
     "iopub.execute_input": "2022-09-19T23:32:46.430771Z",
     "iopub.status.busy": "2022-09-19T23:32:46.429617Z",
     "iopub.status.idle": "2022-09-19T23:32:46.434894Z",
     "shell.execute_reply": "2022-09-19T23:32:46.434068Z"
    },
    "papermill": {
     "duration": 0.021559,
     "end_time": "2022-09-19T23:32:46.437502",
     "exception": false,
     "start_time": "2022-09-19T23:32:46.415943",
     "status": "completed"
    },
    "tags": []
   },
   "outputs": [],
   "source": [
    "from sklearn.linear_model import LogisticRegression\n",
    "from sklearn.metrics import accuracy_score\n",
    "from sklearn.model_selection import cross_val_score"
   ]
  },
  {
   "cell_type": "code",
   "execution_count": 25,
   "id": "a512c2d7",
   "metadata": {
    "execution": {
     "iopub.execute_input": "2022-09-19T23:32:46.465817Z",
     "iopub.status.busy": "2022-09-19T23:32:46.464847Z",
     "iopub.status.idle": "2022-09-19T23:32:46.512110Z",
     "shell.execute_reply": "2022-09-19T23:32:46.510946Z"
    },
    "papermill": {
     "duration": 0.064058,
     "end_time": "2022-09-19T23:32:46.515143",
     "exception": false,
     "start_time": "2022-09-19T23:32:46.451085",
     "status": "completed"
    },
    "tags": []
   },
   "outputs": [
    {
     "name": "stdout",
     "output_type": "stream",
     "text": [
      "Train accuracy:  0.7991021324354658\n",
      "Validation accuracy:  0.7867564534231201\n"
     ]
    }
   ],
   "source": [
    "log_reg = LogisticRegression()\n",
    "model_fit_and_print_acc(log_reg)"
   ]
  },
  {
   "cell_type": "code",
   "execution_count": 26,
   "id": "0389389b",
   "metadata": {
    "execution": {
     "iopub.execute_input": "2022-09-19T23:32:46.542313Z",
     "iopub.status.busy": "2022-09-19T23:32:46.541898Z",
     "iopub.status.idle": "2022-09-19T23:32:46.548504Z",
     "shell.execute_reply": "2022-09-19T23:32:46.547379Z"
    },
    "papermill": {
     "duration": 0.022291,
     "end_time": "2022-09-19T23:32:46.550614",
     "exception": false,
     "start_time": "2022-09-19T23:32:46.528323",
     "status": "completed"
    },
    "tags": []
   },
   "outputs": [],
   "source": [
    "poly_log_reg = Pipeline([\n",
    "    (\"poly_features\", PolynomialFeatures(degree=3, include_bias=False)),\n",
    "    (\"log_reg\", LogisticRegression(penalty='elasticnet', l1_ratio=0.7, max_iter=100000, solver='saga')),\n",
    "])"
   ]
  },
  {
   "cell_type": "code",
   "execution_count": 27,
   "id": "6aad43a7",
   "metadata": {
    "execution": {
     "iopub.execute_input": "2022-09-19T23:32:46.577234Z",
     "iopub.status.busy": "2022-09-19T23:32:46.576807Z",
     "iopub.status.idle": "2022-09-19T23:33:43.799374Z",
     "shell.execute_reply": "2022-09-19T23:33:43.789332Z"
    },
    "papermill": {
     "duration": 57.266978,
     "end_time": "2022-09-19T23:33:43.830207",
     "exception": false,
     "start_time": "2022-09-19T23:32:46.563229",
     "status": "completed"
    },
    "tags": []
   },
   "outputs": [
    {
     "name": "stdout",
     "output_type": "stream",
     "text": [
      "Train accuracy:  0.8338945005611672\n",
      "Validation accuracy:  0.8148148148148149\n"
     ]
    }
   ],
   "source": [
    "model_fit_and_print_acc(poly_log_reg)"
   ]
  },
  {
   "cell_type": "code",
   "execution_count": 28,
   "id": "f72f26f4",
   "metadata": {
    "execution": {
     "iopub.execute_input": "2022-09-19T23:33:43.897745Z",
     "iopub.status.busy": "2022-09-19T23:33:43.897035Z",
     "iopub.status.idle": "2022-09-19T23:33:43.991238Z",
     "shell.execute_reply": "2022-09-19T23:33:43.990097Z"
    },
    "papermill": {
     "duration": 0.130822,
     "end_time": "2022-09-19T23:33:43.993887",
     "exception": false,
     "start_time": "2022-09-19T23:33:43.863065",
     "status": "completed"
    },
    "tags": []
   },
   "outputs": [],
   "source": [
    "from sklearn.ensemble import RandomForestClassifier"
   ]
  },
  {
   "cell_type": "code",
   "execution_count": 29,
   "id": "dc3686ec",
   "metadata": {
    "execution": {
     "iopub.execute_input": "2022-09-19T23:33:44.021059Z",
     "iopub.status.busy": "2022-09-19T23:33:44.020641Z",
     "iopub.status.idle": "2022-09-19T23:33:44.856566Z",
     "shell.execute_reply": "2022-09-19T23:33:44.855295Z"
    },
    "papermill": {
     "duration": 0.852523,
     "end_time": "2022-09-19T23:33:44.858972",
     "exception": false,
     "start_time": "2022-09-19T23:33:44.006449",
     "status": "completed"
    },
    "tags": []
   },
   "outputs": [
    {
     "name": "stdout",
     "output_type": "stream",
     "text": [
      "Train accuracy:  0.9797979797979798\n",
      "Validation accuracy:  0.7934904601571269\n"
     ]
    }
   ],
   "source": [
    "forest_clf = RandomForestClassifier()\n",
    "model_fit_and_print_acc(forest_clf)"
   ]
  },
  {
   "cell_type": "code",
   "execution_count": 30,
   "id": "8eae41b3",
   "metadata": {
    "execution": {
     "iopub.execute_input": "2022-09-19T23:33:44.885483Z",
     "iopub.status.busy": "2022-09-19T23:33:44.885084Z",
     "iopub.status.idle": "2022-09-19T23:33:44.890127Z",
     "shell.execute_reply": "2022-09-19T23:33:44.889066Z"
    },
    "papermill": {
     "duration": 0.020801,
     "end_time": "2022-09-19T23:33:44.892258",
     "exception": false,
     "start_time": "2022-09-19T23:33:44.871457",
     "status": "completed"
    },
    "tags": []
   },
   "outputs": [],
   "source": [
    "from sklearn.model_selection import GridSearchCV"
   ]
  },
  {
   "cell_type": "code",
   "execution_count": 31,
   "id": "602e80ba",
   "metadata": {
    "execution": {
     "iopub.execute_input": "2022-09-19T23:33:44.919961Z",
     "iopub.status.busy": "2022-09-19T23:33:44.918876Z",
     "iopub.status.idle": "2022-09-19T23:33:44.924223Z",
     "shell.execute_reply": "2022-09-19T23:33:44.923345Z"
    },
    "papermill": {
     "duration": 0.021416,
     "end_time": "2022-09-19T23:33:44.926524",
     "exception": false,
     "start_time": "2022-09-19T23:33:44.905108",
     "status": "completed"
    },
    "tags": []
   },
   "outputs": [],
   "source": [
    "param_grid = [\n",
    "    {'n_estimators':[150, 200, 250], 'max_features':[5, 10], 'max_depth':[5, 10, 20], \n",
    "     'min_samples_leaf':[5, 10, 20], 'min_samples_split':[5, 10, 20]}\n",
    "]"
   ]
  },
  {
   "cell_type": "code",
   "execution_count": 32,
   "id": "0ec95a66",
   "metadata": {
    "execution": {
     "iopub.execute_input": "2022-09-19T23:33:44.954085Z",
     "iopub.status.busy": "2022-09-19T23:33:44.953674Z",
     "iopub.status.idle": "2022-09-19T23:33:44.958583Z",
     "shell.execute_reply": "2022-09-19T23:33:44.957517Z"
    },
    "papermill": {
     "duration": 0.021566,
     "end_time": "2022-09-19T23:33:44.960821",
     "exception": false,
     "start_time": "2022-09-19T23:33:44.939255",
     "status": "completed"
    },
    "tags": []
   },
   "outputs": [],
   "source": [
    "forest_clf = RandomForestClassifier()\n"
   ]
  },
  {
   "cell_type": "code",
   "execution_count": 33,
   "id": "cdd0023e",
   "metadata": {
    "execution": {
     "iopub.execute_input": "2022-09-19T23:33:44.987981Z",
     "iopub.status.busy": "2022-09-19T23:33:44.986881Z",
     "iopub.status.idle": "2022-09-19T23:33:44.992420Z",
     "shell.execute_reply": "2022-09-19T23:33:44.991371Z"
    },
    "papermill": {
     "duration": 0.021395,
     "end_time": "2022-09-19T23:33:44.994687",
     "exception": false,
     "start_time": "2022-09-19T23:33:44.973292",
     "status": "completed"
    },
    "tags": []
   },
   "outputs": [],
   "source": [
    "grid_search = GridSearchCV(forest_clf, param_grid, cv=3, scoring='accuracy', return_train_score=True)"
   ]
  },
  {
   "cell_type": "code",
   "execution_count": 34,
   "id": "25f0ddef",
   "metadata": {
    "execution": {
     "iopub.execute_input": "2022-09-19T23:33:45.021259Z",
     "iopub.status.busy": "2022-09-19T23:33:45.020842Z",
     "iopub.status.idle": "2022-09-19T23:37:06.765500Z",
     "shell.execute_reply": "2022-09-19T23:37:06.764121Z"
    },
    "papermill": {
     "duration": 201.772687,
     "end_time": "2022-09-19T23:37:06.779651",
     "exception": false,
     "start_time": "2022-09-19T23:33:45.006964",
     "status": "completed"
    },
    "tags": []
   },
   "outputs": [
    {
     "data": {
      "text/plain": [
       "GridSearchCV(cv=3, estimator=RandomForestClassifier(),\n",
       "             param_grid=[{'max_depth': [5, 10, 20], 'max_features': [5, 10],\n",
       "                          'min_samples_leaf': [5, 10, 20],\n",
       "                          'min_samples_split': [5, 10, 20],\n",
       "                          'n_estimators': [150, 200, 250]}],\n",
       "             return_train_score=True, scoring='accuracy')"
      ]
     },
     "execution_count": 34,
     "metadata": {},
     "output_type": "execute_result"
    }
   ],
   "source": [
    "grid_search.fit(x_train_prepared, y_train)"
   ]
  },
  {
   "cell_type": "code",
   "execution_count": 35,
   "id": "ccd7f2cb",
   "metadata": {
    "execution": {
     "iopub.execute_input": "2022-09-19T23:37:06.806627Z",
     "iopub.status.busy": "2022-09-19T23:37:06.806230Z",
     "iopub.status.idle": "2022-09-19T23:37:06.810995Z",
     "shell.execute_reply": "2022-09-19T23:37:06.809844Z"
    },
    "papermill": {
     "duration": 0.021351,
     "end_time": "2022-09-19T23:37:06.813527",
     "exception": false,
     "start_time": "2022-09-19T23:37:06.792176",
     "status": "completed"
    },
    "tags": []
   },
   "outputs": [],
   "source": [
    "best_search_rf = grid_search.best_estimator_"
   ]
  },
  {
   "cell_type": "code",
   "execution_count": 36,
   "id": "34259804",
   "metadata": {
    "execution": {
     "iopub.execute_input": "2022-09-19T23:37:06.840602Z",
     "iopub.status.busy": "2022-09-19T23:37:06.840180Z",
     "iopub.status.idle": "2022-09-19T23:37:06.846050Z",
     "shell.execute_reply": "2022-09-19T23:37:06.845227Z"
    },
    "papermill": {
     "duration": 0.022636,
     "end_time": "2022-09-19T23:37:06.849011",
     "exception": false,
     "start_time": "2022-09-19T23:37:06.826375",
     "status": "completed"
    },
    "tags": []
   },
   "outputs": [
    {
     "name": "stdout",
     "output_type": "stream",
     "text": [
      "RandomForestClassifier(max_depth=20, max_features=10, min_samples_leaf=5,\n",
      "                       min_samples_split=5, n_estimators=150)\n"
     ]
    }
   ],
   "source": [
    "print(best_search_rf)"
   ]
  },
  {
   "cell_type": "code",
   "execution_count": 37,
   "id": "66514019",
   "metadata": {
    "execution": {
     "iopub.execute_input": "2022-09-19T23:37:06.877771Z",
     "iopub.status.busy": "2022-09-19T23:37:06.877040Z",
     "iopub.status.idle": "2022-09-19T23:37:06.882901Z",
     "shell.execute_reply": "2022-09-19T23:37:06.882150Z"
    },
    "papermill": {
     "duration": 0.021967,
     "end_time": "2022-09-19T23:37:06.884928",
     "exception": false,
     "start_time": "2022-09-19T23:37:06.862961",
     "status": "completed"
    },
    "tags": []
   },
   "outputs": [
    {
     "data": {
      "text/plain": [
       "{'max_depth': 20,\n",
       " 'max_features': 10,\n",
       " 'min_samples_leaf': 5,\n",
       " 'min_samples_split': 5,\n",
       " 'n_estimators': 150}"
      ]
     },
     "execution_count": 37,
     "metadata": {},
     "output_type": "execute_result"
    }
   ],
   "source": [
    "grid_search.best_params_"
   ]
  },
  {
   "cell_type": "code",
   "execution_count": 38,
   "id": "cfb54e82",
   "metadata": {
    "execution": {
     "iopub.execute_input": "2022-09-19T23:37:06.913217Z",
     "iopub.status.busy": "2022-09-19T23:37:06.912490Z",
     "iopub.status.idle": "2022-09-19T23:37:08.260253Z",
     "shell.execute_reply": "2022-09-19T23:37:08.258850Z"
    },
    "papermill": {
     "duration": 1.364926,
     "end_time": "2022-09-19T23:37:08.263032",
     "exception": false,
     "start_time": "2022-09-19T23:37:06.898106",
     "status": "completed"
    },
    "tags": []
   },
   "outputs": [
    {
     "name": "stdout",
     "output_type": "stream",
     "text": [
      "Train accuracy:  0.8866442199775533\n",
      "Validation accuracy:  0.8294051627384961\n"
     ]
    }
   ],
   "source": [
    "model_fit_and_print_acc(best_search_rf)"
   ]
  },
  {
   "cell_type": "code",
   "execution_count": 39,
   "id": "4af64124",
   "metadata": {
    "execution": {
     "iopub.execute_input": "2022-09-19T23:37:08.291159Z",
     "iopub.status.busy": "2022-09-19T23:37:08.290749Z",
     "iopub.status.idle": "2022-09-19T23:37:08.376745Z",
     "shell.execute_reply": "2022-09-19T23:37:08.375302Z"
    },
    "papermill": {
     "duration": 0.103428,
     "end_time": "2022-09-19T23:37:08.379902",
     "exception": false,
     "start_time": "2022-09-19T23:37:08.276474",
     "status": "completed"
    },
    "tags": []
   },
   "outputs": [
    {
     "name": "stdout",
     "output_type": "stream",
     "text": [
      "Train accuracy:  0.8249158249158249\n",
      "Validation accuracy:  0.8159371492704827\n"
     ]
    }
   ],
   "source": [
    "# KNN\n",
    "from sklearn.neighbors import KNeighborsClassifier\n",
    "\n",
    "knn = KNeighborsClassifier(20)\n",
    "model_fit_and_print_acc(knn)"
   ]
  },
  {
   "cell_type": "code",
   "execution_count": 40,
   "id": "607208f0",
   "metadata": {
    "execution": {
     "iopub.execute_input": "2022-09-19T23:37:08.408619Z",
     "iopub.status.busy": "2022-09-19T23:37:08.408231Z",
     "iopub.status.idle": "2022-09-19T23:37:08.413087Z",
     "shell.execute_reply": "2022-09-19T23:37:08.411927Z"
    },
    "papermill": {
     "duration": 0.022104,
     "end_time": "2022-09-19T23:37:08.415684",
     "exception": false,
     "start_time": "2022-09-19T23:37:08.393580",
     "status": "completed"
    },
    "tags": []
   },
   "outputs": [],
   "source": [
    "from sklearn.ensemble import VotingClassifier"
   ]
  },
  {
   "cell_type": "code",
   "execution_count": 41,
   "id": "d34c77e0",
   "metadata": {
    "execution": {
     "iopub.execute_input": "2022-09-19T23:37:08.443544Z",
     "iopub.status.busy": "2022-09-19T23:37:08.443178Z",
     "iopub.status.idle": "2022-09-19T23:37:08.448280Z",
     "shell.execute_reply": "2022-09-19T23:37:08.447229Z"
    },
    "papermill": {
     "duration": 0.021768,
     "end_time": "2022-09-19T23:37:08.450535",
     "exception": false,
     "start_time": "2022-09-19T23:37:08.428767",
     "status": "completed"
    },
    "tags": []
   },
   "outputs": [],
   "source": [
    "voting = VotingClassifier(\n",
    "    estimators=[('poly_logres', poly_log_reg), ('grid_randomforest', best_search_rf), \n",
    "                ('knn', knn)],\n",
    "    voting='hard'\n",
    ")"
   ]
  },
  {
   "cell_type": "code",
   "execution_count": 42,
   "id": "ce04db2e",
   "metadata": {
    "execution": {
     "iopub.execute_input": "2022-09-19T23:37:08.478282Z",
     "iopub.status.busy": "2022-09-19T23:37:08.477876Z",
     "iopub.status.idle": "2022-09-19T23:37:29.579347Z",
     "shell.execute_reply": "2022-09-19T23:37:29.578108Z"
    },
    "papermill": {
     "duration": 21.118479,
     "end_time": "2022-09-19T23:37:29.581964",
     "exception": false,
     "start_time": "2022-09-19T23:37:08.463485",
     "status": "completed"
    },
    "tags": []
   },
   "outputs": [
    {
     "data": {
      "text/plain": [
       "VotingClassifier(estimators=[('poly_logres',\n",
       "                              Pipeline(steps=[('poly_features',\n",
       "                                               PolynomialFeatures(degree=3,\n",
       "                                                                  include_bias=False)),\n",
       "                                              ('log_reg',\n",
       "                                               LogisticRegression(l1_ratio=0.7,\n",
       "                                                                  max_iter=100000,\n",
       "                                                                  penalty='elasticnet',\n",
       "                                                                  solver='saga'))])),\n",
       "                             ('grid_randomforest',\n",
       "                              RandomForestClassifier(max_depth=20,\n",
       "                                                     max_features=10,\n",
       "                                                     min_samples_leaf=5,\n",
       "                                                     min_samples_split=5,\n",
       "                                                     n_estimators=150)),\n",
       "                             ('knn', KNeighborsClassifier(n_neighbors=20))])"
      ]
     },
     "execution_count": 42,
     "metadata": {},
     "output_type": "execute_result"
    }
   ],
   "source": [
    "voting.fit(x_train_prepared, y_train)"
   ]
  },
  {
   "cell_type": "code",
   "execution_count": 43,
   "id": "47fbaa8e",
   "metadata": {
    "execution": {
     "iopub.execute_input": "2022-09-19T23:37:29.610801Z",
     "iopub.status.busy": "2022-09-19T23:37:29.609953Z",
     "iopub.status.idle": "2022-09-19T23:37:29.758501Z",
     "shell.execute_reply": "2022-09-19T23:37:29.757690Z"
    },
    "papermill": {
     "duration": 0.16532,
     "end_time": "2022-09-19T23:37:29.760854",
     "exception": false,
     "start_time": "2022-09-19T23:37:29.595534",
     "status": "completed"
    },
    "tags": []
   },
   "outputs": [],
   "source": [
    "pred = voting.predict(x_train_prepared) "
   ]
  },
  {
   "cell_type": "code",
   "execution_count": 44,
   "id": "8a1f929d",
   "metadata": {
    "execution": {
     "iopub.execute_input": "2022-09-19T23:37:29.789520Z",
     "iopub.status.busy": "2022-09-19T23:37:29.788674Z",
     "iopub.status.idle": "2022-09-19T23:37:29.794494Z",
     "shell.execute_reply": "2022-09-19T23:37:29.793367Z"
    },
    "papermill": {
     "duration": 0.02337,
     "end_time": "2022-09-19T23:37:29.797563",
     "exception": false,
     "start_time": "2022-09-19T23:37:29.774193",
     "status": "completed"
    },
    "tags": []
   },
   "outputs": [
    {
     "name": "stdout",
     "output_type": "stream",
     "text": [
      "0.8630751964085297\n"
     ]
    }
   ],
   "source": [
    "print(accuracy_score(pred, y_train))"
   ]
  },
  {
   "cell_type": "code",
   "execution_count": 45,
   "id": "b1b884a9",
   "metadata": {
    "execution": {
     "iopub.execute_input": "2022-09-19T23:37:29.826522Z",
     "iopub.status.busy": "2022-09-19T23:37:29.825780Z",
     "iopub.status.idle": "2022-09-19T23:38:07.755289Z",
     "shell.execute_reply": "2022-09-19T23:38:07.753612Z"
    },
    "papermill": {
     "duration": 37.948471,
     "end_time": "2022-09-19T23:38:07.759766",
     "exception": false,
     "start_time": "2022-09-19T23:37:29.811295",
     "status": "completed"
    },
    "tags": []
   },
   "outputs": [],
   "source": [
    "cv_scores = cross_val_score(voting, x_train_prepared, y_train, cv=3, scoring=\"accuracy\")"
   ]
  },
  {
   "cell_type": "code",
   "execution_count": 46,
   "id": "616ee292",
   "metadata": {
    "execution": {
     "iopub.execute_input": "2022-09-19T23:38:07.808054Z",
     "iopub.status.busy": "2022-09-19T23:38:07.807668Z",
     "iopub.status.idle": "2022-09-19T23:38:07.813621Z",
     "shell.execute_reply": "2022-09-19T23:38:07.812893Z"
    },
    "papermill": {
     "duration": 0.022184,
     "end_time": "2022-09-19T23:38:07.815552",
     "exception": false,
     "start_time": "2022-09-19T23:38:07.793368",
     "status": "completed"
    },
    "tags": []
   },
   "outputs": [
    {
     "data": {
      "text/plain": [
       "0.830527497194164"
      ]
     },
     "execution_count": 46,
     "metadata": {},
     "output_type": "execute_result"
    }
   ],
   "source": [
    "cv_scores.mean()"
   ]
  },
  {
   "cell_type": "code",
   "execution_count": 47,
   "id": "b4479c17",
   "metadata": {
    "execution": {
     "iopub.execute_input": "2022-09-19T23:38:07.844183Z",
     "iopub.status.busy": "2022-09-19T23:38:07.843481Z",
     "iopub.status.idle": "2022-09-19T23:38:07.855148Z",
     "shell.execute_reply": "2022-09-19T23:38:07.854060Z"
    },
    "papermill": {
     "duration": 0.028886,
     "end_time": "2022-09-19T23:38:07.857784",
     "exception": false,
     "start_time": "2022-09-19T23:38:07.828898",
     "status": "completed"
    },
    "tags": []
   },
   "outputs": [],
   "source": [
    "x_test_prepared = full_pipeline.transform(x_test)"
   ]
  },
  {
   "cell_type": "code",
   "execution_count": 48,
   "id": "2e0c42fb",
   "metadata": {
    "execution": {
     "iopub.execute_input": "2022-09-19T23:38:07.885838Z",
     "iopub.status.busy": "2022-09-19T23:38:07.885440Z",
     "iopub.status.idle": "2022-09-19T23:38:28.836709Z",
     "shell.execute_reply": "2022-09-19T23:38:28.835617Z"
    },
    "papermill": {
     "duration": 20.967873,
     "end_time": "2022-09-19T23:38:28.839007",
     "exception": false,
     "start_time": "2022-09-19T23:38:07.871134",
     "status": "completed"
    },
    "tags": []
   },
   "outputs": [
    {
     "data": {
      "text/plain": [
       "VotingClassifier(estimators=[('poly_logres',\n",
       "                              Pipeline(steps=[('poly_features',\n",
       "                                               PolynomialFeatures(degree=3,\n",
       "                                                                  include_bias=False)),\n",
       "                                              ('log_reg',\n",
       "                                               LogisticRegression(l1_ratio=0.7,\n",
       "                                                                  max_iter=100000,\n",
       "                                                                  penalty='elasticnet',\n",
       "                                                                  solver='saga'))])),\n",
       "                             ('grid_randomforest',\n",
       "                              RandomForestClassifier(max_depth=20,\n",
       "                                                     max_features=10,\n",
       "                                                     min_samples_leaf=5,\n",
       "                                                     min_samples_split=5,\n",
       "                                                     n_estimators=150)),\n",
       "                             ('knn', KNeighborsClassifier(n_neighbors=20))])"
      ]
     },
     "execution_count": 48,
     "metadata": {},
     "output_type": "execute_result"
    }
   ],
   "source": [
    "voting.fit(x_train_prepared, y_train)"
   ]
  },
  {
   "cell_type": "code",
   "execution_count": 49,
   "id": "cd50cd08",
   "metadata": {
    "execution": {
     "iopub.execute_input": "2022-09-19T23:38:28.868641Z",
     "iopub.status.busy": "2022-09-19T23:38:28.867670Z",
     "iopub.status.idle": "2022-09-19T23:38:28.982277Z",
     "shell.execute_reply": "2022-09-19T23:38:28.980611Z"
    },
    "papermill": {
     "duration": 0.134285,
     "end_time": "2022-09-19T23:38:28.987182",
     "exception": false,
     "start_time": "2022-09-19T23:38:28.852897",
     "status": "completed"
    },
    "tags": []
   },
   "outputs": [],
   "source": [
    "test_pred = voting.predict(x_test_prepared)"
   ]
  },
  {
   "cell_type": "code",
   "execution_count": 50,
   "id": "667ef99e",
   "metadata": {
    "execution": {
     "iopub.execute_input": "2022-09-19T23:38:29.020293Z",
     "iopub.status.busy": "2022-09-19T23:38:29.019882Z",
     "iopub.status.idle": "2022-09-19T23:38:29.024812Z",
     "shell.execute_reply": "2022-09-19T23:38:29.024086Z"
    },
    "papermill": {
     "duration": 0.021195,
     "end_time": "2022-09-19T23:38:29.026709",
     "exception": false,
     "start_time": "2022-09-19T23:38:29.005514",
     "status": "completed"
    },
    "tags": []
   },
   "outputs": [],
   "source": [
    "df = pd.DataFrame({\n",
    "    'PassengerId':id_test,\n",
    "    'Survived':test_pred\n",
    "})"
   ]
  },
  {
   "cell_type": "code",
   "execution_count": 51,
   "id": "57b6f674",
   "metadata": {
    "execution": {
     "iopub.execute_input": "2022-09-19T23:38:29.055714Z",
     "iopub.status.busy": "2022-09-19T23:38:29.055003Z",
     "iopub.status.idle": "2022-09-19T23:38:29.062992Z",
     "shell.execute_reply": "2022-09-19T23:38:29.062211Z"
    },
    "papermill": {
     "duration": 0.024903,
     "end_time": "2022-09-19T23:38:29.065226",
     "exception": false,
     "start_time": "2022-09-19T23:38:29.040323",
     "status": "completed"
    },
    "tags": []
   },
   "outputs": [],
   "source": [
    "df.to_csv(\"results.csv\", index=False)"
   ]
  },
  {
   "cell_type": "code",
   "execution_count": null,
   "id": "cf0c9a53",
   "metadata": {
    "papermill": {
     "duration": 0.013231,
     "end_time": "2022-09-19T23:38:29.091753",
     "exception": false,
     "start_time": "2022-09-19T23:38:29.078522",
     "status": "completed"
    },
    "tags": []
   },
   "outputs": [],
   "source": []
  }
 ],
 "metadata": {
  "kernelspec": {
   "display_name": "Python 3",
   "language": "python",
   "name": "python3"
  },
  "language_info": {
   "codemirror_mode": {
    "name": "ipython",
    "version": 3
   },
   "file_extension": ".py",
   "mimetype": "text/x-python",
   "name": "python",
   "nbconvert_exporter": "python",
   "pygments_lexer": "ipython3",
   "version": "3.7.12"
  },
  "papermill": {
   "default_parameters": {},
   "duration": 355.102332,
   "end_time": "2022-09-19T23:38:29.928720",
   "environment_variables": {},
   "exception": null,
   "input_path": "__notebook__.ipynb",
   "output_path": "__notebook__.ipynb",
   "parameters": {},
   "start_time": "2022-09-19T23:32:34.826388",
   "version": "2.3.4"
  }
 },
 "nbformat": 4,
 "nbformat_minor": 5
}
